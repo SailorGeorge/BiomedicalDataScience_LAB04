{
 "cells": [
  {
   "cell_type": "markdown",
   "metadata": {},
   "source": [
    "# Biomedical Data Analysis - Lab 4"
   ]
  },
  {
   "cell_type": "markdown",
   "metadata": {},
   "source": [
    "Group members:\n",
    "\n",
    "- Enrico Maria Marinelli\n",
    "- Francesco Pio Capoccello\n",
    "- Juras LukaŠevičius"
   ]
  },
  {
   "cell_type": "markdown",
   "metadata": {},
   "source": [
    "### Libraries used in practical session:"
   ]
  },
  {
   "cell_type": "code",
   "execution_count": 525,
   "metadata": {},
   "outputs": [],
   "source": [
    "import numpy as np\n",
    "import pandas as pd\n",
    "import matplotlib.pyplot as plt\n",
    "from sklearn.model_selection import train_test_split\n",
    "from sklearn.metrics import roc_auc_score, roc_curve, auc\n",
    "from sklearn.metrics import accuracy_score, precision_score, recall_score, f1_score, classification_report\n",
    "from sklearn.metrics import confusion_matrix\n",
    "from sklearn.impute import KNNImputer\n",
    "from sklearn.neighbors import KNeighborsRegressor\n",
    "from sklearn.model_selection import cross_val_score\n",
    "from IPython.display import HTML\n",
    "from scipy.stats import pearsonr\n",
    "import regex as re"
   ]
  },
  {
   "cell_type": "markdown",
   "metadata": {},
   "source": [
    "## Block I - Data loading and basic description"
   ]
  },
  {
   "cell_type": "markdown",
   "metadata": {},
   "source": [
    "We load the dataset using the pandas’ load_csv function, remember to specify semicolon (;) as\n",
    "the separator"
   ]
  },
  {
   "cell_type": "code",
   "execution_count": 526,
   "metadata": {},
   "outputs": [],
   "source": [
    "df=pd.read_csv(\"../BiomedicalDataScience_LAB04//Data/inadvance_synth.csv\",sep=\";\")"
   ]
  },
  {
   "cell_type": "code",
   "execution_count": 527,
   "metadata": {},
   "outputs": [
    {
     "name": "stdout",
     "output_type": "stream",
     "text": [
      "<class 'pandas.core.frame.DataFrame'>\n",
      "RangeIndex: 38416 entries, 0 to 38415\n",
      "Data columns (total 22 columns):\n",
      " #   Column               Non-Null Count  Dtype  \n",
      "---  ------               --------------  -----  \n",
      " 0   Unnamed: 0           38416 non-null  int64  \n",
      " 1   age                  38416 non-null  int64  \n",
      " 2   barthel              10218 non-null  float64\n",
      " 3   charlson             38339 non-null  float64\n",
      " 4   codidiagingreso      27038 non-null  object \n",
      " 5   codservicioreal      38416 non-null  object \n",
      " 6   creatinina           30465 non-null  float64\n",
      " 7   drg                  34776 non-null  float64\n",
      " 8   estancias            38416 non-null  float64\n",
      " 9   glucosa              29188 non-null  float64\n",
      " 10  hematocrito          30114 non-null  float64\n",
      " 11  leucocitos           30114 non-null  float64\n",
      " 12  metastatic_tumor     38339 non-null  float64\n",
      " 13  num_grupoact3_HOSP   17415 non-null  float64\n",
      " 14  numurgenciasprevias  37864 non-null  float64\n",
      " 15  potasio              29770 non-null  float64\n",
      " 16  proteina_c_reactiva  20241 non-null  float64\n",
      " 17  rdw_cv               30082 non-null  float64\n",
      " 18  rdw_sd               30082 non-null  float64\n",
      " 19  sodio                30274 non-null  float64\n",
      " 20  urea                 24156 non-null  float64\n",
      " 21  label                38416 non-null  float64\n",
      "dtypes: float64(18), int64(2), object(2)\n",
      "memory usage: 6.4+ MB\n"
     ]
    }
   ],
   "source": [
    "df.info()"
   ]
  },
  {
   "cell_type": "markdown",
   "metadata": {},
   "source": [
    "### 1. What is the size of the dataframe?"
   ]
  },
  {
   "cell_type": "code",
   "execution_count": 528,
   "metadata": {},
   "outputs": [],
   "source": [
    "# Drop the \"Unnamed\" column\n",
    "df = df.iloc[:,1:]"
   ]
  },
  {
   "cell_type": "code",
   "execution_count": 529,
   "metadata": {},
   "outputs": [
    {
     "data": {
      "text/plain": [
       "(38416, 21)"
      ]
     },
     "execution_count": 529,
     "metadata": {},
     "output_type": "execute_result"
    }
   ],
   "source": [
    "df.shape"
   ]
  },
  {
   "cell_type": "markdown",
   "metadata": {},
   "source": [
    "### 2. What is the mean age?"
   ]
  },
  {
   "cell_type": "code",
   "execution_count": 530,
   "metadata": {},
   "outputs": [
    {
     "name": "stdout",
     "output_type": "stream",
     "text": [
      "79.4033215326947\n"
     ]
    }
   ],
   "source": [
    "mean = df.age.mean()\n",
    "print(mean)"
   ]
  },
  {
   "cell_type": "markdown",
   "metadata": {},
   "source": [
    "### 3. What is the age standard deviation (std)?"
   ]
  },
  {
   "cell_type": "code",
   "execution_count": 531,
   "metadata": {},
   "outputs": [
    {
     "name": "stdout",
     "output_type": "stream",
     "text": [
      "8.361737254115944\n"
     ]
    }
   ],
   "source": [
    "std=df.age.std()\n",
    "print(std)"
   ]
  },
  {
   "cell_type": "markdown",
   "metadata": {},
   "source": [
    "### 4. Which is the variable with the most amount of missing values? Can you list the name of the variables, sorting them by number of missing values?"
   ]
  },
  {
   "cell_type": "code",
   "execution_count": 532,
   "metadata": {},
   "outputs": [
    {
     "name": "stdout",
     "output_type": "stream",
     "text": [
      "barthel                28198\n",
      "num_grupoact3_HOSP     21001\n",
      "proteina_c_reactiva    18175\n",
      "urea                   14260\n",
      "codidiagingreso        11378\n",
      "glucosa                 9228\n",
      "potasio                 8646\n",
      "rdw_sd                  8334\n",
      "rdw_cv                  8334\n",
      "hematocrito             8302\n",
      "leucocitos              8302\n",
      "sodio                   8142\n",
      "creatinina              7951\n",
      "drg                     3640\n",
      "numurgenciasprevias      552\n",
      "metastatic_tumor          77\n",
      "charlson                  77\n",
      "age                        0\n",
      "estancias                  0\n",
      "codservicioreal            0\n",
      "label                      0\n",
      "dtype: int64\n"
     ]
    }
   ],
   "source": [
    "def nullvalues(df=df):\n",
    "    nullvalues = df.isnull().sum()\n",
    "    features_sorted = nullvalues.sort_values(ascending=False)\n",
    "    return features_sorted\n",
    "print(nullvalues())"
   ]
  },
  {
   "cell_type": "markdown",
   "metadata": {},
   "source": [
    "### 5. Name which are the categorical variables."
   ]
  },
  {
   "cell_type": "code",
   "execution_count": 533,
   "metadata": {},
   "outputs": [
    {
     "name": "stdout",
     "output_type": "stream",
     "text": [
      "['codidiagingreso', 'codservicioreal']\n"
     ]
    }
   ],
   "source": [
    "categorical_variables = df.select_dtypes(include=['object'])\n",
    "categorical_variables_names = categorical_variables.columns.tolist()\n",
    "print(categorical_variables_names)"
   ]
  },
  {
   "cell_type": "code",
   "execution_count": 534,
   "metadata": {},
   "outputs": [],
   "source": [
    "def find_cat(x):\n",
    "    if isinstance(x,str):\n",
    "        pattern = r'[0-9]+.?[0-9]*'\n",
    "        test = not (re.match(pattern, x))\n",
    "        # print(f\"{x}: {test}\")  # Add this line for debugging\n",
    "        return test\n",
    "    # print(f\"{x}: False\")  # Add this line for debugging\n",
    "    return False"
   ]
  },
  {
   "cell_type": "code",
   "execution_count": 535,
   "metadata": {},
   "outputs": [],
   "source": [
    "def categorical_enumeration(cat,categorical_variables=categorical_variables, printing=True):\n",
    "  \n",
    "  if printing:\n",
    "    print('Evaluation of categorical variable \"' + cat + '\"')\n",
    "\n",
    "  categories = categorical_variables[categorical_variables[cat].apply(find_cat)]\n",
    "  if cat == categorical_variables_names[0]:\n",
    "    categories = categorical_variables[categorical_variables[cat].apply(find_cat)]\n",
    "  else:\n",
    "    categories = categorical_variables[cat].astype(str)\n",
    "  \n",
    "\n",
    "  unique, count = np.unique(categories, return_counts=True)\n",
    "\n",
    "\n",
    "  if printing:\n",
    "    print('Number of categories for \"'+ cat + '\":', len(unique))\n",
    "  \n",
    "  combined = np.column_stack((unique, count))\n",
    "  sorted_combined = combined[combined[:, 1].argsort()[::-1]]\n",
    "  \n",
    "  if printing:\n",
    "    for i in sorted_combined:\n",
    "      if isinstance(i[0],float):\n",
    "        print(\"Class %f has %d samples\" % (i[0],i[1]))\n",
    "      else:\n",
    "        print(\"Class \" + str(i[0]) + \" has %d samples\" % i[1])\n",
    "  \n",
    "  return np.array(sorted_combined)"
   ]
  },
  {
   "cell_type": "code",
   "execution_count": 536,
   "metadata": {},
   "outputs": [
    {
     "name": "stdout",
     "output_type": "stream",
     "text": [
      "Evaluation of categorical variable \"codidiagingreso\"\n",
      "Number of categories for \"codidiagingreso\": 299\n",
      "Class HMUR has 507 samples\n",
      "Class HNEM has 382 samples\n",
      "Class HCAR has 375 samples\n",
      "Class V14.8 has 245 samples\n",
      "Class HMIN has 215 samples\n",
      "Class HONC has 214 samples\n",
      "Class V15.82 has 195 samples\n",
      "Class HNER has 183 samples\n",
      "Class V14.0 has 181 samples\n",
      "Class V58.61 has 121 samples\n",
      "Class V14.1 has 105 samples\n",
      "Class HHEM has 78 samples\n",
      "Class M81403 has 76 samples\n",
      "Class V58.67 has 71 samples\n",
      "Class HURO has 65 samples\n",
      "Class V14.6 has 63 samples\n",
      "Class HMDG has 54 samples\n",
      "Class V45.01 has 42 samples\n",
      "Class M80003 has 40 samples\n",
      "Class V60.6 has 38 samples\n",
      "Class HCOT has 36 samples\n",
      "Class V43.3 has 32 samples\n",
      "Class HNEF has 31 samples\n",
      "Class V45.81 has 30 samples\n",
      "Class V46.2 has 29 samples\n",
      "Class V61.49 has 28 samples\n",
      "Class V12.54 has 28 samples\n",
      "Class HNCG has 27 samples\n",
      "Class E911 has 26 samples\n",
      "Class V58.66 has 25 samples\n",
      "Class V10.46 has 25 samples\n",
      "Class V10.3 has 25 samples\n",
      "Class HCTO has 25 samples\n",
      "Class V15.08 has 23 samples\n",
      "Class M98613 has 22 samples\n",
      "Class HUHP has 21 samples\n",
      "Class HCVA has 21 samples\n",
      "Class V58.73 has 21 samples\n",
      "Class M80103 has 21 samples\n",
      "Class V12.51 has 21 samples\n",
      "Class HORL has 20 samples\n",
      "Class M97303 has 20 samples\n",
      "Class E878.8 has 19 samples\n",
      "Class V71.7 has 19 samples\n",
      "Class HREU has 18 samples\n",
      "Class V13.02 has 18 samples\n",
      "Class M80106 has 18 samples\n",
      "Class E933.1 has 18 samples\n",
      "Class V45.89 has 17 samples\n",
      "Class M81406 has 16 samples\n",
      "Class HCDG has 16 samples\n",
      "Class V12.59 has 16 samples\n",
      "Class HUEI has 15 samples\n",
      "Class V42.0 has 14 samples\n",
      "Class E888.9 has 14 samples\n",
      "Class HUTP has 14 samples\n",
      "Class M80703 has 14 samples\n",
      "Class HCCV has 14 samples\n",
      "Class E934.2 has 14 samples\n",
      "Class V14.5 has 14 samples\n",
      "Class V66.7 has 14 samples\n",
      "Class M80006 has 13 samples\n",
      "Class V45.02 has 13 samples\n",
      "Class V45.82 has 13 samples\n",
      "Class HUMI has 13 samples\n",
      "Class M80413 has 13 samples\n",
      "Class V14.2 has 12 samples\n",
      "Class V14.3 has 11 samples\n",
      "Class V10.51 has 11 samples\n",
      "Class V12.01 has 11 samples\n",
      "Class M80123 has 10 samples\n",
      "Class M81203 has 10 samples\n",
      "Class V44.3 has 10 samples\n",
      "Class M95903 has 9 samples\n",
      "Class M81603 has 9 samples\n",
      "Class V45.79 has 8 samples\n",
      "Class V12.79 has 7 samples\n",
      "Class E942.1 has 7 samples\n",
      "Class HECR has 7 samples\n",
      "Class V45.73 has 7 samples\n",
      "Class V88.01 has 7 samples\n",
      "Class E879.8 has 7 samples\n",
      "Class V10.05 has 7 samples\n",
      "Class HCPL has 6 samples\n",
      "Class M81443 has 6 samples\n",
      "Class V42.5 has 6 samples\n",
      "Class V42.6 has 6 samples\n",
      "Class V43.65 has 6 samples\n",
      "Class V47.4 has 6 samples\n",
      "Class V58.63 has 6 samples\n",
      "Class V45.75 has 6 samples\n",
      "Class E878.0 has 6 samples\n",
      "Class ZZZ.ZZ has 6 samples\n",
      "Class V70.7 has 5 samples\n",
      "Class E878.2 has 5 samples\n",
      "Class V10.21 has 5 samples\n",
      "Class V15.09 has 5 samples\n",
      "Class V45.76 has 5 samples\n",
      "Class HCEP has 5 samples\n",
      "Class HCLP has 5 samples\n",
      "Class V46.8 has 5 samples\n",
      "Class V15.88 has 5 samples\n",
      "Class V58.75 has 5 samples\n",
      "Class V42.7 has 5 samples\n",
      "Class HMDH has 5 samples\n",
      "Class V44.1 has 4 samples\n",
      "Class M94403 has 4 samples\n",
      "Class V58.11 has 4 samples\n",
      "Class V10.83 has 4 samples\n",
      "Class M80423 has 4 samples\n",
      "Class M87203 has 4 samples\n",
      "Class HGIN has 4 samples\n",
      "Class V12.55 has 4 samples\n",
      "Class M85003 has 4 samples\n",
      "Class V58.89 has 4 samples\n",
      "Class M98633 has 4 samples\n",
      "Class E880.9 has 4 samples\n",
      "Class V43.4 has 4 samples\n",
      "Class E879.1 has 4 samples\n",
      "Class V58.69 has 3 samples\n",
      "Class M80903 has 3 samples\n",
      "Class V10.42 has 3 samples\n",
      "Class V46.3 has 3 samples\n",
      "Class E849.0 has 3 samples\n",
      "Class V12.61 has 3 samples\n",
      "Class V53.31 has 3 samples\n",
      "Class HREA has 3 samples\n",
      "Class V10.01 has 3 samples\n",
      "Class V09.81 has 3 samples\n",
      "Class M84803 has 3 samples\n",
      "Class V14.4 has 3 samples\n",
      "Class E878.1 has 3 samples\n",
      "Class V56.1 has 3 samples\n",
      "Class E884.4 has 3 samples\n",
      "Class V10.79 has 3 samples\n",
      "Class V15.51 has 3 samples\n",
      "Class V10.87 has 3 samples\n",
      "Class V58.42 has 3 samples\n",
      "Class M80001 has 3 samples\n",
      "Class V45.2 has 3 samples\n",
      "Class M95300 has 3 samples\n",
      "Class V43.64 has 3 samples\n",
      "Class E926.8 has 3 samples\n",
      "Class E939.4 has 3 samples\n",
      "Class M90503 has 2 samples\n",
      "Class M89903 has 2 samples\n",
      "Class E980.4 has 2 samples\n",
      "Class E939.8 has 2 samples\n",
      "Class M80503 has 2 samples\n",
      "Class M83103 has 2 samples\n",
      "Class E935.2 has 2 samples\n",
      "Class HCIR has 2 samples\n",
      "Class M80706 has 2 samples\n",
      "Class E929.9 has 2 samples\n",
      "Class E878.6 has 2 samples\n",
      "Class HOFT has 2 samples\n",
      "Class E939.3 has 2 samples\n",
      "Class V07.59 has 2 samples\n",
      "Class V44.0 has 2 samples\n",
      "Class V15.1 has 2 samples\n",
      "Class V13.59 has 2 samples\n",
      "Class V49.83 has 2 samples\n",
      "Class V09.0 has 2 samples\n",
      "Class V13.01 has 2 samples\n",
      "Class V58.78 has 2 samples\n",
      "Class V09.1 has 2 samples\n",
      "Class V12.71 has 2 samples\n",
      "Class V12.69 has 2 samples\n",
      "Class V12.53 has 2 samples\n",
      "Class V54.01 has 2 samples\n",
      "Class V54.16 has 2 samples\n",
      "Class V10.72 has 2 samples\n",
      "Class V55.2 has 2 samples\n",
      "Class V44.2 has 2 samples\n",
      "Class V10.06 has 2 samples\n",
      "Class V15.07 has 2 samples\n",
      "Class V10.11 has 2 samples\n",
      "Class V15.3 has 2 samples\n",
      "Class V45.11 has 2 samples\n",
      "Class V16.6 has 2 samples\n",
      "Class V87.41 has 2 samples\n",
      "Class V15.84 has 2 samples\n",
      "Class V15.81 has 2 samples\n",
      "Class V15.59 has 2 samples\n",
      "Class V15.52 has 2 samples\n",
      "Class V43.89 has 2 samples\n",
      "Class V71.1 has 2 samples\n",
      "Class V02.54 has 2 samples\n",
      "Class V45.77 has 2 samples\n",
      "Class V44.6 has 2 samples\n",
      "Class V54.17 has 1 samples\n",
      "Class V44.4 has 1 samples\n",
      "Class E944.4 has 1 samples\n",
      "Class HALE has 1 samples\n",
      "Class V49.86 has 1 samples\n",
      "Class V54.13 has 1 samples\n",
      "Class V53.99 has 1 samples\n",
      "Class V45.88 has 1 samples\n",
      "Class V49.84 has 1 samples\n",
      "Class V45.4 has 1 samples\n",
      "Class V45.74 has 1 samples\n",
      "Class E944.3 has 1 samples\n",
      "Class V49.76 has 1 samples\n",
      "Class M98213 has 1 samples\n",
      "Class E942.2 has 1 samples\n",
      "Class V72.83 has 1 samples\n",
      "Class V64.3 has 1 samples\n",
      "Class V64.41 has 1 samples\n",
      "Class V69.0 has 1 samples\n",
      "Class E879.0 has 1 samples\n",
      "Class V71.83 has 1 samples\n",
      "Class E878.3 has 1 samples\n",
      "Class V72.85 has 1 samples\n",
      "Class V64.1 has 1 samples\n",
      "Class V85.32 has 1 samples\n",
      "Class E864.4 has 1 samples\n",
      "Class E864.2 has 1 samples\n",
      "Class E858.2 has 1 samples\n",
      "Class E817 has 1 samples\n",
      "Class E815.0 has 1 samples\n",
      "Class E884.2 has 1 samples\n",
      "Class E885.9 has 1 samples\n",
      "Class V54.27 has 1 samples\n",
      "Class E932.3 has 1 samples\n",
      "Class V54.29 has 1 samples\n",
      "Class E935.5 has 1 samples\n",
      "Class V55.6 has 1 samples\n",
      "Class V56.0 has 1 samples\n",
      "Class V58.43 has 1 samples\n",
      "Class E933.0 has 1 samples\n",
      "Class E930.6 has 1 samples\n",
      "Class E888 has 1 samples\n",
      "Class E930.3 has 1 samples\n",
      "Class V58.62 has 1 samples\n",
      "Class V58.65 has 1 samples\n",
      "Class E917.9 has 1 samples\n",
      "Class V60.4 has 1 samples\n",
      "Class E888.8 has 1 samples\n",
      "Class V54.82 has 1 samples\n",
      "Class HRHB has 1 samples\n",
      "Class V42.1 has 1 samples\n",
      "Class M93823 has 1 samples\n",
      "Class V09.71 has 1 samples\n",
      "Class M84903 has 1 samples\n",
      "Class M84906 has 1 samples\n",
      "Class M85303 has 1 samples\n",
      "Class M85803 has 1 samples\n",
      "Class M88003 has 1 samples\n",
      "Class V02.62 has 1 samples\n",
      "Class V02.59 has 1 samples\n",
      "Class M90523 has 1 samples\n",
      "Class M91210 has 1 samples\n",
      "Class M91611 has 1 samples\n",
      "Class M93803 has 1 samples\n",
      "Class M94213 has 1 samples\n",
      "Class M84403 has 1 samples\n",
      "Class M99701 has 1 samples\n",
      "Class M95303 has 1 samples\n",
      "Class M98663 has 1 samples\n",
      "Class M95913 has 1 samples\n",
      "Class M96133 has 1 samples\n",
      "Class M96143 has 1 samples\n",
      "Class M96523 has 1 samples\n",
      "Class M96923 has 1 samples\n",
      "Class M98233 has 1 samples\n",
      "Class M97313 has 1 samples\n",
      "Class M98003 has 1 samples\n",
      "Class M98013 has 1 samples\n",
      "Class M84416 has 1 samples\n",
      "Class M83233 has 1 samples\n",
      "Class V18.8 has 1 samples\n",
      "Class V10.82 has 1 samples\n",
      "Class V17.1 has 1 samples\n",
      "Class M98103 has 1 samples\n",
      "Class HSEP has 1 samples\n",
      "Class HUEG has 1 samples\n",
      "Class HUML has 1 samples\n",
      "Class V13.29 has 1 samples\n",
      "Class V13.09 has 1 samples\n",
      "Class V12.50 has 1 samples\n",
      "Class M80203 has 1 samples\n",
      "Class M80206 has 1 samples\n",
      "Class V12.41 has 1 samples\n",
      "Class V12.02 has 1 samples\n",
      "Class V10.44 has 1 samples\n",
      "Class V10.04 has 1 samples\n",
      "Class V10.43 has 1 samples\n",
      "Class M80906 has 1 samples\n",
      "Class V10.41 has 1 samples\n",
      "Class M81303 has 1 samples\n",
      "Class V10.09 has 1 samples\n",
      "Class V10.07 has 1 samples\n",
      "Class M81703 has 1 samples\n",
      "Class M82103 has 1 samples\n",
      "Class M82403 has 1 samples\n",
      "Class M82606 has 1 samples\n",
      "Class M82613 has 1 samples\n",
      "Class M82630 has 1 samples\n",
      "Class E812.1 has 1 samples\n"
     ]
    }
   ],
   "source": [
    "categories_codidiagingreso = categorical_enumeration(categorical_variables_names[0])"
   ]
  },
  {
   "cell_type": "code",
   "execution_count": 537,
   "metadata": {},
   "outputs": [
    {
     "name": "stdout",
     "output_type": "stream",
     "text": [
      "Evaluation of categorical variable \"codservicioreal\"\n",
      "Number of categories for \"codservicioreal\": 53\n",
      "Class HMUR has 8233 samples\n",
      "Class HNEM has 5422 samples\n",
      "Class HCAR has 5124 samples\n",
      "Class HMIN has 3633 samples\n",
      "Class HNER has 2341 samples\n",
      "Class HMDG has 2222 samples\n",
      "Class HONC has 2041 samples\n",
      "Class HUHP has 1159 samples\n",
      "Class HURO has 1112 samples\n",
      "Class HCDG has 1007 samples\n",
      "Class HCOT has 741 samples\n",
      "Class HHEM has 546 samples\n",
      "Class HNEF has 522 samples\n",
      "Class HCVA has 502 samples\n",
      "Class HMDH has 472 samples\n",
      "Class HCEP has 420 samples\n",
      "Class HNCG has 381 samples\n",
      "Class HUMI has 351 samples\n",
      "Class HUEI has 332 samples\n",
      "Class HCCV has 308 samples\n",
      "Class HREU has 252 samples\n",
      "Class HORL has 179 samples\n",
      "Class HREA has 157 samples\n",
      "Class HCTO has 154 samples\n",
      "Class HCIR has 146 samples\n",
      "Class HECR has 126 samples\n",
      "Class HCLP has 71 samples\n",
      "Class HSEP has 60 samples\n",
      "Class HGIN has 55 samples\n",
      "Class HUTP has 50 samples\n",
      "Class HCMX has 49 samples\n",
      "Class HUML has 44 samples\n",
      "Class HCPL has 43 samples\n",
      "Class HUMM has 31 samples\n",
      "Class HUEM has 28 samples\n",
      "Class HOFT has 22 samples\n",
      "Class HRHB has 16 samples\n",
      "Class HTRE has 15 samples\n",
      "Class HULM has 13 samples\n",
      "Class HRXD has 8 samples\n",
      "Class HQUE has 5 samples\n",
      "Class HALE has 4 samples\n",
      "Class HDER has 4 samples\n",
      "Class HUEG has 4 samples\n",
      "Class HURQ has 2 samples\n",
      "Class HTRA has 2 samples\n",
      "Class HREM has 1 samples\n",
      "Class HRER has 1 samples\n",
      "Class HRQU has 1 samples\n",
      "Class HRTE has 1 samples\n",
      "Class HUDO has 1 samples\n",
      "Class HUHT has 1 samples\n",
      "Class HONG has 1 samples\n"
     ]
    }
   ],
   "source": [
    "categories_codservicioreal = categorical_enumeration(categorical_variables_names[1])"
   ]
  },
  {
   "cell_type": "markdown",
   "metadata": {},
   "source": [
    "In addition to the existing `codidiagingreso` and `codservicioreal` categorical variables including codes in the format \n",
    "```python \n",
    "str\n",
    "```\n",
    "is `metastatic_tumor`, since its only values are $0$ and $1$."
   ]
  },
  {
   "cell_type": "markdown",
   "metadata": {},
   "source": [
    "### 6. Extract the ‘label’ column to another variable. How many positive cases there are? And negatives?\n"
   ]
  },
  {
   "cell_type": "code",
   "execution_count": 538,
   "metadata": {},
   "outputs": [
    {
     "name": "stdout",
     "output_type": "stream",
     "text": [
      "Positive cases: 13431\n",
      "Negative cases: 24985\n"
     ]
    }
   ],
   "source": [
    "label_var = df['label']\n",
    "positive = df[label_var==1].shape[0]\n",
    "negative = df[label_var==0].shape[0]\n",
    "print(f\"Positive cases: {positive}\")\n",
    "print(f\"Negative cases: {negative}\")"
   ]
  },
  {
   "cell_type": "markdown",
   "metadata": {},
   "source": [
    "## Block II. Data preprocessing"
   ]
  },
  {
   "cell_type": "markdown",
   "metadata": {},
   "source": [
    "### 1. Train-Test Split"
   ]
  },
  {
   "cell_type": "markdown",
   "metadata": {},
   "source": [
    "How many samples have each set after the split?\n",
    "\n",
    "Split the dataset in two: train (80%) and test (20%). Use a seed to allow replication."
   ]
  },
  {
   "cell_type": "code",
   "execution_count": 539,
   "metadata": {},
   "outputs": [],
   "source": [
    "seed = 42"
   ]
  },
  {
   "cell_type": "code",
   "execution_count": 540,
   "metadata": {},
   "outputs": [],
   "source": [
    "X = df.drop('label', axis=1)\n",
    "y = df['label']\n",
    "X_train, X_test, y_train, y_test = train_test_split(X, y, test_size=0.2, random_state=seed)"
   ]
  },
  {
   "cell_type": "code",
   "execution_count": 541,
   "metadata": {},
   "outputs": [
    {
     "name": "stdout",
     "output_type": "stream",
     "text": [
      "Train samples: 30732\n",
      "Test samples: 7684\n",
      "Features: 20\n"
     ]
    }
   ],
   "source": [
    "rows_train = X_train.shape[0]\n",
    "rows_test = X_test.shape[0]\n",
    "cols = X_train.shape[1]\n",
    "\n",
    "print(f\"Train samples: {rows_train}\")\n",
    "print(f\"Test samples: {rows_test}\")\n",
    "print(f\"Features: {cols}\")"
   ]
  },
  {
   "cell_type": "markdown",
   "metadata": {},
   "source": [
    "### 2. Categorical Variables"
   ]
  },
  {
   "cell_type": "markdown",
   "metadata": {},
   "source": [
    "Implement the method to deal with categorical variables. Briefly explain the chosen alternative. What\n",
    "would happen if a variable in the test set contains a category that doesn’t exist on the train set? How\n",
    "would you deal with this situation?"
   ]
  },
  {
   "cell_type": "markdown",
   "metadata": {},
   "source": [
    "#### Categories: `codidiagingreso` and `codservicioreal`"
   ]
  },
  {
   "cell_type": "markdown",
   "metadata": {},
   "source": [
    "Is required to have numerical values only in order to let a *Machine Learning Model* perform the training phase and, subsequently, the inference procedure.\n",
    "\n",
    "It is possible to deal with categorical variables through a conversion to scalar numerical variables or create a vector *One hot encoded* substituting each `string` variable, that will be *unwinded* into the dataframe creating a new feature for each of them.\n",
    "\n",
    "The first approach is followed in the previous defined function `categorical_enumeration` and the following `categorical_evaluation`, accordingly to the name, it is based on frequency (enumeration) of the appearing variables.\n",
    "\n",
    "Furthermore, this approach will be abandoned in favour of the second one."
   ]
  },
  {
   "cell_type": "code",
   "execution_count": 542,
   "metadata": {},
   "outputs": [],
   "source": [
    "def categorical_evaluation(df,alpha=10):\n",
    "    \n",
    "    #\n",
    "    # alpha variable represents how much weight the feature \"metastatic tumor\"\n",
    "    # has on the categorical variable.\n",
    "    # This choice is given by the fact that features might need to be more spread out.\n",
    "    #\n",
    "    # NOTE: alpha is not an tunable hyperparameter, but might need to be suggested by a \n",
    "    # medic or someone who has knowledge in the field.\n",
    "    # It has been set to 10 by default to spread more the low frequency variables, \n",
    "    # but might be not a  correct assumption\n",
    "\n",
    "    dataset = df.copy()\n",
    "    cv = dataset.select_dtypes(include=['object'])\n",
    "    for cat in cv.columns.tolist():\n",
    "        enum = categorical_enumeration(cat=cat,categorical_variables=cv,printing=False)\n",
    "        \n",
    "        # The ranking process starts here\n",
    "        mapping = {}\n",
    "        for i,e in enumerate(enum[:,0]):\n",
    "\n",
    "            # Increase the feature \"importance rank\" by a slight correlation with metastatic tumor variable\n",
    "            # only for low frequency variables\n",
    "            if enum[i,1]<5:\n",
    "                increase = np.sum(np.logical_and(dataset['metastatic_tumor']==1,dataset[cat]==e))\n",
    "            \n",
    "                # This increase is regulate by the aforementioned alpha parameter \n",
    "                enum[i,1] += enum[i,1]*(alpha*increase) \n",
    "\n",
    "            enum[i,1] /= np.sum(enum[:,1]) # Represent the percentage of appearance in the given dataset (instead of the frequency)\n",
    "            mapping[e] = enum[i,1]\n",
    "        dataset[cat] = dataset[cat].map(mapping)\n",
    "        dataset[cat] = dataset[cat].astype(float,errors='ignore')  # 'coerce' will handle non-convertible values\n",
    "        # filter = np.logical_and(dataset.isnull(),np.logical_not(df.isnull()))\n",
    "        # print(df[filter])\n",
    "\n",
    "\n",
    "        \n",
    "    \n",
    "    \n",
    "    #nullvalues(dataset)\n",
    "    return dataset\n"
   ]
  },
  {
   "cell_type": "code",
   "execution_count": 543,
   "metadata": {},
   "outputs": [],
   "source": [
    "X_train_categorical_mapped = categorical_evaluation(X_train)\n",
    "X_test_categorical_mapped = categorical_evaluation(X_test)"
   ]
  },
  {
   "cell_type": "code",
   "execution_count": 544,
   "metadata": {},
   "outputs": [
    {
     "name": "stdout",
     "output_type": "stream",
     "text": [
      "<class 'pandas.core.frame.DataFrame'>\n",
      "Index: 30732 entries, 29147 to 15795\n",
      "Data columns (total 20 columns):\n",
      " #   Column               Non-Null Count  Dtype  \n",
      "---  ------               --------------  -----  \n",
      " 0   age                  30732 non-null  int64  \n",
      " 1   barthel              8222 non-null   float64\n",
      " 2   charlson             30673 non-null  float64\n",
      " 3   codidiagingreso      1905 non-null   float64\n",
      " 4   codservicioreal      30732 non-null  float64\n",
      " 5   creatinina           24410 non-null  float64\n",
      " 6   drg                  27841 non-null  float64\n",
      " 7   estancias            30732 non-null  float64\n",
      " 8   glucosa              23372 non-null  float64\n",
      " 9   hematocrito          24144 non-null  float64\n",
      " 10  leucocitos           24144 non-null  float64\n",
      " 11  metastatic_tumor     30673 non-null  float64\n",
      " 12  num_grupoact3_HOSP   13964 non-null  float64\n",
      " 13  numurgenciasprevias  30284 non-null  float64\n",
      " 14  potasio              23860 non-null  float64\n",
      " 15  proteina_c_reactiva  16210 non-null  float64\n",
      " 16  rdw_cv               24120 non-null  float64\n",
      " 17  rdw_sd               24120 non-null  float64\n",
      " 18  sodio                24269 non-null  float64\n",
      " 19  urea                 19388 non-null  float64\n",
      "dtypes: float64(19), int64(1)\n",
      "memory usage: 4.9 MB\n"
     ]
    }
   ],
   "source": [
    "X_train_categorical_mapped.info()"
   ]
  },
  {
   "cell_type": "markdown",
   "metadata": {},
   "source": [
    "### 3.1 Dealing with Categorical Variables missing"
   ]
  },
  {
   "cell_type": "markdown",
   "metadata": {},
   "source": [
    "Here we have decided to discard the categorical mapping approach in favour of an **encoding approach**, that let us achieve better results \n",
    "\n",
    "and is more robust with respect to data acquired."
   ]
  },
  {
   "cell_type": "code",
   "execution_count": 519,
   "metadata": {},
   "outputs": [],
   "source": [
    "countTrain = X_train['codidiagingreso'].value_counts()\n",
    "countTest = X_test['codidiagingreso'].value_counts()"
   ]
  },
  {
   "cell_type": "code",
   "execution_count": 520,
   "metadata": {},
   "outputs": [],
   "source": [
    "median_train = X_train['codidiagingreso'].apply(pd.to_numeric, errors='coerce').median()\n",
    "\n",
    "X_train['codidiagingreso'].fillna(median_train, inplace=True)\n",
    "\n",
    "X_test['codidiagingreso'].fillna(median_train, inplace=True)"
   ]
  },
  {
   "cell_type": "code",
   "execution_count": 521,
   "metadata": {},
   "outputs": [
    {
     "name": "stdout",
     "output_type": "stream",
     "text": [
      "<class 'pandas.core.frame.DataFrame'>\n",
      "Index: 30732 entries, 29147 to 15795\n",
      "Data columns (total 20 columns):\n",
      " #   Column               Non-Null Count  Dtype  \n",
      "---  ------               --------------  -----  \n",
      " 0   age                  30732 non-null  int64  \n",
      " 1   barthel              8222 non-null   float64\n",
      " 2   charlson             30673 non-null  float64\n",
      " 3   codidiagingreso      30732 non-null  object \n",
      " 4   codservicioreal      30732 non-null  object \n",
      " 5   creatinina           24410 non-null  float64\n",
      " 6   drg                  27841 non-null  float64\n",
      " 7   estancias            30732 non-null  float64\n",
      " 8   glucosa              23372 non-null  float64\n",
      " 9   hematocrito          24144 non-null  float64\n",
      " 10  leucocitos           24144 non-null  float64\n",
      " 11  metastatic_tumor     30673 non-null  float64\n",
      " 12  num_grupoact3_HOSP   13964 non-null  float64\n",
      " 13  numurgenciasprevias  30284 non-null  float64\n",
      " 14  potasio              23860 non-null  float64\n",
      " 15  proteina_c_reactiva  16210 non-null  float64\n",
      " 16  rdw_cv               24120 non-null  float64\n",
      " 17  rdw_sd               24120 non-null  float64\n",
      " 18  sodio                24269 non-null  float64\n",
      " 19  urea                 19388 non-null  float64\n",
      "dtypes: float64(17), int64(1), object(2)\n",
      "memory usage: 4.9+ MB\n"
     ]
    }
   ],
   "source": [
    "X_train.info()"
   ]
  },
  {
   "cell_type": "code",
   "execution_count": 524,
   "metadata": {},
   "outputs": [
    {
     "name": "stdout",
     "output_type": "stream",
     "text": [
      "X_train codidiagingreso null values: 0 \n",
      "X_test codidiagingreso null values: 0\n"
     ]
    }
   ],
   "source": [
    "print(f\"X_train codidiagingreso null values: {X_train['codidiagingreso'].isnull().sum()} \\n\\\n",
    "X_test codidiagingreso null values: {X_test['codidiagingreso'].isnull().sum()}\")"
   ]
  },
  {
   "cell_type": "markdown",
   "metadata": {},
   "source": [
    "We have used the function `pd.to_numeric` to convert the values in the `codidiagingreso` column to numbers. The `errors='coerce'` option causes non-numeric values to be replaced with NaN (Not a Number) during the conversion. At the end of this operation, we get a Series of numeric values and NaN.\n",
    "\n",
    "After converting the values to numbers (and replacing the non-numeric values with NaN), we calculate the median of the Train Set. \n",
    "\n",
    "The median is calculated by ignoring NaN values, so you get the median only from the valid numeric values in the `codidiagingreso` column.\n",
    "\n",
    "Then we applied this median obtained in the Training Set on the Test Set, as it was."
   ]
  },
  {
   "cell_type": "markdown",
   "metadata": {},
   "source": [
    "#### Category: `metastatic_tumor`"
   ]
  },
  {
   "cell_type": "code",
   "execution_count": 448,
   "metadata": {},
   "outputs": [
    {
     "name": "stdout",
     "output_type": "stream",
     "text": [
      "The best number of neighbors is 1\n"
     ]
    }
   ],
   "source": [
    "k_values = list(range(1, 11))\n",
    "\n",
    "\n",
    "mean_scores = []\n",
    "for k in k_values:\n",
    "    imputer = KNNImputer(n_neighbors=k)\n",
    "    imputed_data = imputer.fit_transform(X_train[['metastatic_tumor']])\n",
    "\n",
    "\n",
    "    knn_regressor = KNeighborsRegressor(n_neighbors=k)\n",
    "    scores = cross_val_score(knn_regressor, imputed_data, y_train, cv=10, scoring='neg_mean_squared_error')\n",
    "    mean_scores.append(np.mean(scores))\n",
    "\n",
    "\n",
    "best_k = k_values[np.argmin(mean_scores)]\n",
    "print(\"The best number of neighbors is\", best_k)"
   ]
  },
  {
   "cell_type": "markdown",
   "metadata": {},
   "source": [
    "The code performs a search for the best value of `k` for a KNN-based regression model. \n",
    "\n",
    "It uses `cross_val_score` to evaluate the performance of the model on training data. \n",
    "\n",
    "The process helps select the best k value for the KNN model based on the data provided."
   ]
  },
  {
   "cell_type": "code",
   "execution_count": 450,
   "metadata": {},
   "outputs": [],
   "source": [
    "imputer = KNNImputer(n_neighbors=1)\n",
    "metastatic_tumor_train = X_train[['metastatic_tumor']]\n",
    "\n",
    "X_train_imputed = imputer.fit_transform(metastatic_tumor_train)\n",
    "X_train['metastatic_tumor'] = X_train_imputed\n",
    "\n",
    "X_test['metastatic_tumor'].astype('object')\n",
    "X_test['metastatic_tumor'].fillna('Unknown', inplace=True)"
   ]
  },
  {
   "cell_type": "markdown",
   "metadata": {},
   "source": [
    "In this part it has been used `KNNImputer().fit_transform` to impute the data in the Training Set.\n",
    "\n",
    "Whereas in the Test Set the data has been filled with `Unknown` label, that does not appear in the Training Set, a more detailed discussion will be held in the *sub-section* number 4. "
   ]
  },
  {
   "cell_type": "markdown",
   "metadata": {},
   "source": [
    "### 3.2 Dealing with Numerical Values missing"
   ]
  },
  {
   "cell_type": "markdown",
   "metadata": {},
   "source": [
    "Implement the method to deal with the missing values. Briefly explain the chosen alternative. What\n",
    "would happen if a variable without missing on the train set appears to have been missing in the test\n",
    "set? How would you deal with them?"
   ]
  },
  {
   "cell_type": "code",
   "execution_count": 451,
   "metadata": {},
   "outputs": [],
   "source": [
    "# Test to verify consistency of flatten and reshape functions\n",
    "# heavily used in the SVT algorithm later defined \n",
    "\n",
    "# mat = X_full.shape\n",
    "# vect = X_full.shape[0]*X_full.shape[1]\n",
    "# mask = (X_full.copy().flatten().reshape(mat) == X_full).flatten()\n",
    "# (X_full.flatten()[mask]-X_full.copy().flatten().reshape(mat).flatten()[mask]).sum()"
   ]
  },
  {
   "cell_type": "code",
   "execution_count": 452,
   "metadata": {},
   "outputs": [
    {
     "data": {
      "text/plain": [
       "748"
      ]
     },
     "execution_count": 452,
     "metadata": {},
     "output_type": "execute_result"
    }
   ],
   "source": [
    "(X_train['age'] == 65).sum()"
   ]
  },
  {
   "cell_type": "code",
   "execution_count": 453,
   "metadata": {},
   "outputs": [
    {
     "data": {
      "text/plain": [
       "['age',\n",
       " 'barthel',\n",
       " 'charlson',\n",
       " 'creatinina',\n",
       " 'drg',\n",
       " 'estancias',\n",
       " 'glucosa',\n",
       " 'hematocrito',\n",
       " 'leucocitos',\n",
       " 'num_grupoact3_HOSP',\n",
       " 'numurgenciasprevias',\n",
       " 'potasio',\n",
       " 'proteina_c_reactiva',\n",
       " 'rdw_cv',\n",
       " 'rdw_sd',\n",
       " 'sodio',\n",
       " 'urea']"
      ]
     },
     "execution_count": 453,
     "metadata": {},
     "output_type": "execute_result"
    }
   ],
   "source": [
    "avoid_categoricals = X_test.columns.to_list()\n",
    "categorical_variables_names.append('metastatic_tumor')\n",
    "for i in categorical_variables_names:\n",
    "    avoid_categoricals.remove(i)\n",
    "avoid_categoricals"
   ]
  },
  {
   "cell_type": "markdown",
   "metadata": {},
   "source": [
    "<h2>Singular Value Thresholding (SVT)</h2>\n",
    "\n",
    "**SVT** is a technique used in signal processing and matrix completion problems. It's primarily employed in scenarios where you have a matrix with missing or corrupted data, and you want to estimate the missing values based on the available information."
   ]
  },
  {
   "cell_type": "markdown",
   "metadata": {},
   "source": [
    "First of all we divide into two sets *Test* and *Train* the dataset in input.\n",
    "\n",
    "Let us denote by $\\Omega_{train}$ the set of observations in the train set, i.e. the values appearing in the original dataset corresponding to the train set,\n",
    "\n",
    "similarly $\\Omega_{\\text{test}}$ is the set of observation in the test set.\n",
    "Let us denote by $r_{ij}$ the corresponding rating.\n",
    "\n",
    "Create a full matrix $X \\in \\mathbb{R}^{n \\times p}$, such that:\n",
    "$$\n",
    "X_{i,j} = \n",
    "\\begin{cases}\n",
    "r_{ij} & \\text{if } (i,j) \\in \\Omega\\\\\n",
    "0& \\text{otherwise}\n",
    "\\end{cases}\n",
    "$$\n",
    "\n",
    "Then the algorithm is based on a iterative procedure for `n_max_iter`,\n",
    "\n",
    "A *Singular Value Decomposition*, using `np.linalg.svd`,\n",
    "\n",
    "a thresholding on the singular values based on `threshold`,\n",
    "\n",
    "a `tolerance` that at each iteration is compared to the norm of the difference of the old matrix and the reconstructed new one,\n",
    "\n",
    "the error is evaluated through:\n",
    "\n",
    "the RMSE (root mean square error)\n",
    "$$\n",
    "\\text{RMSE} = \\sqrt{\\frac{1}{card(\\Omega_{\\text{test}})} \\sum_{(i,j) \\in \\Omega_{\\text{test}}} (r_{ij} - r^{\\text{pred}}_{ij})^2}\n",
    "$$\n",
    "\n",
    "and the Pearson correlation coefficient $\\rho$, using `scipy.stats.pearsonr`:\n",
    "$$\n",
    "\\rho = \n",
    "\\frac\n",
    "{\n",
    "    \\displaystyle\\sum_{(i,j) \\in \\Omega_{\\text{test}}} \n",
    "       (r_{ij} - \\overline{r})\n",
    "       (r^{\\text{pred}}_{ij} - \\overline{r}^{\\text{pred}})\n",
    "}\n",
    "{\\sqrt{\n",
    "    \\displaystyle\\sum_{(i,j) \\in \\Omega_{\\text{test}}} \n",
    "       (r_{ij} - \\overline{r})^2\n",
    "       }\n",
    "\\sqrt{\n",
    "    \\displaystyle\\sum_{(i,j) \\in \\Omega_{\\text{test}}} \n",
    "       (r^{\\text{pred}}_{ij} - \\overline{r}^{\\text{pred}})^2\n",
    "       }}\n",
    "$$\n",
    "where\n",
    "$$\n",
    "\\begin{split}\n",
    "\\overline{r} &= \\frac{1}{card(\\Omega_{\\text{test}})} \\sum_{(i,j) \\in \\Omega_{\\text{test}}} \n",
    "       r_{ij} \n",
    "\\\\\n",
    "\\overline{r}^{\\text{pred}} &= \\frac{1}{card(\\Omega_{\\text{test}})} \\sum_{(i,j) \\in \\Omega_{\\text{test}}} \n",
    "       r^{\\text{pred}}_{ij} \n",
    "\\end{split}\n",
    "$$"
   ]
  },
  {
   "cell_type": "code",
   "execution_count": 454,
   "metadata": {},
   "outputs": [],
   "source": [
    "def SVT(X_input, \\\n",
    "        n_max_iter = 100, \\\n",
    "        threshold = 1000, \\\n",
    "        show=True, \\\n",
    "        tt_split = 0.2,\n",
    "        tolerance = 1e-5, \\\n",
    "        seed=seed):\n",
    "  \n",
    "  X_input = X_input.to_numpy()\n",
    "  mat = X_input.shape\n",
    "  \n",
    "  np.random.seed(seed) # for reproducibility\n",
    "  indexes = np.random.permutation(mat[0])\n",
    "\n",
    "  \n",
    "  \n",
    "  X = X_input.copy()[indexes]\n",
    "  \n",
    "\n",
    "  split = round(tt_split*mat[0])\n",
    "  X_train = X[split:] # with non-null values\n",
    "  X_test = X[:split] # with null values\n",
    "\n",
    "\n",
    "  X_train = X_train.flatten()\n",
    "  X_test = X_test.flatten()\n",
    "  \n",
    "  train_valid = ~np.isnan(X_train)\n",
    "  vals_train = X_train[train_valid]\n",
    "\n",
    "  test_valid = ~np.isnan(X_test)\n",
    "  vals_test = X_test[test_valid]\n",
    "\n",
    "\n",
    "  RMSE_SVT_history = []\n",
    "  pearson_SVT_history = []\n",
    "\n",
    "  X = np.append(X_train,X_test)\n",
    "  X[np.isnan(X)] = 0\n",
    "\n",
    "  X_hat = X.copy()\n",
    "  for k in range(n_max_iter):\n",
    "    X_hat_old = X_hat.copy()\n",
    "    X_hat = X_hat.reshape(mat)\n",
    "    U,s,VT = np.linalg.svd(X_hat, full_matrices = False)\n",
    "    s[s < threshold] = 0\n",
    "    X_hat = U @ np.diag(s) @ VT\n",
    "\n",
    "    X_hat_train = X_hat[split:].flatten()\n",
    "    X_hat_test = X_hat[:split].flatten()\n",
    "    X_hat_train[train_valid] = vals_train\n",
    "\n",
    "    X_hat = np.append(X_hat_train,X_hat_test)\n",
    "    increment = np.linalg.norm(X_hat - X_hat_old)\n",
    "    \n",
    "\n",
    "    vals_test_SVT = X_hat_test[test_valid]\n",
    "    RMSE_SVT = np.sqrt(np.mean((vals_test - vals_test_SVT)**2))\n",
    "    pearson_SVT = pearsonr(vals_test, vals_test_SVT)[0]\n",
    "\n",
    "    RMSE_SVT_history.append(RMSE_SVT)\n",
    "    pearson_SVT_history.append(pearson_SVT)\n",
    "    \n",
    "    if show:\n",
    "      print('======= iteration %d (increment %1.2e)' % (k, increment))\n",
    "      print('RMSE = %f' % RMSE_SVT)\n",
    "      print('rho = %f' % pearson_SVT)\n",
    "    \n",
    "    if tolerance > increment:\n",
    "      break\n",
    "\n",
    "\n",
    "  X_hat = X_hat.reshape(mat)\n",
    "  X_hat_train = X_hat[split:].flatten()\n",
    "  X_hat_test = X_hat[:split].flatten()\n",
    "\n",
    "  X_hat_train[train_valid] = vals_train\n",
    "  X_hat_test[test_valid] = vals_test\n",
    "\n",
    "  X_hat = np.append(X_hat_train,X_hat_test)\n",
    "  X_hat = X_hat.reshape(mat)\n",
    "\n",
    "\n",
    "  X_hat = X_hat[-indexes]\n",
    "  X_hat = pd.DataFrame(data=X_hat,columns=avoid_categoricals)\n",
    "  X_hat['age'] = X_hat['age'].astype(int) \n",
    "  \n",
    "  if show:\n",
    "    fig, axs = plt.subplots(2,1,figsize = (8,8))\n",
    "    axs[0].loglog(RMSE_SVT_history, 'o-')\n",
    "    axs[1].semilogx(pearson_SVT_history, 'o-')\n",
    "\n",
    "  return X_hat"
   ]
  },
  {
   "cell_type": "code",
   "execution_count": 455,
   "metadata": {},
   "outputs": [],
   "source": [
    "X_train_cat = X_train[categorical_variables_names]\n",
    "X_train_avoid = X_train[avoid_categoricals]"
   ]
  },
  {
   "cell_type": "markdown",
   "metadata": {},
   "source": [
    "In order to determine a value for `threshold` is recommended to plot the *singular values* first,\n",
    "\n",
    "to better understand the order of magnitude for the thresholding."
   ]
  },
  {
   "cell_type": "code",
   "execution_count": 456,
   "metadata": {},
   "outputs": [],
   "source": [
    "X_train_singular = X_train_avoid.to_numpy().copy()\n",
    "X_train_singular[np.isnan(X_train_avoid)] = 0"
   ]
  },
  {
   "cell_type": "code",
   "execution_count": 457,
   "metadata": {},
   "outputs": [
    {
     "data": {
      "text/plain": [
       "[<matplotlib.lines.Line2D at 0x316ff1bd0>]"
      ]
     },
     "execution_count": 457,
     "metadata": {},
     "output_type": "execute_result"
    },
    {
     "data": {
      "image/png": "[encoded data removed]",
      "text/plain": [
       "<Figure size 640x480 with 1 Axes>"
      ]
     },
     "metadata": {},
     "output_type": "display_data"
    }
   ],
   "source": [
    "_,s,_ = np.linalg.svd(X_train_singular,full_matrices=False)\n",
    "plt.semilogy(s,'o')"
   ]
  },
  {
   "cell_type": "code",
   "execution_count": 458,
   "metadata": {},
   "outputs": [],
   "source": [
    "# Train Dataset SVT\n",
    "X_train_prev = X_train_avoid\n",
    "X_train_avoid = SVT(X_train_avoid,threshold=2e3,show=False)"
   ]
  },
  {
   "cell_type": "code",
   "execution_count": 459,
   "metadata": {},
   "outputs": [
    {
     "name": "stdout",
     "output_type": "stream",
     "text": [
      "Values for \"age\" previous to SVT: 748\n",
      "Values for \"age\" posterior to SVT: 748\n"
     ]
    }
   ],
   "source": [
    "print(f\"Values for \\\"age\\\" previous to SVT: {(X_train_prev['age'] == 65).sum()}\")\n",
    "print(f\"Values for \\\"age\\\" posterior to SVT: {(X_train_avoid['age'] == 65).sum()}\")"
   ]
  },
  {
   "cell_type": "code",
   "execution_count": 460,
   "metadata": {},
   "outputs": [
    {
     "name": "stdout",
     "output_type": "stream",
     "text": [
      "Variable age: \n",
      "         Previous nulls: 0\n",
      "         Posterior nulls: 0\n",
      "\n",
      "\n",
      "Variable barthel: \n",
      "         Previous nulls: 22510\n",
      "         Posterior nulls: 0\n",
      "\n",
      "\n",
      "Variable charlson: \n",
      "         Previous nulls: 59\n",
      "         Posterior nulls: 0\n",
      "\n",
      "\n",
      "Variable creatinina: \n",
      "         Previous nulls: 6322\n",
      "         Posterior nulls: 0\n",
      "\n",
      "\n",
      "Variable drg: \n",
      "         Previous nulls: 2891\n",
      "         Posterior nulls: 0\n",
      "\n",
      "\n",
      "Variable estancias: \n",
      "         Previous nulls: 0\n",
      "         Posterior nulls: 0\n",
      "\n",
      "\n",
      "Variable glucosa: \n",
      "         Previous nulls: 7360\n",
      "         Posterior nulls: 0\n",
      "\n",
      "\n",
      "Variable hematocrito: \n",
      "         Previous nulls: 6588\n",
      "         Posterior nulls: 0\n",
      "\n",
      "\n",
      "Variable leucocitos: \n",
      "         Previous nulls: 6588\n",
      "         Posterior nulls: 0\n",
      "\n",
      "\n",
      "Variable num_grupoact3_HOSP: \n",
      "         Previous nulls: 16768\n",
      "         Posterior nulls: 0\n",
      "\n",
      "\n",
      "Variable numurgenciasprevias: \n",
      "         Previous nulls: 448\n",
      "         Posterior nulls: 0\n",
      "\n",
      "\n",
      "Variable potasio: \n",
      "         Previous nulls: 6872\n",
      "         Posterior nulls: 0\n",
      "\n",
      "\n",
      "Variable proteina_c_reactiva: \n",
      "         Previous nulls: 14522\n",
      "         Posterior nulls: 0\n",
      "\n",
      "\n",
      "Variable rdw_cv: \n",
      "         Previous nulls: 6612\n",
      "         Posterior nulls: 0\n",
      "\n",
      "\n",
      "Variable rdw_sd: \n",
      "         Previous nulls: 6612\n",
      "         Posterior nulls: 0\n",
      "\n",
      "\n",
      "Variable sodio: \n",
      "         Previous nulls: 6463\n",
      "         Posterior nulls: 0\n",
      "\n",
      "\n",
      "Variable urea: \n",
      "         Previous nulls: 11344\n",
      "         Posterior nulls: 0\n",
      "\n",
      "\n"
     ]
    }
   ],
   "source": [
    "for i in X_train_prev.columns.tolist():\n",
    "    print(f\"Variable {i}: \\n \\\n",
    "        Previous nulls: {X_train_prev[i].isnull().sum()}\\n \\\n",
    "        Posterior nulls: {X_train_avoid[i].isnull().sum()}\\n\\n\")"
   ]
  },
  {
   "cell_type": "code",
   "execution_count": 461,
   "metadata": {},
   "outputs": [
    {
     "name": "stdout",
     "output_type": "stream",
     "text": [
      "codidiagingreso        0\n",
      "codservicioreal        0\n",
      "metastatic_tumor       0\n",
      "age                    0\n",
      "barthel                0\n",
      "charlson               0\n",
      "creatinina             0\n",
      "drg                    0\n",
      "estancias              0\n",
      "glucosa                0\n",
      "hematocrito            0\n",
      "leucocitos             0\n",
      "num_grupoact3_HOSP     0\n",
      "numurgenciasprevias    0\n",
      "potasio                0\n",
      "proteina_c_reactiva    0\n",
      "rdw_cv                 0\n",
      "rdw_sd                 0\n",
      "sodio                  0\n",
      "urea                   0\n",
      "dtype: int64\n"
     ]
    }
   ],
   "source": [
    "X_train = pd.DataFrame(data=X_train_cat.to_numpy(),columns=X_train_cat.columns)\n",
    "X_train = pd.concat([X_train,pd.DataFrame(data=X_train_avoid.to_numpy(),columns=X_train_avoid.columns)],axis=1)\n",
    "print(X_train.isnull().sum())"
   ]
  },
  {
   "cell_type": "code",
   "execution_count": 462,
   "metadata": {},
   "outputs": [
    {
     "name": "stderr",
     "output_type": "stream",
     "text": [
      "/Users/ermarinellone/Library/Mobile Documents/com~apple~CloudDocs/BDS/myenv/lib/python3.11/site-packages/numpy/lib/nanfunctions.py:1215: RuntimeWarning: Mean of empty slice\n",
      "  return np.nanmean(a, axis, out=out, keepdims=keepdims)\n"
     ]
    }
   ],
   "source": [
    "for c in X_train.columns.tolist():\n",
    "    median_train_c = X_train[c].apply(pd.to_numeric, errors='coerce').median()\n",
    "\n",
    "    X_test[c].fillna(median_train_c, inplace=True)"
   ]
  },
  {
   "cell_type": "code",
   "execution_count": 463,
   "metadata": {},
   "outputs": [
    {
     "data": {
      "text/plain": [
       "age                    0\n",
       "barthel                0\n",
       "charlson               0\n",
       "codidiagingreso        0\n",
       "codservicioreal        0\n",
       "creatinina             0\n",
       "drg                    0\n",
       "estancias              0\n",
       "glucosa                0\n",
       "hematocrito            0\n",
       "leucocitos             0\n",
       "metastatic_tumor       0\n",
       "num_grupoact3_HOSP     0\n",
       "numurgenciasprevias    0\n",
       "potasio                0\n",
       "proteina_c_reactiva    0\n",
       "rdw_cv                 0\n",
       "rdw_sd                 0\n",
       "sodio                  0\n",
       "urea                   0\n",
       "dtype: int64"
      ]
     },
     "execution_count": 463,
     "metadata": {},
     "output_type": "execute_result"
    }
   ],
   "source": [
    "X_test.isnull().sum()"
   ]
  },
  {
   "cell_type": "markdown",
   "metadata": {},
   "source": [
    "To fill <u>continous variables only</u> we opted for an optimal approach, the <a href=\"https://bpb-us-w2.wpmucdn.com/blog.nus.edu.sg/dist/4/11813/files/2019/05/SVT.pdf\">SVT algorithm</a>, described in the Markdown above.\n",
    "\n",
    "We used the dataset selecting to avoid the categorical variables, already filled in the previous section, not employed in the matrix given as argument to the function `SVT`."
   ]
  },
  {
   "cell_type": "code",
   "execution_count": 464,
   "metadata": {},
   "outputs": [],
   "source": [
    "categorical_cols = ['codidiagingreso', 'codservicioreal','metastatic_tumor']\n",
    "\n",
    "combined_data = pd.concat([X_train, X_test], axis=0)\n",
    "\n",
    "combined_data_encoded = pd.get_dummies(combined_data, columns=categorical_cols, prefix=categorical_cols)\n",
    "\n",
    "\n",
    "X_train_encoded = combined_data_encoded.iloc[:len(X_train),:]\n",
    "X_test_encoded = combined_data_encoded.iloc[len(X_train):,:]\n",
    "\n"
   ]
  },
  {
   "cell_type": "markdown",
   "metadata": {},
   "source": [
    "To manage numerically the string values, we have used an *encoding-like* approach, thanks to the function `pd.get_dummies`.\n",
    "\n",
    "Merging X_train and X_test into a single combined_data dataset ensures that the one-hot encoding takes into account all categories present in both sets, without having `np.shape` inconsistencies between Train Set and Test Set, otherwise issues could occur during prediction of the values. In this way all the features are represented both in the Train and Test Set, this will be discussed in *sub-section* 4.\n",
    "\n",
    "NOTE: The previous cell should be in the *sub-section* 3.2, but for semplicity of coding we have left it as the last cell of the pre-processing phase."
   ]
  },
  {
   "cell_type": "markdown",
   "metadata": {},
   "source": [
    "### 4. Categorical Test-Train Dilemma"
   ]
  },
  {
   "cell_type": "markdown",
   "metadata": {},
   "source": [
    "With our *features extension* approach we have proved that at most one of the new features generated by `pd.get_dummies` have a positive binary value (1), and the rest is set to negative (0).\n",
    "\n",
    "This is particularly useful when it comes to the Test Set, indeed the <u>unseen features in the Training Set will have the default weight</u> (usually 0, but could be random) <u>applied by the specific *Machine Learning Model* to features constantly null</u>.\n",
    "\n",
    "Therefore it does not try to improve it from the default weight and <u>it will be kept constantly default</u> until the end of the training!\n",
    "\n",
    "Hence it is possible to say that the added value will not modify the behaviour of the algorithm, and in the inference phase the weight applied to the unseen feature is nothing but the default weight, since the original model has not been trained on it having a value different from 0."
   ]
  },
  {
   "cell_type": "markdown",
   "metadata": {},
   "source": [
    "## Block III: Random Forest"
   ]
  },
  {
   "cell_type": "code",
   "execution_count": 465,
   "metadata": {},
   "outputs": [
    {
     "name": "stdout",
     "output_type": "stream",
     "text": [
      "Default parameters of RandomForestClassifier:\n",
      "{'bootstrap': True, 'ccp_alpha': 0.0, 'class_weight': None, 'criterion': 'gini', 'max_depth': None, 'max_features': 'sqrt', 'max_leaf_nodes': None, 'max_samples': None, 'min_impurity_decrease': 0.0, 'min_samples_leaf': 1, 'min_samples_split': 2, 'min_weight_fraction_leaf': 0.0, 'n_estimators': 100, 'n_jobs': None, 'oob_score': False, 'random_state': None, 'verbose': 0, 'warm_start': False}\n"
     ]
    }
   ],
   "source": [
    "from sklearn.ensemble import RandomForestClassifier\n",
    "\n",
    "rf_classifier = RandomForestClassifier()\n",
    "print(\"Default parameters of RandomForestClassifier:\")\n",
    "print(rf_classifier.get_params())"
   ]
  },
  {
   "cell_type": "code",
   "execution_count": 466,
   "metadata": {},
   "outputs": [
    {
     "data": {
      "text/html": [
       "<style>#sk-container-id-11 {color: black;}#sk-container-id-11 pre{padding: 0;}#sk-container-id-11 div.sk-toggleable {background-color: white;}#sk-container-id-11 label.sk-toggleable__label {cursor: pointer;display: block;width: 100%;margin-bottom: 0;padding: 0.3em;box-sizing: border-box;text-align: center;}#sk-container-id-11 label.sk-toggleable__label-arrow:before {content: \"▸\";float: left;margin-right: 0.25em;color: #696969;}#sk-container-id-11 label.sk-toggleable__label-arrow:hover:before {color: black;}#sk-container-id-11 div.sk-estimator:hover label.sk-toggleable__label-arrow:before {color: black;}#sk-container-id-11 div.sk-toggleable__content {max-height: 0;max-width: 0;overflow: hidden;text-align: left;background-color: #f0f8ff;}#sk-container-id-11 div.sk-toggleable__content pre {margin: 0.2em;color: black;border-radius: 0.25em;background-color: #f0f8ff;}#sk-container-id-11 input.sk-toggleable__control:checked~div.sk-toggleable__content {max-height: 200px;max-width: 100%;overflow: auto;}#sk-container-id-11 input.sk-toggleable__control:checked~label.sk-toggleable__label-arrow:before {content: \"▾\";}#sk-container-id-11 div.sk-estimator input.sk-toggleable__control:checked~label.sk-toggleable__label {background-color: #d4ebff;}#sk-container-id-11 div.sk-label input.sk-toggleable__control:checked~label.sk-toggleable__label {background-color: #d4ebff;}#sk-container-id-11 input.sk-hidden--visually {border: 0;clip: rect(1px 1px 1px 1px);clip: rect(1px, 1px, 1px, 1px);height: 1px;margin: -1px;overflow: hidden;padding: 0;position: absolute;width: 1px;}#sk-container-id-11 div.sk-estimator {font-family: monospace;background-color: #f0f8ff;border: 1px dotted black;border-radius: 0.25em;box-sizing: border-box;margin-bottom: 0.5em;}#sk-container-id-11 div.sk-estimator:hover {background-color: #d4ebff;}#sk-container-id-11 div.sk-parallel-item::after {content: \"\";width: 100%;border-bottom: 1px solid gray;flex-grow: 1;}#sk-container-id-11 div.sk-label:hover label.sk-toggleable__label {background-color: #d4ebff;}#sk-container-id-11 div.sk-serial::before {content: \"\";position: absolute;border-left: 1px solid gray;box-sizing: border-box;top: 0;bottom: 0;left: 50%;z-index: 0;}#sk-container-id-11 div.sk-serial {display: flex;flex-direction: column;align-items: center;background-color: white;padding-right: 0.2em;padding-left: 0.2em;position: relative;}#sk-container-id-11 div.sk-item {position: relative;z-index: 1;}#sk-container-id-11 div.sk-parallel {display: flex;align-items: stretch;justify-content: center;background-color: white;position: relative;}#sk-container-id-11 div.sk-item::before, #sk-container-id-11 div.sk-parallel-item::before {content: \"\";position: absolute;border-left: 1px solid gray;box-sizing: border-box;top: 0;bottom: 0;left: 50%;z-index: -1;}#sk-container-id-11 div.sk-parallel-item {display: flex;flex-direction: column;z-index: 1;position: relative;background-color: white;}#sk-container-id-11 div.sk-parallel-item:first-child::after {align-self: flex-end;width: 50%;}#sk-container-id-11 div.sk-parallel-item:last-child::after {align-self: flex-start;width: 50%;}#sk-container-id-11 div.sk-parallel-item:only-child::after {width: 0;}#sk-container-id-11 div.sk-dashed-wrapped {border: 1px dashed gray;margin: 0 0.4em 0.5em 0.4em;box-sizing: border-box;padding-bottom: 0.4em;background-color: white;}#sk-container-id-11 div.sk-label label {font-family: monospace;font-weight: bold;display: inline-block;line-height: 1.2em;}#sk-container-id-11 div.sk-label-container {text-align: center;}#sk-container-id-11 div.sk-container {/* jupyter's `normalize.less` sets `[hidden] { display: none; }` but bootstrap.min.css set `[hidden] { display: none !important; }` so we also need the `!important` here to be able to override the default hidden behavior on the sphinx rendered scikit-learn.org. See: https://github.com/scikit-learn/scikit-learn/issues/21755 */display: inline-block !important;position: relative;}#sk-container-id-11 div.sk-text-repr-fallback {display: none;}</style><div id=\"sk-container-id-11\" class=\"sk-top-container\"><div class=\"sk-text-repr-fallback\"><pre>RandomForestClassifier()</pre><b>In a Jupyter environment, please rerun this cell to show the HTML representation or trust the notebook. <br />On GitHub, the HTML representation is unable to render, please try loading this page with nbviewer.org.</b></div><div class=\"sk-container\" hidden><div class=\"sk-item\"><div class=\"sk-estimator sk-toggleable\"><input class=\"sk-toggleable__control sk-hidden--visually\" id=\"sk-estimator-id-11\" type=\"checkbox\" checked><label for=\"sk-estimator-id-11\" class=\"sk-toggleable__label sk-toggleable__label-arrow\">RandomForestClassifier</label><div class=\"sk-toggleable__content\"><pre>RandomForestClassifier()</pre></div></div></div></div></div>"
      ],
      "text/plain": [
       "RandomForestClassifier()"
      ]
     },
     "execution_count": 466,
     "metadata": {},
     "output_type": "execute_result"
    }
   ],
   "source": [
    "rf_classifier.fit(X_train_encoded, y_train)"
   ]
  },
  {
   "cell_type": "code",
   "execution_count": 467,
   "metadata": {},
   "outputs": [
    {
     "name": "stdout",
     "output_type": "stream",
     "text": [
      "[0.25 0.75 0.16 ... 0.24 0.42 0.23]\n"
     ]
    }
   ],
   "source": [
    "probabilities = rf_classifier.predict_proba(X_test_encoded)\n",
    "\n",
    "positive_class_probabilities = probabilities[:, 1]\n",
    "\n",
    "print(positive_class_probabilities)"
   ]
  },
  {
   "cell_type": "code",
   "execution_count": 468,
   "metadata": {},
   "outputs": [
    {
     "name": "stdout",
     "output_type": "stream",
     "text": [
      "AUC-ROC Score: 0.7542712614417459\n"
     ]
    }
   ],
   "source": [
    "positive_probs = rf_classifier.predict_proba(X_test_encoded)[:, 1]\n",
    "\n",
    "\n",
    "auc_roc_rf = round(roc_auc_score(y_test, positive_probs),4)\n",
    "print(\"AUC-ROC Score:\", auc_roc_rf)"
   ]
  },
  {
   "cell_type": "markdown",
   "metadata": {},
   "source": [
    "The AUC-ROC score (Area Under the Receiver Operating Characteristic Curve) is a numerical measure of the area under the ROC curve. This value represents the ability of a classification model to distinguish between positive and negative classes. \n",
    "\n",
    "In other words, the AUC-ROC score quantifies how well the model is able to separate positive and negative instances without being affected by the specific choice of classification threshold.\n",
    "\n",
    "The AUC-ROC score is particularly useful when comparing binary classification models and wanting an overall assessment of their performance without having to choose a specific decision threshold. \n",
    "\n",
    "A higher AUC-ROC value generally indicates a better model in distinguishing between positive and negative classes.\n",
    "\n",
    "AUC-ROC = 1: Indicates a perfect model that is able to distinguish perfectly between positive and negative classes while AUC-ROC < 0.5: Indicates that the model is performing worse than a random case."
   ]
  },
  {
   "cell_type": "code",
   "execution_count": 469,
   "metadata": {},
   "outputs": [
    {
     "name": "stdout",
     "output_type": "stream",
     "text": [
      "Accuracy: 0.7185059864653827\n",
      "Sensitivity (True Positive Rate): 0.38352059925093634\n",
      "Specificity (True Negative Rate): 0.8968887116074991\n"
     ]
    }
   ],
   "source": [
    "predictions = rf_classifier.predict(X_test_encoded)\n",
    "\n",
    "\n",
    "accuracy_rf = accuracy_score(y_test, predictions)\n",
    "print(\"Accuracy:\", accuracy_rf)\n",
    "\n",
    "conf_matrix = confusion_matrix(y_test, predictions)\n",
    "\n",
    "true_negative, false_positive, false_negative, true_positive = conf_matrix.ravel()\n",
    "\n",
    "\n",
    "sensitivity = true_positive / (true_positive + false_negative)\n",
    "specificity = true_negative / (true_negative + false_positive)\n",
    "\n",
    "print(\"Sensitivity (True Positive Rate):\", sensitivity)\n",
    "print(\"Specificity (True Negative Rate):\", specificity)"
   ]
  },
  {
   "cell_type": "markdown",
   "metadata": {},
   "source": [
    "1) Sensitivity measures the proportion of true positives (correctly classified positive instances) to the total number of true positive instances in the dataset. In other words, it indicates the model's ability to correctly identify instances of the positive class.<br>\n",
    "Sensitivity (TPR) = 𝑇𝑃/𝑇𝑃+𝐹𝑁 ​ <br>\n",
    "Sensitivity is important when the cost of a false negative (a negative prediction for an actually positive instance) is high, for example, in a diagnostic test where missing a positive condition is serious.\n",
    "\n",
    "2) Specificity measures the proportion of true negatives (correctly classified negative instances) to the total number of true negative instances in the dataset. It indicates the model's ability to correctly identify instances of the negative class. <br>\n",
    "Specificity (TNR) = 𝑇𝑁/𝑇𝐹+𝐹𝑃 <br>\n",
    "Specificity is important when the cost of a false positive (a positive prediction for an actually negative instance) is high, for example, in a test to identify dangerous behavior or safety situations."
   ]
  },
  {
   "cell_type": "code",
   "execution_count": 470,
   "metadata": {},
   "outputs": [
    {
     "data": {
      "image/png": "[encoded data removed]",
      "text/plain": [
       "<Figure size 800x600 with 1 Axes>"
      ]
     },
     "metadata": {},
     "output_type": "display_data"
    }
   ],
   "source": [
    "fpr, tpr, thresholds = roc_curve(y_test, positive_probs)\n",
    "roc_auc = auc(fpr, tpr)\n",
    "\n",
    "\n",
    "plt.figure(figsize=(8, 6))\n",
    "plt.plot(fpr, tpr, color='darkorange', lw=2, label='ROC Curve (area = %0.2f)' % roc_auc)\n",
    "plt.plot([0, 1], [0, 1], color='navy', lw=2, linestyle='--')\n",
    "plt.xlim([0.0, 1.0])\n",
    "plt.ylim([0.0, 1.05])\n",
    "plt.xlabel('False Positive Rate')\n",
    "plt.ylabel('True Positive Rate')\n",
    "plt.title('ROC Curve')\n",
    "plt.legend(loc='lower right')\n",
    "plt.show()"
   ]
  },
  {
   "cell_type": "markdown",
   "metadata": {},
   "source": [
    "This code is used to visualize the ROC curve (Receiver Operating Characteristic curve) and calculate the AUC-ROC score for a binary classification model.\n",
    "\n",
    "First the true positive and false positive rates are calculated for the classes predicted by the model, and then these quantities are used to calculate the Area Under the Curve (AUC) using false positive rates (fpr) and true positive rates (tpr)."
   ]
  },
  {
   "cell_type": "markdown",
   "metadata": {},
   "source": [
    "### Gradient Boosting & SVM (Optional)"
   ]
  },
  {
   "cell_type": "markdown",
   "metadata": {},
   "source": [
    "#### Gradient Boosting"
   ]
  },
  {
   "cell_type": "code",
   "execution_count": 471,
   "metadata": {},
   "outputs": [],
   "source": [
    "from sklearn.ensemble import GradientBoostingClassifier\n",
    "from sklearn.model_selection import GridSearchCV"
   ]
  },
  {
   "cell_type": "code",
   "execution_count": 472,
   "metadata": {},
   "outputs": [
    {
     "name": "stdout",
     "output_type": "stream",
     "text": [
      "Default parameters of Gradient Boosting:\n",
      "{'ccp_alpha': 0.0, 'criterion': 'friedman_mse', 'init': None, 'learning_rate': 0.1, 'loss': 'log_loss', 'max_depth': 3, 'max_features': None, 'max_leaf_nodes': None, 'min_impurity_decrease': 0.0, 'min_samples_leaf': 1, 'min_samples_split': 2, 'min_weight_fraction_leaf': 0.0, 'n_estimators': 100, 'n_iter_no_change': None, 'random_state': None, 'subsample': 1.0, 'tol': 0.0001, 'validation_fraction': 0.1, 'verbose': 0, 'warm_start': False}\n"
     ]
    }
   ],
   "source": [
    "gb_clf = GradientBoostingClassifier()\n",
    "print(\"Default parameters of Gradient Boosting:\")\n",
    "print(gb_clf.get_params())"
   ]
  },
  {
   "cell_type": "code",
   "execution_count": 473,
   "metadata": {},
   "outputs": [
    {
     "data": {
      "text/html": [
       "<style>#sk-container-id-12 {color: black;}#sk-container-id-12 pre{padding: 0;}#sk-container-id-12 div.sk-toggleable {background-color: white;}#sk-container-id-12 label.sk-toggleable__label {cursor: pointer;display: block;width: 100%;margin-bottom: 0;padding: 0.3em;box-sizing: border-box;text-align: center;}#sk-container-id-12 label.sk-toggleable__label-arrow:before {content: \"▸\";float: left;margin-right: 0.25em;color: #696969;}#sk-container-id-12 label.sk-toggleable__label-arrow:hover:before {color: black;}#sk-container-id-12 div.sk-estimator:hover label.sk-toggleable__label-arrow:before {color: black;}#sk-container-id-12 div.sk-toggleable__content {max-height: 0;max-width: 0;overflow: hidden;text-align: left;background-color: #f0f8ff;}#sk-container-id-12 div.sk-toggleable__content pre {margin: 0.2em;color: black;border-radius: 0.25em;background-color: #f0f8ff;}#sk-container-id-12 input.sk-toggleable__control:checked~div.sk-toggleable__content {max-height: 200px;max-width: 100%;overflow: auto;}#sk-container-id-12 input.sk-toggleable__control:checked~label.sk-toggleable__label-arrow:before {content: \"▾\";}#sk-container-id-12 div.sk-estimator input.sk-toggleable__control:checked~label.sk-toggleable__label {background-color: #d4ebff;}#sk-container-id-12 div.sk-label input.sk-toggleable__control:checked~label.sk-toggleable__label {background-color: #d4ebff;}#sk-container-id-12 input.sk-hidden--visually {border: 0;clip: rect(1px 1px 1px 1px);clip: rect(1px, 1px, 1px, 1px);height: 1px;margin: -1px;overflow: hidden;padding: 0;position: absolute;width: 1px;}#sk-container-id-12 div.sk-estimator {font-family: monospace;background-color: #f0f8ff;border: 1px dotted black;border-radius: 0.25em;box-sizing: border-box;margin-bottom: 0.5em;}#sk-container-id-12 div.sk-estimator:hover {background-color: #d4ebff;}#sk-container-id-12 div.sk-parallel-item::after {content: \"\";width: 100%;border-bottom: 1px solid gray;flex-grow: 1;}#sk-container-id-12 div.sk-label:hover label.sk-toggleable__label {background-color: #d4ebff;}#sk-container-id-12 div.sk-serial::before {content: \"\";position: absolute;border-left: 1px solid gray;box-sizing: border-box;top: 0;bottom: 0;left: 50%;z-index: 0;}#sk-container-id-12 div.sk-serial {display: flex;flex-direction: column;align-items: center;background-color: white;padding-right: 0.2em;padding-left: 0.2em;position: relative;}#sk-container-id-12 div.sk-item {position: relative;z-index: 1;}#sk-container-id-12 div.sk-parallel {display: flex;align-items: stretch;justify-content: center;background-color: white;position: relative;}#sk-container-id-12 div.sk-item::before, #sk-container-id-12 div.sk-parallel-item::before {content: \"\";position: absolute;border-left: 1px solid gray;box-sizing: border-box;top: 0;bottom: 0;left: 50%;z-index: -1;}#sk-container-id-12 div.sk-parallel-item {display: flex;flex-direction: column;z-index: 1;position: relative;background-color: white;}#sk-container-id-12 div.sk-parallel-item:first-child::after {align-self: flex-end;width: 50%;}#sk-container-id-12 div.sk-parallel-item:last-child::after {align-self: flex-start;width: 50%;}#sk-container-id-12 div.sk-parallel-item:only-child::after {width: 0;}#sk-container-id-12 div.sk-dashed-wrapped {border: 1px dashed gray;margin: 0 0.4em 0.5em 0.4em;box-sizing: border-box;padding-bottom: 0.4em;background-color: white;}#sk-container-id-12 div.sk-label label {font-family: monospace;font-weight: bold;display: inline-block;line-height: 1.2em;}#sk-container-id-12 div.sk-label-container {text-align: center;}#sk-container-id-12 div.sk-container {/* jupyter's `normalize.less` sets `[hidden] { display: none; }` but bootstrap.min.css set `[hidden] { display: none !important; }` so we also need the `!important` here to be able to override the default hidden behavior on the sphinx rendered scikit-learn.org. See: https://github.com/scikit-learn/scikit-learn/issues/21755 */display: inline-block !important;position: relative;}#sk-container-id-12 div.sk-text-repr-fallback {display: none;}</style><div id=\"sk-container-id-12\" class=\"sk-top-container\"><div class=\"sk-text-repr-fallback\"><pre>GradientBoostingClassifier()</pre><b>In a Jupyter environment, please rerun this cell to show the HTML representation or trust the notebook. <br />On GitHub, the HTML representation is unable to render, please try loading this page with nbviewer.org.</b></div><div class=\"sk-container\" hidden><div class=\"sk-item\"><div class=\"sk-estimator sk-toggleable\"><input class=\"sk-toggleable__control sk-hidden--visually\" id=\"sk-estimator-id-12\" type=\"checkbox\" checked><label for=\"sk-estimator-id-12\" class=\"sk-toggleable__label sk-toggleable__label-arrow\">GradientBoostingClassifier</label><div class=\"sk-toggleable__content\"><pre>GradientBoostingClassifier()</pre></div></div></div></div></div>"
      ],
      "text/plain": [
       "GradientBoostingClassifier()"
      ]
     },
     "execution_count": 473,
     "metadata": {},
     "output_type": "execute_result"
    }
   ],
   "source": [
    "gb_clf.fit(X_train_encoded, y_train)"
   ]
  },
  {
   "cell_type": "code",
   "execution_count": 474,
   "metadata": {},
   "outputs": [
    {
     "name": "stdout",
     "output_type": "stream",
     "text": [
      "AUC-ROC Score: 0.7505598929738306\n"
     ]
    }
   ],
   "source": [
    "positive_probs = gb_clf.predict_proba(X_test_encoded)[:, 1]\n",
    "\n",
    "auc_roc_gb = round(roc_auc_score(y_test, positive_probs),4)\n",
    "print(\"AUC-ROC Score:\", auc_roc_gb)"
   ]
  },
  {
   "cell_type": "code",
   "execution_count": 475,
   "metadata": {},
   "outputs": [
    {
     "name": "stdout",
     "output_type": "stream",
     "text": [
      "Sensitivity (True Positive Rate): 0.26104868913857676\n",
      "Specificity (True Negative Rate): 0.9631033107299561\n"
     ]
    }
   ],
   "source": [
    "predictions = gb_clf.predict(X_test_encoded)\n",
    "\n",
    "conf_matrix = confusion_matrix(y_test, predictions)\n",
    "\n",
    "true_negative, false_positive, false_negative, true_positive = conf_matrix.ravel()\n",
    "\n",
    "\n",
    "sensitivity = true_positive / (true_positive + false_negative)\n",
    "specificity = true_negative / (true_negative + false_positive)\n",
    "\n",
    "print(\"Sensitivity (True Positive Rate):\", sensitivity)\n",
    "print(\"Specificity (True Negative Rate):\", specificity)"
   ]
  },
  {
   "cell_type": "code",
   "execution_count": 476,
   "metadata": {},
   "outputs": [
    {
     "name": "stdout",
     "output_type": "stream",
     "text": [
      "Accuracy of model: 0.7191566892243623\n",
      "Precision: [0.70993825 0.79024943]\n",
      "Recall: [0.96310331 0.26104869]\n",
      "F1-score: [0.81736628 0.39245495]\n",
      "              precision    recall  f1-score   support\n",
      "\n",
      "    Negative       0.71      0.96      0.82      5014\n",
      "    Positive       0.79      0.26      0.39      2670\n",
      "\n",
      "    accuracy                           0.72      7684\n",
      "   macro avg       0.75      0.61      0.60      7684\n",
      "weighted avg       0.74      0.72      0.67      7684\n",
      "\n"
     ]
    }
   ],
   "source": [
    "predictions = gb_clf.predict(X_test_encoded)\n",
    "\n",
    "accuracy_gb = accuracy_score(y_test, predictions)\n",
    "print(f'Accuracy of model: {accuracy_gb}')\n",
    "\n",
    "\n",
    "precision_gb = precision_score(y_test, predictions, average=None)\n",
    "recall_gb = recall_score(y_test, predictions, average=None)\n",
    "f1_gb = f1_score(y_test, predictions, average=None)\n",
    "\n",
    "print(f'Precision: {precision_gb}')\n",
    "print(f'Recall: {recall_gb}')\n",
    "print(f'F1-score: {f1_gb}')\n",
    "\n",
    "class_names = [\"Negative\", \"Positive\"]\n",
    "print(classification_report(y_test, predictions, target_names=class_names))"
   ]
  },
  {
   "cell_type": "code",
   "execution_count": 477,
   "metadata": {},
   "outputs": [
    {
     "data": {
      "image/png": "[encoded data removed]",
      "text/plain": [
       "<Figure size 800x600 with 1 Axes>"
      ]
     },
     "metadata": {},
     "output_type": "display_data"
    }
   ],
   "source": [
    "probabilities = gb_clf.decision_function(X_test_encoded)\n",
    "fpr, tpr, thresholds = roc_curve(y_test, probabilities)\n",
    "auc = roc_auc_score(y_test, probabilities)\n",
    "\n",
    "plt.figure(figsize=(8, 6))\n",
    "plt.plot(fpr, tpr, color='darkorange', lw=2, label=f'AUC = {auc:.2f}')\n",
    "plt.plot([0, 1], [0, 1], color='navy', lw=2, linestyle='--')\n",
    "plt.xlabel('False Positive Rate')\n",
    "plt.ylabel('True Positive Rate')\n",
    "plt.title('ROC Curve')\n",
    "plt.legend(loc='lower right')\n",
    "plt.show()"
   ]
  },
  {
   "cell_type": "markdown",
   "metadata": {},
   "source": [
    "#### SVM"
   ]
  },
  {
   "cell_type": "code",
   "execution_count": 492,
   "metadata": {},
   "outputs": [
    {
     "name": "stdout",
     "output_type": "stream",
     "text": [
      "Default parameters of SVM Classifier:\n",
      "{'C': 1.0, 'break_ties': False, 'cache_size': 200, 'class_weight': None, 'coef0': 0.0, 'decision_function_shape': 'ovr', 'degree': 3, 'gamma': 'scale', 'kernel': 'rbf', 'max_iter': -1, 'probability': True, 'random_state': None, 'shrinking': True, 'tol': 0.001, 'verbose': False}\n"
     ]
    }
   ],
   "source": [
    "from sklearn.svm import SVC\n",
    "\n",
    "svm_classifier = SVC(probability=True)\n",
    "\n",
    "print(\"Default parameters of SVM Classifier:\")\n",
    "print(svm_classifier.get_params())"
   ]
  },
  {
   "cell_type": "code",
   "execution_count": 493,
   "metadata": {},
   "outputs": [
    {
     "data": {
      "text/html": [
       "<style>#sk-container-id-15 {color: black;}#sk-container-id-15 pre{padding: 0;}#sk-container-id-15 div.sk-toggleable {background-color: white;}#sk-container-id-15 label.sk-toggleable__label {cursor: pointer;display: block;width: 100%;margin-bottom: 0;padding: 0.3em;box-sizing: border-box;text-align: center;}#sk-container-id-15 label.sk-toggleable__label-arrow:before {content: \"▸\";float: left;margin-right: 0.25em;color: #696969;}#sk-container-id-15 label.sk-toggleable__label-arrow:hover:before {color: black;}#sk-container-id-15 div.sk-estimator:hover label.sk-toggleable__label-arrow:before {color: black;}#sk-container-id-15 div.sk-toggleable__content {max-height: 0;max-width: 0;overflow: hidden;text-align: left;background-color: #f0f8ff;}#sk-container-id-15 div.sk-toggleable__content pre {margin: 0.2em;color: black;border-radius: 0.25em;background-color: #f0f8ff;}#sk-container-id-15 input.sk-toggleable__control:checked~div.sk-toggleable__content {max-height: 200px;max-width: 100%;overflow: auto;}#sk-container-id-15 input.sk-toggleable__control:checked~label.sk-toggleable__label-arrow:before {content: \"▾\";}#sk-container-id-15 div.sk-estimator input.sk-toggleable__control:checked~label.sk-toggleable__label {background-color: #d4ebff;}#sk-container-id-15 div.sk-label input.sk-toggleable__control:checked~label.sk-toggleable__label {background-color: #d4ebff;}#sk-container-id-15 input.sk-hidden--visually {border: 0;clip: rect(1px 1px 1px 1px);clip: rect(1px, 1px, 1px, 1px);height: 1px;margin: -1px;overflow: hidden;padding: 0;position: absolute;width: 1px;}#sk-container-id-15 div.sk-estimator {font-family: monospace;background-color: #f0f8ff;border: 1px dotted black;border-radius: 0.25em;box-sizing: border-box;margin-bottom: 0.5em;}#sk-container-id-15 div.sk-estimator:hover {background-color: #d4ebff;}#sk-container-id-15 div.sk-parallel-item::after {content: \"\";width: 100%;border-bottom: 1px solid gray;flex-grow: 1;}#sk-container-id-15 div.sk-label:hover label.sk-toggleable__label {background-color: #d4ebff;}#sk-container-id-15 div.sk-serial::before {content: \"\";position: absolute;border-left: 1px solid gray;box-sizing: border-box;top: 0;bottom: 0;left: 50%;z-index: 0;}#sk-container-id-15 div.sk-serial {display: flex;flex-direction: column;align-items: center;background-color: white;padding-right: 0.2em;padding-left: 0.2em;position: relative;}#sk-container-id-15 div.sk-item {position: relative;z-index: 1;}#sk-container-id-15 div.sk-parallel {display: flex;align-items: stretch;justify-content: center;background-color: white;position: relative;}#sk-container-id-15 div.sk-item::before, #sk-container-id-15 div.sk-parallel-item::before {content: \"\";position: absolute;border-left: 1px solid gray;box-sizing: border-box;top: 0;bottom: 0;left: 50%;z-index: -1;}#sk-container-id-15 div.sk-parallel-item {display: flex;flex-direction: column;z-index: 1;position: relative;background-color: white;}#sk-container-id-15 div.sk-parallel-item:first-child::after {align-self: flex-end;width: 50%;}#sk-container-id-15 div.sk-parallel-item:last-child::after {align-self: flex-start;width: 50%;}#sk-container-id-15 div.sk-parallel-item:only-child::after {width: 0;}#sk-container-id-15 div.sk-dashed-wrapped {border: 1px dashed gray;margin: 0 0.4em 0.5em 0.4em;box-sizing: border-box;padding-bottom: 0.4em;background-color: white;}#sk-container-id-15 div.sk-label label {font-family: monospace;font-weight: bold;display: inline-block;line-height: 1.2em;}#sk-container-id-15 div.sk-label-container {text-align: center;}#sk-container-id-15 div.sk-container {/* jupyter's `normalize.less` sets `[hidden] { display: none; }` but bootstrap.min.css set `[hidden] { display: none !important; }` so we also need the `!important` here to be able to override the default hidden behavior on the sphinx rendered scikit-learn.org. See: https://github.com/scikit-learn/scikit-learn/issues/21755 */display: inline-block !important;position: relative;}#sk-container-id-15 div.sk-text-repr-fallback {display: none;}</style><div id=\"sk-container-id-15\" class=\"sk-top-container\"><div class=\"sk-text-repr-fallback\"><pre>SVC(probability=True)</pre><b>In a Jupyter environment, please rerun this cell to show the HTML representation or trust the notebook. <br />On GitHub, the HTML representation is unable to render, please try loading this page with nbviewer.org.</b></div><div class=\"sk-container\" hidden><div class=\"sk-item\"><div class=\"sk-estimator sk-toggleable\"><input class=\"sk-toggleable__control sk-hidden--visually\" id=\"sk-estimator-id-15\" type=\"checkbox\" checked><label for=\"sk-estimator-id-15\" class=\"sk-toggleable__label sk-toggleable__label-arrow\">SVC</label><div class=\"sk-toggleable__content\"><pre>SVC(probability=True)</pre></div></div></div></div></div>"
      ],
      "text/plain": [
       "SVC(probability=True)"
      ]
     },
     "execution_count": 493,
     "metadata": {},
     "output_type": "execute_result"
    }
   ],
   "source": [
    "cut = round(X_test_encoded.shape[0]*1) # this cut is needed to train the dataset on a smaller Training Set size\n",
    "svm_classifier.fit(X_train_encoded.iloc[:cut,:], y_train[:cut])"
   ]
  },
  {
   "cell_type": "code",
   "execution_count": 494,
   "metadata": {},
   "outputs": [
    {
     "name": "stdout",
     "output_type": "stream",
     "text": [
      "AUC-ROC Score: 0.6816\n"
     ]
    }
   ],
   "source": [
    "positive_probs = svm_classifier.predict_proba(X_test_encoded)[:, 1]\n",
    "\n",
    "auc_roc_svm = round(roc_auc_score(y_test, positive_probs),4)\n",
    "print(\"AUC-ROC Score:\", auc_roc_svm)"
   ]
  },
  {
   "cell_type": "code",
   "execution_count": 495,
   "metadata": {},
   "outputs": [
    {
     "name": "stdout",
     "output_type": "stream",
     "text": [
      "Sensitivity (True Positive Rate): 0.0\n",
      "Specificity (True Negative Rate): 1.0\n"
     ]
    }
   ],
   "source": [
    "predictions = svm_classifier.predict(X_test_encoded)\n",
    "\n",
    "conf_matrix = confusion_matrix(y_test, predictions)\n",
    "\n",
    "true_negative, false_positive, false_negative, true_positive = conf_matrix.ravel()\n",
    "\n",
    "\n",
    "sensitivity = true_positive / (true_positive + false_negative)\n",
    "specificity = true_negative / (true_negative + false_positive)\n",
    "\n",
    "print(\"Sensitivity (True Positive Rate):\", sensitivity)\n",
    "print(\"Specificity (True Negative Rate):\", specificity)"
   ]
  },
  {
   "cell_type": "code",
   "execution_count": 496,
   "metadata": {},
   "outputs": [
    {
     "name": "stdout",
     "output_type": "stream",
     "text": [
      "Accuracy of model: 0.6525247267048412\n",
      "Precision: [0.65252473 0.        ]\n",
      "Recall: [1. 0.]\n",
      "F1-score: [0.78973067 0.        ]\n",
      "              precision    recall  f1-score   support\n",
      "\n",
      "    Negative       0.65      1.00      0.79      5014\n",
      "    Positive       0.00      0.00      0.00      2670\n",
      "\n",
      "    accuracy                           0.65      7684\n",
      "   macro avg       0.33      0.50      0.39      7684\n",
      "weighted avg       0.43      0.65      0.52      7684\n",
      "\n"
     ]
    },
    {
     "name": "stderr",
     "output_type": "stream",
     "text": [
      "/Users/ermarinellone/Library/Mobile Documents/com~apple~CloudDocs/BDS/myenv/lib/python3.11/site-packages/sklearn/metrics/_classification.py:1469: UndefinedMetricWarning: Precision is ill-defined and being set to 0.0 in labels with no predicted samples. Use `zero_division` parameter to control this behavior.\n",
      "  _warn_prf(average, modifier, msg_start, len(result))\n",
      "/Users/ermarinellone/Library/Mobile Documents/com~apple~CloudDocs/BDS/myenv/lib/python3.11/site-packages/sklearn/metrics/_classification.py:1469: UndefinedMetricWarning: Precision and F-score are ill-defined and being set to 0.0 in labels with no predicted samples. Use `zero_division` parameter to control this behavior.\n",
      "  _warn_prf(average, modifier, msg_start, len(result))\n",
      "/Users/ermarinellone/Library/Mobile Documents/com~apple~CloudDocs/BDS/myenv/lib/python3.11/site-packages/sklearn/metrics/_classification.py:1469: UndefinedMetricWarning: Precision and F-score are ill-defined and being set to 0.0 in labels with no predicted samples. Use `zero_division` parameter to control this behavior.\n",
      "  _warn_prf(average, modifier, msg_start, len(result))\n",
      "/Users/ermarinellone/Library/Mobile Documents/com~apple~CloudDocs/BDS/myenv/lib/python3.11/site-packages/sklearn/metrics/_classification.py:1469: UndefinedMetricWarning: Precision and F-score are ill-defined and being set to 0.0 in labels with no predicted samples. Use `zero_division` parameter to control this behavior.\n",
      "  _warn_prf(average, modifier, msg_start, len(result))\n"
     ]
    }
   ],
   "source": [
    "predictions = svm_classifier.predict(X_test_encoded)\n",
    "\n",
    "accuracy_svm = accuracy_score(y_test, predictions)\n",
    "print(f'Accuracy of model: {accuracy_svm}')\n",
    "\n",
    "\n",
    "precision_smv = precision_score(y_test, predictions, average=None)\n",
    "recall_svm = recall_score(y_test, predictions, average=None)\n",
    "f1_svm = f1_score(y_test, predictions, average=None)\n",
    "\n",
    "print(f'Precision: {precision_smv}')\n",
    "print(f'Recall: {recall_svm}')\n",
    "print(f'F1-score: {f1_svm}')\n",
    "\n",
    "class_names = [\"Negative\", \"Positive\"]\n",
    "print(classification_report(y_test, predictions, target_names=class_names))"
   ]
  },
  {
   "cell_type": "code",
   "execution_count": 497,
   "metadata": {},
   "outputs": [
    {
     "data": {
      "image/png": "[encoded data removed]",
      "text/plain": [
       "<Figure size 800x600 with 1 Axes>"
      ]
     },
     "metadata": {},
     "output_type": "display_data"
    }
   ],
   "source": [
    "probabilities = svm_classifier.decision_function(X_test_encoded)\n",
    "fpr, tpr, thresholds = roc_curve(y_test, probabilities)\n",
    "auc = roc_auc_score(y_test, probabilities)\n",
    "\n",
    "plt.figure(figsize=(8, 6))\n",
    "plt.plot(fpr, tpr, color='darkorange', lw=2, label=f'AUC = {auc:.2f}')\n",
    "plt.plot([0, 1], [0, 1], color='navy', lw=2, linestyle='--')\n",
    "plt.xlabel('False Positive Rate')\n",
    "plt.ylabel('True Positive Rate')\n",
    "plt.title('ROC Curve')\n",
    "plt.legend(loc='lower right')\n",
    "plt.show()"
   ]
  },
  {
   "cell_type": "markdown",
   "metadata": {},
   "source": [
    "## Results"
   ]
  },
  {
   "cell_type": "code",
   "execution_count": 498,
   "metadata": {},
   "outputs": [
    {
     "data": {
      "text/html": [
       "<table border=\"1\" class=\"dataframe\">\n",
       "  <thead>\n",
       "    <tr style=\"text-align: right;\">\n",
       "      <th>Models</th>\n",
       "      <th>Accuracy</th>\n",
       "      <th>AUC-ROC-Score</th>\n",
       "    </tr>\n",
       "  </thead>\n",
       "  <tbody>\n",
       "    <tr>\n",
       "      <td>Random Forest</td>\n",
       "      <td>0.718506</td>\n",
       "      <td>0.754271</td>\n",
       "    </tr>\n",
       "    <tr>\n",
       "      <td>Gradient Boosting</td>\n",
       "      <td>0.719157</td>\n",
       "      <td>0.750560</td>\n",
       "    </tr>\n",
       "    <tr>\n",
       "      <td>Support Vector Machine</td>\n",
       "      <td>0.652525</td>\n",
       "      <td>0.681600</td>\n",
       "    </tr>\n",
       "  </tbody>\n",
       "</table>"
      ],
      "text/plain": [
       "<IPython.core.display.HTML object>"
      ]
     },
     "metadata": {},
     "output_type": "display_data"
    }
   ],
   "source": [
    "res = {\n",
    "    'Models': ['Random Forest', 'Gradient Boosting', 'Support Vector Machine'],\n",
    "    'Accuracy': [accuracy_rf,accuracy_gb,accuracy_svm],\n",
    "    'AUC-ROC-Score': [auc_roc_rf, auc_roc_gb, auc_roc_svm],\n",
    "\n",
    "}\n",
    "\n",
    "\n",
    "results = pd.DataFrame(res)\n",
    "display(HTML(results.to_html(index=False)))"
   ]
  }
 ],
 "metadata": {
  "kernelspec": {
   "display_name": "Python 3",
   "language": "python",
   "name": "python3"
  },
  "language_info": {
   "codemirror_mode": {
    "name": "ipython",
    "version": 3
   },
   "file_extension": ".py",
   "mimetype": "text/x-python",
   "name": "python",
   "nbconvert_exporter": "python",
   "pygments_lexer": "ipython3",
   "version": "3.11.1"
  }
 },
 "nbformat": 4,
 "nbformat_minor": 4
}
