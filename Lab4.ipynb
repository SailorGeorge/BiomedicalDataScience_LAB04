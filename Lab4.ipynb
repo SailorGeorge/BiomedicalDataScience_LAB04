{
 "cells": [
  {
   "cell_type": "markdown",
   "metadata": {},
   "source": [
    "# Biomedical Data Analysis - Lab 4"
   ]
  },
  {
   "cell_type": "markdown",
   "metadata": {},
   "source": [
    "Group members:\n",
    "\n",
    "- Enrico Maria Marinelli\n",
    "- Francesco Pio Capoccello\n",
    "- Juras LukaŠevičius"
   ]
  },
  {
   "cell_type": "markdown",
   "metadata": {},
   "source": [
    "### Libraries used in practical session:"
   ]
  },
  {
   "cell_type": "code",
   "execution_count": 82,
   "metadata": {},
   "outputs": [],
   "source": [
    "import pandas as pd\n",
    "import numpy as np\n",
    "import matplotlib.pyplot as plt\n",
    "from scipy.sparse import csr_matrix\n",
    "from scipy.stats import pearsonr\n",
    "import regex as re"
   ]
  },
  {
   "cell_type": "markdown",
   "metadata": {},
   "source": [
    "## Block I - Data loading and basic description"
   ]
  },
  {
   "cell_type": "markdown",
   "metadata": {},
   "source": [
    "We load the dataset using the pandas’ load_csv function, remember to specify semicolon (;) as\n",
    "the separator"
   ]
  },
  {
   "cell_type": "code",
   "execution_count": 83,
   "metadata": {},
   "outputs": [],
   "source": [
    "df=pd.read_csv(\"Data/inadvance_synth.csv\",sep=\";\")"
   ]
  },
  {
   "cell_type": "code",
   "execution_count": 84,
   "metadata": {},
   "outputs": [
    {
     "name": "stdout",
     "output_type": "stream",
     "text": [
      "<class 'pandas.core.frame.DataFrame'>\n",
      "RangeIndex: 38416 entries, 0 to 38415\n",
      "Data columns (total 22 columns):\n",
      " #   Column               Non-Null Count  Dtype  \n",
      "---  ------               --------------  -----  \n",
      " 0   Unnamed: 0           38416 non-null  int64  \n",
      " 1   age                  38416 non-null  int64  \n",
      " 2   barthel              10218 non-null  float64\n",
      " 3   charlson             38339 non-null  float64\n",
      " 4   codidiagingreso      27038 non-null  object \n",
      " 5   codservicioreal      38416 non-null  object \n",
      " 6   creatinina           30465 non-null  float64\n",
      " 7   drg                  34776 non-null  float64\n",
      " 8   estancias            38416 non-null  float64\n",
      " 9   glucosa              29188 non-null  float64\n",
      " 10  hematocrito          30114 non-null  float64\n",
      " 11  leucocitos           30114 non-null  float64\n",
      " 12  metastatic_tumor     38339 non-null  float64\n",
      " 13  num_grupoact3_HOSP   17415 non-null  float64\n",
      " 14  numurgenciasprevias  37864 non-null  float64\n",
      " 15  potasio              29770 non-null  float64\n",
      " 16  proteina_c_reactiva  20241 non-null  float64\n",
      " 17  rdw_cv               30082 non-null  float64\n",
      " 18  rdw_sd               30082 non-null  float64\n",
      " 19  sodio                30274 non-null  float64\n",
      " 20  urea                 24156 non-null  float64\n",
      " 21  label                38416 non-null  float64\n",
      "dtypes: float64(18), int64(2), object(2)\n",
      "memory usage: 6.4+ MB\n"
     ]
    }
   ],
   "source": [
    "df.info()"
   ]
  },
  {
   "cell_type": "markdown",
   "metadata": {},
   "source": [
    "### 1. What is the size of the dataframe?"
   ]
  },
  {
   "cell_type": "code",
   "execution_count": 85,
   "metadata": {},
   "outputs": [
    {
     "data": {
      "text/plain": [
       "(38416, 22)"
      ]
     },
     "execution_count": 85,
     "metadata": {},
     "output_type": "execute_result"
    }
   ],
   "source": [
    "df.shape"
   ]
  },
  {
   "cell_type": "markdown",
   "metadata": {},
   "source": [
    "### 2. What is the mean age?"
   ]
  },
  {
   "cell_type": "code",
   "execution_count": 86,
   "metadata": {},
   "outputs": [
    {
     "name": "stdout",
     "output_type": "stream",
     "text": [
      "79.4033215326947\n"
     ]
    }
   ],
   "source": [
    "mean = df.age.mean()\n",
    "print(mean)"
   ]
  },
  {
   "cell_type": "markdown",
   "metadata": {},
   "source": [
    "### 3. What is the age standard deviation (std)?"
   ]
  },
  {
   "cell_type": "code",
   "execution_count": 87,
   "metadata": {},
   "outputs": [
    {
     "name": "stdout",
     "output_type": "stream",
     "text": [
      "8.361737254115944\n"
     ]
    }
   ],
   "source": [
    "std=df.age.std()\n",
    "print(std)"
   ]
  },
  {
   "cell_type": "markdown",
   "metadata": {},
   "source": [
    "### 4. Which is the variable with the most amount of missing values? Can you list the name of the variables, sorting them by number of missing values?"
   ]
  },
  {
   "cell_type": "code",
   "execution_count": 88,
   "metadata": {},
   "outputs": [
    {
     "name": "stdout",
     "output_type": "stream",
     "text": [
      "barthel                28198\n",
      "num_grupoact3_HOSP     21001\n",
      "proteina_c_reactiva    18175\n",
      "urea                   14260\n",
      "codidiagingreso        11378\n",
      "glucosa                 9228\n",
      "potasio                 8646\n",
      "rdw_sd                  8334\n",
      "rdw_cv                  8334\n",
      "hematocrito             8302\n",
      "leucocitos              8302\n",
      "sodio                   8142\n",
      "creatinina              7951\n",
      "drg                     3640\n",
      "numurgenciasprevias      552\n",
      "metastatic_tumor          77\n",
      "charlson                  77\n",
      "Unnamed: 0                 0\n",
      "age                        0\n",
      "estancias                  0\n",
      "codservicioreal            0\n",
      "label                      0\n",
      "dtype: int64\n"
     ]
    }
   ],
   "source": [
    "nullvalues = df.isnull().sum()\n",
    "features_sorted = nullvalues.sort_values(ascending=False)\n",
    "print(features_sorted)"
   ]
  },
  {
   "cell_type": "markdown",
   "metadata": {},
   "source": [
    "### 5. Name which are the categorical variables."
   ]
  },
  {
   "cell_type": "code",
   "execution_count": 89,
   "metadata": {},
   "outputs": [
    {
     "name": "stdout",
     "output_type": "stream",
     "text": [
      "['codidiagingreso', 'codservicioreal']\n"
     ]
    }
   ],
   "source": [
    "categorical_variables = df.select_dtypes(include=['object'])\n",
    "categorical_variables_names = categorical_variables.columns.tolist()\n",
    "print(categorical_variables_names)"
   ]
  },
  {
   "cell_type": "code",
   "execution_count": 90,
   "metadata": {},
   "outputs": [],
   "source": [
    "def find_cat(x):\n",
    "    if isinstance(x,str):\n",
    "        pattern = r'[0-9]+.?[0-9]*'\n",
    "        test = not (re.match(pattern, x))\n",
    "        # print(f\"{x}: {test}\")  # Add this line for debugging\n",
    "        return test\n",
    "    # print(f\"{x}: False\")  # Add this line for debugging\n",
    "    return False"
   ]
  },
  {
   "cell_type": "code",
   "execution_count": 91,
   "metadata": {},
   "outputs": [],
   "source": [
    "def categorical_evaluation(cat):\n",
    "  print('Evaluation of categorical variable \"' + cat + '\"')\n",
    "\n",
    "  # categories = categorical_variables[categorical_variables[cat].apply(find_cat)]\n",
    "  if cat == categorical_variables_names[0]:\n",
    "    categories = categorical_variables[categorical_variables[cat].apply(find_cat)]\n",
    "  else:\n",
    "    categories = categorical_variables[cat]\n",
    "  \n",
    "  unique, count = np.unique(categories, return_counts=True)\n",
    "  print('Number of categories for \"'+ cat + '\":', len(unique))\n",
    "  \n",
    "  combined = np.column_stack((unique, count))\n",
    "  sorted_combined = combined[combined[:, 1].argsort()[::-1]]\n",
    "  \n",
    "  for i in sorted_combined:\n",
    "    if isinstance(i[0],float):\n",
    "      print(\"Class %f has %d samples\" % (i[0],i[1]))\n",
    "    else:\n",
    "      print(\"Class \" + str(i[0]) + \" has %d samples\" % i[1])\n",
    "  \n",
    "  return sorted_combined"
   ]
  },
  {
   "cell_type": "code",
   "execution_count": 92,
   "metadata": {},
   "outputs": [
    {
     "name": "stdout",
     "output_type": "stream",
     "text": [
      "Evaluation of categorical variable \"codidiagingreso\"\n",
      "Number of categories for \"codidiagingreso\": 299\n",
      "Class HMUR has 507 samples\n",
      "Class HNEM has 382 samples\n",
      "Class HCAR has 375 samples\n",
      "Class V14.8 has 245 samples\n",
      "Class HMIN has 215 samples\n",
      "Class HONC has 214 samples\n",
      "Class V15.82 has 195 samples\n",
      "Class HNER has 183 samples\n",
      "Class V14.0 has 181 samples\n",
      "Class V58.61 has 121 samples\n",
      "Class V14.1 has 105 samples\n",
      "Class HHEM has 78 samples\n",
      "Class M81403 has 76 samples\n",
      "Class V58.67 has 71 samples\n",
      "Class HURO has 65 samples\n",
      "Class V14.6 has 63 samples\n",
      "Class HMDG has 54 samples\n",
      "Class V45.01 has 42 samples\n",
      "Class M80003 has 40 samples\n",
      "Class V60.6 has 38 samples\n",
      "Class HCOT has 36 samples\n",
      "Class V43.3 has 32 samples\n",
      "Class HNEF has 31 samples\n",
      "Class V45.81 has 30 samples\n",
      "Class V46.2 has 29 samples\n",
      "Class V61.49 has 28 samples\n",
      "Class V12.54 has 28 samples\n",
      "Class HNCG has 27 samples\n",
      "Class E911 has 26 samples\n",
      "Class V58.66 has 25 samples\n",
      "Class V10.46 has 25 samples\n",
      "Class V10.3 has 25 samples\n",
      "Class HCTO has 25 samples\n",
      "Class V15.08 has 23 samples\n",
      "Class M98613 has 22 samples\n",
      "Class HUHP has 21 samples\n",
      "Class HCVA has 21 samples\n",
      "Class V58.73 has 21 samples\n",
      "Class M80103 has 21 samples\n",
      "Class V12.51 has 21 samples\n",
      "Class HORL has 20 samples\n",
      "Class M97303 has 20 samples\n",
      "Class E878.8 has 19 samples\n",
      "Class V71.7 has 19 samples\n",
      "Class HREU has 18 samples\n",
      "Class V13.02 has 18 samples\n",
      "Class M80106 has 18 samples\n",
      "Class E933.1 has 18 samples\n",
      "Class V45.89 has 17 samples\n",
      "Class M81406 has 16 samples\n",
      "Class HCDG has 16 samples\n",
      "Class V12.59 has 16 samples\n",
      "Class HUEI has 15 samples\n",
      "Class V42.0 has 14 samples\n",
      "Class E888.9 has 14 samples\n",
      "Class HUTP has 14 samples\n",
      "Class M80703 has 14 samples\n",
      "Class HCCV has 14 samples\n",
      "Class E934.2 has 14 samples\n",
      "Class V14.5 has 14 samples\n",
      "Class V66.7 has 14 samples\n",
      "Class M80006 has 13 samples\n",
      "Class V45.02 has 13 samples\n",
      "Class V45.82 has 13 samples\n",
      "Class HUMI has 13 samples\n",
      "Class M80413 has 13 samples\n",
      "Class V14.2 has 12 samples\n",
      "Class V14.3 has 11 samples\n",
      "Class V10.51 has 11 samples\n",
      "Class V12.01 has 11 samples\n",
      "Class M80123 has 10 samples\n",
      "Class M81203 has 10 samples\n",
      "Class V44.3 has 10 samples\n",
      "Class M95903 has 9 samples\n",
      "Class M81603 has 9 samples\n",
      "Class V45.79 has 8 samples\n",
      "Class V12.79 has 7 samples\n",
      "Class E942.1 has 7 samples\n",
      "Class HECR has 7 samples\n",
      "Class V45.73 has 7 samples\n",
      "Class V88.01 has 7 samples\n",
      "Class E879.8 has 7 samples\n",
      "Class V10.05 has 7 samples\n",
      "Class HCPL has 6 samples\n",
      "Class M81443 has 6 samples\n",
      "Class V42.5 has 6 samples\n",
      "Class V42.6 has 6 samples\n",
      "Class V43.65 has 6 samples\n",
      "Class V47.4 has 6 samples\n",
      "Class V58.63 has 6 samples\n",
      "Class V45.75 has 6 samples\n",
      "Class E878.0 has 6 samples\n",
      "Class ZZZ.ZZ has 6 samples\n",
      "Class V70.7 has 5 samples\n",
      "Class E878.2 has 5 samples\n",
      "Class V10.21 has 5 samples\n",
      "Class V15.09 has 5 samples\n",
      "Class V45.76 has 5 samples\n",
      "Class HCEP has 5 samples\n",
      "Class HCLP has 5 samples\n",
      "Class V46.8 has 5 samples\n",
      "Class V15.88 has 5 samples\n",
      "Class V58.75 has 5 samples\n",
      "Class V42.7 has 5 samples\n",
      "Class HMDH has 5 samples\n",
      "Class V44.1 has 4 samples\n",
      "Class M94403 has 4 samples\n",
      "Class V58.11 has 4 samples\n",
      "Class V10.83 has 4 samples\n",
      "Class M80423 has 4 samples\n",
      "Class M87203 has 4 samples\n",
      "Class HGIN has 4 samples\n",
      "Class V12.55 has 4 samples\n",
      "Class M85003 has 4 samples\n",
      "Class V58.89 has 4 samples\n",
      "Class M98633 has 4 samples\n",
      "Class E880.9 has 4 samples\n",
      "Class V43.4 has 4 samples\n",
      "Class E879.1 has 4 samples\n",
      "Class V58.69 has 3 samples\n",
      "Class M80903 has 3 samples\n",
      "Class V10.42 has 3 samples\n",
      "Class V46.3 has 3 samples\n",
      "Class E849.0 has 3 samples\n",
      "Class V12.61 has 3 samples\n",
      "Class V53.31 has 3 samples\n",
      "Class HREA has 3 samples\n",
      "Class V10.01 has 3 samples\n",
      "Class V09.81 has 3 samples\n",
      "Class M84803 has 3 samples\n",
      "Class V14.4 has 3 samples\n",
      "Class E878.1 has 3 samples\n",
      "Class V56.1 has 3 samples\n",
      "Class E884.4 has 3 samples\n",
      "Class V10.79 has 3 samples\n",
      "Class V15.51 has 3 samples\n",
      "Class V10.87 has 3 samples\n",
      "Class V58.42 has 3 samples\n",
      "Class M80001 has 3 samples\n",
      "Class V45.2 has 3 samples\n",
      "Class M95300 has 3 samples\n",
      "Class V43.64 has 3 samples\n",
      "Class E926.8 has 3 samples\n",
      "Class E939.4 has 3 samples\n",
      "Class M90503 has 2 samples\n",
      "Class M89903 has 2 samples\n",
      "Class E980.4 has 2 samples\n",
      "Class E939.8 has 2 samples\n",
      "Class M80503 has 2 samples\n",
      "Class M83103 has 2 samples\n",
      "Class E935.2 has 2 samples\n",
      "Class HCIR has 2 samples\n",
      "Class M80706 has 2 samples\n",
      "Class E929.9 has 2 samples\n",
      "Class E878.6 has 2 samples\n",
      "Class HOFT has 2 samples\n",
      "Class E939.3 has 2 samples\n",
      "Class V07.59 has 2 samples\n",
      "Class V44.0 has 2 samples\n",
      "Class V15.1 has 2 samples\n",
      "Class V13.59 has 2 samples\n",
      "Class V49.83 has 2 samples\n",
      "Class V09.0 has 2 samples\n",
      "Class V13.01 has 2 samples\n",
      "Class V58.78 has 2 samples\n",
      "Class V09.1 has 2 samples\n",
      "Class V12.71 has 2 samples\n",
      "Class V12.69 has 2 samples\n",
      "Class V12.53 has 2 samples\n",
      "Class V54.01 has 2 samples\n",
      "Class V54.16 has 2 samples\n",
      "Class V10.72 has 2 samples\n",
      "Class V55.2 has 2 samples\n",
      "Class V44.2 has 2 samples\n",
      "Class V10.06 has 2 samples\n",
      "Class V15.07 has 2 samples\n",
      "Class V10.11 has 2 samples\n",
      "Class V15.3 has 2 samples\n",
      "Class V45.11 has 2 samples\n",
      "Class V16.6 has 2 samples\n",
      "Class V87.41 has 2 samples\n",
      "Class V15.84 has 2 samples\n",
      "Class V15.81 has 2 samples\n",
      "Class V15.59 has 2 samples\n",
      "Class V15.52 has 2 samples\n",
      "Class V43.89 has 2 samples\n",
      "Class V71.1 has 2 samples\n",
      "Class V02.54 has 2 samples\n",
      "Class V45.77 has 2 samples\n",
      "Class V44.6 has 2 samples\n",
      "Class V54.17 has 1 samples\n",
      "Class V44.4 has 1 samples\n",
      "Class E944.4 has 1 samples\n",
      "Class HALE has 1 samples\n",
      "Class V49.86 has 1 samples\n",
      "Class V54.13 has 1 samples\n",
      "Class V53.99 has 1 samples\n",
      "Class V45.88 has 1 samples\n",
      "Class V49.84 has 1 samples\n",
      "Class V45.4 has 1 samples\n",
      "Class V45.74 has 1 samples\n",
      "Class E944.3 has 1 samples\n",
      "Class V49.76 has 1 samples\n",
      "Class M98213 has 1 samples\n",
      "Class E942.2 has 1 samples\n",
      "Class V72.83 has 1 samples\n",
      "Class V64.3 has 1 samples\n",
      "Class V64.41 has 1 samples\n",
      "Class V69.0 has 1 samples\n",
      "Class E879.0 has 1 samples\n",
      "Class V71.83 has 1 samples\n",
      "Class E878.3 has 1 samples\n",
      "Class V72.85 has 1 samples\n",
      "Class V64.1 has 1 samples\n",
      "Class V85.32 has 1 samples\n",
      "Class E864.4 has 1 samples\n",
      "Class E864.2 has 1 samples\n",
      "Class E858.2 has 1 samples\n",
      "Class E817 has 1 samples\n",
      "Class E815.0 has 1 samples\n",
      "Class E884.2 has 1 samples\n",
      "Class E885.9 has 1 samples\n",
      "Class V54.27 has 1 samples\n",
      "Class E932.3 has 1 samples\n",
      "Class V54.29 has 1 samples\n",
      "Class E935.5 has 1 samples\n",
      "Class V55.6 has 1 samples\n",
      "Class V56.0 has 1 samples\n",
      "Class V58.43 has 1 samples\n",
      "Class E933.0 has 1 samples\n",
      "Class E930.6 has 1 samples\n",
      "Class E888 has 1 samples\n",
      "Class E930.3 has 1 samples\n",
      "Class V58.62 has 1 samples\n",
      "Class V58.65 has 1 samples\n",
      "Class E917.9 has 1 samples\n",
      "Class V60.4 has 1 samples\n",
      "Class E888.8 has 1 samples\n",
      "Class V54.82 has 1 samples\n",
      "Class HRHB has 1 samples\n",
      "Class V42.1 has 1 samples\n",
      "Class M93823 has 1 samples\n",
      "Class V09.71 has 1 samples\n",
      "Class M84903 has 1 samples\n",
      "Class M84906 has 1 samples\n",
      "Class M85303 has 1 samples\n",
      "Class M85803 has 1 samples\n",
      "Class M88003 has 1 samples\n",
      "Class V02.62 has 1 samples\n",
      "Class V02.59 has 1 samples\n",
      "Class M90523 has 1 samples\n",
      "Class M91210 has 1 samples\n",
      "Class M91611 has 1 samples\n",
      "Class M93803 has 1 samples\n",
      "Class M94213 has 1 samples\n",
      "Class M84403 has 1 samples\n",
      "Class M99701 has 1 samples\n",
      "Class M95303 has 1 samples\n",
      "Class M98663 has 1 samples\n",
      "Class M95913 has 1 samples\n",
      "Class M96133 has 1 samples\n",
      "Class M96143 has 1 samples\n",
      "Class M96523 has 1 samples\n",
      "Class M96923 has 1 samples\n",
      "Class M98233 has 1 samples\n",
      "Class M97313 has 1 samples\n",
      "Class M98003 has 1 samples\n",
      "Class M98013 has 1 samples\n",
      "Class M84416 has 1 samples\n",
      "Class M83233 has 1 samples\n",
      "Class V18.8 has 1 samples\n",
      "Class V10.82 has 1 samples\n",
      "Class V17.1 has 1 samples\n",
      "Class M98103 has 1 samples\n",
      "Class HSEP has 1 samples\n",
      "Class HUEG has 1 samples\n",
      "Class HUML has 1 samples\n",
      "Class V13.29 has 1 samples\n",
      "Class V13.09 has 1 samples\n",
      "Class V12.50 has 1 samples\n",
      "Class M80203 has 1 samples\n",
      "Class M80206 has 1 samples\n",
      "Class V12.41 has 1 samples\n",
      "Class V12.02 has 1 samples\n",
      "Class V10.44 has 1 samples\n",
      "Class V10.04 has 1 samples\n",
      "Class V10.43 has 1 samples\n",
      "Class M80906 has 1 samples\n",
      "Class V10.41 has 1 samples\n",
      "Class M81303 has 1 samples\n",
      "Class V10.09 has 1 samples\n",
      "Class V10.07 has 1 samples\n",
      "Class M81703 has 1 samples\n",
      "Class M82103 has 1 samples\n",
      "Class M82403 has 1 samples\n",
      "Class M82606 has 1 samples\n",
      "Class M82613 has 1 samples\n",
      "Class M82630 has 1 samples\n",
      "Class E812.1 has 1 samples\n"
     ]
    }
   ],
   "source": [
    "categories_codidiagingreso = categorical_evaluation(categorical_variables_names[0])"
   ]
  },
  {
   "cell_type": "code",
   "execution_count": 93,
   "metadata": {},
   "outputs": [
    {
     "name": "stdout",
     "output_type": "stream",
     "text": [
      "Evaluation of categorical variable \"codservicioreal\"\n",
      "Number of categories for \"codservicioreal\": 53\n",
      "Class HMUR has 8233 samples\n",
      "Class HNEM has 5422 samples\n",
      "Class HCAR has 5124 samples\n",
      "Class HMIN has 3633 samples\n",
      "Class HNER has 2341 samples\n",
      "Class HMDG has 2222 samples\n",
      "Class HONC has 2041 samples\n",
      "Class HUHP has 1159 samples\n",
      "Class HURO has 1112 samples\n",
      "Class HCDG has 1007 samples\n",
      "Class HCOT has 741 samples\n",
      "Class HHEM has 546 samples\n",
      "Class HNEF has 522 samples\n",
      "Class HCVA has 502 samples\n",
      "Class HMDH has 472 samples\n",
      "Class HCEP has 420 samples\n",
      "Class HNCG has 381 samples\n",
      "Class HUMI has 351 samples\n",
      "Class HUEI has 332 samples\n",
      "Class HCCV has 308 samples\n",
      "Class HREU has 252 samples\n",
      "Class HORL has 179 samples\n",
      "Class HREA has 157 samples\n",
      "Class HCTO has 154 samples\n",
      "Class HCIR has 146 samples\n",
      "Class HECR has 126 samples\n",
      "Class HCLP has 71 samples\n",
      "Class HSEP has 60 samples\n",
      "Class HGIN has 55 samples\n",
      "Class HUTP has 50 samples\n",
      "Class HCMX has 49 samples\n",
      "Class HUML has 44 samples\n",
      "Class HCPL has 43 samples\n",
      "Class HUMM has 31 samples\n",
      "Class HUEM has 28 samples\n",
      "Class HOFT has 22 samples\n",
      "Class HRHB has 16 samples\n",
      "Class HTRE has 15 samples\n",
      "Class HULM has 13 samples\n",
      "Class HRXD has 8 samples\n",
      "Class HQUE has 5 samples\n",
      "Class HALE has 4 samples\n",
      "Class HDER has 4 samples\n",
      "Class HUEG has 4 samples\n",
      "Class HURQ has 2 samples\n",
      "Class HTRA has 2 samples\n",
      "Class HREM has 1 samples\n",
      "Class HRER has 1 samples\n",
      "Class HRQU has 1 samples\n",
      "Class HRTE has 1 samples\n",
      "Class HUDO has 1 samples\n",
      "Class HUHT has 1 samples\n",
      "Class HONG has 1 samples\n"
     ]
    }
   ],
   "source": [
    "categories_codservicioreal = categorical_evaluation(categorical_variables_names[1])"
   ]
  },
  {
   "cell_type": "markdown",
   "metadata": {},
   "source": [
    "Two additional categorical variables to the existing `codidiagingreso` and `codservicioreal` are `metastatic_tumor` and `label`, since their only values are $0$ and $1$."
   ]
  },
  {
   "cell_type": "markdown",
   "metadata": {},
   "source": [
    "### 6. Extract the ‘label’ column to another variable. How many positive cases there are? And negatives?\n"
   ]
  },
  {
   "cell_type": "code",
   "execution_count": 94,
   "metadata": {},
   "outputs": [
    {
     "name": "stdout",
     "output_type": "stream",
     "text": [
      "Positive cases: 13431\n",
      "Negative cases: 24985\n"
     ]
    }
   ],
   "source": [
    "label_var = df['label']\n",
    "positive = df[label_var==1].shape[0]\n",
    "negative = df[label_var==0].shape[0]\n",
    "print(f\"Positive cases: {positive}\")\n",
    "print(f\"Negative cases: {negative}\")"
   ]
  },
  {
   "cell_type": "markdown",
   "metadata": {},
   "source": [
    "## Block II. Data preprocessing"
   ]
  },
  {
   "cell_type": "markdown",
   "metadata": {},
   "source": [
    "Split the dataset in two: train (80%) and test (20%). Use a seed to allow replication."
   ]
  },
  {
   "cell_type": "markdown",
   "metadata": {},
   "source": [
    "Implement the method to deal with categorical variables. Briefly explain the chosen alternative. What\n",
    "would happen if a variable in the test set contains a category that doesn’t exist on the train set? How\n",
    "would you deal with this situation?"
   ]
  },
  {
   "cell_type": "markdown",
   "metadata": {},
   "source": [
    "Implement the method to deal with the missing values. Briefly explain the chosen alternative. What\n",
    "would happen if a variable without missing on the train set appears to have been missing in the test\n",
    "set? How would you deal with them?"
   ]
  },
  {
   "cell_type": "markdown",
   "metadata": {},
   "source": [
    "The transformation applied on the training set of the data should be the same applied to the test set"
   ]
  }
 ],
 "metadata": {
  "kernelspec": {
   "display_name": "Python 3",
   "language": "python",
   "name": "python3"
  },
  "language_info": {
   "codemirror_mode": {
    "name": "ipython",
    "version": 3
   },
   "file_extension": ".py",
   "mimetype": "text/x-python",
   "name": "python",
   "nbconvert_exporter": "python",
   "pygments_lexer": "ipython3",
   "version": "3.11.1"
  }
 },
 "nbformat": 4,
 "nbformat_minor": 4
}
