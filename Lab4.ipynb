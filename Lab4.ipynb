{
 "cells": [
  {
   "cell_type": "markdown",
   "metadata": {},
   "source": [
    "# Biomedical Data Analysis - Lab 4"
   ]
  },
  {
   "cell_type": "markdown",
   "metadata": {},
   "source": [
    "Group members:\n",
    "\n",
    "- Enrico Maria Marinelli\n",
    "- Francesco Pio Capoccello\n",
    "- Juras LukaŠevičius"
   ]
  },
  {
   "cell_type": "markdown",
   "metadata": {},
   "source": [
    "### Libraries used in practical session:"
   ]
  },
  {
   "cell_type": "code",
   "execution_count": 3,
   "metadata": {},
   "outputs": [],
   "source": [
    "import pandas as pd"
   ]
  },
  {
   "cell_type": "markdown",
   "metadata": {},
   "source": [
    "## Block I. Data loading and basic description"
   ]
  },
  {
   "cell_type": "markdown",
   "metadata": {},
   "source": [
    "We load the dataset using the pandas’ load_csv function, remember to specify semicolon (;) as\n",
    "the separator"
   ]
  },
  {
   "cell_type": "code",
   "execution_count": 4,
   "metadata": {},
   "outputs": [],
   "source": [
    "df=pd.read_csv(\"inadvance_synth.csv\",sep=\";\")"
   ]
  },
  {
   "cell_type": "code",
   "execution_count": 5,
   "metadata": {},
   "outputs": [
    {
     "data": {
      "text/html": [
       "<div>\n",
       "<style scoped>\n",
       "    .dataframe tbody tr th:only-of-type {\n",
       "        vertical-align: middle;\n",
       "    }\n",
       "\n",
       "    .dataframe tbody tr th {\n",
       "        vertical-align: top;\n",
       "    }\n",
       "\n",
       "    .dataframe thead th {\n",
       "        text-align: right;\n",
       "    }\n",
       "</style>\n",
       "<table border=\"1\" class=\"dataframe\">\n",
       "  <thead>\n",
       "    <tr style=\"text-align: right;\">\n",
       "      <th></th>\n",
       "      <th>Unnamed: 0</th>\n",
       "      <th>age</th>\n",
       "      <th>barthel</th>\n",
       "      <th>charlson</th>\n",
       "      <th>codidiagingreso</th>\n",
       "      <th>codservicioreal</th>\n",
       "      <th>creatinina</th>\n",
       "      <th>drg</th>\n",
       "      <th>estancias</th>\n",
       "      <th>glucosa</th>\n",
       "      <th>...</th>\n",
       "      <th>metastatic_tumor</th>\n",
       "      <th>num_grupoact3_HOSP</th>\n",
       "      <th>numurgenciasprevias</th>\n",
       "      <th>potasio</th>\n",
       "      <th>proteina_c_reactiva</th>\n",
       "      <th>rdw_cv</th>\n",
       "      <th>rdw_sd</th>\n",
       "      <th>sodio</th>\n",
       "      <th>urea</th>\n",
       "      <th>label</th>\n",
       "    </tr>\n",
       "  </thead>\n",
       "  <tbody>\n",
       "    <tr>\n",
       "      <th>0</th>\n",
       "      <td>0</td>\n",
       "      <td>80</td>\n",
       "      <td>NaN</td>\n",
       "      <td>4.0</td>\n",
       "      <td>NaN</td>\n",
       "      <td>HNEM</td>\n",
       "      <td>0.42</td>\n",
       "      <td>141.0</td>\n",
       "      <td>7.0</td>\n",
       "      <td>110.0</td>\n",
       "      <td>...</td>\n",
       "      <td>0.0</td>\n",
       "      <td>NaN</td>\n",
       "      <td>6.0</td>\n",
       "      <td>4.653334</td>\n",
       "      <td>NaN</td>\n",
       "      <td>24.9</td>\n",
       "      <td>83.1</td>\n",
       "      <td>145.0</td>\n",
       "      <td>NaN</td>\n",
       "      <td>0.0</td>\n",
       "    </tr>\n",
       "    <tr>\n",
       "      <th>1</th>\n",
       "      <td>1</td>\n",
       "      <td>67</td>\n",
       "      <td>NaN</td>\n",
       "      <td>5.0</td>\n",
       "      <td>NaN</td>\n",
       "      <td>HNEF</td>\n",
       "      <td>NaN</td>\n",
       "      <td>444.0</td>\n",
       "      <td>11.0</td>\n",
       "      <td>NaN</td>\n",
       "      <td>...</td>\n",
       "      <td>0.0</td>\n",
       "      <td>NaN</td>\n",
       "      <td>1.0</td>\n",
       "      <td>NaN</td>\n",
       "      <td>NaN</td>\n",
       "      <td>14.8</td>\n",
       "      <td>46.3</td>\n",
       "      <td>NaN</td>\n",
       "      <td>NaN</td>\n",
       "      <td>0.0</td>\n",
       "    </tr>\n",
       "    <tr>\n",
       "      <th>2</th>\n",
       "      <td>2</td>\n",
       "      <td>75</td>\n",
       "      <td>NaN</td>\n",
       "      <td>13.0</td>\n",
       "      <td>M97303</td>\n",
       "      <td>HHEM</td>\n",
       "      <td>0.92</td>\n",
       "      <td>691.0</td>\n",
       "      <td>14.0</td>\n",
       "      <td>NaN</td>\n",
       "      <td>...</td>\n",
       "      <td>0.0</td>\n",
       "      <td>NaN</td>\n",
       "      <td>16.0</td>\n",
       "      <td>5.153334</td>\n",
       "      <td>1.090658</td>\n",
       "      <td>23.1</td>\n",
       "      <td>57.2</td>\n",
       "      <td>135.0</td>\n",
       "      <td>NaN</td>\n",
       "      <td>0.0</td>\n",
       "    </tr>\n",
       "    <tr>\n",
       "      <th>3</th>\n",
       "      <td>3</td>\n",
       "      <td>75</td>\n",
       "      <td>NaN</td>\n",
       "      <td>0.0</td>\n",
       "      <td>560.81</td>\n",
       "      <td>HCDG</td>\n",
       "      <td>0.96</td>\n",
       "      <td>NaN</td>\n",
       "      <td>3.0</td>\n",
       "      <td>87.3</td>\n",
       "      <td>...</td>\n",
       "      <td>0.0</td>\n",
       "      <td>NaN</td>\n",
       "      <td>4.0</td>\n",
       "      <td>3.323334</td>\n",
       "      <td>NaN</td>\n",
       "      <td>13.0</td>\n",
       "      <td>42.4</td>\n",
       "      <td>138.0</td>\n",
       "      <td>23.052822</td>\n",
       "      <td>0.0</td>\n",
       "    </tr>\n",
       "    <tr>\n",
       "      <th>4</th>\n",
       "      <td>4</td>\n",
       "      <td>81</td>\n",
       "      <td>95.0</td>\n",
       "      <td>6.0</td>\n",
       "      <td>NaN</td>\n",
       "      <td>HCAR</td>\n",
       "      <td>1.54</td>\n",
       "      <td>194.0</td>\n",
       "      <td>4.0</td>\n",
       "      <td>95.7</td>\n",
       "      <td>...</td>\n",
       "      <td>0.0</td>\n",
       "      <td>6.0</td>\n",
       "      <td>3.0</td>\n",
       "      <td>3.783334</td>\n",
       "      <td>NaN</td>\n",
       "      <td>14.9</td>\n",
       "      <td>51.7</td>\n",
       "      <td>140.0</td>\n",
       "      <td>60.752822</td>\n",
       "      <td>0.0</td>\n",
       "    </tr>\n",
       "  </tbody>\n",
       "</table>\n",
       "<p>5 rows × 22 columns</p>\n",
       "</div>"
      ],
      "text/plain": [
       "   Unnamed: 0  age  barthel  charlson codidiagingreso codservicioreal  \\\n",
       "0           0   80      NaN       4.0             NaN            HNEM   \n",
       "1           1   67      NaN       5.0             NaN            HNEF   \n",
       "2           2   75      NaN      13.0          M97303            HHEM   \n",
       "3           3   75      NaN       0.0          560.81            HCDG   \n",
       "4           4   81     95.0       6.0             NaN            HCAR   \n",
       "\n",
       "   creatinina    drg  estancias  glucosa  ...  metastatic_tumor  \\\n",
       "0        0.42  141.0        7.0    110.0  ...               0.0   \n",
       "1         NaN  444.0       11.0      NaN  ...               0.0   \n",
       "2        0.92  691.0       14.0      NaN  ...               0.0   \n",
       "3        0.96    NaN        3.0     87.3  ...               0.0   \n",
       "4        1.54  194.0        4.0     95.7  ...               0.0   \n",
       "\n",
       "   num_grupoact3_HOSP  numurgenciasprevias   potasio  proteina_c_reactiva  \\\n",
       "0                 NaN                  6.0  4.653334                  NaN   \n",
       "1                 NaN                  1.0       NaN                  NaN   \n",
       "2                 NaN                 16.0  5.153334             1.090658   \n",
       "3                 NaN                  4.0  3.323334                  NaN   \n",
       "4                 6.0                  3.0  3.783334                  NaN   \n",
       "\n",
       "   rdw_cv  rdw_sd  sodio       urea  label  \n",
       "0    24.9    83.1  145.0        NaN    0.0  \n",
       "1    14.8    46.3    NaN        NaN    0.0  \n",
       "2    23.1    57.2  135.0        NaN    0.0  \n",
       "3    13.0    42.4  138.0  23.052822    0.0  \n",
       "4    14.9    51.7  140.0  60.752822    0.0  \n",
       "\n",
       "[5 rows x 22 columns]"
      ]
     },
     "execution_count": 5,
     "metadata": {},
     "output_type": "execute_result"
    }
   ],
   "source": [
    "df.head()"
   ]
  },
  {
   "cell_type": "markdown",
   "metadata": {},
   "source": [
    "### 1. What is the size of the dataframe?"
   ]
  },
  {
   "cell_type": "code",
   "execution_count": 9,
   "metadata": {},
   "outputs": [
    {
     "data": {
      "text/plain": [
       "(38416, 22)"
      ]
     },
     "execution_count": 9,
     "metadata": {},
     "output_type": "execute_result"
    }
   ],
   "source": [
    "df.shape"
   ]
  },
  {
   "cell_type": "markdown",
   "metadata": {},
   "source": [
    "### 2. What is the mean age?"
   ]
  },
  {
   "cell_type": "code",
   "execution_count": 11,
   "metadata": {},
   "outputs": [
    {
     "name": "stdout",
     "output_type": "stream",
     "text": [
      "79.4033215326947\n"
     ]
    }
   ],
   "source": [
    "mean = df.age.mean()\n",
    "print(mean)"
   ]
  },
  {
   "cell_type": "markdown",
   "metadata": {},
   "source": [
    "### 3. What is the age standard deviation (std)?"
   ]
  },
  {
   "cell_type": "code",
   "execution_count": 12,
   "metadata": {},
   "outputs": [
    {
     "name": "stdout",
     "output_type": "stream",
     "text": [
      "8.361737254116035\n"
     ]
    }
   ],
   "source": [
    "std=df.age.std()\n",
    "print(std)"
   ]
  },
  {
   "cell_type": "markdown",
   "metadata": {},
   "source": [
    "### 4. Which is the variable with the most amount of missing values? Can you list the name of the variables, sorting them by number of missing values?"
   ]
  },
  {
   "cell_type": "code",
   "execution_count": 13,
   "metadata": {},
   "outputs": [
    {
     "name": "stdout",
     "output_type": "stream",
     "text": [
      "barthel                28198\n",
      "num_grupoact3_HOSP     21001\n",
      "proteina_c_reactiva    18175\n",
      "urea                   14260\n",
      "codidiagingreso        11378\n",
      "glucosa                 9228\n",
      "potasio                 8646\n",
      "rdw_sd                  8334\n",
      "rdw_cv                  8334\n",
      "leucocitos              8302\n",
      "hematocrito             8302\n",
      "sodio                   8142\n",
      "creatinina              7951\n",
      "drg                     3640\n",
      "numurgenciasprevias      552\n",
      "charlson                  77\n",
      "metastatic_tumor          77\n",
      "age                        0\n",
      "label                      0\n",
      "codservicioreal            0\n",
      "estancias                  0\n",
      "Unnamed: 0                 0\n",
      "dtype: int64\n"
     ]
    }
   ],
   "source": [
    "valorinulli = df.isnull().sum()\n",
    "features_ordinate = valorinulli.sort_values(ascending=False)\n",
    "print(features_ordinate)"
   ]
  },
  {
   "cell_type": "markdown",
   "metadata": {},
   "source": [
    "### 5. Name which are the categorical variables."
   ]
  },
  {
   "cell_type": "code",
   "execution_count": 14,
   "metadata": {},
   "outputs": [
    {
     "name": "stdout",
     "output_type": "stream",
     "text": [
      "['codidiagingreso', 'codservicioreal']\n"
     ]
    }
   ],
   "source": [
    "variabili_categoriche = df.select_dtypes(include=['object'])\n",
    "print(variabili_categoriche.columns.tolist())"
   ]
  },
  {
   "cell_type": "markdown",
   "metadata": {},
   "source": [
    "Two additional categorical variables to the existing `codidiagingreso` and `codservicioreal` are `metastatic_tumor` and `label`, since their only values are $1$ and $2$."
   ]
  },
  {
   "cell_type": "markdown",
   "metadata": {},
   "source": [
    "### 6. Extract the ‘label’ column to another variable. How many positive cases there are? And negatives?\n"
   ]
  },
  {
   "cell_type": "code",
   "execution_count": 15,
   "metadata": {},
   "outputs": [
    {
     "data": {
      "text/plain": [
       "1.0    13431\n",
       "0.0    24985\n",
       "Name: label, dtype: int64"
      ]
     },
     "execution_count": 15,
     "metadata": {},
     "output_type": "execute_result"
    }
   ],
   "source": [
    "df['label'].value_counts(ascending=True)"
   ]
  },
  {
   "cell_type": "markdown",
   "metadata": {},
   "source": [
    "## Block II. Data preprocessing"
   ]
  },
  {
   "cell_type": "markdown",
   "metadata": {},
   "source": [
    "Split the dataset in two: train (80%) and test (20%). Use a seed to allow replication."
   ]
  },
  {
   "cell_type": "markdown",
   "metadata": {},
   "source": [
    "Implement a method to deal with categorical variables."
   ]
  },
  {
   "cell_type": "markdown",
   "metadata": {},
   "source": [
    "Implement a method to deal with missing values using simple techniques such as the imputation by the mean or the median."
   ]
  },
  {
   "cell_type": "markdown",
   "metadata": {},
   "source": [
    "The transformation applied on the training set of the data should be the same applied to the test set"
   ]
  }
 ],
 "metadata": {
  "kernelspec": {
   "display_name": "Python 3",
   "language": "python",
   "name": "python3"
  },
  "language_info": {
   "codemirror_mode": {
    "name": "ipython",
    "version": 3
   },
   "file_extension": ".py",
   "mimetype": "text/x-python",
   "name": "python",
   "nbconvert_exporter": "python",
   "pygments_lexer": "ipython3",
   "version": "3.8.5"
  }
 },
 "nbformat": 4,
 "nbformat_minor": 4
}
