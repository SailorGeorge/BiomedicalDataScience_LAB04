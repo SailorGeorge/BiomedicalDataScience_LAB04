{
  "cells": [
    {
      "cell_type": "markdown",
      "metadata": {
        "id": "jSmQIhienF58"
      },
      "source": [
        "# Biomedical Data Science - LAB 04\n",
        "Group members:\n",
        "\n",
        "· Enrico Maria Marinelli\n",
        "\n",
        "· Francesco Pio Capoccello\n",
        "\n",
        "· Juras LukaŠevičius"
      ]
    },
    {
      "cell_type": "markdown",
      "metadata": {
        "id": "8HGqkcGVu8GZ"
      },
      "source": [
        "### Import"
      ]
    },
    {
      "cell_type": "code",
      "execution_count": 1,
      "metadata": {
        "id": "6jp-Vd1jnECs"
      },
      "outputs": [],
      "source": [
        "import numpy as np\n",
        "import pandas as pd\n",
        "import matplotlib.pyplot as plt\n",
        "from sklearn import neural_network as nn\n",
        "from sklearn.model_selection import train_test_split\n",
        "from sklearn.metrics import roc_auc_score, roc_curve, auc\n",
        "from sklearn.metrics import accuracy_score, precision_score, recall_score, f1_score, classification_report\n",
        "from sklearn.metrics import confusion_matrix\n",
        "from IPython.display import HTML\n",
        "from scipy.stats import pearsonr\n"
      ]
    },
    {
      "cell_type": "code",
      "execution_count": 2,
      "metadata": {
        "id": "tV9bv1r-nEF0"
      },
      "outputs": [],
      "source": [
        "df=pd.read_csv(\"Data/inadvance_synth.csv\",sep=\";\")"
      ]
    },
    {
      "cell_type": "markdown",
      "metadata": {},
      "source": [
        "### Block 1 - Data loading and basic description"
      ]
    },
    {
      "cell_type": "markdown",
      "metadata": {
        "id": "sARkt4oXXAJc"
      },
      "source": [
        "1. What is the size of the dataframe?"
      ]
    },
    {
      "cell_type": "code",
      "execution_count": 3,
      "metadata": {
        "id": "ismgVOUboICU"
      },
      "outputs": [],
      "source": [
        "df = df.drop(df.columns[0], axis=1)"
      ]
    },
    {
      "cell_type": "code",
      "execution_count": 4,
      "metadata": {
        "colab": {
          "base_uri": "https://localhost:8080/"
        },
        "id": "DIcZyuR5oLAa",
        "outputId": "88487c36-426b-43ba-f02c-73bb20363fb5"
      },
      "outputs": [
        {
          "data": {
            "text/plain": [
              "(38416, 21)"
            ]
          },
          "execution_count": 4,
          "metadata": {},
          "output_type": "execute_result"
        }
      ],
      "source": [
        "df.shape\n"
      ]
    },
    {
      "cell_type": "markdown",
      "metadata": {
        "id": "CGK6UO2aXIv7"
      },
      "source": [
        " 2. What is the mean age?"
      ]
    },
    {
      "cell_type": "markdown",
      "metadata": {
        "id": "dlmCrgmHXOn-"
      },
      "source": []
    },
    {
      "cell_type": "code",
      "execution_count": 5,
      "metadata": {
        "colab": {
          "base_uri": "https://localhost:8080/"
        },
        "id": "-VT2feFSpgGX",
        "outputId": "271cc53b-e020-422e-8ddc-6df6487177c1"
      },
      "outputs": [
        {
          "name": "stdout",
          "output_type": "stream",
          "text": [
            "79.4033215326947\n"
          ]
        }
      ],
      "source": [
        "mean = df.age.mean()\n",
        "print(mean)"
      ]
    },
    {
      "cell_type": "markdown",
      "metadata": {
        "id": "fhkfkhGcXN7u"
      },
      "source": [
        "3. What is the age standard deviation (std)?"
      ]
    },
    {
      "cell_type": "markdown",
      "metadata": {
        "id": "ta9qqKxoXWrm"
      },
      "source": []
    },
    {
      "cell_type": "code",
      "execution_count": 6,
      "metadata": {
        "colab": {
          "base_uri": "https://localhost:8080/"
        },
        "id": "2mI6ohs6qJ3m",
        "outputId": "34e0f6be-f237-456e-ba5e-0b2334d627b0"
      },
      "outputs": [
        {
          "name": "stdout",
          "output_type": "stream",
          "text": [
            "8.361737254116035\n"
          ]
        }
      ],
      "source": [
        "std=df.age.std()\n",
        "print(std)"
      ]
    },
    {
      "cell_type": "markdown",
      "metadata": {
        "id": "FISs9S1gXUDq"
      },
      "source": [
        "4. Which is the variable with the most amount of missing values? Can you list the name of the variables, sorting them by number of missing values?"
      ]
    },
    {
      "cell_type": "code",
      "execution_count": 7,
      "metadata": {
        "colab": {
          "base_uri": "https://localhost:8080/"
        },
        "id": "eGmwvplCrgwG",
        "outputId": "a1888bd6-b8a8-4be2-ecb4-a3f0ff411d55"
      },
      "outputs": [
        {
          "name": "stdout",
          "output_type": "stream",
          "text": [
            "barthel                28198\n",
            "num_grupoact3_HOSP     21001\n",
            "proteina_c_reactiva    18175\n",
            "urea                   14260\n",
            "codidiagingreso        11378\n",
            "glucosa                 9228\n",
            "potasio                 8646\n",
            "rdw_sd                  8334\n",
            "rdw_cv                  8334\n",
            "hematocrito             8302\n",
            "leucocitos              8302\n",
            "sodio                   8142\n",
            "creatinina              7951\n",
            "drg                     3640\n",
            "numurgenciasprevias      552\n",
            "metastatic_tumor          77\n",
            "charlson                  77\n",
            "age                        0\n",
            "estancias                  0\n",
            "codservicioreal            0\n",
            "label                      0\n",
            "dtype: int64\n"
          ]
        }
      ],
      "source": [
        "nullvalues = df.isnull().sum()\n",
        "features_ordinate = nullvalues.sort_values(ascending=False)\n",
        "print(features_ordinate)"
      ]
    },
    {
      "cell_type": "markdown",
      "metadata": {
        "id": "QnCf_3fUX9KH"
      },
      "source": [
        "5. Name which are the categorical variables."
      ]
    },
    {
      "cell_type": "code",
      "execution_count": 8,
      "metadata": {
        "id": "SgAWwbqBwjuy"
      },
      "outputs": [],
      "source": [
        "df['metastatic_tumor'] = df['metastatic_tumor'].astype('object')"
      ]
    },
    {
      "cell_type": "code",
      "execution_count": 9,
      "metadata": {
        "colab": {
          "base_uri": "https://localhost:8080/"
        },
        "id": "zicERcvx1X-D",
        "outputId": "4f1c3b2c-6c16-48f4-affb-1b3f10e9a8e8"
      },
      "outputs": [
        {
          "name": "stdout",
          "output_type": "stream",
          "text": [
            "<class 'pandas.core.frame.DataFrame'>\n",
            "RangeIndex: 38416 entries, 0 to 38415\n",
            "Data columns (total 21 columns):\n",
            " #   Column               Non-Null Count  Dtype  \n",
            "---  ------               --------------  -----  \n",
            " 0   age                  38416 non-null  int64  \n",
            " 1   barthel              10218 non-null  float64\n",
            " 2   charlson             38339 non-null  float64\n",
            " 3   codidiagingreso      27038 non-null  object \n",
            " 4   codservicioreal      38416 non-null  object \n",
            " 5   creatinina           30465 non-null  float64\n",
            " 6   drg                  34776 non-null  float64\n",
            " 7   estancias            38416 non-null  float64\n",
            " 8   glucosa              29188 non-null  float64\n",
            " 9   hematocrito          30114 non-null  float64\n",
            " 10  leucocitos           30114 non-null  float64\n",
            " 11  metastatic_tumor     38339 non-null  object \n",
            " 12  num_grupoact3_HOSP   17415 non-null  float64\n",
            " 13  numurgenciasprevias  37864 non-null  float64\n",
            " 14  potasio              29770 non-null  float64\n",
            " 15  proteina_c_reactiva  20241 non-null  float64\n",
            " 16  rdw_cv               30082 non-null  float64\n",
            " 17  rdw_sd               30082 non-null  float64\n",
            " 18  sodio                30274 non-null  float64\n",
            " 19  urea                 24156 non-null  float64\n",
            " 20  label                38416 non-null  float64\n",
            "dtypes: float64(17), int64(1), object(3)\n",
            "memory usage: 6.2+ MB\n"
          ]
        }
      ],
      "source": [
        "df.info()"
      ]
    },
    {
      "cell_type": "code",
      "execution_count": 10,
      "metadata": {
        "colab": {
          "base_uri": "https://localhost:8080/"
        },
        "id": "5AIGy6rTsN0k",
        "outputId": "392775ca-75e0-48cb-aa8e-602c27a98911"
      },
      "outputs": [
        {
          "name": "stdout",
          "output_type": "stream",
          "text": [
            "['codidiagingreso', 'codservicioreal', 'metastatic_tumor']\n"
          ]
        }
      ],
      "source": [
        "categoric_variables = df.select_dtypes(include=['object'])\n",
        "print(categoric_variables.columns.tolist())"
      ]
    },
    {
      "cell_type": "code",
      "execution_count": 11,
      "metadata": {
        "colab": {
          "base_uri": "https://localhost:8080/"
        },
        "id": "edyxITietT5B",
        "outputId": "39942db1-52b7-466a-8076-c26ed72a8924"
      },
      "outputs": [
        {
          "data": {
            "text/plain": [
              "1.0    13431\n",
              "0.0    24985\n",
              "Name: label, dtype: int64"
            ]
          },
          "execution_count": 11,
          "metadata": {},
          "output_type": "execute_result"
        }
      ],
      "source": [
        "df['label'].value_counts(ascending=True)"
      ]
    },
    {
      "cell_type": "markdown",
      "metadata": {
        "id": "PHPgUjzkvA8z"
      },
      "source": [
        "### Block 2"
      ]
    },
    {
      "cell_type": "markdown",
      "metadata": {
        "id": "b-MPIQZn8UGi"
      },
      "source": [
        "##### Question 1"
      ]
    },
    {
      "cell_type": "code",
      "execution_count": 12,
      "metadata": {
        "id": "kqnHCrIQqJEJ"
      },
      "outputs": [],
      "source": [
        "X = df.drop('label', axis=1)\n",
        "y = df['label']\n",
        "X_train, X_test, y_train, y_test = train_test_split(X, y, test_size=0.2, random_state=42)"
      ]
    },
    {
      "cell_type": "code",
      "execution_count": 13,
      "metadata": {
        "colab": {
          "base_uri": "https://localhost:8080/",
          "height": 0
        },
        "id": "5UxEwS0L5R00",
        "outputId": "c1a6bfbc-1fa2-45e5-d7d1-8814c820fb1c"
      },
      "outputs": [
        {
          "data": {
            "text/html": [
              "<div>\n",
              "<style scoped>\n",
              "    .dataframe tbody tr th:only-of-type {\n",
              "        vertical-align: middle;\n",
              "    }\n",
              "\n",
              "    .dataframe tbody tr th {\n",
              "        vertical-align: top;\n",
              "    }\n",
              "\n",
              "    .dataframe thead th {\n",
              "        text-align: right;\n",
              "    }\n",
              "</style>\n",
              "<table border=\"1\" class=\"dataframe\">\n",
              "  <thead>\n",
              "    <tr style=\"text-align: right;\">\n",
              "      <th></th>\n",
              "      <th>age</th>\n",
              "      <th>barthel</th>\n",
              "      <th>charlson</th>\n",
              "      <th>codidiagingreso</th>\n",
              "      <th>codservicioreal</th>\n",
              "      <th>creatinina</th>\n",
              "      <th>drg</th>\n",
              "      <th>estancias</th>\n",
              "      <th>glucosa</th>\n",
              "      <th>hematocrito</th>\n",
              "      <th>leucocitos</th>\n",
              "      <th>metastatic_tumor</th>\n",
              "      <th>num_grupoact3_HOSP</th>\n",
              "      <th>numurgenciasprevias</th>\n",
              "      <th>potasio</th>\n",
              "      <th>proteina_c_reactiva</th>\n",
              "      <th>rdw_cv</th>\n",
              "      <th>rdw_sd</th>\n",
              "      <th>sodio</th>\n",
              "      <th>urea</th>\n",
              "    </tr>\n",
              "  </thead>\n",
              "  <tbody>\n",
              "    <tr>\n",
              "      <th>29147</th>\n",
              "      <td>65</td>\n",
              "      <td>NaN</td>\n",
              "      <td>1.0</td>\n",
              "      <td>780.2</td>\n",
              "      <td>HCAR</td>\n",
              "      <td>0.76</td>\n",
              "      <td>171.0</td>\n",
              "      <td>4.0</td>\n",
              "      <td>91.0</td>\n",
              "      <td>38.148684</td>\n",
              "      <td>2.64</td>\n",
              "      <td>0.0</td>\n",
              "      <td>NaN</td>\n",
              "      <td>1.0</td>\n",
              "      <td>4.353334</td>\n",
              "      <td>NaN</td>\n",
              "      <td>12.8</td>\n",
              "      <td>38.5</td>\n",
              "      <td>140.0</td>\n",
              "      <td>25.352822</td>\n",
              "    </tr>\n",
              "    <tr>\n",
              "      <th>10512</th>\n",
              "      <td>67</td>\n",
              "      <td>NaN</td>\n",
              "      <td>1.0</td>\n",
              "      <td>NaN</td>\n",
              "      <td>HNEM</td>\n",
              "      <td>0.86</td>\n",
              "      <td>139.0</td>\n",
              "      <td>5.0</td>\n",
              "      <td>150.6</td>\n",
              "      <td>41.548684</td>\n",
              "      <td>11.66</td>\n",
              "      <td>0.0</td>\n",
              "      <td>3.0</td>\n",
              "      <td>1.0</td>\n",
              "      <td>4.563334</td>\n",
              "      <td>53.980658</td>\n",
              "      <td>14.9</td>\n",
              "      <td>47.7</td>\n",
              "      <td>139.0</td>\n",
              "      <td>33.652822</td>\n",
              "    </tr>\n",
              "  </tbody>\n",
              "</table>\n",
              "</div>"
            ],
            "text/plain": [
              "       age  barthel  charlson codidiagingreso codservicioreal  creatinina  \\\n",
              "29147   65      NaN       1.0           780.2            HCAR        0.76   \n",
              "10512   67      NaN       1.0             NaN            HNEM        0.86   \n",
              "\n",
              "         drg  estancias  glucosa  hematocrito  leucocitos metastatic_tumor  \\\n",
              "29147  171.0        4.0     91.0    38.148684        2.64              0.0   \n",
              "10512  139.0        5.0    150.6    41.548684       11.66              0.0   \n",
              "\n",
              "       num_grupoact3_HOSP  numurgenciasprevias   potasio  proteina_c_reactiva  \\\n",
              "29147                 NaN                  1.0  4.353334                  NaN   \n",
              "10512                 3.0                  1.0  4.563334            53.980658   \n",
              "\n",
              "       rdw_cv  rdw_sd  sodio       urea  \n",
              "29147    12.8    38.5  140.0  25.352822  \n",
              "10512    14.9    47.7  139.0  33.652822  "
            ]
          },
          "execution_count": 13,
          "metadata": {},
          "output_type": "execute_result"
        }
      ],
      "source": [
        "X_train.head(2)"
      ]
    },
    {
      "cell_type": "code",
      "execution_count": 14,
      "metadata": {
        "colab": {
          "base_uri": "https://localhost:8080/"
        },
        "id": "ZZlsLvGf67Ed",
        "outputId": "7366e4c1-32b3-4641-b078-06f9b03b6094"
      },
      "outputs": [
        {
          "data": {
            "text/plain": [
              "(30732, 20)"
            ]
          },
          "execution_count": 14,
          "metadata": {},
          "output_type": "execute_result"
        }
      ],
      "source": [
        "X_train.shape"
      ]
    },
    {
      "cell_type": "code",
      "execution_count": 15,
      "metadata": {
        "colab": {
          "base_uri": "https://localhost:8080/",
          "height": 0
        },
        "id": "Q-1rMdRV5Txj",
        "outputId": "23cc4233-b9ba-44a0-f20b-ede9ddab647d"
      },
      "outputs": [
        {
          "data": {
            "text/html": [
              "<div>\n",
              "<style scoped>\n",
              "    .dataframe tbody tr th:only-of-type {\n",
              "        vertical-align: middle;\n",
              "    }\n",
              "\n",
              "    .dataframe tbody tr th {\n",
              "        vertical-align: top;\n",
              "    }\n",
              "\n",
              "    .dataframe thead th {\n",
              "        text-align: right;\n",
              "    }\n",
              "</style>\n",
              "<table border=\"1\" class=\"dataframe\">\n",
              "  <thead>\n",
              "    <tr style=\"text-align: right;\">\n",
              "      <th></th>\n",
              "      <th>age</th>\n",
              "      <th>barthel</th>\n",
              "      <th>charlson</th>\n",
              "      <th>codidiagingreso</th>\n",
              "      <th>codservicioreal</th>\n",
              "      <th>creatinina</th>\n",
              "      <th>drg</th>\n",
              "      <th>estancias</th>\n",
              "      <th>glucosa</th>\n",
              "      <th>hematocrito</th>\n",
              "      <th>leucocitos</th>\n",
              "      <th>metastatic_tumor</th>\n",
              "      <th>num_grupoact3_HOSP</th>\n",
              "      <th>numurgenciasprevias</th>\n",
              "      <th>potasio</th>\n",
              "      <th>proteina_c_reactiva</th>\n",
              "      <th>rdw_cv</th>\n",
              "      <th>rdw_sd</th>\n",
              "      <th>sodio</th>\n",
              "      <th>urea</th>\n",
              "    </tr>\n",
              "  </thead>\n",
              "  <tbody>\n",
              "    <tr>\n",
              "      <th>36169</th>\n",
              "      <td>75</td>\n",
              "      <td>NaN</td>\n",
              "      <td>5.0</td>\n",
              "      <td>NaN</td>\n",
              "      <td>HCAR</td>\n",
              "      <td>1.76</td>\n",
              "      <td>192.0</td>\n",
              "      <td>7.0</td>\n",
              "      <td>137.3</td>\n",
              "      <td>42.848684</td>\n",
              "      <td>8.99</td>\n",
              "      <td>0.0</td>\n",
              "      <td>17.0</td>\n",
              "      <td>4.0</td>\n",
              "      <td>3.803334</td>\n",
              "      <td>NaN</td>\n",
              "      <td>13.2</td>\n",
              "      <td>43.3</td>\n",
              "      <td>142.0</td>\n",
              "      <td>73.052822</td>\n",
              "    </tr>\n",
              "    <tr>\n",
              "      <th>13759</th>\n",
              "      <td>85</td>\n",
              "      <td>NaN</td>\n",
              "      <td>9.0</td>\n",
              "      <td>NaN</td>\n",
              "      <td>HNER</td>\n",
              "      <td>0.91</td>\n",
              "      <td>45.0</td>\n",
              "      <td>6.0</td>\n",
              "      <td>93.5</td>\n",
              "      <td>40.748684</td>\n",
              "      <td>6.73</td>\n",
              "      <td>1.0</td>\n",
              "      <td>3.0</td>\n",
              "      <td>2.0</td>\n",
              "      <td>4.463334</td>\n",
              "      <td>4.580658</td>\n",
              "      <td>13.6</td>\n",
              "      <td>44.3</td>\n",
              "      <td>140.0</td>\n",
              "      <td>NaN</td>\n",
              "    </tr>\n",
              "  </tbody>\n",
              "</table>\n",
              "</div>"
            ],
            "text/plain": [
              "       age  barthel  charlson codidiagingreso codservicioreal  creatinina  \\\n",
              "36169   75      NaN       5.0             NaN            HCAR        1.76   \n",
              "13759   85      NaN       9.0             NaN            HNER        0.91   \n",
              "\n",
              "         drg  estancias  glucosa  hematocrito  leucocitos metastatic_tumor  \\\n",
              "36169  192.0        7.0    137.3    42.848684        8.99              0.0   \n",
              "13759   45.0        6.0     93.5    40.748684        6.73              1.0   \n",
              "\n",
              "       num_grupoact3_HOSP  numurgenciasprevias   potasio  proteina_c_reactiva  \\\n",
              "36169                17.0                  4.0  3.803334                  NaN   \n",
              "13759                 3.0                  2.0  4.463334             4.580658   \n",
              "\n",
              "       rdw_cv  rdw_sd  sodio       urea  \n",
              "36169    13.2    43.3  142.0  73.052822  \n",
              "13759    13.6    44.3  140.0        NaN  "
            ]
          },
          "execution_count": 15,
          "metadata": {},
          "output_type": "execute_result"
        }
      ],
      "source": [
        "X_test.head(2)"
      ]
    },
    {
      "cell_type": "code",
      "execution_count": 16,
      "metadata": {
        "colab": {
          "base_uri": "https://localhost:8080/"
        },
        "id": "2o35E9567lFT",
        "outputId": "71e354e6-7431-46e1-da01-fbce608bcd86"
      },
      "outputs": [
        {
          "data": {
            "text/plain": [
              "(7684, 20)"
            ]
          },
          "execution_count": 16,
          "metadata": {},
          "output_type": "execute_result"
        }
      ],
      "source": [
        "X_test.shape"
      ]
    },
    {
      "cell_type": "code",
      "execution_count": 17,
      "metadata": {
        "colab": {
          "base_uri": "https://localhost:8080/"
        },
        "id": "i-5Be4gdic5j",
        "outputId": "8b5aeb59-e400-4a50-e53c-f5f542b04cbd"
      },
      "outputs": [
        {
          "data": {
            "text/plain": [
              "age                        0\n",
              "barthel                22510\n",
              "charlson                  59\n",
              "codidiagingreso         9131\n",
              "codservicioreal            0\n",
              "creatinina              6322\n",
              "drg                     2891\n",
              "estancias                  0\n",
              "glucosa                 7360\n",
              "hematocrito             6588\n",
              "leucocitos              6588\n",
              "metastatic_tumor          59\n",
              "num_grupoact3_HOSP     16768\n",
              "numurgenciasprevias      448\n",
              "potasio                 6872\n",
              "proteina_c_reactiva    14522\n",
              "rdw_cv                  6612\n",
              "rdw_sd                  6612\n",
              "sodio                   6463\n",
              "urea                   11344\n",
              "dtype: int64"
            ]
          },
          "execution_count": 17,
          "metadata": {},
          "output_type": "execute_result"
        }
      ],
      "source": [
        "X_train.isnull().sum()"
      ]
    },
    {
      "cell_type": "code",
      "execution_count": 18,
      "metadata": {
        "colab": {
          "base_uri": "https://localhost:8080/"
        },
        "id": "LrkZb0mw5jkt",
        "outputId": "76e0d545-9da8-4851-c75f-f712df742b95"
      },
      "outputs": [
        {
          "data": {
            "text/plain": [
              "age                       0\n",
              "barthel                5688\n",
              "charlson                 18\n",
              "codidiagingreso        2247\n",
              "codservicioreal           0\n",
              "creatinina             1629\n",
              "drg                     749\n",
              "estancias                 0\n",
              "glucosa                1868\n",
              "hematocrito            1714\n",
              "leucocitos             1714\n",
              "metastatic_tumor         18\n",
              "num_grupoact3_HOSP     4233\n",
              "numurgenciasprevias     104\n",
              "potasio                1774\n",
              "proteina_c_reactiva    3653\n",
              "rdw_cv                 1722\n",
              "rdw_sd                 1722\n",
              "sodio                  1679\n",
              "urea                   2916\n",
              "dtype: int64"
            ]
          },
          "execution_count": 18,
          "metadata": {},
          "output_type": "execute_result"
        }
      ],
      "source": [
        "X_test.isnull().sum()"
      ]
    },
    {
      "cell_type": "markdown",
      "metadata": {
        "id": "Ru75a4iZmTzk"
      },
      "source": [
        "#### Question2: Categoric Variables"
      ]
    },
    {
      "cell_type": "code",
      "execution_count": 19,
      "metadata": {
        "colab": {
          "base_uri": "https://localhost:8080/"
        },
        "id": "nqQjpnUbmelL",
        "outputId": "4f11d56c-cccb-4817-cabb-0183d03d1a3c"
      },
      "outputs": [
        {
          "name": "stdout",
          "output_type": "stream",
          "text": [
            "['codidiagingreso', 'codservicioreal', 'metastatic_tumor']\n"
          ]
        }
      ],
      "source": [
        "categoric_variables = X_train.select_dtypes(include=['object'])\n",
        "print(categoric_variables.columns.tolist())"
      ]
    },
    {
      "cell_type": "markdown",
      "metadata": {
        "id": "f_WwrHkDwITo"
      },
      "source": [
        "##### codidiagingreso"
      ]
    },
    {
      "cell_type": "code",
      "execution_count": 20,
      "metadata": {
        "id": "SaGx-LyIjj2M"
      },
      "outputs": [],
      "source": [
        "countTrain = X_train['codidiagingreso'].value_counts()\n",
        "countTest = X_test['codidiagingreso'].value_counts()"
      ]
    },
    {
      "cell_type": "code",
      "execution_count": 21,
      "metadata": {
        "colab": {
          "base_uri": "https://localhost:8080/"
        },
        "id": "xZkRJ8Lijtpy",
        "outputId": "550f0c3c-c781-41e8-bf81-4b641a86ccbb"
      },
      "outputs": [
        {
          "name": "stdout",
          "output_type": "stream",
          "text": [
            "401.9     2158\n",
            "518.81     503\n",
            "486        432\n",
            "250.00     410\n",
            "414.9      397\n",
            "          ... \n",
            "459.2        1\n",
            "294.9        1\n",
            "334.4        1\n",
            "V44.4        1\n",
            "692.82       1\n",
            "Name: codidiagingreso, Length: 1872, dtype: int64\n"
          ]
        }
      ],
      "source": [
        "print(countTrain)"
      ]
    },
    {
      "cell_type": "code",
      "execution_count": 22,
      "metadata": {
        "colab": {
          "base_uri": "https://localhost:8080/"
        },
        "id": "GWoQ_j5Yjtso",
        "outputId": "c0c0fb30-cc4b-4035-dad2-183106483eb4"
      },
      "outputs": [
        {
          "name": "stdout",
          "output_type": "stream",
          "text": [
            "401.9     576\n",
            "518.81    140\n",
            "250.00    122\n",
            "414.9     114\n",
            "486       101\n",
            "         ... \n",
            "275.42      1\n",
            "V15.81      1\n",
            "599.1       1\n",
            "516.36      1\n",
            "453.51      1\n",
            "Name: codidiagingreso, Length: 1010, dtype: int64\n"
          ]
        }
      ],
      "source": [
        "print(countTest)"
      ]
    },
    {
      "cell_type": "code",
      "execution_count": 23,
      "metadata": {
        "id": "K9FzSWcVTu_v"
      },
      "outputs": [],
      "source": [
        "median_train = X_train['codidiagingreso'].apply(pd.to_numeric, errors='coerce').median()\n",
        "\n",
        "X_train['codidiagingreso'].fillna(median_train, inplace=True)"
      ]
    },
    {
      "cell_type": "code",
      "execution_count": 24,
      "metadata": {
        "id": "2TlxRChGXIE2"
      },
      "outputs": [],
      "source": [
        "median_test = X_test['codidiagingreso'].apply(pd.to_numeric, errors='coerce').median()\n",
        "\n",
        "X_test['codidiagingreso'].fillna(median_test, inplace=True)"
      ]
    },
    {
      "cell_type": "code",
      "execution_count": 25,
      "metadata": {
        "colab": {
          "base_uri": "https://localhost:8080/"
        },
        "id": "3ix2V3mqGWUi",
        "outputId": "7a8daa94-76f4-40bf-ec86-e0e03b1a8744"
      },
      "outputs": [
        {
          "data": {
            "text/plain": [
              "0"
            ]
          },
          "execution_count": 25,
          "metadata": {},
          "output_type": "execute_result"
        }
      ],
      "source": [
        "X_train['codidiagingreso'].isnull().sum()"
      ]
    },
    {
      "cell_type": "code",
      "execution_count": 26,
      "metadata": {
        "colab": {
          "base_uri": "https://localhost:8080/"
        },
        "id": "qRPxTu_OOxox",
        "outputId": "1d4ff6c6-7269-4378-8880-9699a6e61f73"
      },
      "outputs": [
        {
          "data": {
            "text/plain": [
              "0"
            ]
          },
          "execution_count": 26,
          "metadata": {},
          "output_type": "execute_result"
        }
      ],
      "source": [
        "X_test['codidiagingreso'].isnull().sum()"
      ]
    },
    {
      "cell_type": "code",
      "execution_count": 27,
      "metadata": {
        "colab": {
          "base_uri": "https://localhost:8080/"
        },
        "id": "B3pBB0OSXY2Q",
        "outputId": "cc2b2eeb-8fb6-44ba-8bb4-76046afc3310"
      },
      "outputs": [
        {
          "name": "stdout",
          "output_type": "stream",
          "text": [
            "<class 'pandas.core.frame.DataFrame'>\n",
            "Int64Index: 30732 entries, 29147 to 15795\n",
            "Data columns (total 20 columns):\n",
            " #   Column               Non-Null Count  Dtype  \n",
            "---  ------               --------------  -----  \n",
            " 0   age                  30732 non-null  int64  \n",
            " 1   barthel              8222 non-null   float64\n",
            " 2   charlson             30673 non-null  float64\n",
            " 3   codidiagingreso      30732 non-null  object \n",
            " 4   codservicioreal      30732 non-null  object \n",
            " 5   creatinina           24410 non-null  float64\n",
            " 6   drg                  27841 non-null  float64\n",
            " 7   estancias            30732 non-null  float64\n",
            " 8   glucosa              23372 non-null  float64\n",
            " 9   hematocrito          24144 non-null  float64\n",
            " 10  leucocitos           24144 non-null  float64\n",
            " 11  metastatic_tumor     30673 non-null  object \n",
            " 12  num_grupoact3_HOSP   13964 non-null  float64\n",
            " 13  numurgenciasprevias  30284 non-null  float64\n",
            " 14  potasio              23860 non-null  float64\n",
            " 15  proteina_c_reactiva  16210 non-null  float64\n",
            " 16  rdw_cv               24120 non-null  float64\n",
            " 17  rdw_sd               24120 non-null  float64\n",
            " 18  sodio                24269 non-null  float64\n",
            " 19  urea                 19388 non-null  float64\n",
            "dtypes: float64(16), int64(1), object(3)\n",
            "memory usage: 4.9+ MB\n"
          ]
        }
      ],
      "source": [
        "X_train.info()"
      ]
    },
    {
      "cell_type": "code",
      "execution_count": 28,
      "metadata": {
        "colab": {
          "base_uri": "https://localhost:8080/",
          "height": 0
        },
        "id": "Q5ibYf4cXk2z",
        "outputId": "6bd74b83-a88c-41de-89f5-2f5028670497"
      },
      "outputs": [
        {
          "data": {
            "text/html": [
              "<div>\n",
              "<style scoped>\n",
              "    .dataframe tbody tr th:only-of-type {\n",
              "        vertical-align: middle;\n",
              "    }\n",
              "\n",
              "    .dataframe tbody tr th {\n",
              "        vertical-align: top;\n",
              "    }\n",
              "\n",
              "    .dataframe thead th {\n",
              "        text-align: right;\n",
              "    }\n",
              "</style>\n",
              "<table border=\"1\" class=\"dataframe\">\n",
              "  <thead>\n",
              "    <tr style=\"text-align: right;\">\n",
              "      <th></th>\n",
              "      <th>age</th>\n",
              "      <th>barthel</th>\n",
              "      <th>charlson</th>\n",
              "      <th>codidiagingreso</th>\n",
              "      <th>codservicioreal</th>\n",
              "      <th>creatinina</th>\n",
              "      <th>drg</th>\n",
              "      <th>estancias</th>\n",
              "      <th>glucosa</th>\n",
              "      <th>hematocrito</th>\n",
              "      <th>leucocitos</th>\n",
              "      <th>metastatic_tumor</th>\n",
              "      <th>num_grupoact3_HOSP</th>\n",
              "      <th>numurgenciasprevias</th>\n",
              "      <th>potasio</th>\n",
              "      <th>proteina_c_reactiva</th>\n",
              "      <th>rdw_cv</th>\n",
              "      <th>rdw_sd</th>\n",
              "      <th>sodio</th>\n",
              "      <th>urea</th>\n",
              "    </tr>\n",
              "  </thead>\n",
              "  <tbody>\n",
              "    <tr>\n",
              "      <th>29147</th>\n",
              "      <td>65</td>\n",
              "      <td>NaN</td>\n",
              "      <td>1.0</td>\n",
              "      <td>780.2</td>\n",
              "      <td>HCAR</td>\n",
              "      <td>0.76</td>\n",
              "      <td>171.0</td>\n",
              "      <td>4.0</td>\n",
              "      <td>91.0</td>\n",
              "      <td>38.148684</td>\n",
              "      <td>2.64</td>\n",
              "      <td>0.0</td>\n",
              "      <td>NaN</td>\n",
              "      <td>1.0</td>\n",
              "      <td>4.353334</td>\n",
              "      <td>NaN</td>\n",
              "      <td>12.80000</td>\n",
              "      <td>38.500000</td>\n",
              "      <td>140.000000</td>\n",
              "      <td>25.352822</td>\n",
              "    </tr>\n",
              "    <tr>\n",
              "      <th>10512</th>\n",
              "      <td>67</td>\n",
              "      <td>NaN</td>\n",
              "      <td>1.0</td>\n",
              "      <td>434.01</td>\n",
              "      <td>HNEM</td>\n",
              "      <td>0.86</td>\n",
              "      <td>139.0</td>\n",
              "      <td>5.0</td>\n",
              "      <td>150.6</td>\n",
              "      <td>41.548684</td>\n",
              "      <td>11.66</td>\n",
              "      <td>0.0</td>\n",
              "      <td>3.0</td>\n",
              "      <td>1.0</td>\n",
              "      <td>4.563334</td>\n",
              "      <td>53.980658</td>\n",
              "      <td>14.90000</td>\n",
              "      <td>47.700000</td>\n",
              "      <td>139.000000</td>\n",
              "      <td>33.652822</td>\n",
              "    </tr>\n",
              "    <tr>\n",
              "      <th>32039</th>\n",
              "      <td>94</td>\n",
              "      <td>NaN</td>\n",
              "      <td>9.0</td>\n",
              "      <td>585.9</td>\n",
              "      <td>HMUR</td>\n",
              "      <td>0.80</td>\n",
              "      <td>425.0</td>\n",
              "      <td>4.0</td>\n",
              "      <td>73.7</td>\n",
              "      <td>30.948684</td>\n",
              "      <td>6.45</td>\n",
              "      <td>0.0</td>\n",
              "      <td>NaN</td>\n",
              "      <td>2.0</td>\n",
              "      <td>4.483334</td>\n",
              "      <td>NaN</td>\n",
              "      <td>14.90000</td>\n",
              "      <td>46.800000</td>\n",
              "      <td>137.000000</td>\n",
              "      <td>30.852822</td>\n",
              "    </tr>\n",
              "    <tr>\n",
              "      <th>17925</th>\n",
              "      <td>83</td>\n",
              "      <td>95.0</td>\n",
              "      <td>3.0</td>\n",
              "      <td>428.1</td>\n",
              "      <td>HCAR</td>\n",
              "      <td>1.28</td>\n",
              "      <td>198.0</td>\n",
              "      <td>3.0</td>\n",
              "      <td>96.0</td>\n",
              "      <td>35.710714</td>\n",
              "      <td>9.63</td>\n",
              "      <td>0.0</td>\n",
              "      <td>NaN</td>\n",
              "      <td>7.0</td>\n",
              "      <td>4.700000</td>\n",
              "      <td>NaN</td>\n",
              "      <td>14.56075</td>\n",
              "      <td>50.123099</td>\n",
              "      <td>138.340418</td>\n",
              "      <td>65.253918</td>\n",
              "    </tr>\n",
              "    <tr>\n",
              "      <th>16317</th>\n",
              "      <td>81</td>\n",
              "      <td>NaN</td>\n",
              "      <td>2.0</td>\n",
              "      <td>558.9</td>\n",
              "      <td>HMUR</td>\n",
              "      <td>0.58</td>\n",
              "      <td>249.0</td>\n",
              "      <td>3.0</td>\n",
              "      <td>79.9</td>\n",
              "      <td>42.548684</td>\n",
              "      <td>6.51</td>\n",
              "      <td>0.0</td>\n",
              "      <td>NaN</td>\n",
              "      <td>1.0</td>\n",
              "      <td>3.023334</td>\n",
              "      <td>6.360658</td>\n",
              "      <td>19.50000</td>\n",
              "      <td>52.300000</td>\n",
              "      <td>144.000000</td>\n",
              "      <td>23.652822</td>\n",
              "    </tr>\n",
              "  </tbody>\n",
              "</table>\n",
              "</div>"
            ],
            "text/plain": [
              "       age  barthel  charlson codidiagingreso codservicioreal  creatinina  \\\n",
              "29147   65      NaN       1.0           780.2            HCAR        0.76   \n",
              "10512   67      NaN       1.0          434.01            HNEM        0.86   \n",
              "32039   94      NaN       9.0           585.9            HMUR        0.80   \n",
              "17925   83     95.0       3.0           428.1            HCAR        1.28   \n",
              "16317   81      NaN       2.0           558.9            HMUR        0.58   \n",
              "\n",
              "         drg  estancias  glucosa  hematocrito  leucocitos metastatic_tumor  \\\n",
              "29147  171.0        4.0     91.0    38.148684        2.64              0.0   \n",
              "10512  139.0        5.0    150.6    41.548684       11.66              0.0   \n",
              "32039  425.0        4.0     73.7    30.948684        6.45              0.0   \n",
              "17925  198.0        3.0     96.0    35.710714        9.63              0.0   \n",
              "16317  249.0        3.0     79.9    42.548684        6.51              0.0   \n",
              "\n",
              "       num_grupoact3_HOSP  numurgenciasprevias   potasio  proteina_c_reactiva  \\\n",
              "29147                 NaN                  1.0  4.353334                  NaN   \n",
              "10512                 3.0                  1.0  4.563334            53.980658   \n",
              "32039                 NaN                  2.0  4.483334                  NaN   \n",
              "17925                 NaN                  7.0  4.700000                  NaN   \n",
              "16317                 NaN                  1.0  3.023334             6.360658   \n",
              "\n",
              "         rdw_cv     rdw_sd       sodio       urea  \n",
              "29147  12.80000  38.500000  140.000000  25.352822  \n",
              "10512  14.90000  47.700000  139.000000  33.652822  \n",
              "32039  14.90000  46.800000  137.000000  30.852822  \n",
              "17925  14.56075  50.123099  138.340418  65.253918  \n",
              "16317  19.50000  52.300000  144.000000  23.652822  "
            ]
          },
          "execution_count": 28,
          "metadata": {},
          "output_type": "execute_result"
        }
      ],
      "source": [
        "X_train.head(5)"
      ]
    },
    {
      "cell_type": "markdown",
      "metadata": {
        "id": "gCKRIitqZEK3"
      },
      "source": [
        " We use the function pd.to_numeric() to attempt to convert the values in the \"codidiagingreso\" column to numbers. The errors='coerce' option causes non-numeric values to be replaced with NaN (Not a Number) during the conversion. At the end of this operation, we get a Series of numeric values and NaN.\n",
        "\n",
        "After converting the values to numbers (and replacing the non-numeric values with NaN), we calculate the median of this Series. The median is calculated by ignoring NaN values, so you get the median only from the valid numeric values in the \"codidiagingreso\" column.\n",
        "At the end we use the value found in the median to fill in the training and test null values with the median value calculated in the previous step."
      ]
    },
    {
      "cell_type": "markdown",
      "metadata": {
        "id": "nBsgwIlZY2GQ"
      },
      "source": [
        "##### metastatic_tumor"
      ]
    },
    {
      "cell_type": "code",
      "execution_count": 29,
      "metadata": {
        "id": "NISqmbzESTAQ"
      },
      "outputs": [
        {
          "name": "stdout",
          "output_type": "stream",
          "text": [
            "The best number of neighbors is 1\n"
          ]
        }
      ],
      "source": [
        "from sklearn.neighbors import KNeighborsRegressor\n",
        "from sklearn.model_selection import cross_val_score\n",
        "from sklearn.impute import KNNImputer\n",
        "\n",
        "k_values = list(range(1, 21))\n",
        "\n",
        "\n",
        "mean_scores = []\n",
        "for k in k_values:\n",
        "    imputer = KNNImputer(n_neighbors=k)\n",
        "    imputed_data = imputer.fit_transform(X_train[['metastatic_tumor']])\n",
        "\n",
        "\n",
        "    knn_regressor = KNeighborsRegressor(n_neighbors=k)\n",
        "    scores = cross_val_score(knn_regressor, imputed_data, y_train, cv=10, scoring='neg_mean_squared_error')\n",
        "    mean_scores.append(np.mean(scores))\n",
        "\n",
        "\n",
        "best_k = k_values[np.argmin(mean_scores)]\n",
        "print(\"The best number of neighbors is\", best_k)\n",
        "\n"
      ]
    },
    {
      "cell_type": "markdown",
      "metadata": {
        "id": "qXhAs6IE2VF5"
      },
      "source": [
        "In summary, the code performs a search for the best value of k for a KNN-based regression model. It uses cross-validation to evaluate the performance of the model on training data and determine which number of neighbors gives the best result in terms of mean square error. The process helps select an optimal k value for the KNN model based on the data provided."
      ]
    },
    {
      "cell_type": "code",
      "execution_count": 30,
      "metadata": {
        "id": "iNFgXlhqdIb1"
      },
      "outputs": [],
      "source": [
        "from sklearn.impute import KNNImputer\n",
        "\n",
        "imputer_train = KNNImputer(n_neighbors=1)\n",
        "imputer_test = KNNImputer(n_neighbors=1)\n",
        "\n",
        "\n",
        "metastatic_tumor_train_imputed = imputer_train.fit_transform(X_train[['metastatic_tumor']])\n",
        "X_train['metastatic_tumor'] = metastatic_tumor_train_imputed\n",
        "\n",
        "metastatic_tumor_test_imputed = imputer_test.fit_transform(X_test[['metastatic_tumor']])\n",
        "X_test['metastatic_tumor'] = metastatic_tumor_test_imputed"
      ]
    },
    {
      "cell_type": "markdown",
      "metadata": {
        "id": "M6sfeEk-3G1M"
      },
      "source": [
        "In this part, imputer_train and imputer_test are two separate objects of KNNImputer. imputer_train is used to train and impute data in the training set, while imputer_test is used to train and impute data in the test set.\n",
        "\n",
        "This ensures that two separate imputation models are used for the two data sets while maintaining the diversity between the imputations in the two sets."
      ]
    },
    {
      "cell_type": "code",
      "execution_count": 31,
      "metadata": {
        "colab": {
          "base_uri": "https://localhost:8080/"
        },
        "id": "Mf-uXm0Kbua7",
        "outputId": "13f5d552-8e9c-483f-ce81-9849a44cdfc6"
      },
      "outputs": [
        {
          "data": {
            "text/plain": [
              "age                        0\n",
              "barthel                22510\n",
              "charlson                  59\n",
              "codidiagingreso            0\n",
              "codservicioreal            0\n",
              "creatinina              6322\n",
              "drg                     2891\n",
              "estancias                  0\n",
              "glucosa                 7360\n",
              "hematocrito             6588\n",
              "leucocitos              6588\n",
              "metastatic_tumor           0\n",
              "num_grupoact3_HOSP     16768\n",
              "numurgenciasprevias      448\n",
              "potasio                 6872\n",
              "proteina_c_reactiva    14522\n",
              "rdw_cv                  6612\n",
              "rdw_sd                  6612\n",
              "sodio                   6463\n",
              "urea                   11344\n",
              "dtype: int64"
            ]
          },
          "execution_count": 31,
          "metadata": {},
          "output_type": "execute_result"
        }
      ],
      "source": [
        "X_train.isnull().sum()"
      ]
    },
    {
      "cell_type": "code",
      "execution_count": 32,
      "metadata": {
        "id": "ITQnbNgVjWb-"
      },
      "outputs": [],
      "source": [
        "X_train['metastatic_tumor'] = X_train['metastatic_tumor'].replace({0.0: 'negativo', 1.0: 'positivo'})\n",
        "X_test['metastatic_tumor'] = X_test['metastatic_tumor'].replace({0.0: 'negativo', 1.0: 'positivo'})"
      ]
    },
    {
      "cell_type": "code",
      "execution_count": 33,
      "metadata": {
        "colab": {
          "base_uri": "https://localhost:8080/",
          "height": 383
        },
        "id": "6RWJ0NEVcUgM",
        "outputId": "b49d7b0e-5ba8-47ef-918b-512364309b38"
      },
      "outputs": [
        {
          "data": {
            "text/html": [
              "<div>\n",
              "<style scoped>\n",
              "    .dataframe tbody tr th:only-of-type {\n",
              "        vertical-align: middle;\n",
              "    }\n",
              "\n",
              "    .dataframe tbody tr th {\n",
              "        vertical-align: top;\n",
              "    }\n",
              "\n",
              "    .dataframe thead th {\n",
              "        text-align: right;\n",
              "    }\n",
              "</style>\n",
              "<table border=\"1\" class=\"dataframe\">\n",
              "  <thead>\n",
              "    <tr style=\"text-align: right;\">\n",
              "      <th></th>\n",
              "      <th>age</th>\n",
              "      <th>barthel</th>\n",
              "      <th>charlson</th>\n",
              "      <th>codidiagingreso</th>\n",
              "      <th>codservicioreal</th>\n",
              "      <th>creatinina</th>\n",
              "      <th>drg</th>\n",
              "      <th>estancias</th>\n",
              "      <th>glucosa</th>\n",
              "      <th>hematocrito</th>\n",
              "      <th>leucocitos</th>\n",
              "      <th>metastatic_tumor</th>\n",
              "      <th>num_grupoact3_HOSP</th>\n",
              "      <th>numurgenciasprevias</th>\n",
              "      <th>potasio</th>\n",
              "      <th>proteina_c_reactiva</th>\n",
              "      <th>rdw_cv</th>\n",
              "      <th>rdw_sd</th>\n",
              "      <th>sodio</th>\n",
              "      <th>urea</th>\n",
              "    </tr>\n",
              "  </thead>\n",
              "  <tbody>\n",
              "    <tr>\n",
              "      <th>29147</th>\n",
              "      <td>65</td>\n",
              "      <td>NaN</td>\n",
              "      <td>1.0</td>\n",
              "      <td>780.2</td>\n",
              "      <td>HCAR</td>\n",
              "      <td>0.76</td>\n",
              "      <td>171.0</td>\n",
              "      <td>4.0</td>\n",
              "      <td>91.0</td>\n",
              "      <td>38.148684</td>\n",
              "      <td>2.64</td>\n",
              "      <td>negativo</td>\n",
              "      <td>NaN</td>\n",
              "      <td>1.0</td>\n",
              "      <td>4.353334</td>\n",
              "      <td>NaN</td>\n",
              "      <td>12.80000</td>\n",
              "      <td>38.500000</td>\n",
              "      <td>140.000000</td>\n",
              "      <td>25.352822</td>\n",
              "    </tr>\n",
              "    <tr>\n",
              "      <th>10512</th>\n",
              "      <td>67</td>\n",
              "      <td>NaN</td>\n",
              "      <td>1.0</td>\n",
              "      <td>434.01</td>\n",
              "      <td>HNEM</td>\n",
              "      <td>0.86</td>\n",
              "      <td>139.0</td>\n",
              "      <td>5.0</td>\n",
              "      <td>150.6</td>\n",
              "      <td>41.548684</td>\n",
              "      <td>11.66</td>\n",
              "      <td>negativo</td>\n",
              "      <td>3.0</td>\n",
              "      <td>1.0</td>\n",
              "      <td>4.563334</td>\n",
              "      <td>53.980658</td>\n",
              "      <td>14.90000</td>\n",
              "      <td>47.700000</td>\n",
              "      <td>139.000000</td>\n",
              "      <td>33.652822</td>\n",
              "    </tr>\n",
              "    <tr>\n",
              "      <th>32039</th>\n",
              "      <td>94</td>\n",
              "      <td>NaN</td>\n",
              "      <td>9.0</td>\n",
              "      <td>585.9</td>\n",
              "      <td>HMUR</td>\n",
              "      <td>0.80</td>\n",
              "      <td>425.0</td>\n",
              "      <td>4.0</td>\n",
              "      <td>73.7</td>\n",
              "      <td>30.948684</td>\n",
              "      <td>6.45</td>\n",
              "      <td>negativo</td>\n",
              "      <td>NaN</td>\n",
              "      <td>2.0</td>\n",
              "      <td>4.483334</td>\n",
              "      <td>NaN</td>\n",
              "      <td>14.90000</td>\n",
              "      <td>46.800000</td>\n",
              "      <td>137.000000</td>\n",
              "      <td>30.852822</td>\n",
              "    </tr>\n",
              "    <tr>\n",
              "      <th>17925</th>\n",
              "      <td>83</td>\n",
              "      <td>95.0</td>\n",
              "      <td>3.0</td>\n",
              "      <td>428.1</td>\n",
              "      <td>HCAR</td>\n",
              "      <td>1.28</td>\n",
              "      <td>198.0</td>\n",
              "      <td>3.0</td>\n",
              "      <td>96.0</td>\n",
              "      <td>35.710714</td>\n",
              "      <td>9.63</td>\n",
              "      <td>negativo</td>\n",
              "      <td>NaN</td>\n",
              "      <td>7.0</td>\n",
              "      <td>4.700000</td>\n",
              "      <td>NaN</td>\n",
              "      <td>14.56075</td>\n",
              "      <td>50.123099</td>\n",
              "      <td>138.340418</td>\n",
              "      <td>65.253918</td>\n",
              "    </tr>\n",
              "    <tr>\n",
              "      <th>16317</th>\n",
              "      <td>81</td>\n",
              "      <td>NaN</td>\n",
              "      <td>2.0</td>\n",
              "      <td>558.9</td>\n",
              "      <td>HMUR</td>\n",
              "      <td>0.58</td>\n",
              "      <td>249.0</td>\n",
              "      <td>3.0</td>\n",
              "      <td>79.9</td>\n",
              "      <td>42.548684</td>\n",
              "      <td>6.51</td>\n",
              "      <td>negativo</td>\n",
              "      <td>NaN</td>\n",
              "      <td>1.0</td>\n",
              "      <td>3.023334</td>\n",
              "      <td>6.360658</td>\n",
              "      <td>19.50000</td>\n",
              "      <td>52.300000</td>\n",
              "      <td>144.000000</td>\n",
              "      <td>23.652822</td>\n",
              "    </tr>\n",
              "    <tr>\n",
              "      <th>13471</th>\n",
              "      <td>78</td>\n",
              "      <td>NaN</td>\n",
              "      <td>0.0</td>\n",
              "      <td>574.90</td>\n",
              "      <td>HUHP</td>\n",
              "      <td>0.65</td>\n",
              "      <td>260.0</td>\n",
              "      <td>8.0</td>\n",
              "      <td>94.8</td>\n",
              "      <td>35.648684</td>\n",
              "      <td>4.59</td>\n",
              "      <td>negativo</td>\n",
              "      <td>3.0</td>\n",
              "      <td>4.0</td>\n",
              "      <td>3.983334</td>\n",
              "      <td>NaN</td>\n",
              "      <td>14.70000</td>\n",
              "      <td>48.900000</td>\n",
              "      <td>142.000000</td>\n",
              "      <td>22.252822</td>\n",
              "    </tr>\n",
              "    <tr>\n",
              "      <th>7937</th>\n",
              "      <td>86</td>\n",
              "      <td>NaN</td>\n",
              "      <td>0.0</td>\n",
              "      <td>401.9</td>\n",
              "      <td>HNEM</td>\n",
              "      <td>1.02</td>\n",
              "      <td>144.0</td>\n",
              "      <td>3.0</td>\n",
              "      <td>119.5</td>\n",
              "      <td>33.448684</td>\n",
              "      <td>5.85</td>\n",
              "      <td>negativo</td>\n",
              "      <td>NaN</td>\n",
              "      <td>1.0</td>\n",
              "      <td>4.333334</td>\n",
              "      <td>43.390658</td>\n",
              "      <td>13.00000</td>\n",
              "      <td>45.100000</td>\n",
              "      <td>143.000000</td>\n",
              "      <td>47.152822</td>\n",
              "    </tr>\n",
              "    <tr>\n",
              "      <th>35531</th>\n",
              "      <td>87</td>\n",
              "      <td>75.0</td>\n",
              "      <td>8.0</td>\n",
              "      <td>434.01</td>\n",
              "      <td>HMDG</td>\n",
              "      <td>0.99</td>\n",
              "      <td>253.0</td>\n",
              "      <td>7.0</td>\n",
              "      <td>192.4</td>\n",
              "      <td>25.848684</td>\n",
              "      <td>5.00</td>\n",
              "      <td>negativo</td>\n",
              "      <td>17.0</td>\n",
              "      <td>12.0</td>\n",
              "      <td>4.083334</td>\n",
              "      <td>-2.999342</td>\n",
              "      <td>17.70000</td>\n",
              "      <td>61.200000</td>\n",
              "      <td>137.000000</td>\n",
              "      <td>NaN</td>\n",
              "    </tr>\n",
              "    <tr>\n",
              "      <th>6921</th>\n",
              "      <td>91</td>\n",
              "      <td>NaN</td>\n",
              "      <td>1.0</td>\n",
              "      <td>438.20</td>\n",
              "      <td>HNCG</td>\n",
              "      <td>0.84</td>\n",
              "      <td>56.0</td>\n",
              "      <td>12.0</td>\n",
              "      <td>155.2</td>\n",
              "      <td>37.310714</td>\n",
              "      <td>7.91</td>\n",
              "      <td>negativo</td>\n",
              "      <td>NaN</td>\n",
              "      <td>1.0</td>\n",
              "      <td>3.230000</td>\n",
              "      <td>12.347684</td>\n",
              "      <td>15.06075</td>\n",
              "      <td>45.423099</td>\n",
              "      <td>142.340418</td>\n",
              "      <td>44.153918</td>\n",
              "    </tr>\n",
              "    <tr>\n",
              "      <th>25147</th>\n",
              "      <td>92</td>\n",
              "      <td>NaN</td>\n",
              "      <td>6.0</td>\n",
              "      <td>518.84</td>\n",
              "      <td>HNEM</td>\n",
              "      <td>0.60</td>\n",
              "      <td>133.0</td>\n",
              "      <td>6.0</td>\n",
              "      <td>172.9</td>\n",
              "      <td>36.010714</td>\n",
              "      <td>5.82</td>\n",
              "      <td>negativo</td>\n",
              "      <td>NaN</td>\n",
              "      <td>1.0</td>\n",
              "      <td>4.970000</td>\n",
              "      <td>2.647684</td>\n",
              "      <td>15.66075</td>\n",
              "      <td>52.423099</td>\n",
              "      <td>139.340418</td>\n",
              "      <td>64.253918</td>\n",
              "    </tr>\n",
              "  </tbody>\n",
              "</table>\n",
              "</div>"
            ],
            "text/plain": [
              "       age  barthel  charlson codidiagingreso codservicioreal  creatinina  \\\n",
              "29147   65      NaN       1.0           780.2            HCAR        0.76   \n",
              "10512   67      NaN       1.0          434.01            HNEM        0.86   \n",
              "32039   94      NaN       9.0           585.9            HMUR        0.80   \n",
              "17925   83     95.0       3.0           428.1            HCAR        1.28   \n",
              "16317   81      NaN       2.0           558.9            HMUR        0.58   \n",
              "13471   78      NaN       0.0          574.90            HUHP        0.65   \n",
              "7937    86      NaN       0.0           401.9            HNEM        1.02   \n",
              "35531   87     75.0       8.0          434.01            HMDG        0.99   \n",
              "6921    91      NaN       1.0          438.20            HNCG        0.84   \n",
              "25147   92      NaN       6.0          518.84            HNEM        0.60   \n",
              "\n",
              "         drg  estancias  glucosa  hematocrito  leucocitos metastatic_tumor  \\\n",
              "29147  171.0        4.0     91.0    38.148684        2.64         negativo   \n",
              "10512  139.0        5.0    150.6    41.548684       11.66         negativo   \n",
              "32039  425.0        4.0     73.7    30.948684        6.45         negativo   \n",
              "17925  198.0        3.0     96.0    35.710714        9.63         negativo   \n",
              "16317  249.0        3.0     79.9    42.548684        6.51         negativo   \n",
              "13471  260.0        8.0     94.8    35.648684        4.59         negativo   \n",
              "7937   144.0        3.0    119.5    33.448684        5.85         negativo   \n",
              "35531  253.0        7.0    192.4    25.848684        5.00         negativo   \n",
              "6921    56.0       12.0    155.2    37.310714        7.91         negativo   \n",
              "25147  133.0        6.0    172.9    36.010714        5.82         negativo   \n",
              "\n",
              "       num_grupoact3_HOSP  numurgenciasprevias   potasio  proteina_c_reactiva  \\\n",
              "29147                 NaN                  1.0  4.353334                  NaN   \n",
              "10512                 3.0                  1.0  4.563334            53.980658   \n",
              "32039                 NaN                  2.0  4.483334                  NaN   \n",
              "17925                 NaN                  7.0  4.700000                  NaN   \n",
              "16317                 NaN                  1.0  3.023334             6.360658   \n",
              "13471                 3.0                  4.0  3.983334                  NaN   \n",
              "7937                  NaN                  1.0  4.333334            43.390658   \n",
              "35531                17.0                 12.0  4.083334            -2.999342   \n",
              "6921                  NaN                  1.0  3.230000            12.347684   \n",
              "25147                 NaN                  1.0  4.970000             2.647684   \n",
              "\n",
              "         rdw_cv     rdw_sd       sodio       urea  \n",
              "29147  12.80000  38.500000  140.000000  25.352822  \n",
              "10512  14.90000  47.700000  139.000000  33.652822  \n",
              "32039  14.90000  46.800000  137.000000  30.852822  \n",
              "17925  14.56075  50.123099  138.340418  65.253918  \n",
              "16317  19.50000  52.300000  144.000000  23.652822  \n",
              "13471  14.70000  48.900000  142.000000  22.252822  \n",
              "7937   13.00000  45.100000  143.000000  47.152822  \n",
              "35531  17.70000  61.200000  137.000000        NaN  \n",
              "6921   15.06075  45.423099  142.340418  44.153918  \n",
              "25147  15.66075  52.423099  139.340418  64.253918  "
            ]
          },
          "execution_count": 33,
          "metadata": {},
          "output_type": "execute_result"
        }
      ],
      "source": [
        "X_train.head(10)"
      ]
    },
    {
      "cell_type": "markdown",
      "metadata": {
        "id": "vgHKJcRjSt6I"
      },
      "source": [
        "The approach used in this code is imputation based on K-Nearest Neighbors (KNN). This means that missing values are estimated based on the values of similar rows in the training set.\n",
        "\n",
        "If a variable that has no missing values in the training set turns out to be missing in the test set, the KNNImputer will have no specific information about that variable in the training set and will try to estimate the value based only on the other nearest neighbors. This may lead to less accurate estimates. In some cases, it may be useful to have a more representative training set."
      ]
    },
    {
      "cell_type": "markdown",
      "metadata": {
        "id": "WB2wZxAnmATo"
      },
      "source": [
        "#### Question 3: Continuous Variables"
      ]
    },
    {
      "cell_type": "code",
      "execution_count": 34,
      "metadata": {
        "colab": {
          "base_uri": "https://localhost:8080/"
        },
        "id": "HiWbZzs8yWSg",
        "outputId": "fac1338b-9c5e-4021-c45d-09e12178ea1a"
      },
      "outputs": [
        {
          "name": "stderr",
          "output_type": "stream",
          "text": [
            "/var/folders/mg/21j_mpns1qd6_slm4qmyg8ym0000gn/T/ipykernel_4586/2710087233.py:1: FutureWarning: Dropping of nuisance columns in DataFrame reductions (with 'numeric_only=None') is deprecated; in a future version this will raise TypeError.  Select only valid columns before calling the reduction.\n",
            "  median_valuestrain = X_train.median()\n",
            "/var/folders/mg/21j_mpns1qd6_slm4qmyg8ym0000gn/T/ipykernel_4586/2710087233.py:2: FutureWarning: Dropping of nuisance columns in DataFrame reductions (with 'numeric_only=None') is deprecated; in a future version this will raise TypeError.  Select only valid columns before calling the reduction.\n",
            "  median_valuestest = X_test.median()\n"
          ]
        }
      ],
      "source": [
        "median_valuestrain = X_train.median()\n",
        "median_valuestest = X_test.median()"
      ]
    },
    {
      "cell_type": "code",
      "execution_count": 35,
      "metadata": {
        "colab": {
          "base_uri": "https://localhost:8080/"
        },
        "id": "F26F7MYu3Esg",
        "outputId": "e2937fe4-a1ce-413c-aaf0-4127ffcdc471"
      },
      "outputs": [
        {
          "data": {
            "text/plain": [
              "age                     80.000000\n",
              "barthel                 55.000000\n",
              "charlson                 4.000000\n",
              "creatinina               0.960000\n",
              "drg                    194.000000\n",
              "estancias                6.000000\n",
              "glucosa                106.400000\n",
              "hematocrito             35.848684\n",
              "leucocitos               8.140000\n",
              "num_grupoact3_HOSP       5.000000\n",
              "numurgenciasprevias      4.000000\n",
              "potasio                  4.250000\n",
              "proteina_c_reactiva     21.985658\n",
              "rdw_cv                  14.800000\n",
              "rdw_sd                  48.423099\n",
              "sodio                  140.000000\n",
              "urea                    47.952822\n",
              "dtype: float64"
            ]
          },
          "execution_count": 35,
          "metadata": {},
          "output_type": "execute_result"
        }
      ],
      "source": [
        "median_valuestrain.head(19)"
      ]
    },
    {
      "cell_type": "code",
      "execution_count": 36,
      "metadata": {
        "colab": {
          "base_uri": "https://localhost:8080/"
        },
        "id": "mJk3Ew6QA1J4",
        "outputId": "a77a99d8-5ebb-4795-c3d4-47d647fa5320"
      },
      "outputs": [
        {
          "data": {
            "text/plain": [
              "age                     80.000000\n",
              "barthel                 60.000000\n",
              "charlson                 4.000000\n",
              "creatinina               0.960000\n",
              "drg                    194.000000\n",
              "estancias                6.000000\n",
              "glucosa                106.000000\n",
              "hematocrito             35.948684\n",
              "leucocitos               8.160000\n",
              "num_grupoact3_HOSP       5.000000\n",
              "numurgenciasprevias      4.000000\n",
              "potasio                  4.243334\n",
              "proteina_c_reactiva     20.690658\n",
              "rdw_cv                  14.760750\n",
              "rdw_sd                  48.423099\n",
              "sodio                  140.000000\n",
              "urea                    48.052822\n",
              "dtype: float64"
            ]
          },
          "execution_count": 36,
          "metadata": {},
          "output_type": "execute_result"
        }
      ],
      "source": [
        "median_valuestest.head(19)"
      ]
    },
    {
      "cell_type": "code",
      "execution_count": 37,
      "metadata": {
        "id": "neRms3gkyWaC"
      },
      "outputs": [],
      "source": [
        "X_train.fillna(median_valuestrain, inplace=True)\n",
        "X_test.fillna(median_valuestest, inplace=True)"
      ]
    },
    {
      "cell_type": "code",
      "execution_count": 38,
      "metadata": {
        "colab": {
          "base_uri": "https://localhost:8080/"
        },
        "id": "tBBbzJIyA9OB",
        "outputId": "03074bce-c395-412f-83fc-12f120389481"
      },
      "outputs": [
        {
          "data": {
            "text/plain": [
              "age                    0\n",
              "barthel                0\n",
              "charlson               0\n",
              "codidiagingreso        0\n",
              "codservicioreal        0\n",
              "creatinina             0\n",
              "drg                    0\n",
              "estancias              0\n",
              "glucosa                0\n",
              "hematocrito            0\n",
              "leucocitos             0\n",
              "metastatic_tumor       0\n",
              "num_grupoact3_HOSP     0\n",
              "numurgenciasprevias    0\n",
              "potasio                0\n",
              "proteina_c_reactiva    0\n",
              "rdw_cv                 0\n",
              "rdw_sd                 0\n",
              "sodio                  0\n",
              "urea                   0\n",
              "dtype: int64"
            ]
          },
          "execution_count": 38,
          "metadata": {},
          "output_type": "execute_result"
        }
      ],
      "source": [
        "X_train.isnull().sum()"
      ]
    },
    {
      "cell_type": "code",
      "execution_count": 39,
      "metadata": {
        "colab": {
          "base_uri": "https://localhost:8080/"
        },
        "id": "W-B6D85vBIwP",
        "outputId": "b1a39227-e4fb-4d1c-f4fb-d6a0f3fb65f9"
      },
      "outputs": [
        {
          "data": {
            "text/plain": [
              "age                    0\n",
              "barthel                0\n",
              "charlson               0\n",
              "codidiagingreso        0\n",
              "codservicioreal        0\n",
              "creatinina             0\n",
              "drg                    0\n",
              "estancias              0\n",
              "glucosa                0\n",
              "hematocrito            0\n",
              "leucocitos             0\n",
              "metastatic_tumor       0\n",
              "num_grupoact3_HOSP     0\n",
              "numurgenciasprevias    0\n",
              "potasio                0\n",
              "proteina_c_reactiva    0\n",
              "rdw_cv                 0\n",
              "rdw_sd                 0\n",
              "sodio                  0\n",
              "urea                   0\n",
              "dtype: int64"
            ]
          },
          "execution_count": 39,
          "metadata": {},
          "output_type": "execute_result"
        }
      ],
      "source": [
        "X_test.isnull().sum()"
      ]
    },
    {
      "cell_type": "markdown",
      "metadata": {
        "id": "zdW0ln0Y7mRt"
      },
      "source": [
        "The method used to fill the values is based on calculating the median for each continuous feature, and based on that any null value related to that feature is replaced with the value found.\n",
        "\n",
        "In the case where there are many null values or missing data, the median is a better choice than the mean because it is less sensitive to outliers. By using the median, the effect of outliers is reduced and a more robust estimate of the central value of the dataset is obtained.\n",
        "\n",
        "If a variable that has no missing values in the training set turns out to be missing in the test set, this could cause problems during the prediction phase of the model.\n",
        "To deal with this situation, imputation based on the training set is generally used: One can use an imputation method (such as mean, median, or other more complex methods) based only on the information in the training set to fill in the missing values in the test set. This ensures that the imputation is consistent with the distribution of the data in the training set."
      ]
    },
    {
      "cell_type": "markdown",
      "metadata": {
        "id": "_zmfjqNG5LMH"
      },
      "source": [
        "#### Question 4"
      ]
    },
    {
      "cell_type": "markdown",
      "metadata": {
        "id": "kLPmDKrm5PfJ"
      },
      "source": [
        " When the entire data set is used to impute missing values and handle categorical variables, information from the entire data set, including the test set, is essentially incorporated into the model training process. This can lead to data leakage, where the information from the test set affects the performance of the model, making the evaluation metrics overly optimistic and unreliable for real-world predictions.\n",
        "\n",
        "Also Using the entire dataset to train the imputer and handle categorical variables would seem like a simple solution, but it is a bad idea because it introduces a strong risk of overfitting. Overfitting occurs when the model learns the training data too well, including noise and random variation. <br>\n",
        "This could lead to a poor ability of the model to generalize over new data, such as those in the test set. In addition, if new categories appear in the test set, the model will be unable to handle them properly because it never saw these categories during training. This could lead to incorrect predictions and compromise the reliability of your model.\n"
      ]
    },
    {
      "cell_type": "markdown",
      "metadata": {
        "id": "Qdi-xb5PtTam"
      },
      "source": [
        "### Block 3"
      ]
    },
    {
      "cell_type": "markdown",
      "metadata": {
        "id": "9a0jJ9kukjbU"
      },
      "source": [
        "#### Random Forest"
      ]
    },
    {
      "cell_type": "code",
      "execution_count": 40,
      "metadata": {
        "id": "YXxi-jpHOLXl"
      },
      "outputs": [],
      "source": [
        "categorical_cols = ['metastatic_tumor', 'codidiagingreso', 'codservicioreal']\n",
        "\n",
        "combined_data = pd.concat([X_train, X_test], axis=0)\n",
        "\n",
        "combined_data_encoded = pd.get_dummies(combined_data, columns=categorical_cols, prefix=categorical_cols)\n",
        "\n",
        "\n",
        "X_train_encoded = combined_data_encoded[:len(X_train)]\n",
        "X_test_encoded = combined_data_encoded[len(X_train):]"
      ]
    },
    {
      "cell_type": "code",
      "execution_count": 41,
      "metadata": {
        "colab": {
          "base_uri": "https://localhost:8080/"
        },
        "id": "95y_ASdrJnjD",
        "outputId": "cbf81e52-0bb4-424d-e9ce-ee5a5aa61645"
      },
      "outputs": [
        {
          "data": {
            "text/plain": [
              "(30732, 2114)"
            ]
          },
          "execution_count": 41,
          "metadata": {},
          "output_type": "execute_result"
        }
      ],
      "source": [
        "X_train_encoded.shape"
      ]
    },
    {
      "cell_type": "code",
      "execution_count": 42,
      "metadata": {
        "colab": {
          "base_uri": "https://localhost:8080/"
        },
        "id": "enWwQpDjQJj_",
        "outputId": "4886e5fb-acd9-4aae-d4f5-7bb6bb092ff4"
      },
      "outputs": [
        {
          "data": {
            "text/plain": [
              "(7684, 2114)"
            ]
          },
          "execution_count": 42,
          "metadata": {},
          "output_type": "execute_result"
        }
      ],
      "source": [
        "X_test_encoded.shape"
      ]
    },
    {
      "cell_type": "markdown",
      "metadata": {
        "id": "v7JfN1PTuhEc"
      },
      "source": [
        "This part is useful for performing the encoding of categorical variables through the 'one-hot encoding' technique. Categorical variables, such as 'metastatic_tumor', 'codidiagingreso' and 'codservicioreal', contain non-numerical information such as categories or labels. However, many machine learning algorithms require numeric data to be trained effectively.\n",
        "\n",
        "The 'one-hot encoding' process allows these categorical variables to be converted into a binary numeric representation. For each unique category in each categorical variable, a new binary column is created. If a row has a certain category, the corresponding column will contain a value of 1, otherwise it will be 0.\n",
        "\n",
        "Merging X_train and X_test into a single combined_data dataset ensures that the one-hot encoding takes into account all categories present in both sets. This is crucial to ensure that the same categories are represented consistently in both datasets.\n",
        "\n",
        "Next, X_train_encoded and X_test_encoded are separated by combined_data_encoded. These two new datasets contain the original variables encoded in binary form, ready to be used in training and evaluation of machine learning models. This technique is critical to ensure that categorical variables are usable in algorithms that require numerical data, thus enabling accurate analysis and prediction based on this categorical information."
      ]
    },
    {
      "cell_type": "code",
      "execution_count": 43,
      "metadata": {
        "colab": {
          "base_uri": "https://localhost:8080/"
        },
        "id": "MGMC2XH7klwx",
        "outputId": "361a40cf-bd3f-4d41-da44-a9da7c9b29fe"
      },
      "outputs": [
        {
          "name": "stdout",
          "output_type": "stream",
          "text": [
            "Default parameters of RandomForestClassifier:\n",
            "{'bootstrap': True, 'ccp_alpha': 0.0, 'class_weight': None, 'criterion': 'gini', 'max_depth': None, 'max_features': 'auto', 'max_leaf_nodes': None, 'max_samples': None, 'min_impurity_decrease': 0.0, 'min_samples_leaf': 1, 'min_samples_split': 2, 'min_weight_fraction_leaf': 0.0, 'n_estimators': 100, 'n_jobs': None, 'oob_score': False, 'random_state': None, 'verbose': 0, 'warm_start': False}\n"
          ]
        }
      ],
      "source": [
        "from sklearn.ensemble import RandomForestClassifier\n",
        "\n",
        "rf_classifier = RandomForestClassifier()\n",
        "\n",
        "rf_classifier.fit(X_train_encoded, y_train)\n",
        "\n",
        "print(\"Default parameters of RandomForestClassifier:\")\n",
        "print(rf_classifier.get_params())"
      ]
    },
    {
      "cell_type": "code",
      "execution_count": 44,
      "metadata": {
        "colab": {
          "base_uri": "https://localhost:8080/"
        },
        "id": "8meXPtlFjirF",
        "outputId": "411da31e-f5c9-414d-e17c-490ae352596a"
      },
      "outputs": [
        {
          "name": "stdout",
          "output_type": "stream",
          "text": [
            "[0.18 0.32 0.2  ... 0.49 0.25 0.5 ]\n"
          ]
        }
      ],
      "source": [
        "probabilities = rf_classifier.predict_proba(X_test_encoded)\n",
        "\n",
        "positive_class_probabilities = probabilities[:, 1]\n",
        "\n",
        "print(positive_class_probabilities)"
      ]
    },
    {
      "cell_type": "code",
      "execution_count": 45,
      "metadata": {
        "colab": {
          "base_uri": "https://localhost:8080/"
        },
        "id": "eloDEMkEjizk",
        "outputId": "d99a43b1-760f-4590-fdeb-2ff1c1ae71aa"
      },
      "outputs": [
        {
          "name": "stdout",
          "output_type": "stream",
          "text": [
            "AUC-ROC Score Random Forest: 0.8942229547529091\n"
          ]
        }
      ],
      "source": [
        "positive_probs = rf_classifier.predict_proba(X_test_encoded)[:, 1]\n",
        "\n",
        "\n",
        "auc_rocRF = roc_auc_score(y_test, positive_probs)\n",
        "print(\"AUC-ROC Score Random Forest:\", auc_rocRF)"
      ]
    },
    {
      "cell_type": "markdown",
      "metadata": {
        "id": "i-CuQSUdwT33"
      },
      "source": [
        "The AUC-ROC score (Area Under the Receiver Operating Characteristic Curve) is a numerical measure of the area under the ROC curve. This value represents the ability of a classification model to distinguish between positive and negative classes. In other words, the AUC-ROC score quantifies how well the model is able to separate positive and negative instances without being affected by the specific choice of classification threshold.\n",
        "\n",
        "The AUC-ROC score is particularly useful when comparing binary classification models and wanting an overall assessment of their performance without having to choose a specific decision threshold. A higher AUC-ROC value generally indicates a better model in distinguishing between positive and negative classes.\n",
        "\n",
        "AUC-ROC = 1: Indicates a perfect model that is able to distinguish perfectly between positive and negative classes while\n",
        "AUC-ROC < 0.5: Indicates that the model is performing worse than a random case."
      ]
    },
    {
      "cell_type": "code",
      "execution_count": 46,
      "metadata": {
        "colab": {
          "base_uri": "https://localhost:8080/"
        },
        "id": "OXQIVYeD5pDv",
        "outputId": "8952a775-b2eb-4c0c-ab1b-0c002163fe5d"
      },
      "outputs": [
        {
          "name": "stdout",
          "output_type": "stream",
          "text": [
            "Accuracy Random forest: 0.8213170223841749\n",
            "Sensitivity (True Positive Rate): 0.6363295880149813\n",
            "Specificity (True Negative Rate): 0.9198244914240128\n"
          ]
        }
      ],
      "source": [
        "predictionsRF = rf_classifier.predict(X_test_encoded)\n",
        "\n",
        "\n",
        "accuracyRF = accuracy_score(y_test, predictionsRF)\n",
        "print(\"Accuracy Random forest:\", accuracyRF)\n",
        "\n",
        "conf_matrix = confusion_matrix(y_test, predictionsRF)\n",
        "\n",
        "true_negative, false_positive, false_negative, true_positive = conf_matrix.ravel()\n",
        "\n",
        "\n",
        "sensitivity = true_positive / (true_positive + false_negative)\n",
        "specificity = true_negative / (true_negative + false_positive)\n",
        "\n",
        "print(\"Sensitivity (True Positive Rate):\", sensitivity)\n",
        "print(\"Specificity (True Negative Rate):\", specificity)"
      ]
    },
    {
      "cell_type": "markdown",
      "metadata": {
        "id": "dnRM-RXjwjkh"
      },
      "source": [
        "1) Sensitivity measures the proportion of true positives (correctly classified positive instances) to the total number of true positive instances in the dataset. In other words, it indicates the model's ability to correctly identify instances of the positive class.<br>\n",
        "Sensitivity (TPR) = $ = \\frac{TP}{TP+FN}$<br>\n",
        "​Sensitivity is important when the cost of a false negative (a negative prediction for an actually positive instance) is high, for example, in a diagnostic test where missing a positive condition is serious.\n",
        "\n",
        "2) Specificity measures the proportion of true negatives (correctly classified negative instances) to the total number of true negative instances in the dataset. It indicates the model's ability to correctly identify instances of the negative class.<br>\n",
        "Specificity (TNR) = $ = \\frac{TN}{TF+FP}$<br>\n",
        "Specificity is important when the cost of a false positive (a positive prediction for an actually negative instance) is high, for example, in a test to identify dangerous behavior or safety situations."
      ]
    },
    {
      "cell_type": "code",
      "execution_count": 47,
      "metadata": {
        "colab": {
          "base_uri": "https://localhost:8080/",
          "height": 564
        },
        "id": "byKDsJgSyncG",
        "outputId": "5d295ec7-0295-47cd-d84e-d8d0b7d41634"
      },
      "outputs": [
        {
          "data": {
            "image/png": "[encoded data removed]",
            "text/plain": [
              "<Figure size 800x600 with 1 Axes>"
            ]
          },
          "metadata": {},
          "output_type": "display_data"
        }
      ],
      "source": [
        "fpr, tpr, thresholds = roc_curve(y_test, positive_probs)\n",
        "roc_auc = auc(fpr, tpr)\n",
        "\n",
        "\n",
        "plt.figure(figsize=(8, 6))\n",
        "plt.plot(fpr, tpr, color='darkorange', lw=2, label='ROC Curve (area = %0.2f)' % roc_auc)\n",
        "plt.plot([0, 1], [0, 1], color='navy', lw=2, linestyle='--')\n",
        "plt.xlim([0.0, 1.0])\n",
        "plt.ylim([0.0, 1.05])\n",
        "plt.xlabel('False Positive Rate')\n",
        "plt.ylabel('True Positive Rate')\n",
        "plt.title('ROC Curve Random Forest')\n",
        "plt.legend(loc='lower right')\n",
        "plt.show()\n"
      ]
    },
    {
      "cell_type": "markdown",
      "metadata": {
        "id": "iH72SeMDzXvg"
      },
      "source": [
        "This code is used to visualize the ROC curve (Receiver Operating Characteristic curve) and calculate the AUC-ROC score for a binary classification model.\n",
        "\n",
        "First the true positive and false positive rates are calculated for the classes predicted by the model, and then these quantities are used to calculate the Area Under the Curve (AUC) using false positive rates (fpr) and true positive rates (tpr)."
      ]
    },
    {
      "cell_type": "markdown",
      "metadata": {
        "id": "dB4qE77QCGyN"
      },
      "source": [
        "### Block 3 (Optional)"
      ]
    },
    {
      "cell_type": "markdown",
      "metadata": {
        "id": "zJYd2SpHnwHh"
      },
      "source": [
        "#### Gradient Boosting"
      ]
    },
    {
      "cell_type": "code",
      "execution_count": 48,
      "metadata": {
        "id": "9B-kkvqRCMnn"
      },
      "outputs": [],
      "source": [
        "from sklearn.ensemble import GradientBoostingClassifier"
      ]
    },
    {
      "cell_type": "code",
      "execution_count": 49,
      "metadata": {
        "colab": {
          "base_uri": "https://localhost:8080/"
        },
        "id": "enGHLcJPGeIn",
        "outputId": "adff3cba-4b6f-482d-81f3-f8c229629406"
      },
      "outputs": [
        {
          "name": "stdout",
          "output_type": "stream",
          "text": [
            "Default parameters of Gradient Boosting:\n",
            "{'ccp_alpha': 0.0, 'criterion': 'friedman_mse', 'init': None, 'learning_rate': 0.1, 'loss': 'deviance', 'max_depth': 3, 'max_features': None, 'max_leaf_nodes': None, 'min_impurity_decrease': 0.0, 'min_samples_leaf': 1, 'min_samples_split': 2, 'min_weight_fraction_leaf': 0.0, 'n_estimators': 100, 'n_iter_no_change': None, 'random_state': None, 'subsample': 1.0, 'tol': 0.0001, 'validation_fraction': 0.1, 'verbose': 0, 'warm_start': False}\n"
          ]
        }
      ],
      "source": [
        "gb_clf = GradientBoostingClassifier()\n",
        "gb_clf.fit(X_train_encoded, y_train)\n",
        "print(\"Default parameters of Gradient Boosting:\")\n",
        "print(gb_clf.get_params())"
      ]
    },
    {
      "cell_type": "code",
      "execution_count": 50,
      "metadata": {
        "colab": {
          "base_uri": "https://localhost:8080/"
        },
        "id": "Ci33wmphSpSO",
        "outputId": "ae7ecc09-76b3-4bbc-e359-16f6286eb014"
      },
      "outputs": [
        {
          "name": "stdout",
          "output_type": "stream",
          "text": [
            "AUC-ROC Score Gradiet Boosting: 0.9433354024461844\n"
          ]
        }
      ],
      "source": [
        "positive_probs = gb_clf.predict_proba(X_test_encoded)[:, 1]\n",
        "\n",
        "auc_rocGB = roc_auc_score(y_test, positive_probs)\n",
        "print(\"AUC-ROC Score Gradiet Boosting:\", auc_rocGB)"
      ]
    },
    {
      "cell_type": "code",
      "execution_count": 51,
      "metadata": {
        "colab": {
          "base_uri": "https://localhost:8080/"
        },
        "id": "72W256V2a5j7",
        "outputId": "4c10e470-1446-4692-89f8-22b890e6a045"
      },
      "outputs": [
        {
          "name": "stdout",
          "output_type": "stream",
          "text": [
            "Sensitivity (True Positive Rate): 0.7149812734082397\n",
            "Specificity (True Negative Rate): 0.9495412844036697\n"
          ]
        }
      ],
      "source": [
        "predictionsGB = gb_clf.predict(X_test_encoded)\n",
        "\n",
        "conf_matrix = confusion_matrix(y_test, predictionsGB)\n",
        "\n",
        "true_negative, false_positive, false_negative, true_positive = conf_matrix.ravel()\n",
        "\n",
        "\n",
        "sensitivity = true_positive / (true_positive + false_negative)\n",
        "specificity = true_negative / (true_negative + false_positive)\n",
        "\n",
        "print(\"Sensitivity (True Positive Rate):\", sensitivity)\n",
        "print(\"Specificity (True Negative Rate):\", specificity)"
      ]
    },
    {
      "cell_type": "code",
      "execution_count": 53,
      "metadata": {
        "colab": {
          "base_uri": "https://localhost:8080/"
        },
        "id": "RBHEElA1GeK5",
        "outputId": "ede27f03-72c0-4d05-b675-fca6be1e4407"
      },
      "outputs": [
        {
          "name": "stdout",
          "output_type": "stream",
          "text": [
            "Accuracy of model: 0.8680374804789173\n",
            "Precision: [0.86218761 0.88297872]\n",
            "Recall: [0.94954128 0.71498127]\n",
            "F1-score: [0.90375854 0.79014901]\n",
            "              precision    recall  f1-score   support\n",
            "\n",
            "    Negative       0.86      0.95      0.90      5014\n",
            "    Positive       0.88      0.71      0.79      2670\n",
            "\n",
            "    accuracy                           0.87      7684\n",
            "   macro avg       0.87      0.83      0.85      7684\n",
            "weighted avg       0.87      0.87      0.86      7684\n",
            "\n"
          ]
        }
      ],
      "source": [
        "accuracyGB = accuracy_score(y_test, predictionsGB)\n",
        "print(f'Accuracy of model: {accuracyGB}')\n",
        "\n",
        "\n",
        "precisionGB = precision_score(y_test, predictionsGB, average=None)\n",
        "recallGB = recall_score(y_test, predictionsGB, average=None)\n",
        "f1GB = f1_score(y_test, predictionsGB, average=None)\n",
        "\n",
        "print(f'Precision: {precisionGB}')\n",
        "print(f'Recall: {recallGB}')\n",
        "print(f'F1-score: {f1GB}')\n",
        "\n",
        "class_names = [\"Negative\", \"Positive\"]\n",
        "print(classification_report(y_test, predictionsGB, target_names=class_names))"
      ]
    },
    {
      "cell_type": "code",
      "execution_count": 54,
      "metadata": {
        "colab": {
          "base_uri": "https://localhost:8080/",
          "height": 564
        },
        "id": "KlzzyWvtGeP2",
        "outputId": "5a458407-1703-44fa-e740-c1c3340aa5de"
      },
      "outputs": [
        {
          "data": {
            "image/png": "[encoded data removed]",
            "text/plain": [
              "<Figure size 800x600 with 1 Axes>"
            ]
          },
          "metadata": {},
          "output_type": "display_data"
        }
      ],
      "source": [
        "probabilities = gb_clf.decision_function(X_test_encoded)\n",
        "fpr, tpr, thresholds = roc_curve(y_test, probabilities)\n",
        "auc = roc_auc_score(y_test, probabilities)\n",
        "\n",
        "plt.figure(figsize=(8, 6))\n",
        "plt.plot(fpr, tpr, color='darkorange', lw=2, label=f'AUC = {auc:.2f}')\n",
        "plt.plot([0, 1], [0, 1], color='navy', lw=2, linestyle='--')\n",
        "plt.xlabel('False Positive Rate')\n",
        "plt.ylabel('True Positive Rate')\n",
        "plt.title('ROC Curve Gradient Boosting')\n",
        "plt.legend(loc='lower right')\n",
        "plt.show()\n"
      ]
    },
    {
      "cell_type": "markdown",
      "metadata": {
        "id": "Eg6hkeevnrUu"
      },
      "source": [
        "#### SVM"
      ]
    },
    {
      "cell_type": "code",
      "execution_count": 62,
      "metadata": {
        "id": "Q-yjImydntqO"
      },
      "outputs": [
        {
          "name": "stdout",
          "output_type": "stream",
          "text": [
            "Default parameters of SVM Classifier:\n",
            "{'C': 1.0, 'break_ties': False, 'cache_size': 200, 'class_weight': None, 'coef0': 0.0, 'decision_function_shape': 'ovr', 'degree': 3, 'gamma': 'scale', 'kernel': 'rbf', 'max_iter': -1, 'probability': True, 'random_state': None, 'shrinking': True, 'tol': 0.001, 'verbose': False}\n"
          ]
        }
      ],
      "source": [
        "from sklearn.svm import SVC\n",
        "\n",
        "svm_classifier = SVC()\n",
        "svm_classifier.fit(X_train_encoded, y_train)\n",
        "\n",
        "print(\"Default parameters of SVM Classifier:\")\n",
        "print(svm_classifier.get_params())"
      ]
    },
    {
      "cell_type": "code",
      "execution_count": 63,
      "metadata": {
        "colab": {
          "base_uri": "https://localhost:8080/"
        },
        "id": "76xi4Ks6S0LW",
        "outputId": "682cb245-b8ab-4a05-9c8e-f92209d7f93f"
      },
      "outputs": [
        {
          "name": "stdout",
          "output_type": "stream",
          "text": [
            "AUC-ROC Score SVM: 0.8030404380842256\n"
          ]
        }
      ],
      "source": [
        "positive_probs = svm_classifier.predict_proba(X_test_encoded)[:, 1]\n",
        "\n",
        "auc_rocSVM = roc_auc_score(y_test, positive_probs)\n",
        "print(\"AUC-ROC Score SVM:\", auc_rocSVM)"
      ]
    },
    {
      "cell_type": "code",
      "execution_count": 132,
      "metadata": {
        "colab": {
          "base_uri": "https://localhost:8080/"
        },
        "id": "kDCUaeA8amSf",
        "outputId": "5ee61250-cff3-499d-bcd2-a9fe4544a46a"
      },
      "outputs": [
        {
          "name": "stdout",
          "output_type": "stream",
          "text": [
            "Sensitivity (True Positive Rate): 0.36816479400749064\n",
            "Specificity (True Negative Rate): 0.9357798165137615\n"
          ]
        }
      ],
      "source": [
        "predictionsSVM = svm_classifier.predict(X_test_encoded)\n",
        "\n",
        "conf_matrix = confusion_matrix(y_test, predictionsSVM)\n",
        "\n",
        "true_negative, false_positive, false_negative, true_positive = conf_matrix.ravel()\n",
        "\n",
        "\n",
        "sensitivity = true_positive / (true_positive + false_negative)\n",
        "specificity = true_negative / (true_negative + false_positive)\n",
        "\n",
        "print(\"Sensitivity (True Positive Rate):\", sensitivity)\n",
        "print(\"Specificity (True Negative Rate):\", specificity)"
      ]
    },
    {
      "cell_type": "code",
      "execution_count": 133,
      "metadata": {
        "colab": {
          "base_uri": "https://localhost:8080/"
        },
        "id": "9vAcURQyn3z9",
        "outputId": "6ccc1b5c-78f1-4ab6-b6bb-a8e9e43083c2"
      },
      "outputs": [
        {
          "name": "stdout",
          "output_type": "stream",
          "text": [
            "Accuracy of model: 0.7385476314419573\n",
            "Precision: [0.73553849 0.7532567 ]\n",
            "Recall: [0.93577982 0.36816479]\n",
            "F1-score: [0.82366365 0.49459119]\n",
            "              precision    recall  f1-score   support\n",
            "\n",
            "    Negative       0.74      0.94      0.82      5014\n",
            "    Positive       0.75      0.37      0.49      2670\n",
            "\n",
            "    accuracy                           0.74      7684\n",
            "   macro avg       0.74      0.65      0.66      7684\n",
            "weighted avg       0.74      0.74      0.71      7684\n",
            "\n"
          ]
        }
      ],
      "source": [
        "accuracySVM = accuracy_score(y_test, predictionsSVM)\n",
        "print(f'Accuracy of model: {accuracySVM}')\n",
        "\n",
        "\n",
        "precisionSVM = precision_score(y_test, predictionsSVM, average=None)\n",
        "recallSVM = recall_score(y_test, predictionsSVM, average=None)\n",
        "f1SVM = f1_score(y_test, predictionsSVM, average=None)\n",
        "\n",
        "print(f'Precision: {precisionSVM}')\n",
        "print(f'Recall: {recallSVM}')\n",
        "print(f'F1-score: {f1SVM}')\n",
        "\n",
        "class_names = [\"Negative\", \"Positive\"]\n",
        "print(classification_report(y_test, predictionsSVM, target_names=class_names))\n",
        "\n"
      ]
    },
    {
      "cell_type": "code",
      "execution_count": 134,
      "metadata": {
        "colab": {
          "base_uri": "https://localhost:8080/",
          "height": 564
        },
        "id": "BAc9T11atIPQ",
        "outputId": "1187d712-12f5-4652-d237-4f0f37a24f12"
      },
      "outputs": [
        {
          "data": {
            "image/png": "[encoded data removed]",
            "text/plain": [
              "<Figure size 800x600 with 1 Axes>"
            ]
          },
          "metadata": {},
          "output_type": "display_data"
        }
      ],
      "source": [
        "probabilities = svm_classifier.decision_function(X_test_encoded)\n",
        "fpr, tpr, thresholds = roc_curve(y_test, probabilities)\n",
        "auc = roc_auc_score(y_test, probabilities)\n",
        "\n",
        "plt.figure(figsize=(8, 6))\n",
        "plt.plot(fpr, tpr, color='darkorange', lw=2, label=f'AUC = {auc:.2f}')\n",
        "plt.plot([0, 1], [0, 1], color='navy', lw=2, linestyle='--')\n",
        "plt.xlabel('False Positive Rate')\n",
        "plt.ylabel('True Positive Rate')\n",
        "plt.title('ROC Curve')\n",
        "plt.legend(loc='lower right')\n",
        "plt.show()\n",
        "\n"
      ]
    },
    {
      "cell_type": "markdown",
      "metadata": {
        "id": "4GZeTCx1-SZC"
      },
      "source": [
        "#### Results"
      ]
    },
    {
      "cell_type": "code",
      "execution_count": null,
      "metadata": {
        "colab": {
          "base_uri": "https://localhost:8080/",
          "height": 250
        },
        "id": "VPBEtRi78sB8",
        "outputId": "69183b33-5339-4790-de3e-88257adddbb0"
      },
      "outputs": [
        {
          "data": {
            "text/html": [
              "<table border=\"1\" class=\"dataframe\">\n",
              "  <thead>\n",
              "    <tr style=\"text-align: right;\">\n",
              "      <th>Models</th>\n",
              "      <th>Accuracy</th>\n",
              "      <th>AUC-ROC-Score</th>\n",
              "    </tr>\n",
              "  </thead>\n",
              "  <tbody>\n",
              "    <tr>\n",
              "      <td>Random Forest</td>\n",
              "      <td>0.819625</td>\n",
              "      <td>0.892563</td>\n",
              "    </tr>\n",
              "    <tr>\n",
              "      <td>Gradient Boosting</td>\n",
              "      <td>0.868037</td>\n",
              "      <td>0.943335</td>\n",
              "    </tr>\n",
              "    <tr>\n",
              "      <td>Support Vector Machine</td>\n",
              "      <td>0.738548</td>\n",
              "      <td>0.803040</td>\n",
              "    </tr>\n",
              "  </tbody>\n",
              "</table>"
            ],
            "text/plain": [
              "<IPython.core.display.HTML object>"
            ]
          },
          "metadata": {},
          "output_type": "display_data"
        }
      ],
      "source": [
        "res = {\n",
        "    'Models': ['Random Forest', 'Gradient Boosting', 'Support Vector Machine'],\n",
        "    'Accuracy': [accuracyRF, accuracyGB, accuracySVM],\n",
        "    'AUC-ROC-Score': [auc_rocRF, auc_rocGB, auc_rocSVM],\n",
        "\n",
        "}\n",
        "\n",
        "\n",
        "results = pd.DataFrame(res)\n",
        "display(HTML(results.to_html(index=False)))"
      ]
    }
  ],
  "metadata": {
    "colab": {
      "collapsed_sections": [
        "8HGqkcGVu8GZ",
        "llXSD3WCu2wc",
        "b-MPIQZn8UGi",
        "f_WwrHkDwITo",
        "WB2wZxAnmATo"
      ],
      "provenance": []
    },
    "kernelspec": {
      "display_name": "Python 3",
      "name": "python3"
    },
    "language_info": {
      "codemirror_mode": {
        "name": "ipython",
        "version": 3
      },
      "file_extension": ".py",
      "mimetype": "text/x-python",
      "name": "python",
      "nbconvert_exporter": "python",
      "pygments_lexer": "ipython3",
      "version": "3.9.13"
    }
  },
  "nbformat": 4,
  "nbformat_minor": 0
}
