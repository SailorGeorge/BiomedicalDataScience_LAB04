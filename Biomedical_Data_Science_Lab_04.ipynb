{
  "nbformat": 4,
  "nbformat_minor": 0,
  "metadata": {
    "colab": {
      "provenance": [],
      "collapsed_sections": [
        "8HGqkcGVu8GZ",
        "llXSD3WCu2wc",
        "b-MPIQZn8UGi",
        "f_WwrHkDwITo",
        "zJYd2SpHnwHh",
        "Eg6hkeevnrUu",
        "4GZeTCx1-SZC"
      ]
    },
    "kernelspec": {
      "name": "python3",
      "display_name": "Python 3"
    },
    "language_info": {
      "name": "python"
    }
  },
  "cells": [
    {
      "cell_type": "markdown",
      "source": [
        "# Biomedical Data Science - LAB 04\n",
        "Group members:\n",
        "\n",
        "· Enrico Maria Marinelli\n",
        "\n",
        "· Francesco Pio Capoccello\n",
        "\n",
        "· Juras LukaŠevičius"
      ],
      "metadata": {
        "id": "jSmQIhienF58"
      }
    },
    {
      "cell_type": "markdown",
      "source": [
        "###Import"
      ],
      "metadata": {
        "id": "8HGqkcGVu8GZ"
      }
    },
    {
      "cell_type": "code",
      "source": [
        "import numpy as np\n",
        "import pandas as pd\n",
        "import matplotlib.pyplot as plt\n",
        "from sklearn import neural_network as nn\n",
        "from sklearn import metrics\n",
        "from sklearn.model_selection import train_test_split\n",
        "import tensorflow as tf\n",
        "from tensorflow import keras as tfk\n",
        "from keras import layers as tfkl\n",
        "import json\n",
        "import pickle\n",
        "from sklearn.metrics import roc_auc_score, roc_curve, auc\n",
        "from sklearn.metrics import accuracy_score, precision_score, recall_score, f1_score, classification_report\n",
        "from sklearn.metrics import confusion_matrix\n",
        "from IPython.display import HTML"
      ],
      "metadata": {
        "id": "6jp-Vd1jnECs"
      },
      "execution_count": null,
      "outputs": []
    },
    {
      "cell_type": "code",
      "source": [
        "df = df=pd.read_csv(\"inadvance_synth.csv\",sep=\";\")"
      ],
      "metadata": {
        "id": "tV9bv1r-nEF0"
      },
      "execution_count": null,
      "outputs": []
    },
    {
      "cell_type": "markdown",
      "source": [
        "###Block 1"
      ],
      "metadata": {
        "id": "llXSD3WCu2wc"
      }
    },
    {
      "cell_type": "code",
      "source": [
        "df = df.drop(df.columns[0], axis=1)"
      ],
      "metadata": {
        "id": "ismgVOUboICU"
      },
      "execution_count": null,
      "outputs": []
    },
    {
      "cell_type": "code",
      "source": [
        "df.info()"
      ],
      "metadata": {
        "colab": {
          "base_uri": "https://localhost:8080/"
        },
        "id": "4JVNipQYoAVl",
        "outputId": "4929a37f-75c4-4be1-c5d6-92776be9f945"
      },
      "execution_count": null,
      "outputs": [
        {
          "output_type": "stream",
          "name": "stdout",
          "text": [
            "<class 'pandas.core.frame.DataFrame'>\n",
            "RangeIndex: 38416 entries, 0 to 38415\n",
            "Data columns (total 21 columns):\n",
            " #   Column               Non-Null Count  Dtype  \n",
            "---  ------               --------------  -----  \n",
            " 0   age                  38416 non-null  int64  \n",
            " 1   barthel              10218 non-null  float64\n",
            " 2   charlson             38339 non-null  float64\n",
            " 3   codidiagingreso      27038 non-null  object \n",
            " 4   codservicioreal      38416 non-null  object \n",
            " 5   creatinina           30465 non-null  float64\n",
            " 6   drg                  34776 non-null  float64\n",
            " 7   estancias            38416 non-null  float64\n",
            " 8   glucosa              29188 non-null  float64\n",
            " 9   hematocrito          30114 non-null  float64\n",
            " 10  leucocitos           30114 non-null  float64\n",
            " 11  metastatic_tumor     38339 non-null  float64\n",
            " 12  num_grupoact3_HOSP   17415 non-null  float64\n",
            " 13  numurgenciasprevias  37864 non-null  float64\n",
            " 14  potasio              29770 non-null  float64\n",
            " 15  proteina_c_reactiva  20241 non-null  float64\n",
            " 16  rdw_cv               30082 non-null  float64\n",
            " 17  rdw_sd               30082 non-null  float64\n",
            " 18  sodio                30274 non-null  float64\n",
            " 19  urea                 24156 non-null  float64\n",
            " 20  label                38416 non-null  float64\n",
            "dtypes: float64(18), int64(1), object(2)\n",
            "memory usage: 6.2+ MB\n"
          ]
        }
      ]
    },
    {
      "cell_type": "code",
      "source": [
        "df.shape\n"
      ],
      "metadata": {
        "colab": {
          "base_uri": "https://localhost:8080/"
        },
        "id": "DIcZyuR5oLAa",
        "outputId": "97f15e75-0b2a-44b9-a619-e1439bb857da"
      },
      "execution_count": null,
      "outputs": [
        {
          "output_type": "execute_result",
          "data": {
            "text/plain": [
              "(38416, 21)"
            ]
          },
          "metadata": {},
          "execution_count": 7
        }
      ]
    },
    {
      "cell_type": "code",
      "source": [
        "media = df.age.mean()\n",
        "print(media)"
      ],
      "metadata": {
        "colab": {
          "base_uri": "https://localhost:8080/"
        },
        "id": "-VT2feFSpgGX",
        "outputId": "1daf68a7-1ada-4f35-c89e-32c68525021c"
      },
      "execution_count": null,
      "outputs": [
        {
          "output_type": "stream",
          "name": "stdout",
          "text": [
            "79.4033215326947\n"
          ]
        }
      ]
    },
    {
      "cell_type": "code",
      "source": [
        "std=df.age.std()\n",
        "print(std)"
      ],
      "metadata": {
        "colab": {
          "base_uri": "https://localhost:8080/"
        },
        "id": "2mI6ohs6qJ3m",
        "outputId": "525765b3-7c9f-41e2-fac3-6ab9a4113e52"
      },
      "execution_count": null,
      "outputs": [
        {
          "output_type": "stream",
          "name": "stdout",
          "text": [
            "8.361737254115944\n"
          ]
        }
      ]
    },
    {
      "cell_type": "code",
      "source": [
        "valorinulli = df.isnull().sum()\n",
        "features_ordinate = valorinulli.sort_values(ascending=False)\n",
        "print(features_ordinate)"
      ],
      "metadata": {
        "colab": {
          "base_uri": "https://localhost:8080/"
        },
        "id": "eGmwvplCrgwG",
        "outputId": "2821452f-72b9-40cb-b09f-5ff9476b9a5a"
      },
      "execution_count": null,
      "outputs": [
        {
          "output_type": "stream",
          "name": "stdout",
          "text": [
            "barthel                28198\n",
            "num_grupoact3_HOSP     21001\n",
            "proteina_c_reactiva    18175\n",
            "urea                   14260\n",
            "codidiagingreso        11378\n",
            "glucosa                 9228\n",
            "potasio                 8646\n",
            "rdw_sd                  8334\n",
            "rdw_cv                  8334\n",
            "hematocrito             8302\n",
            "leucocitos              8302\n",
            "sodio                   8142\n",
            "creatinina              7951\n",
            "drg                     3640\n",
            "numurgenciasprevias      552\n",
            "metastatic_tumor          77\n",
            "charlson                  77\n",
            "age                        0\n",
            "estancias                  0\n",
            "codservicioreal            0\n",
            "label                      0\n",
            "dtype: int64\n"
          ]
        }
      ]
    },
    {
      "cell_type": "code",
      "source": [
        "df['metastatic_tumor'] = df['metastatic_tumor'].astype('object')"
      ],
      "metadata": {
        "id": "SgAWwbqBwjuy"
      },
      "execution_count": null,
      "outputs": []
    },
    {
      "cell_type": "code",
      "source": [
        "df.info()"
      ],
      "metadata": {
        "colab": {
          "base_uri": "https://localhost:8080/"
        },
        "id": "zicERcvx1X-D",
        "outputId": "8b995fab-466e-4e38-d3c3-8615c3c2c67c"
      },
      "execution_count": null,
      "outputs": [
        {
          "output_type": "stream",
          "name": "stdout",
          "text": [
            "<class 'pandas.core.frame.DataFrame'>\n",
            "RangeIndex: 38416 entries, 0 to 38415\n",
            "Data columns (total 21 columns):\n",
            " #   Column               Non-Null Count  Dtype  \n",
            "---  ------               --------------  -----  \n",
            " 0   age                  38416 non-null  int64  \n",
            " 1   barthel              10218 non-null  float64\n",
            " 2   charlson             38339 non-null  float64\n",
            " 3   codidiagingreso      27038 non-null  object \n",
            " 4   codservicioreal      38416 non-null  object \n",
            " 5   creatinina           30465 non-null  float64\n",
            " 6   drg                  34776 non-null  float64\n",
            " 7   estancias            38416 non-null  float64\n",
            " 8   glucosa              29188 non-null  float64\n",
            " 9   hematocrito          30114 non-null  float64\n",
            " 10  leucocitos           30114 non-null  float64\n",
            " 11  metastatic_tumor     38339 non-null  object \n",
            " 12  num_grupoact3_HOSP   17415 non-null  float64\n",
            " 13  numurgenciasprevias  37864 non-null  float64\n",
            " 14  potasio              29770 non-null  float64\n",
            " 15  proteina_c_reactiva  20241 non-null  float64\n",
            " 16  rdw_cv               30082 non-null  float64\n",
            " 17  rdw_sd               30082 non-null  float64\n",
            " 18  sodio                30274 non-null  float64\n",
            " 19  urea                 24156 non-null  float64\n",
            " 20  label                38416 non-null  float64\n",
            "dtypes: float64(17), int64(1), object(3)\n",
            "memory usage: 6.2+ MB\n"
          ]
        }
      ]
    },
    {
      "cell_type": "code",
      "source": [
        "variabili_categoriche = df.select_dtypes(include=['object'])\n",
        "print(variabili_categoriche.columns.tolist())"
      ],
      "metadata": {
        "colab": {
          "base_uri": "https://localhost:8080/"
        },
        "id": "5AIGy6rTsN0k",
        "outputId": "fb40539b-0438-43d4-eaad-ee973707c822"
      },
      "execution_count": null,
      "outputs": [
        {
          "output_type": "stream",
          "name": "stdout",
          "text": [
            "['codidiagingreso', 'codservicioreal', 'metastatic_tumor']\n"
          ]
        }
      ]
    },
    {
      "cell_type": "code",
      "source": [
        "df['label'].value_counts(ascending=True)"
      ],
      "metadata": {
        "colab": {
          "base_uri": "https://localhost:8080/"
        },
        "id": "edyxITietT5B",
        "outputId": "c99d4565-98ba-4126-dc5a-187f5851740e"
      },
      "execution_count": null,
      "outputs": [
        {
          "output_type": "execute_result",
          "data": {
            "text/plain": [
              "1.0    13431\n",
              "0.0    24985\n",
              "Name: label, dtype: int64"
            ]
          },
          "metadata": {},
          "execution_count": 14
        }
      ]
    },
    {
      "cell_type": "code",
      "source": [
        "df.shape"
      ],
      "metadata": {
        "colab": {
          "base_uri": "https://localhost:8080/"
        },
        "id": "FW3jXZSN6zWN",
        "outputId": "543ce663-f28d-45d8-886e-bc2bb7f86294"
      },
      "execution_count": null,
      "outputs": [
        {
          "output_type": "execute_result",
          "data": {
            "text/plain": [
              "(38416, 21)"
            ]
          },
          "metadata": {},
          "execution_count": 15
        }
      ]
    },
    {
      "cell_type": "markdown",
      "source": [
        "###Block 2"
      ],
      "metadata": {
        "id": "PHPgUjzkvA8z"
      }
    },
    {
      "cell_type": "markdown",
      "source": [
        "#####Question 1"
      ],
      "metadata": {
        "id": "b-MPIQZn8UGi"
      }
    },
    {
      "cell_type": "code",
      "source": [
        "df.head(10)"
      ],
      "metadata": {
        "colab": {
          "base_uri": "https://localhost:8080/"
        },
        "id": "3jqf9Iok0eHe",
        "outputId": "c68275b3-d15c-4e7a-a480-079f2c4e81c4"
      },
      "execution_count": null,
      "outputs": [
        {
          "output_type": "execute_result",
          "data": {
            "text/plain": [
              "   age  barthel  charlson codidiagingreso codservicioreal  creatinina    drg  \\\n",
              "0   80      NaN       4.0             NaN            HNEM        0.42  141.0   \n",
              "1   67      NaN       5.0             NaN            HNEF         NaN  444.0   \n",
              "2   75      NaN      13.0          M97303            HHEM        0.92  691.0   \n",
              "3   75      NaN       0.0          560.81            HCDG        0.96    NaN   \n",
              "4   81     95.0       6.0             NaN            HCAR        1.54  194.0   \n",
              "5   84      NaN       3.0          531.00            HMDG        0.98  241.0   \n",
              "6   71    100.0       6.0          198.89            HONC        0.90  694.0   \n",
              "7   87     25.0       6.0            E911            HMUR        1.25  137.0   \n",
              "8   97      0.0       0.0             486            HMUR        1.17  139.0   \n",
              "9   78      NaN       0.0           736.6            HCOT        0.59  302.0   \n",
              "\n",
              "   estancias  glucosa  hematocrito  ...  metastatic_tumor num_grupoact3_HOSP  \\\n",
              "0        7.0    110.0    29.548684  ...               0.0                NaN   \n",
              "1       11.0      NaN    30.648684  ...               0.0                NaN   \n",
              "2       14.0      NaN    33.848684  ...               0.0                NaN   \n",
              "3        3.0     87.3    38.448684  ...               0.0                NaN   \n",
              "4        4.0     95.7    32.548684  ...               0.0                6.0   \n",
              "5        4.0    126.0    32.248684  ...               0.0                NaN   \n",
              "6       32.0     81.0    39.810714  ...               1.0                NaN   \n",
              "7        3.0     85.0    34.848684  ...               0.0                2.0   \n",
              "8        5.0    106.7    32.448684  ...               0.0                NaN   \n",
              "9       14.0    135.0    35.548684  ...               0.0                NaN   \n",
              "\n",
              "   numurgenciasprevias   potasio  proteina_c_reactiva    rdw_cv     rdw_sd  \\\n",
              "0                  6.0  4.653334                  NaN  24.90000  83.100000   \n",
              "1                  1.0       NaN                  NaN  14.80000  46.300000   \n",
              "2                 16.0  5.153334             1.090658  23.10000  57.200000   \n",
              "3                  4.0  3.323334                  NaN  13.00000  42.400000   \n",
              "4                  3.0  3.783334                  NaN  14.90000  51.700000   \n",
              "5                  2.0  3.853334            14.590658  17.50000  53.300000   \n",
              "6                  2.0  3.240000                  NaN  15.56075  45.823099   \n",
              "7                  2.0  4.353334             9.990658  14.50000  48.900000   \n",
              "8                  6.0  4.293334           211.530658  16.50000  53.500000   \n",
              "9                  2.0  4.163334                  NaN  15.70000  48.200000   \n",
              "\n",
              "        sodio       urea  label  \n",
              "0  145.000000        NaN    0.0  \n",
              "1         NaN        NaN    0.0  \n",
              "2  135.000000        NaN    0.0  \n",
              "3  138.000000  23.052822    0.0  \n",
              "4  140.000000  60.752822    0.0  \n",
              "5  137.000000  24.752822    0.0  \n",
              "6  137.340418  45.153918    1.0  \n",
              "7  145.000000        NaN    0.0  \n",
              "8  141.000000  57.552822    0.0  \n",
              "9  140.000000  36.352822    0.0  \n",
              "\n",
              "[10 rows x 21 columns]"
            ],
            "text/html": [
              "\n",
              "  <div id=\"df-6db9a16d-cfb3-4bb3-be22-9a44f20e685a\" class=\"colab-df-container\">\n",
              "    <div>\n",
              "<style scoped>\n",
              "    .dataframe tbody tr th:only-of-type {\n",
              "        vertical-align: middle;\n",
              "    }\n",
              "\n",
              "    .dataframe tbody tr th {\n",
              "        vertical-align: top;\n",
              "    }\n",
              "\n",
              "    .dataframe thead th {\n",
              "        text-align: right;\n",
              "    }\n",
              "</style>\n",
              "<table border=\"1\" class=\"dataframe\">\n",
              "  <thead>\n",
              "    <tr style=\"text-align: right;\">\n",
              "      <th></th>\n",
              "      <th>age</th>\n",
              "      <th>barthel</th>\n",
              "      <th>charlson</th>\n",
              "      <th>codidiagingreso</th>\n",
              "      <th>codservicioreal</th>\n",
              "      <th>creatinina</th>\n",
              "      <th>drg</th>\n",
              "      <th>estancias</th>\n",
              "      <th>glucosa</th>\n",
              "      <th>hematocrito</th>\n",
              "      <th>...</th>\n",
              "      <th>metastatic_tumor</th>\n",
              "      <th>num_grupoact3_HOSP</th>\n",
              "      <th>numurgenciasprevias</th>\n",
              "      <th>potasio</th>\n",
              "      <th>proteina_c_reactiva</th>\n",
              "      <th>rdw_cv</th>\n",
              "      <th>rdw_sd</th>\n",
              "      <th>sodio</th>\n",
              "      <th>urea</th>\n",
              "      <th>label</th>\n",
              "    </tr>\n",
              "  </thead>\n",
              "  <tbody>\n",
              "    <tr>\n",
              "      <th>0</th>\n",
              "      <td>80</td>\n",
              "      <td>NaN</td>\n",
              "      <td>4.0</td>\n",
              "      <td>NaN</td>\n",
              "      <td>HNEM</td>\n",
              "      <td>0.42</td>\n",
              "      <td>141.0</td>\n",
              "      <td>7.0</td>\n",
              "      <td>110.0</td>\n",
              "      <td>29.548684</td>\n",
              "      <td>...</td>\n",
              "      <td>0.0</td>\n",
              "      <td>NaN</td>\n",
              "      <td>6.0</td>\n",
              "      <td>4.653334</td>\n",
              "      <td>NaN</td>\n",
              "      <td>24.90000</td>\n",
              "      <td>83.100000</td>\n",
              "      <td>145.000000</td>\n",
              "      <td>NaN</td>\n",
              "      <td>0.0</td>\n",
              "    </tr>\n",
              "    <tr>\n",
              "      <th>1</th>\n",
              "      <td>67</td>\n",
              "      <td>NaN</td>\n",
              "      <td>5.0</td>\n",
              "      <td>NaN</td>\n",
              "      <td>HNEF</td>\n",
              "      <td>NaN</td>\n",
              "      <td>444.0</td>\n",
              "      <td>11.0</td>\n",
              "      <td>NaN</td>\n",
              "      <td>30.648684</td>\n",
              "      <td>...</td>\n",
              "      <td>0.0</td>\n",
              "      <td>NaN</td>\n",
              "      <td>1.0</td>\n",
              "      <td>NaN</td>\n",
              "      <td>NaN</td>\n",
              "      <td>14.80000</td>\n",
              "      <td>46.300000</td>\n",
              "      <td>NaN</td>\n",
              "      <td>NaN</td>\n",
              "      <td>0.0</td>\n",
              "    </tr>\n",
              "    <tr>\n",
              "      <th>2</th>\n",
              "      <td>75</td>\n",
              "      <td>NaN</td>\n",
              "      <td>13.0</td>\n",
              "      <td>M97303</td>\n",
              "      <td>HHEM</td>\n",
              "      <td>0.92</td>\n",
              "      <td>691.0</td>\n",
              "      <td>14.0</td>\n",
              "      <td>NaN</td>\n",
              "      <td>33.848684</td>\n",
              "      <td>...</td>\n",
              "      <td>0.0</td>\n",
              "      <td>NaN</td>\n",
              "      <td>16.0</td>\n",
              "      <td>5.153334</td>\n",
              "      <td>1.090658</td>\n",
              "      <td>23.10000</td>\n",
              "      <td>57.200000</td>\n",
              "      <td>135.000000</td>\n",
              "      <td>NaN</td>\n",
              "      <td>0.0</td>\n",
              "    </tr>\n",
              "    <tr>\n",
              "      <th>3</th>\n",
              "      <td>75</td>\n",
              "      <td>NaN</td>\n",
              "      <td>0.0</td>\n",
              "      <td>560.81</td>\n",
              "      <td>HCDG</td>\n",
              "      <td>0.96</td>\n",
              "      <td>NaN</td>\n",
              "      <td>3.0</td>\n",
              "      <td>87.3</td>\n",
              "      <td>38.448684</td>\n",
              "      <td>...</td>\n",
              "      <td>0.0</td>\n",
              "      <td>NaN</td>\n",
              "      <td>4.0</td>\n",
              "      <td>3.323334</td>\n",
              "      <td>NaN</td>\n",
              "      <td>13.00000</td>\n",
              "      <td>42.400000</td>\n",
              "      <td>138.000000</td>\n",
              "      <td>23.052822</td>\n",
              "      <td>0.0</td>\n",
              "    </tr>\n",
              "    <tr>\n",
              "      <th>4</th>\n",
              "      <td>81</td>\n",
              "      <td>95.0</td>\n",
              "      <td>6.0</td>\n",
              "      <td>NaN</td>\n",
              "      <td>HCAR</td>\n",
              "      <td>1.54</td>\n",
              "      <td>194.0</td>\n",
              "      <td>4.0</td>\n",
              "      <td>95.7</td>\n",
              "      <td>32.548684</td>\n",
              "      <td>...</td>\n",
              "      <td>0.0</td>\n",
              "      <td>6.0</td>\n",
              "      <td>3.0</td>\n",
              "      <td>3.783334</td>\n",
              "      <td>NaN</td>\n",
              "      <td>14.90000</td>\n",
              "      <td>51.700000</td>\n",
              "      <td>140.000000</td>\n",
              "      <td>60.752822</td>\n",
              "      <td>0.0</td>\n",
              "    </tr>\n",
              "    <tr>\n",
              "      <th>5</th>\n",
              "      <td>84</td>\n",
              "      <td>NaN</td>\n",
              "      <td>3.0</td>\n",
              "      <td>531.00</td>\n",
              "      <td>HMDG</td>\n",
              "      <td>0.98</td>\n",
              "      <td>241.0</td>\n",
              "      <td>4.0</td>\n",
              "      <td>126.0</td>\n",
              "      <td>32.248684</td>\n",
              "      <td>...</td>\n",
              "      <td>0.0</td>\n",
              "      <td>NaN</td>\n",
              "      <td>2.0</td>\n",
              "      <td>3.853334</td>\n",
              "      <td>14.590658</td>\n",
              "      <td>17.50000</td>\n",
              "      <td>53.300000</td>\n",
              "      <td>137.000000</td>\n",
              "      <td>24.752822</td>\n",
              "      <td>0.0</td>\n",
              "    </tr>\n",
              "    <tr>\n",
              "      <th>6</th>\n",
              "      <td>71</td>\n",
              "      <td>100.0</td>\n",
              "      <td>6.0</td>\n",
              "      <td>198.89</td>\n",
              "      <td>HONC</td>\n",
              "      <td>0.90</td>\n",
              "      <td>694.0</td>\n",
              "      <td>32.0</td>\n",
              "      <td>81.0</td>\n",
              "      <td>39.810714</td>\n",
              "      <td>...</td>\n",
              "      <td>1.0</td>\n",
              "      <td>NaN</td>\n",
              "      <td>2.0</td>\n",
              "      <td>3.240000</td>\n",
              "      <td>NaN</td>\n",
              "      <td>15.56075</td>\n",
              "      <td>45.823099</td>\n",
              "      <td>137.340418</td>\n",
              "      <td>45.153918</td>\n",
              "      <td>1.0</td>\n",
              "    </tr>\n",
              "    <tr>\n",
              "      <th>7</th>\n",
              "      <td>87</td>\n",
              "      <td>25.0</td>\n",
              "      <td>6.0</td>\n",
              "      <td>E911</td>\n",
              "      <td>HMUR</td>\n",
              "      <td>1.25</td>\n",
              "      <td>137.0</td>\n",
              "      <td>3.0</td>\n",
              "      <td>85.0</td>\n",
              "      <td>34.848684</td>\n",
              "      <td>...</td>\n",
              "      <td>0.0</td>\n",
              "      <td>2.0</td>\n",
              "      <td>2.0</td>\n",
              "      <td>4.353334</td>\n",
              "      <td>9.990658</td>\n",
              "      <td>14.50000</td>\n",
              "      <td>48.900000</td>\n",
              "      <td>145.000000</td>\n",
              "      <td>NaN</td>\n",
              "      <td>0.0</td>\n",
              "    </tr>\n",
              "    <tr>\n",
              "      <th>8</th>\n",
              "      <td>97</td>\n",
              "      <td>0.0</td>\n",
              "      <td>0.0</td>\n",
              "      <td>486</td>\n",
              "      <td>HMUR</td>\n",
              "      <td>1.17</td>\n",
              "      <td>139.0</td>\n",
              "      <td>5.0</td>\n",
              "      <td>106.7</td>\n",
              "      <td>32.448684</td>\n",
              "      <td>...</td>\n",
              "      <td>0.0</td>\n",
              "      <td>NaN</td>\n",
              "      <td>6.0</td>\n",
              "      <td>4.293334</td>\n",
              "      <td>211.530658</td>\n",
              "      <td>16.50000</td>\n",
              "      <td>53.500000</td>\n",
              "      <td>141.000000</td>\n",
              "      <td>57.552822</td>\n",
              "      <td>0.0</td>\n",
              "    </tr>\n",
              "    <tr>\n",
              "      <th>9</th>\n",
              "      <td>78</td>\n",
              "      <td>NaN</td>\n",
              "      <td>0.0</td>\n",
              "      <td>736.6</td>\n",
              "      <td>HCOT</td>\n",
              "      <td>0.59</td>\n",
              "      <td>302.0</td>\n",
              "      <td>14.0</td>\n",
              "      <td>135.0</td>\n",
              "      <td>35.548684</td>\n",
              "      <td>...</td>\n",
              "      <td>0.0</td>\n",
              "      <td>NaN</td>\n",
              "      <td>2.0</td>\n",
              "      <td>4.163334</td>\n",
              "      <td>NaN</td>\n",
              "      <td>15.70000</td>\n",
              "      <td>48.200000</td>\n",
              "      <td>140.000000</td>\n",
              "      <td>36.352822</td>\n",
              "      <td>0.0</td>\n",
              "    </tr>\n",
              "  </tbody>\n",
              "</table>\n",
              "<p>10 rows × 21 columns</p>\n",
              "</div>\n",
              "    <div class=\"colab-df-buttons\">\n",
              "\n",
              "  <div class=\"colab-df-container\">\n",
              "    <button class=\"colab-df-convert\" onclick=\"convertToInteractive('df-6db9a16d-cfb3-4bb3-be22-9a44f20e685a')\"\n",
              "            title=\"Convert this dataframe to an interactive table.\"\n",
              "            style=\"display:none;\">\n",
              "\n",
              "  <svg xmlns=\"http://www.w3.org/2000/svg\" height=\"24px\" viewBox=\"0 -960 960 960\">\n",
              "    <path d=\"M120-120v-720h720v720H120Zm60-500h600v-160H180v160Zm220 220h160v-160H400v160Zm0 220h160v-160H400v160ZM180-400h160v-160H180v160Zm440 0h160v-160H620v160ZM180-180h160v-160H180v160Zm440 0h160v-160H620v160Z\"/>\n",
              "  </svg>\n",
              "    </button>\n",
              "\n",
              "  <style>\n",
              "    .colab-df-container {\n",
              "      display:flex;\n",
              "      gap: 12px;\n",
              "    }\n",
              "\n",
              "    .colab-df-convert {\n",
              "      background-color: #E8F0FE;\n",
              "      border: none;\n",
              "      border-radius: 50%;\n",
              "      cursor: pointer;\n",
              "      display: none;\n",
              "      fill: #1967D2;\n",
              "      height: 32px;\n",
              "      padding: 0 0 0 0;\n",
              "      width: 32px;\n",
              "    }\n",
              "\n",
              "    .colab-df-convert:hover {\n",
              "      background-color: #E2EBFA;\n",
              "      box-shadow: 0px 1px 2px rgba(60, 64, 67, 0.3), 0px 1px 3px 1px rgba(60, 64, 67, 0.15);\n",
              "      fill: #174EA6;\n",
              "    }\n",
              "\n",
              "    .colab-df-buttons div {\n",
              "      margin-bottom: 4px;\n",
              "    }\n",
              "\n",
              "    [theme=dark] .colab-df-convert {\n",
              "      background-color: #3B4455;\n",
              "      fill: #D2E3FC;\n",
              "    }\n",
              "\n",
              "    [theme=dark] .colab-df-convert:hover {\n",
              "      background-color: #434B5C;\n",
              "      box-shadow: 0px 1px 3px 1px rgba(0, 0, 0, 0.15);\n",
              "      filter: drop-shadow(0px 1px 2px rgba(0, 0, 0, 0.3));\n",
              "      fill: #FFFFFF;\n",
              "    }\n",
              "  </style>\n",
              "\n",
              "    <script>\n",
              "      const buttonEl =\n",
              "        document.querySelector('#df-6db9a16d-cfb3-4bb3-be22-9a44f20e685a button.colab-df-convert');\n",
              "      buttonEl.style.display =\n",
              "        google.colab.kernel.accessAllowed ? 'block' : 'none';\n",
              "\n",
              "      async function convertToInteractive(key) {\n",
              "        const element = document.querySelector('#df-6db9a16d-cfb3-4bb3-be22-9a44f20e685a');\n",
              "        const dataTable =\n",
              "          await google.colab.kernel.invokeFunction('convertToInteractive',\n",
              "                                                    [key], {});\n",
              "        if (!dataTable) return;\n",
              "\n",
              "        const docLinkHtml = 'Like what you see? Visit the ' +\n",
              "          '<a target=\"_blank\" href=https://colab.research.google.com/notebooks/data_table.ipynb>data table notebook</a>'\n",
              "          + ' to learn more about interactive tables.';\n",
              "        element.innerHTML = '';\n",
              "        dataTable['output_type'] = 'display_data';\n",
              "        await google.colab.output.renderOutput(dataTable, element);\n",
              "        const docLink = document.createElement('div');\n",
              "        docLink.innerHTML = docLinkHtml;\n",
              "        element.appendChild(docLink);\n",
              "      }\n",
              "    </script>\n",
              "  </div>\n",
              "\n",
              "\n",
              "<div id=\"df-3db10589-2e01-4eba-af85-3ccb4908deb8\">\n",
              "  <button class=\"colab-df-quickchart\" onclick=\"quickchart('df-3db10589-2e01-4eba-af85-3ccb4908deb8')\"\n",
              "            title=\"Suggest charts.\"\n",
              "            style=\"display:none;\">\n",
              "\n",
              "<svg xmlns=\"http://www.w3.org/2000/svg\" height=\"24px\"viewBox=\"0 0 24 24\"\n",
              "     width=\"24px\">\n",
              "    <g>\n",
              "        <path d=\"M19 3H5c-1.1 0-2 .9-2 2v14c0 1.1.9 2 2 2h14c1.1 0 2-.9 2-2V5c0-1.1-.9-2-2-2zM9 17H7v-7h2v7zm4 0h-2V7h2v10zm4 0h-2v-4h2v4z\"/>\n",
              "    </g>\n",
              "</svg>\n",
              "  </button>\n",
              "\n",
              "<style>\n",
              "  .colab-df-quickchart {\n",
              "      --bg-color: #E8F0FE;\n",
              "      --fill-color: #1967D2;\n",
              "      --hover-bg-color: #E2EBFA;\n",
              "      --hover-fill-color: #174EA6;\n",
              "      --disabled-fill-color: #AAA;\n",
              "      --disabled-bg-color: #DDD;\n",
              "  }\n",
              "\n",
              "  [theme=dark] .colab-df-quickchart {\n",
              "      --bg-color: #3B4455;\n",
              "      --fill-color: #D2E3FC;\n",
              "      --hover-bg-color: #434B5C;\n",
              "      --hover-fill-color: #FFFFFF;\n",
              "      --disabled-bg-color: #3B4455;\n",
              "      --disabled-fill-color: #666;\n",
              "  }\n",
              "\n",
              "  .colab-df-quickchart {\n",
              "    background-color: var(--bg-color);\n",
              "    border: none;\n",
              "    border-radius: 50%;\n",
              "    cursor: pointer;\n",
              "    display: none;\n",
              "    fill: var(--fill-color);\n",
              "    height: 32px;\n",
              "    padding: 0;\n",
              "    width: 32px;\n",
              "  }\n",
              "\n",
              "  .colab-df-quickchart:hover {\n",
              "    background-color: var(--hover-bg-color);\n",
              "    box-shadow: 0 1px 2px rgba(60, 64, 67, 0.3), 0 1px 3px 1px rgba(60, 64, 67, 0.15);\n",
              "    fill: var(--button-hover-fill-color);\n",
              "  }\n",
              "\n",
              "  .colab-df-quickchart-complete:disabled,\n",
              "  .colab-df-quickchart-complete:disabled:hover {\n",
              "    background-color: var(--disabled-bg-color);\n",
              "    fill: var(--disabled-fill-color);\n",
              "    box-shadow: none;\n",
              "  }\n",
              "\n",
              "  .colab-df-spinner {\n",
              "    border: 2px solid var(--fill-color);\n",
              "    border-color: transparent;\n",
              "    border-bottom-color: var(--fill-color);\n",
              "    animation:\n",
              "      spin 1s steps(1) infinite;\n",
              "  }\n",
              "\n",
              "  @keyframes spin {\n",
              "    0% {\n",
              "      border-color: transparent;\n",
              "      border-bottom-color: var(--fill-color);\n",
              "      border-left-color: var(--fill-color);\n",
              "    }\n",
              "    20% {\n",
              "      border-color: transparent;\n",
              "      border-left-color: var(--fill-color);\n",
              "      border-top-color: var(--fill-color);\n",
              "    }\n",
              "    30% {\n",
              "      border-color: transparent;\n",
              "      border-left-color: var(--fill-color);\n",
              "      border-top-color: var(--fill-color);\n",
              "      border-right-color: var(--fill-color);\n",
              "    }\n",
              "    40% {\n",
              "      border-color: transparent;\n",
              "      border-right-color: var(--fill-color);\n",
              "      border-top-color: var(--fill-color);\n",
              "    }\n",
              "    60% {\n",
              "      border-color: transparent;\n",
              "      border-right-color: var(--fill-color);\n",
              "    }\n",
              "    80% {\n",
              "      border-color: transparent;\n",
              "      border-right-color: var(--fill-color);\n",
              "      border-bottom-color: var(--fill-color);\n",
              "    }\n",
              "    90% {\n",
              "      border-color: transparent;\n",
              "      border-bottom-color: var(--fill-color);\n",
              "    }\n",
              "  }\n",
              "</style>\n",
              "\n",
              "  <script>\n",
              "    async function quickchart(key) {\n",
              "      const quickchartButtonEl =\n",
              "        document.querySelector('#' + key + ' button');\n",
              "      quickchartButtonEl.disabled = true;  // To prevent multiple clicks.\n",
              "      quickchartButtonEl.classList.add('colab-df-spinner');\n",
              "      try {\n",
              "        const charts = await google.colab.kernel.invokeFunction(\n",
              "            'suggestCharts', [key], {});\n",
              "      } catch (error) {\n",
              "        console.error('Error during call to suggestCharts:', error);\n",
              "      }\n",
              "      quickchartButtonEl.classList.remove('colab-df-spinner');\n",
              "      quickchartButtonEl.classList.add('colab-df-quickchart-complete');\n",
              "    }\n",
              "    (() => {\n",
              "      let quickchartButtonEl =\n",
              "        document.querySelector('#df-3db10589-2e01-4eba-af85-3ccb4908deb8 button');\n",
              "      quickchartButtonEl.style.display =\n",
              "        google.colab.kernel.accessAllowed ? 'block' : 'none';\n",
              "    })();\n",
              "  </script>\n",
              "</div>\n",
              "    </div>\n",
              "  </div>\n"
            ]
          },
          "metadata": {},
          "execution_count": 16
        }
      ]
    },
    {
      "cell_type": "code",
      "source": [
        "X = df.drop('label', axis=1)\n",
        "y = df['label']\n",
        "X_train, X_test, y_train, y_test = train_test_split(X, y, test_size=0.2, random_state=42)"
      ],
      "metadata": {
        "id": "kqnHCrIQqJEJ"
      },
      "execution_count": null,
      "outputs": []
    },
    {
      "cell_type": "code",
      "source": [
        "X_train.head(2)"
      ],
      "metadata": {
        "colab": {
          "base_uri": "https://localhost:8080/"
        },
        "id": "5UxEwS0L5R00",
        "outputId": "0bb167a4-e14a-4034-af98-1c60d278e20e"
      },
      "execution_count": null,
      "outputs": [
        {
          "output_type": "execute_result",
          "data": {
            "text/plain": [
              "       age  barthel  charlson codidiagingreso codservicioreal  creatinina  \\\n",
              "29147   65      NaN       1.0           780.2            HCAR        0.76   \n",
              "10512   67      NaN       1.0             NaN            HNEM        0.86   \n",
              "\n",
              "         drg  estancias  glucosa  hematocrito  leucocitos metastatic_tumor  \\\n",
              "29147  171.0        4.0     91.0    38.148684        2.64              0.0   \n",
              "10512  139.0        5.0    150.6    41.548684       11.66              0.0   \n",
              "\n",
              "       num_grupoact3_HOSP  numurgenciasprevias   potasio  proteina_c_reactiva  \\\n",
              "29147                 NaN                  1.0  4.353334                  NaN   \n",
              "10512                 3.0                  1.0  4.563334            53.980658   \n",
              "\n",
              "       rdw_cv  rdw_sd  sodio       urea  \n",
              "29147    12.8    38.5  140.0  25.352822  \n",
              "10512    14.9    47.7  139.0  33.652822  "
            ],
            "text/html": [
              "\n",
              "  <div id=\"df-d8e7a410-eb8b-469b-94ef-1dec8fba938c\" class=\"colab-df-container\">\n",
              "    <div>\n",
              "<style scoped>\n",
              "    .dataframe tbody tr th:only-of-type {\n",
              "        vertical-align: middle;\n",
              "    }\n",
              "\n",
              "    .dataframe tbody tr th {\n",
              "        vertical-align: top;\n",
              "    }\n",
              "\n",
              "    .dataframe thead th {\n",
              "        text-align: right;\n",
              "    }\n",
              "</style>\n",
              "<table border=\"1\" class=\"dataframe\">\n",
              "  <thead>\n",
              "    <tr style=\"text-align: right;\">\n",
              "      <th></th>\n",
              "      <th>age</th>\n",
              "      <th>barthel</th>\n",
              "      <th>charlson</th>\n",
              "      <th>codidiagingreso</th>\n",
              "      <th>codservicioreal</th>\n",
              "      <th>creatinina</th>\n",
              "      <th>drg</th>\n",
              "      <th>estancias</th>\n",
              "      <th>glucosa</th>\n",
              "      <th>hematocrito</th>\n",
              "      <th>leucocitos</th>\n",
              "      <th>metastatic_tumor</th>\n",
              "      <th>num_grupoact3_HOSP</th>\n",
              "      <th>numurgenciasprevias</th>\n",
              "      <th>potasio</th>\n",
              "      <th>proteina_c_reactiva</th>\n",
              "      <th>rdw_cv</th>\n",
              "      <th>rdw_sd</th>\n",
              "      <th>sodio</th>\n",
              "      <th>urea</th>\n",
              "    </tr>\n",
              "  </thead>\n",
              "  <tbody>\n",
              "    <tr>\n",
              "      <th>29147</th>\n",
              "      <td>65</td>\n",
              "      <td>NaN</td>\n",
              "      <td>1.0</td>\n",
              "      <td>780.2</td>\n",
              "      <td>HCAR</td>\n",
              "      <td>0.76</td>\n",
              "      <td>171.0</td>\n",
              "      <td>4.0</td>\n",
              "      <td>91.0</td>\n",
              "      <td>38.148684</td>\n",
              "      <td>2.64</td>\n",
              "      <td>0.0</td>\n",
              "      <td>NaN</td>\n",
              "      <td>1.0</td>\n",
              "      <td>4.353334</td>\n",
              "      <td>NaN</td>\n",
              "      <td>12.8</td>\n",
              "      <td>38.5</td>\n",
              "      <td>140.0</td>\n",
              "      <td>25.352822</td>\n",
              "    </tr>\n",
              "    <tr>\n",
              "      <th>10512</th>\n",
              "      <td>67</td>\n",
              "      <td>NaN</td>\n",
              "      <td>1.0</td>\n",
              "      <td>NaN</td>\n",
              "      <td>HNEM</td>\n",
              "      <td>0.86</td>\n",
              "      <td>139.0</td>\n",
              "      <td>5.0</td>\n",
              "      <td>150.6</td>\n",
              "      <td>41.548684</td>\n",
              "      <td>11.66</td>\n",
              "      <td>0.0</td>\n",
              "      <td>3.0</td>\n",
              "      <td>1.0</td>\n",
              "      <td>4.563334</td>\n",
              "      <td>53.980658</td>\n",
              "      <td>14.9</td>\n",
              "      <td>47.7</td>\n",
              "      <td>139.0</td>\n",
              "      <td>33.652822</td>\n",
              "    </tr>\n",
              "  </tbody>\n",
              "</table>\n",
              "</div>\n",
              "    <div class=\"colab-df-buttons\">\n",
              "\n",
              "  <div class=\"colab-df-container\">\n",
              "    <button class=\"colab-df-convert\" onclick=\"convertToInteractive('df-d8e7a410-eb8b-469b-94ef-1dec8fba938c')\"\n",
              "            title=\"Convert this dataframe to an interactive table.\"\n",
              "            style=\"display:none;\">\n",
              "\n",
              "  <svg xmlns=\"http://www.w3.org/2000/svg\" height=\"24px\" viewBox=\"0 -960 960 960\">\n",
              "    <path d=\"M120-120v-720h720v720H120Zm60-500h600v-160H180v160Zm220 220h160v-160H400v160Zm0 220h160v-160H400v160ZM180-400h160v-160H180v160Zm440 0h160v-160H620v160ZM180-180h160v-160H180v160Zm440 0h160v-160H620v160Z\"/>\n",
              "  </svg>\n",
              "    </button>\n",
              "\n",
              "  <style>\n",
              "    .colab-df-container {\n",
              "      display:flex;\n",
              "      gap: 12px;\n",
              "    }\n",
              "\n",
              "    .colab-df-convert {\n",
              "      background-color: #E8F0FE;\n",
              "      border: none;\n",
              "      border-radius: 50%;\n",
              "      cursor: pointer;\n",
              "      display: none;\n",
              "      fill: #1967D2;\n",
              "      height: 32px;\n",
              "      padding: 0 0 0 0;\n",
              "      width: 32px;\n",
              "    }\n",
              "\n",
              "    .colab-df-convert:hover {\n",
              "      background-color: #E2EBFA;\n",
              "      box-shadow: 0px 1px 2px rgba(60, 64, 67, 0.3), 0px 1px 3px 1px rgba(60, 64, 67, 0.15);\n",
              "      fill: #174EA6;\n",
              "    }\n",
              "\n",
              "    .colab-df-buttons div {\n",
              "      margin-bottom: 4px;\n",
              "    }\n",
              "\n",
              "    [theme=dark] .colab-df-convert {\n",
              "      background-color: #3B4455;\n",
              "      fill: #D2E3FC;\n",
              "    }\n",
              "\n",
              "    [theme=dark] .colab-df-convert:hover {\n",
              "      background-color: #434B5C;\n",
              "      box-shadow: 0px 1px 3px 1px rgba(0, 0, 0, 0.15);\n",
              "      filter: drop-shadow(0px 1px 2px rgba(0, 0, 0, 0.3));\n",
              "      fill: #FFFFFF;\n",
              "    }\n",
              "  </style>\n",
              "\n",
              "    <script>\n",
              "      const buttonEl =\n",
              "        document.querySelector('#df-d8e7a410-eb8b-469b-94ef-1dec8fba938c button.colab-df-convert');\n",
              "      buttonEl.style.display =\n",
              "        google.colab.kernel.accessAllowed ? 'block' : 'none';\n",
              "\n",
              "      async function convertToInteractive(key) {\n",
              "        const element = document.querySelector('#df-d8e7a410-eb8b-469b-94ef-1dec8fba938c');\n",
              "        const dataTable =\n",
              "          await google.colab.kernel.invokeFunction('convertToInteractive',\n",
              "                                                    [key], {});\n",
              "        if (!dataTable) return;\n",
              "\n",
              "        const docLinkHtml = 'Like what you see? Visit the ' +\n",
              "          '<a target=\"_blank\" href=https://colab.research.google.com/notebooks/data_table.ipynb>data table notebook</a>'\n",
              "          + ' to learn more about interactive tables.';\n",
              "        element.innerHTML = '';\n",
              "        dataTable['output_type'] = 'display_data';\n",
              "        await google.colab.output.renderOutput(dataTable, element);\n",
              "        const docLink = document.createElement('div');\n",
              "        docLink.innerHTML = docLinkHtml;\n",
              "        element.appendChild(docLink);\n",
              "      }\n",
              "    </script>\n",
              "  </div>\n",
              "\n",
              "\n",
              "<div id=\"df-963d3035-9bfd-4e89-b7ae-1923e1b01ef1\">\n",
              "  <button class=\"colab-df-quickchart\" onclick=\"quickchart('df-963d3035-9bfd-4e89-b7ae-1923e1b01ef1')\"\n",
              "            title=\"Suggest charts.\"\n",
              "            style=\"display:none;\">\n",
              "\n",
              "<svg xmlns=\"http://www.w3.org/2000/svg\" height=\"24px\"viewBox=\"0 0 24 24\"\n",
              "     width=\"24px\">\n",
              "    <g>\n",
              "        <path d=\"M19 3H5c-1.1 0-2 .9-2 2v14c0 1.1.9 2 2 2h14c1.1 0 2-.9 2-2V5c0-1.1-.9-2-2-2zM9 17H7v-7h2v7zm4 0h-2V7h2v10zm4 0h-2v-4h2v4z\"/>\n",
              "    </g>\n",
              "</svg>\n",
              "  </button>\n",
              "\n",
              "<style>\n",
              "  .colab-df-quickchart {\n",
              "      --bg-color: #E8F0FE;\n",
              "      --fill-color: #1967D2;\n",
              "      --hover-bg-color: #E2EBFA;\n",
              "      --hover-fill-color: #174EA6;\n",
              "      --disabled-fill-color: #AAA;\n",
              "      --disabled-bg-color: #DDD;\n",
              "  }\n",
              "\n",
              "  [theme=dark] .colab-df-quickchart {\n",
              "      --bg-color: #3B4455;\n",
              "      --fill-color: #D2E3FC;\n",
              "      --hover-bg-color: #434B5C;\n",
              "      --hover-fill-color: #FFFFFF;\n",
              "      --disabled-bg-color: #3B4455;\n",
              "      --disabled-fill-color: #666;\n",
              "  }\n",
              "\n",
              "  .colab-df-quickchart {\n",
              "    background-color: var(--bg-color);\n",
              "    border: none;\n",
              "    border-radius: 50%;\n",
              "    cursor: pointer;\n",
              "    display: none;\n",
              "    fill: var(--fill-color);\n",
              "    height: 32px;\n",
              "    padding: 0;\n",
              "    width: 32px;\n",
              "  }\n",
              "\n",
              "  .colab-df-quickchart:hover {\n",
              "    background-color: var(--hover-bg-color);\n",
              "    box-shadow: 0 1px 2px rgba(60, 64, 67, 0.3), 0 1px 3px 1px rgba(60, 64, 67, 0.15);\n",
              "    fill: var(--button-hover-fill-color);\n",
              "  }\n",
              "\n",
              "  .colab-df-quickchart-complete:disabled,\n",
              "  .colab-df-quickchart-complete:disabled:hover {\n",
              "    background-color: var(--disabled-bg-color);\n",
              "    fill: var(--disabled-fill-color);\n",
              "    box-shadow: none;\n",
              "  }\n",
              "\n",
              "  .colab-df-spinner {\n",
              "    border: 2px solid var(--fill-color);\n",
              "    border-color: transparent;\n",
              "    border-bottom-color: var(--fill-color);\n",
              "    animation:\n",
              "      spin 1s steps(1) infinite;\n",
              "  }\n",
              "\n",
              "  @keyframes spin {\n",
              "    0% {\n",
              "      border-color: transparent;\n",
              "      border-bottom-color: var(--fill-color);\n",
              "      border-left-color: var(--fill-color);\n",
              "    }\n",
              "    20% {\n",
              "      border-color: transparent;\n",
              "      border-left-color: var(--fill-color);\n",
              "      border-top-color: var(--fill-color);\n",
              "    }\n",
              "    30% {\n",
              "      border-color: transparent;\n",
              "      border-left-color: var(--fill-color);\n",
              "      border-top-color: var(--fill-color);\n",
              "      border-right-color: var(--fill-color);\n",
              "    }\n",
              "    40% {\n",
              "      border-color: transparent;\n",
              "      border-right-color: var(--fill-color);\n",
              "      border-top-color: var(--fill-color);\n",
              "    }\n",
              "    60% {\n",
              "      border-color: transparent;\n",
              "      border-right-color: var(--fill-color);\n",
              "    }\n",
              "    80% {\n",
              "      border-color: transparent;\n",
              "      border-right-color: var(--fill-color);\n",
              "      border-bottom-color: var(--fill-color);\n",
              "    }\n",
              "    90% {\n",
              "      border-color: transparent;\n",
              "      border-bottom-color: var(--fill-color);\n",
              "    }\n",
              "  }\n",
              "</style>\n",
              "\n",
              "  <script>\n",
              "    async function quickchart(key) {\n",
              "      const quickchartButtonEl =\n",
              "        document.querySelector('#' + key + ' button');\n",
              "      quickchartButtonEl.disabled = true;  // To prevent multiple clicks.\n",
              "      quickchartButtonEl.classList.add('colab-df-spinner');\n",
              "      try {\n",
              "        const charts = await google.colab.kernel.invokeFunction(\n",
              "            'suggestCharts', [key], {});\n",
              "      } catch (error) {\n",
              "        console.error('Error during call to suggestCharts:', error);\n",
              "      }\n",
              "      quickchartButtonEl.classList.remove('colab-df-spinner');\n",
              "      quickchartButtonEl.classList.add('colab-df-quickchart-complete');\n",
              "    }\n",
              "    (() => {\n",
              "      let quickchartButtonEl =\n",
              "        document.querySelector('#df-963d3035-9bfd-4e89-b7ae-1923e1b01ef1 button');\n",
              "      quickchartButtonEl.style.display =\n",
              "        google.colab.kernel.accessAllowed ? 'block' : 'none';\n",
              "    })();\n",
              "  </script>\n",
              "</div>\n",
              "    </div>\n",
              "  </div>\n"
            ]
          },
          "metadata": {},
          "execution_count": 18
        }
      ]
    },
    {
      "cell_type": "code",
      "source": [
        "X_train.shape"
      ],
      "metadata": {
        "colab": {
          "base_uri": "https://localhost:8080/"
        },
        "id": "ZZlsLvGf67Ed",
        "outputId": "85a40e67-80a3-4eb9-bcb5-e2a85f0a912b"
      },
      "execution_count": null,
      "outputs": [
        {
          "output_type": "execute_result",
          "data": {
            "text/plain": [
              "(30732, 20)"
            ]
          },
          "metadata": {},
          "execution_count": 19
        }
      ]
    },
    {
      "cell_type": "code",
      "source": [
        "X_train.isnull().sum()"
      ],
      "metadata": {
        "colab": {
          "base_uri": "https://localhost:8080/"
        },
        "id": "YHL24xWl6_ke",
        "outputId": "620b5bbf-77be-458c-8509-9038a1e9e286"
      },
      "execution_count": null,
      "outputs": [
        {
          "output_type": "execute_result",
          "data": {
            "text/plain": [
              "age                        0\n",
              "barthel                22510\n",
              "charlson                  59\n",
              "codidiagingreso         9131\n",
              "codservicioreal            0\n",
              "creatinina              6322\n",
              "drg                     2891\n",
              "estancias                  0\n",
              "glucosa                 7360\n",
              "hematocrito             6588\n",
              "leucocitos              6588\n",
              "metastatic_tumor          59\n",
              "num_grupoact3_HOSP     16768\n",
              "numurgenciasprevias      448\n",
              "potasio                 6872\n",
              "proteina_c_reactiva    14522\n",
              "rdw_cv                  6612\n",
              "rdw_sd                  6612\n",
              "sodio                   6463\n",
              "urea                   11344\n",
              "dtype: int64"
            ]
          },
          "metadata": {},
          "execution_count": 20
        }
      ]
    },
    {
      "cell_type": "code",
      "source": [
        "X_test.head(2)"
      ],
      "metadata": {
        "colab": {
          "base_uri": "https://localhost:8080/"
        },
        "id": "Q-1rMdRV5Txj",
        "outputId": "63ac83a6-f332-4b73-aa83-7425f8226215"
      },
      "execution_count": null,
      "outputs": [
        {
          "output_type": "execute_result",
          "data": {
            "text/plain": [
              "       age  barthel  charlson codidiagingreso codservicioreal  creatinina  \\\n",
              "36169   75      NaN       5.0             NaN            HCAR        1.76   \n",
              "13759   85      NaN       9.0             NaN            HNER        0.91   \n",
              "\n",
              "         drg  estancias  glucosa  hematocrito  leucocitos metastatic_tumor  \\\n",
              "36169  192.0        7.0    137.3    42.848684        8.99              0.0   \n",
              "13759   45.0        6.0     93.5    40.748684        6.73              1.0   \n",
              "\n",
              "       num_grupoact3_HOSP  numurgenciasprevias   potasio  proteina_c_reactiva  \\\n",
              "36169                17.0                  4.0  3.803334                  NaN   \n",
              "13759                 3.0                  2.0  4.463334             4.580658   \n",
              "\n",
              "       rdw_cv  rdw_sd  sodio       urea  \n",
              "36169    13.2    43.3  142.0  73.052822  \n",
              "13759    13.6    44.3  140.0        NaN  "
            ],
            "text/html": [
              "\n",
              "  <div id=\"df-d8f0d545-3ae4-4e67-a136-87a2cd7ebcfd\" class=\"colab-df-container\">\n",
              "    <div>\n",
              "<style scoped>\n",
              "    .dataframe tbody tr th:only-of-type {\n",
              "        vertical-align: middle;\n",
              "    }\n",
              "\n",
              "    .dataframe tbody tr th {\n",
              "        vertical-align: top;\n",
              "    }\n",
              "\n",
              "    .dataframe thead th {\n",
              "        text-align: right;\n",
              "    }\n",
              "</style>\n",
              "<table border=\"1\" class=\"dataframe\">\n",
              "  <thead>\n",
              "    <tr style=\"text-align: right;\">\n",
              "      <th></th>\n",
              "      <th>age</th>\n",
              "      <th>barthel</th>\n",
              "      <th>charlson</th>\n",
              "      <th>codidiagingreso</th>\n",
              "      <th>codservicioreal</th>\n",
              "      <th>creatinina</th>\n",
              "      <th>drg</th>\n",
              "      <th>estancias</th>\n",
              "      <th>glucosa</th>\n",
              "      <th>hematocrito</th>\n",
              "      <th>leucocitos</th>\n",
              "      <th>metastatic_tumor</th>\n",
              "      <th>num_grupoact3_HOSP</th>\n",
              "      <th>numurgenciasprevias</th>\n",
              "      <th>potasio</th>\n",
              "      <th>proteina_c_reactiva</th>\n",
              "      <th>rdw_cv</th>\n",
              "      <th>rdw_sd</th>\n",
              "      <th>sodio</th>\n",
              "      <th>urea</th>\n",
              "    </tr>\n",
              "  </thead>\n",
              "  <tbody>\n",
              "    <tr>\n",
              "      <th>36169</th>\n",
              "      <td>75</td>\n",
              "      <td>NaN</td>\n",
              "      <td>5.0</td>\n",
              "      <td>NaN</td>\n",
              "      <td>HCAR</td>\n",
              "      <td>1.76</td>\n",
              "      <td>192.0</td>\n",
              "      <td>7.0</td>\n",
              "      <td>137.3</td>\n",
              "      <td>42.848684</td>\n",
              "      <td>8.99</td>\n",
              "      <td>0.0</td>\n",
              "      <td>17.0</td>\n",
              "      <td>4.0</td>\n",
              "      <td>3.803334</td>\n",
              "      <td>NaN</td>\n",
              "      <td>13.2</td>\n",
              "      <td>43.3</td>\n",
              "      <td>142.0</td>\n",
              "      <td>73.052822</td>\n",
              "    </tr>\n",
              "    <tr>\n",
              "      <th>13759</th>\n",
              "      <td>85</td>\n",
              "      <td>NaN</td>\n",
              "      <td>9.0</td>\n",
              "      <td>NaN</td>\n",
              "      <td>HNER</td>\n",
              "      <td>0.91</td>\n",
              "      <td>45.0</td>\n",
              "      <td>6.0</td>\n",
              "      <td>93.5</td>\n",
              "      <td>40.748684</td>\n",
              "      <td>6.73</td>\n",
              "      <td>1.0</td>\n",
              "      <td>3.0</td>\n",
              "      <td>2.0</td>\n",
              "      <td>4.463334</td>\n",
              "      <td>4.580658</td>\n",
              "      <td>13.6</td>\n",
              "      <td>44.3</td>\n",
              "      <td>140.0</td>\n",
              "      <td>NaN</td>\n",
              "    </tr>\n",
              "  </tbody>\n",
              "</table>\n",
              "</div>\n",
              "    <div class=\"colab-df-buttons\">\n",
              "\n",
              "  <div class=\"colab-df-container\">\n",
              "    <button class=\"colab-df-convert\" onclick=\"convertToInteractive('df-d8f0d545-3ae4-4e67-a136-87a2cd7ebcfd')\"\n",
              "            title=\"Convert this dataframe to an interactive table.\"\n",
              "            style=\"display:none;\">\n",
              "\n",
              "  <svg xmlns=\"http://www.w3.org/2000/svg\" height=\"24px\" viewBox=\"0 -960 960 960\">\n",
              "    <path d=\"M120-120v-720h720v720H120Zm60-500h600v-160H180v160Zm220 220h160v-160H400v160Zm0 220h160v-160H400v160ZM180-400h160v-160H180v160Zm440 0h160v-160H620v160ZM180-180h160v-160H180v160Zm440 0h160v-160H620v160Z\"/>\n",
              "  </svg>\n",
              "    </button>\n",
              "\n",
              "  <style>\n",
              "    .colab-df-container {\n",
              "      display:flex;\n",
              "      gap: 12px;\n",
              "    }\n",
              "\n",
              "    .colab-df-convert {\n",
              "      background-color: #E8F0FE;\n",
              "      border: none;\n",
              "      border-radius: 50%;\n",
              "      cursor: pointer;\n",
              "      display: none;\n",
              "      fill: #1967D2;\n",
              "      height: 32px;\n",
              "      padding: 0 0 0 0;\n",
              "      width: 32px;\n",
              "    }\n",
              "\n",
              "    .colab-df-convert:hover {\n",
              "      background-color: #E2EBFA;\n",
              "      box-shadow: 0px 1px 2px rgba(60, 64, 67, 0.3), 0px 1px 3px 1px rgba(60, 64, 67, 0.15);\n",
              "      fill: #174EA6;\n",
              "    }\n",
              "\n",
              "    .colab-df-buttons div {\n",
              "      margin-bottom: 4px;\n",
              "    }\n",
              "\n",
              "    [theme=dark] .colab-df-convert {\n",
              "      background-color: #3B4455;\n",
              "      fill: #D2E3FC;\n",
              "    }\n",
              "\n",
              "    [theme=dark] .colab-df-convert:hover {\n",
              "      background-color: #434B5C;\n",
              "      box-shadow: 0px 1px 3px 1px rgba(0, 0, 0, 0.15);\n",
              "      filter: drop-shadow(0px 1px 2px rgba(0, 0, 0, 0.3));\n",
              "      fill: #FFFFFF;\n",
              "    }\n",
              "  </style>\n",
              "\n",
              "    <script>\n",
              "      const buttonEl =\n",
              "        document.querySelector('#df-d8f0d545-3ae4-4e67-a136-87a2cd7ebcfd button.colab-df-convert');\n",
              "      buttonEl.style.display =\n",
              "        google.colab.kernel.accessAllowed ? 'block' : 'none';\n",
              "\n",
              "      async function convertToInteractive(key) {\n",
              "        const element = document.querySelector('#df-d8f0d545-3ae4-4e67-a136-87a2cd7ebcfd');\n",
              "        const dataTable =\n",
              "          await google.colab.kernel.invokeFunction('convertToInteractive',\n",
              "                                                    [key], {});\n",
              "        if (!dataTable) return;\n",
              "\n",
              "        const docLinkHtml = 'Like what you see? Visit the ' +\n",
              "          '<a target=\"_blank\" href=https://colab.research.google.com/notebooks/data_table.ipynb>data table notebook</a>'\n",
              "          + ' to learn more about interactive tables.';\n",
              "        element.innerHTML = '';\n",
              "        dataTable['output_type'] = 'display_data';\n",
              "        await google.colab.output.renderOutput(dataTable, element);\n",
              "        const docLink = document.createElement('div');\n",
              "        docLink.innerHTML = docLinkHtml;\n",
              "        element.appendChild(docLink);\n",
              "      }\n",
              "    </script>\n",
              "  </div>\n",
              "\n",
              "\n",
              "<div id=\"df-92b2594b-2efb-4e85-8656-ee2f528adc96\">\n",
              "  <button class=\"colab-df-quickchart\" onclick=\"quickchart('df-92b2594b-2efb-4e85-8656-ee2f528adc96')\"\n",
              "            title=\"Suggest charts.\"\n",
              "            style=\"display:none;\">\n",
              "\n",
              "<svg xmlns=\"http://www.w3.org/2000/svg\" height=\"24px\"viewBox=\"0 0 24 24\"\n",
              "     width=\"24px\">\n",
              "    <g>\n",
              "        <path d=\"M19 3H5c-1.1 0-2 .9-2 2v14c0 1.1.9 2 2 2h14c1.1 0 2-.9 2-2V5c0-1.1-.9-2-2-2zM9 17H7v-7h2v7zm4 0h-2V7h2v10zm4 0h-2v-4h2v4z\"/>\n",
              "    </g>\n",
              "</svg>\n",
              "  </button>\n",
              "\n",
              "<style>\n",
              "  .colab-df-quickchart {\n",
              "      --bg-color: #E8F0FE;\n",
              "      --fill-color: #1967D2;\n",
              "      --hover-bg-color: #E2EBFA;\n",
              "      --hover-fill-color: #174EA6;\n",
              "      --disabled-fill-color: #AAA;\n",
              "      --disabled-bg-color: #DDD;\n",
              "  }\n",
              "\n",
              "  [theme=dark] .colab-df-quickchart {\n",
              "      --bg-color: #3B4455;\n",
              "      --fill-color: #D2E3FC;\n",
              "      --hover-bg-color: #434B5C;\n",
              "      --hover-fill-color: #FFFFFF;\n",
              "      --disabled-bg-color: #3B4455;\n",
              "      --disabled-fill-color: #666;\n",
              "  }\n",
              "\n",
              "  .colab-df-quickchart {\n",
              "    background-color: var(--bg-color);\n",
              "    border: none;\n",
              "    border-radius: 50%;\n",
              "    cursor: pointer;\n",
              "    display: none;\n",
              "    fill: var(--fill-color);\n",
              "    height: 32px;\n",
              "    padding: 0;\n",
              "    width: 32px;\n",
              "  }\n",
              "\n",
              "  .colab-df-quickchart:hover {\n",
              "    background-color: var(--hover-bg-color);\n",
              "    box-shadow: 0 1px 2px rgba(60, 64, 67, 0.3), 0 1px 3px 1px rgba(60, 64, 67, 0.15);\n",
              "    fill: var(--button-hover-fill-color);\n",
              "  }\n",
              "\n",
              "  .colab-df-quickchart-complete:disabled,\n",
              "  .colab-df-quickchart-complete:disabled:hover {\n",
              "    background-color: var(--disabled-bg-color);\n",
              "    fill: var(--disabled-fill-color);\n",
              "    box-shadow: none;\n",
              "  }\n",
              "\n",
              "  .colab-df-spinner {\n",
              "    border: 2px solid var(--fill-color);\n",
              "    border-color: transparent;\n",
              "    border-bottom-color: var(--fill-color);\n",
              "    animation:\n",
              "      spin 1s steps(1) infinite;\n",
              "  }\n",
              "\n",
              "  @keyframes spin {\n",
              "    0% {\n",
              "      border-color: transparent;\n",
              "      border-bottom-color: var(--fill-color);\n",
              "      border-left-color: var(--fill-color);\n",
              "    }\n",
              "    20% {\n",
              "      border-color: transparent;\n",
              "      border-left-color: var(--fill-color);\n",
              "      border-top-color: var(--fill-color);\n",
              "    }\n",
              "    30% {\n",
              "      border-color: transparent;\n",
              "      border-left-color: var(--fill-color);\n",
              "      border-top-color: var(--fill-color);\n",
              "      border-right-color: var(--fill-color);\n",
              "    }\n",
              "    40% {\n",
              "      border-color: transparent;\n",
              "      border-right-color: var(--fill-color);\n",
              "      border-top-color: var(--fill-color);\n",
              "    }\n",
              "    60% {\n",
              "      border-color: transparent;\n",
              "      border-right-color: var(--fill-color);\n",
              "    }\n",
              "    80% {\n",
              "      border-color: transparent;\n",
              "      border-right-color: var(--fill-color);\n",
              "      border-bottom-color: var(--fill-color);\n",
              "    }\n",
              "    90% {\n",
              "      border-color: transparent;\n",
              "      border-bottom-color: var(--fill-color);\n",
              "    }\n",
              "  }\n",
              "</style>\n",
              "\n",
              "  <script>\n",
              "    async function quickchart(key) {\n",
              "      const quickchartButtonEl =\n",
              "        document.querySelector('#' + key + ' button');\n",
              "      quickchartButtonEl.disabled = true;  // To prevent multiple clicks.\n",
              "      quickchartButtonEl.classList.add('colab-df-spinner');\n",
              "      try {\n",
              "        const charts = await google.colab.kernel.invokeFunction(\n",
              "            'suggestCharts', [key], {});\n",
              "      } catch (error) {\n",
              "        console.error('Error during call to suggestCharts:', error);\n",
              "      }\n",
              "      quickchartButtonEl.classList.remove('colab-df-spinner');\n",
              "      quickchartButtonEl.classList.add('colab-df-quickchart-complete');\n",
              "    }\n",
              "    (() => {\n",
              "      let quickchartButtonEl =\n",
              "        document.querySelector('#df-92b2594b-2efb-4e85-8656-ee2f528adc96 button');\n",
              "      quickchartButtonEl.style.display =\n",
              "        google.colab.kernel.accessAllowed ? 'block' : 'none';\n",
              "    })();\n",
              "  </script>\n",
              "</div>\n",
              "    </div>\n",
              "  </div>\n"
            ]
          },
          "metadata": {},
          "execution_count": 21
        }
      ]
    },
    {
      "cell_type": "code",
      "source": [
        "X_test.shape"
      ],
      "metadata": {
        "id": "2o35E9567lFT",
        "outputId": "6485611d-adfe-4cf1-ee79-89b91a069273",
        "colab": {
          "base_uri": "https://localhost:8080/"
        }
      },
      "execution_count": null,
      "outputs": [
        {
          "output_type": "execute_result",
          "data": {
            "text/plain": [
              "(7684, 20)"
            ]
          },
          "metadata": {},
          "execution_count": 22
        }
      ]
    },
    {
      "cell_type": "code",
      "source": [
        "X_test.isnull().sum()"
      ],
      "metadata": {
        "colab": {
          "base_uri": "https://localhost:8080/"
        },
        "id": "LrkZb0mw5jkt",
        "outputId": "65f131df-1172-41ab-d6a2-40e86e2ac6fb"
      },
      "execution_count": null,
      "outputs": [
        {
          "output_type": "execute_result",
          "data": {
            "text/plain": [
              "age                       0\n",
              "barthel                5688\n",
              "charlson                 18\n",
              "codidiagingreso        2247\n",
              "codservicioreal           0\n",
              "creatinina             1629\n",
              "drg                     749\n",
              "estancias                 0\n",
              "glucosa                1868\n",
              "hematocrito            1714\n",
              "leucocitos             1714\n",
              "metastatic_tumor         18\n",
              "num_grupoact3_HOSP     4233\n",
              "numurgenciasprevias     104\n",
              "potasio                1774\n",
              "proteina_c_reactiva    3653\n",
              "rdw_cv                 1722\n",
              "rdw_sd                 1722\n",
              "sodio                  1679\n",
              "urea                   2916\n",
              "dtype: int64"
            ]
          },
          "metadata": {},
          "execution_count": 23
        }
      ]
    },
    {
      "cell_type": "markdown",
      "source": [
        "####Question2: Categoric Variables"
      ],
      "metadata": {
        "id": "Ru75a4iZmTzk"
      }
    },
    {
      "cell_type": "code",
      "source": [
        "variabili_categoriche = X_train.select_dtypes(include=['object'])\n",
        "print(variabili_categoriche.columns.tolist())"
      ],
      "metadata": {
        "colab": {
          "base_uri": "https://localhost:8080/"
        },
        "id": "nqQjpnUbmelL",
        "outputId": "abb0d5ef-cd6c-4327-a5a2-cd27bf3c0df6"
      },
      "execution_count": null,
      "outputs": [
        {
          "output_type": "stream",
          "name": "stdout",
          "text": [
            "['codidiagingreso', 'codservicioreal', 'metastatic_tumor']\n"
          ]
        }
      ]
    },
    {
      "cell_type": "markdown",
      "source": [
        "#####codidiagingreso"
      ],
      "metadata": {
        "id": "f_WwrHkDwITo"
      }
    },
    {
      "cell_type": "code",
      "source": [
        "from sklearn.preprocessing import OneHotEncoder\n",
        "from sklearn.impute import KNNImputer\n",
        "\n",
        "X_train['codidiagingreso'] = X_train['codidiagingreso'].astype(str)\n",
        "X_test['codidiagingreso'] = X_test['codidiagingreso'].astype(str)"
      ],
      "metadata": {
        "id": "CkFO42Ujy8Ze"
      },
      "execution_count": null,
      "outputs": []
    },
    {
      "cell_type": "code",
      "source": [
        "encoder = OneHotEncoder(sparse=False, handle_unknown='ignore')\n",
        "\n",
        "X_train_encoded = encoder.fit_transform(X_train[['codidiagingreso']])\n",
        "\n",
        "X_test_encoded = encoder.transform(X_test[['codidiagingreso']])"
      ],
      "metadata": {
        "colab": {
          "base_uri": "https://localhost:8080/"
        },
        "id": "dPjTbDOfKjVZ",
        "outputId": "b42d89e1-68d5-4288-9f09-8e6d0d72ac8e"
      },
      "execution_count": null,
      "outputs": [
        {
          "output_type": "stream",
          "name": "stderr",
          "text": [
            "/usr/local/lib/python3.10/dist-packages/sklearn/preprocessing/_encoders.py:868: FutureWarning: `sparse` was renamed to `sparse_output` in version 1.2 and will be removed in 1.4. `sparse_output` is ignored unless you leave `sparse` to its default value.\n",
            "  warnings.warn(\n"
          ]
        }
      ]
    },
    {
      "cell_type": "code",
      "source": [
        "imputer = KNNImputer(n_neighbors=2)\n",
        "\n",
        "X_train_imputed_temp = imputer.fit_transform(X_train_encoded)\n",
        "\n",
        "X_test_imputed_temp = imputer.transform(X_test_encoded)"
      ],
      "metadata": {
        "id": "xDCjt-FeJDn7"
      },
      "execution_count": null,
      "outputs": []
    },
    {
      "cell_type": "code",
      "source": [
        "X_train_imputed = X_train_imputed_temp.astype(object)\n",
        "X_test_imputed = X_test_imputed_temp.astype(object)"
      ],
      "metadata": {
        "id": "WZKNcs_LJDtY",
        "colab": {
          "base_uri": "https://localhost:8080/",
          "height": 197
        },
        "outputId": "df4201df-a5b3-4245-ce51-b11df4996a23"
      },
      "execution_count": null,
      "outputs": [
        {
          "output_type": "error",
          "ename": "NameError",
          "evalue": "ignored",
          "traceback": [
            "\u001b[0;31m---------------------------------------------------------------------------\u001b[0m",
            "\u001b[0;31mNameError\u001b[0m                                 Traceback (most recent call last)",
            "\u001b[0;32m<ipython-input-374-6395ad92b537>\u001b[0m in \u001b[0;36m<cell line: 1>\u001b[0;34m()\u001b[0m\n\u001b[0;32m----> 1\u001b[0;31m \u001b[0mX_train_imputed\u001b[0m \u001b[0;34m=\u001b[0m \u001b[0mX_train_imputed_temp\u001b[0m\u001b[0;34m.\u001b[0m\u001b[0mastype\u001b[0m\u001b[0;34m(\u001b[0m\u001b[0mobject\u001b[0m\u001b[0;34m)\u001b[0m\u001b[0;34m\u001b[0m\u001b[0;34m\u001b[0m\u001b[0m\n\u001b[0m\u001b[1;32m      2\u001b[0m \u001b[0mX_test_imputed\u001b[0m \u001b[0;34m=\u001b[0m \u001b[0mX_test_imputed_temp\u001b[0m\u001b[0;34m.\u001b[0m\u001b[0mastype\u001b[0m\u001b[0;34m(\u001b[0m\u001b[0mobject\u001b[0m\u001b[0;34m)\u001b[0m\u001b[0;34m\u001b[0m\u001b[0;34m\u001b[0m\u001b[0m\n",
            "\u001b[0;31mNameError\u001b[0m: name 'X_train_imputed_temp' is not defined"
          ]
        }
      ]
    },
    {
      "cell_type": "code",
      "source": [
        "X_train['codidiagingreso'].fillna('Unknown', inplace=True)\n",
        "X_test['codidiagingreso'].fillna('Unknown', inplace=True)"
      ],
      "metadata": {
        "id": "kweO85RCd0fr"
      },
      "execution_count": null,
      "outputs": []
    },
    {
      "cell_type": "code",
      "source": [
        "X_train['codidiagingreso'].isnull().sum()"
      ],
      "metadata": {
        "colab": {
          "base_uri": "https://localhost:8080/"
        },
        "id": "3ix2V3mqGWUi",
        "outputId": "4c40549a-3189-4863-c95d-26e54a516b37"
      },
      "execution_count": null,
      "outputs": [
        {
          "output_type": "execute_result",
          "data": {
            "text/plain": [
              "0"
            ]
          },
          "metadata": {},
          "execution_count": 667
        }
      ]
    },
    {
      "cell_type": "code",
      "source": [
        "X_test['codidiagingreso'].isnull().sum()"
      ],
      "metadata": {
        "colab": {
          "base_uri": "https://localhost:8080/"
        },
        "id": "qRPxTu_OOxox",
        "outputId": "688f0b7b-0434-4824-f1b3-12a29eb0a607"
      },
      "execution_count": null,
      "outputs": [
        {
          "output_type": "execute_result",
          "data": {
            "text/plain": [
              "0"
            ]
          },
          "metadata": {},
          "execution_count": 668
        }
      ]
    },
    {
      "cell_type": "code",
      "source": [
        "X_train.isnull().sum()"
      ],
      "metadata": {
        "colab": {
          "base_uri": "https://localhost:8080/"
        },
        "id": "4eUoINIXPES3",
        "outputId": "98ce4563-e41b-409d-894b-7b87f7b4f75a"
      },
      "execution_count": null,
      "outputs": [
        {
          "output_type": "execute_result",
          "data": {
            "text/plain": [
              "age                        0\n",
              "barthel                22510\n",
              "charlson                  59\n",
              "codidiagingreso            0\n",
              "codservicioreal            0\n",
              "creatinina              6322\n",
              "drg                     2891\n",
              "estancias                  0\n",
              "glucosa                 7360\n",
              "hematocrito             6588\n",
              "leucocitos              6588\n",
              "metastatic_tumor          59\n",
              "num_grupoact3_HOSP     16768\n",
              "numurgenciasprevias      448\n",
              "potasio                 6872\n",
              "proteina_c_reactiva    14522\n",
              "rdw_cv                  6612\n",
              "rdw_sd                  6612\n",
              "sodio                   6463\n",
              "urea                   11344\n",
              "dtype: int64"
            ]
          },
          "metadata": {},
          "execution_count": 26
        }
      ]
    },
    {
      "cell_type": "code",
      "source": [
        "X_test.isnull().sum()"
      ],
      "metadata": {
        "colab": {
          "base_uri": "https://localhost:8080/"
        },
        "id": "lu2tLqjGPPo3",
        "outputId": "7c108274-67ca-4ca5-dea1-025b0a4a27b3"
      },
      "execution_count": null,
      "outputs": [
        {
          "output_type": "execute_result",
          "data": {
            "text/plain": [
              "age                       0\n",
              "barthel                5688\n",
              "charlson                 18\n",
              "codidiagingreso           0\n",
              "codservicioreal           0\n",
              "creatinina             1629\n",
              "drg                     749\n",
              "estancias                 0\n",
              "glucosa                1868\n",
              "hematocrito            1714\n",
              "leucocitos             1714\n",
              "metastatic_tumor         18\n",
              "num_grupoact3_HOSP     4233\n",
              "numurgenciasprevias     104\n",
              "potasio                1774\n",
              "proteina_c_reactiva    3653\n",
              "rdw_cv                 1722\n",
              "rdw_sd                 1722\n",
              "sodio                  1679\n",
              "urea                   2916\n",
              "dtype: int64"
            ]
          },
          "metadata": {},
          "execution_count": 27
        }
      ]
    },
    {
      "cell_type": "markdown",
      "source": [
        "#####metastatic_tumor"
      ],
      "metadata": {
        "id": "nBsgwIlZY2GQ"
      }
    },
    {
      "cell_type": "code",
      "source": [
        "from sklearn.neighbors import KNeighborsRegressor\n",
        "from sklearn.model_selection import cross_val_score\n",
        "from sklearn.impute import KNNImputer\n",
        "\n",
        "k_values = list(range(1, 21))\n",
        "\n",
        "\n",
        "mean_scores = []\n",
        "for k in k_values:\n",
        "    imputer = KNNImputer(n_neighbors=k)\n",
        "    imputed_data = imputer.fit_transform(X_train[['metastatic_tumor']])\n",
        "\n",
        "\n",
        "    knn_regressor = KNeighborsRegressor(n_neighbors=k)\n",
        "    scores = cross_val_score(knn_regressor, imputed_data, y_train, cv=10, scoring='neg_mean_squared_error')\n",
        "    mean_scores.append(np.mean(scores))\n",
        "\n",
        "\n",
        "best_k = k_values[np.argmin(mean_scores)]\n",
        "print(\"The best number of neighbors is\", best_k)\n",
        "\n"
      ],
      "metadata": {
        "colab": {
          "base_uri": "https://localhost:8080/"
        },
        "id": "NISqmbzESTAQ",
        "outputId": "8dd5eb66-7e61-4ccf-cedc-5e2af0621dae"
      },
      "execution_count": null,
      "outputs": [
        {
          "output_type": "stream",
          "name": "stdout",
          "text": [
            "The best number of neighbors is 1\n"
          ]
        }
      ]
    },
    {
      "cell_type": "markdown",
      "source": [
        "In summary, the code performs a search for the best value of k for a KNN-based regression model. It uses cross-validation to evaluate the performance of the model on training data and determine which number of neighbors gives the best result in terms of mean square error. The process helps select an optimal k value for the KNN model based on the data provided."
      ],
      "metadata": {
        "id": "qXhAs6IE2VF5"
      }
    },
    {
      "cell_type": "code",
      "source": [
        "from sklearn.impute import KNNImputer\n",
        "\n",
        "imputer = KNNImputer(n_neighbors=1)\n",
        "metastatic_tumor_train = X_train[['metastatic_tumor']]\n",
        "metastatic_tumor_test = X_test[['metastatic_tumor']]\n",
        "\n",
        "X_train_imputed = imputer.fit_transform(metastatic_tumor_train)\n",
        "X_train['metastatic_tumor'] = X_train_imputed\n",
        "\n",
        "X_test_imputed = imputer.transform(metastatic_tumor_test)\n",
        "X_test['metastatic_tumor'] = X_test_imputed"
      ],
      "metadata": {
        "id": "7Ktay3sPo8eK"
      },
      "execution_count": null,
      "outputs": []
    },
    {
      "cell_type": "markdown",
      "source": [
        "This code uses the KNN imputer with a single neighbor to estimate and replace missing values in the metastatic_tumor column for the training and test datasets. This ensures that the metastatic_tumor columns in both datasets are free of missing values and ready for training and model evaluation."
      ],
      "metadata": {
        "id": "M6sfeEk-3G1M"
      }
    },
    {
      "cell_type": "code",
      "source": [
        "X_train.isnull().sum()"
      ],
      "metadata": {
        "colab": {
          "base_uri": "https://localhost:8080/"
        },
        "id": "Mf-uXm0Kbua7",
        "outputId": "241032b4-b6d8-4f84-b1b9-2c98eb887dbd"
      },
      "execution_count": null,
      "outputs": [
        {
          "output_type": "execute_result",
          "data": {
            "text/plain": [
              "age                        0\n",
              "barthel                22510\n",
              "charlson                  59\n",
              "codidiagingreso            0\n",
              "codservicioreal            0\n",
              "creatinina              6322\n",
              "drg                     2891\n",
              "estancias                  0\n",
              "glucosa                 7360\n",
              "hematocrito             6588\n",
              "leucocitos              6588\n",
              "metastatic_tumor           0\n",
              "num_grupoact3_HOSP     16768\n",
              "numurgenciasprevias      448\n",
              "potasio                 6872\n",
              "proteina_c_reactiva    14522\n",
              "rdw_cv                  6612\n",
              "rdw_sd                  6612\n",
              "sodio                   6463\n",
              "urea                   11344\n",
              "dtype: int64"
            ]
          },
          "metadata": {},
          "execution_count": 29
        }
      ]
    },
    {
      "cell_type": "code",
      "source": [
        "X_train['metastatic_tumor'] = X_train['metastatic_tumor'].replace({0.0: 'negativo', 1.0: 'positivo'})\n",
        "X_test['metastatic_tumor'] = X_test['metastatic_tumor'].replace({0.0: 'negativo', 1.0: 'positivo'})"
      ],
      "metadata": {
        "id": "ITQnbNgVjWb-"
      },
      "execution_count": null,
      "outputs": []
    },
    {
      "cell_type": "code",
      "source": [
        "X_train.head(10)"
      ],
      "metadata": {
        "colab": {
          "base_uri": "https://localhost:8080/",
          "height": 383
        },
        "id": "6RWJ0NEVcUgM",
        "outputId": "11147c6d-458c-483f-eaa7-93bd67e4fac0"
      },
      "execution_count": null,
      "outputs": [
        {
          "output_type": "execute_result",
          "data": {
            "text/plain": [
              "       age  barthel  charlson codidiagingreso codservicioreal  creatinina  \\\n",
              "29147   65      NaN       1.0           780.2            HCAR        0.76   \n",
              "10512   67      NaN       1.0         Unknown            HNEM        0.86   \n",
              "32039   94      NaN       9.0           585.9            HMUR        0.80   \n",
              "17925   83     95.0       3.0           428.1            HCAR        1.28   \n",
              "16317   81      NaN       2.0           558.9            HMUR        0.58   \n",
              "13471   78      NaN       0.0          574.90            HUHP        0.65   \n",
              "7937    86      NaN       0.0           401.9            HNEM        1.02   \n",
              "35531   87     75.0       8.0         Unknown            HMDG        0.99   \n",
              "6921    91      NaN       1.0          438.20            HNCG        0.84   \n",
              "25147   92      NaN       6.0          518.84            HNEM        0.60   \n",
              "\n",
              "         drg  estancias  glucosa  hematocrito  leucocitos metastatic_tumor  \\\n",
              "29147  171.0        4.0     91.0    38.148684        2.64         negativo   \n",
              "10512  139.0        5.0    150.6    41.548684       11.66         negativo   \n",
              "32039  425.0        4.0     73.7    30.948684        6.45         negativo   \n",
              "17925  198.0        3.0     96.0    35.710714        9.63         negativo   \n",
              "16317  249.0        3.0     79.9    42.548684        6.51         negativo   \n",
              "13471  260.0        8.0     94.8    35.648684        4.59         negativo   \n",
              "7937   144.0        3.0    119.5    33.448684        5.85         negativo   \n",
              "35531  253.0        7.0    192.4    25.848684        5.00         negativo   \n",
              "6921    56.0       12.0    155.2    37.310714        7.91         negativo   \n",
              "25147  133.0        6.0    172.9    36.010714        5.82         negativo   \n",
              "\n",
              "       num_grupoact3_HOSP  numurgenciasprevias   potasio  proteina_c_reactiva  \\\n",
              "29147                 NaN                  1.0  4.353334                  NaN   \n",
              "10512                 3.0                  1.0  4.563334            53.980658   \n",
              "32039                 NaN                  2.0  4.483334                  NaN   \n",
              "17925                 NaN                  7.0  4.700000                  NaN   \n",
              "16317                 NaN                  1.0  3.023334             6.360658   \n",
              "13471                 3.0                  4.0  3.983334                  NaN   \n",
              "7937                  NaN                  1.0  4.333334            43.390658   \n",
              "35531                17.0                 12.0  4.083334            -2.999342   \n",
              "6921                  NaN                  1.0  3.230000            12.347684   \n",
              "25147                 NaN                  1.0  4.970000             2.647684   \n",
              "\n",
              "         rdw_cv     rdw_sd       sodio       urea  \n",
              "29147  12.80000  38.500000  140.000000  25.352822  \n",
              "10512  14.90000  47.700000  139.000000  33.652822  \n",
              "32039  14.90000  46.800000  137.000000  30.852822  \n",
              "17925  14.56075  50.123099  138.340418  65.253918  \n",
              "16317  19.50000  52.300000  144.000000  23.652822  \n",
              "13471  14.70000  48.900000  142.000000  22.252822  \n",
              "7937   13.00000  45.100000  143.000000  47.152822  \n",
              "35531  17.70000  61.200000  137.000000        NaN  \n",
              "6921   15.06075  45.423099  142.340418  44.153918  \n",
              "25147  15.66075  52.423099  139.340418  64.253918  "
            ],
            "text/html": [
              "\n",
              "  <div id=\"df-242efaa8-7d3f-4649-925d-7f68cf5bc04b\" class=\"colab-df-container\">\n",
              "    <div>\n",
              "<style scoped>\n",
              "    .dataframe tbody tr th:only-of-type {\n",
              "        vertical-align: middle;\n",
              "    }\n",
              "\n",
              "    .dataframe tbody tr th {\n",
              "        vertical-align: top;\n",
              "    }\n",
              "\n",
              "    .dataframe thead th {\n",
              "        text-align: right;\n",
              "    }\n",
              "</style>\n",
              "<table border=\"1\" class=\"dataframe\">\n",
              "  <thead>\n",
              "    <tr style=\"text-align: right;\">\n",
              "      <th></th>\n",
              "      <th>age</th>\n",
              "      <th>barthel</th>\n",
              "      <th>charlson</th>\n",
              "      <th>codidiagingreso</th>\n",
              "      <th>codservicioreal</th>\n",
              "      <th>creatinina</th>\n",
              "      <th>drg</th>\n",
              "      <th>estancias</th>\n",
              "      <th>glucosa</th>\n",
              "      <th>hematocrito</th>\n",
              "      <th>leucocitos</th>\n",
              "      <th>metastatic_tumor</th>\n",
              "      <th>num_grupoact3_HOSP</th>\n",
              "      <th>numurgenciasprevias</th>\n",
              "      <th>potasio</th>\n",
              "      <th>proteina_c_reactiva</th>\n",
              "      <th>rdw_cv</th>\n",
              "      <th>rdw_sd</th>\n",
              "      <th>sodio</th>\n",
              "      <th>urea</th>\n",
              "    </tr>\n",
              "  </thead>\n",
              "  <tbody>\n",
              "    <tr>\n",
              "      <th>29147</th>\n",
              "      <td>65</td>\n",
              "      <td>NaN</td>\n",
              "      <td>1.0</td>\n",
              "      <td>780.2</td>\n",
              "      <td>HCAR</td>\n",
              "      <td>0.76</td>\n",
              "      <td>171.0</td>\n",
              "      <td>4.0</td>\n",
              "      <td>91.0</td>\n",
              "      <td>38.148684</td>\n",
              "      <td>2.64</td>\n",
              "      <td>negativo</td>\n",
              "      <td>NaN</td>\n",
              "      <td>1.0</td>\n",
              "      <td>4.353334</td>\n",
              "      <td>NaN</td>\n",
              "      <td>12.80000</td>\n",
              "      <td>38.500000</td>\n",
              "      <td>140.000000</td>\n",
              "      <td>25.352822</td>\n",
              "    </tr>\n",
              "    <tr>\n",
              "      <th>10512</th>\n",
              "      <td>67</td>\n",
              "      <td>NaN</td>\n",
              "      <td>1.0</td>\n",
              "      <td>Unknown</td>\n",
              "      <td>HNEM</td>\n",
              "      <td>0.86</td>\n",
              "      <td>139.0</td>\n",
              "      <td>5.0</td>\n",
              "      <td>150.6</td>\n",
              "      <td>41.548684</td>\n",
              "      <td>11.66</td>\n",
              "      <td>negativo</td>\n",
              "      <td>3.0</td>\n",
              "      <td>1.0</td>\n",
              "      <td>4.563334</td>\n",
              "      <td>53.980658</td>\n",
              "      <td>14.90000</td>\n",
              "      <td>47.700000</td>\n",
              "      <td>139.000000</td>\n",
              "      <td>33.652822</td>\n",
              "    </tr>\n",
              "    <tr>\n",
              "      <th>32039</th>\n",
              "      <td>94</td>\n",
              "      <td>NaN</td>\n",
              "      <td>9.0</td>\n",
              "      <td>585.9</td>\n",
              "      <td>HMUR</td>\n",
              "      <td>0.80</td>\n",
              "      <td>425.0</td>\n",
              "      <td>4.0</td>\n",
              "      <td>73.7</td>\n",
              "      <td>30.948684</td>\n",
              "      <td>6.45</td>\n",
              "      <td>negativo</td>\n",
              "      <td>NaN</td>\n",
              "      <td>2.0</td>\n",
              "      <td>4.483334</td>\n",
              "      <td>NaN</td>\n",
              "      <td>14.90000</td>\n",
              "      <td>46.800000</td>\n",
              "      <td>137.000000</td>\n",
              "      <td>30.852822</td>\n",
              "    </tr>\n",
              "    <tr>\n",
              "      <th>17925</th>\n",
              "      <td>83</td>\n",
              "      <td>95.0</td>\n",
              "      <td>3.0</td>\n",
              "      <td>428.1</td>\n",
              "      <td>HCAR</td>\n",
              "      <td>1.28</td>\n",
              "      <td>198.0</td>\n",
              "      <td>3.0</td>\n",
              "      <td>96.0</td>\n",
              "      <td>35.710714</td>\n",
              "      <td>9.63</td>\n",
              "      <td>negativo</td>\n",
              "      <td>NaN</td>\n",
              "      <td>7.0</td>\n",
              "      <td>4.700000</td>\n",
              "      <td>NaN</td>\n",
              "      <td>14.56075</td>\n",
              "      <td>50.123099</td>\n",
              "      <td>138.340418</td>\n",
              "      <td>65.253918</td>\n",
              "    </tr>\n",
              "    <tr>\n",
              "      <th>16317</th>\n",
              "      <td>81</td>\n",
              "      <td>NaN</td>\n",
              "      <td>2.0</td>\n",
              "      <td>558.9</td>\n",
              "      <td>HMUR</td>\n",
              "      <td>0.58</td>\n",
              "      <td>249.0</td>\n",
              "      <td>3.0</td>\n",
              "      <td>79.9</td>\n",
              "      <td>42.548684</td>\n",
              "      <td>6.51</td>\n",
              "      <td>negativo</td>\n",
              "      <td>NaN</td>\n",
              "      <td>1.0</td>\n",
              "      <td>3.023334</td>\n",
              "      <td>6.360658</td>\n",
              "      <td>19.50000</td>\n",
              "      <td>52.300000</td>\n",
              "      <td>144.000000</td>\n",
              "      <td>23.652822</td>\n",
              "    </tr>\n",
              "    <tr>\n",
              "      <th>13471</th>\n",
              "      <td>78</td>\n",
              "      <td>NaN</td>\n",
              "      <td>0.0</td>\n",
              "      <td>574.90</td>\n",
              "      <td>HUHP</td>\n",
              "      <td>0.65</td>\n",
              "      <td>260.0</td>\n",
              "      <td>8.0</td>\n",
              "      <td>94.8</td>\n",
              "      <td>35.648684</td>\n",
              "      <td>4.59</td>\n",
              "      <td>negativo</td>\n",
              "      <td>3.0</td>\n",
              "      <td>4.0</td>\n",
              "      <td>3.983334</td>\n",
              "      <td>NaN</td>\n",
              "      <td>14.70000</td>\n",
              "      <td>48.900000</td>\n",
              "      <td>142.000000</td>\n",
              "      <td>22.252822</td>\n",
              "    </tr>\n",
              "    <tr>\n",
              "      <th>7937</th>\n",
              "      <td>86</td>\n",
              "      <td>NaN</td>\n",
              "      <td>0.0</td>\n",
              "      <td>401.9</td>\n",
              "      <td>HNEM</td>\n",
              "      <td>1.02</td>\n",
              "      <td>144.0</td>\n",
              "      <td>3.0</td>\n",
              "      <td>119.5</td>\n",
              "      <td>33.448684</td>\n",
              "      <td>5.85</td>\n",
              "      <td>negativo</td>\n",
              "      <td>NaN</td>\n",
              "      <td>1.0</td>\n",
              "      <td>4.333334</td>\n",
              "      <td>43.390658</td>\n",
              "      <td>13.00000</td>\n",
              "      <td>45.100000</td>\n",
              "      <td>143.000000</td>\n",
              "      <td>47.152822</td>\n",
              "    </tr>\n",
              "    <tr>\n",
              "      <th>35531</th>\n",
              "      <td>87</td>\n",
              "      <td>75.0</td>\n",
              "      <td>8.0</td>\n",
              "      <td>Unknown</td>\n",
              "      <td>HMDG</td>\n",
              "      <td>0.99</td>\n",
              "      <td>253.0</td>\n",
              "      <td>7.0</td>\n",
              "      <td>192.4</td>\n",
              "      <td>25.848684</td>\n",
              "      <td>5.00</td>\n",
              "      <td>negativo</td>\n",
              "      <td>17.0</td>\n",
              "      <td>12.0</td>\n",
              "      <td>4.083334</td>\n",
              "      <td>-2.999342</td>\n",
              "      <td>17.70000</td>\n",
              "      <td>61.200000</td>\n",
              "      <td>137.000000</td>\n",
              "      <td>NaN</td>\n",
              "    </tr>\n",
              "    <tr>\n",
              "      <th>6921</th>\n",
              "      <td>91</td>\n",
              "      <td>NaN</td>\n",
              "      <td>1.0</td>\n",
              "      <td>438.20</td>\n",
              "      <td>HNCG</td>\n",
              "      <td>0.84</td>\n",
              "      <td>56.0</td>\n",
              "      <td>12.0</td>\n",
              "      <td>155.2</td>\n",
              "      <td>37.310714</td>\n",
              "      <td>7.91</td>\n",
              "      <td>negativo</td>\n",
              "      <td>NaN</td>\n",
              "      <td>1.0</td>\n",
              "      <td>3.230000</td>\n",
              "      <td>12.347684</td>\n",
              "      <td>15.06075</td>\n",
              "      <td>45.423099</td>\n",
              "      <td>142.340418</td>\n",
              "      <td>44.153918</td>\n",
              "    </tr>\n",
              "    <tr>\n",
              "      <th>25147</th>\n",
              "      <td>92</td>\n",
              "      <td>NaN</td>\n",
              "      <td>6.0</td>\n",
              "      <td>518.84</td>\n",
              "      <td>HNEM</td>\n",
              "      <td>0.60</td>\n",
              "      <td>133.0</td>\n",
              "      <td>6.0</td>\n",
              "      <td>172.9</td>\n",
              "      <td>36.010714</td>\n",
              "      <td>5.82</td>\n",
              "      <td>negativo</td>\n",
              "      <td>NaN</td>\n",
              "      <td>1.0</td>\n",
              "      <td>4.970000</td>\n",
              "      <td>2.647684</td>\n",
              "      <td>15.66075</td>\n",
              "      <td>52.423099</td>\n",
              "      <td>139.340418</td>\n",
              "      <td>64.253918</td>\n",
              "    </tr>\n",
              "  </tbody>\n",
              "</table>\n",
              "</div>\n",
              "    <div class=\"colab-df-buttons\">\n",
              "\n",
              "  <div class=\"colab-df-container\">\n",
              "    <button class=\"colab-df-convert\" onclick=\"convertToInteractive('df-242efaa8-7d3f-4649-925d-7f68cf5bc04b')\"\n",
              "            title=\"Convert this dataframe to an interactive table.\"\n",
              "            style=\"display:none;\">\n",
              "\n",
              "  <svg xmlns=\"http://www.w3.org/2000/svg\" height=\"24px\" viewBox=\"0 -960 960 960\">\n",
              "    <path d=\"M120-120v-720h720v720H120Zm60-500h600v-160H180v160Zm220 220h160v-160H400v160Zm0 220h160v-160H400v160ZM180-400h160v-160H180v160Zm440 0h160v-160H620v160ZM180-180h160v-160H180v160Zm440 0h160v-160H620v160Z\"/>\n",
              "  </svg>\n",
              "    </button>\n",
              "\n",
              "  <style>\n",
              "    .colab-df-container {\n",
              "      display:flex;\n",
              "      gap: 12px;\n",
              "    }\n",
              "\n",
              "    .colab-df-convert {\n",
              "      background-color: #E8F0FE;\n",
              "      border: none;\n",
              "      border-radius: 50%;\n",
              "      cursor: pointer;\n",
              "      display: none;\n",
              "      fill: #1967D2;\n",
              "      height: 32px;\n",
              "      padding: 0 0 0 0;\n",
              "      width: 32px;\n",
              "    }\n",
              "\n",
              "    .colab-df-convert:hover {\n",
              "      background-color: #E2EBFA;\n",
              "      box-shadow: 0px 1px 2px rgba(60, 64, 67, 0.3), 0px 1px 3px 1px rgba(60, 64, 67, 0.15);\n",
              "      fill: #174EA6;\n",
              "    }\n",
              "\n",
              "    .colab-df-buttons div {\n",
              "      margin-bottom: 4px;\n",
              "    }\n",
              "\n",
              "    [theme=dark] .colab-df-convert {\n",
              "      background-color: #3B4455;\n",
              "      fill: #D2E3FC;\n",
              "    }\n",
              "\n",
              "    [theme=dark] .colab-df-convert:hover {\n",
              "      background-color: #434B5C;\n",
              "      box-shadow: 0px 1px 3px 1px rgba(0, 0, 0, 0.15);\n",
              "      filter: drop-shadow(0px 1px 2px rgba(0, 0, 0, 0.3));\n",
              "      fill: #FFFFFF;\n",
              "    }\n",
              "  </style>\n",
              "\n",
              "    <script>\n",
              "      const buttonEl =\n",
              "        document.querySelector('#df-242efaa8-7d3f-4649-925d-7f68cf5bc04b button.colab-df-convert');\n",
              "      buttonEl.style.display =\n",
              "        google.colab.kernel.accessAllowed ? 'block' : 'none';\n",
              "\n",
              "      async function convertToInteractive(key) {\n",
              "        const element = document.querySelector('#df-242efaa8-7d3f-4649-925d-7f68cf5bc04b');\n",
              "        const dataTable =\n",
              "          await google.colab.kernel.invokeFunction('convertToInteractive',\n",
              "                                                    [key], {});\n",
              "        if (!dataTable) return;\n",
              "\n",
              "        const docLinkHtml = 'Like what you see? Visit the ' +\n",
              "          '<a target=\"_blank\" href=https://colab.research.google.com/notebooks/data_table.ipynb>data table notebook</a>'\n",
              "          + ' to learn more about interactive tables.';\n",
              "        element.innerHTML = '';\n",
              "        dataTable['output_type'] = 'display_data';\n",
              "        await google.colab.output.renderOutput(dataTable, element);\n",
              "        const docLink = document.createElement('div');\n",
              "        docLink.innerHTML = docLinkHtml;\n",
              "        element.appendChild(docLink);\n",
              "      }\n",
              "    </script>\n",
              "  </div>\n",
              "\n",
              "\n",
              "<div id=\"df-ec1e9432-acbc-4dd7-b406-9889aadf427e\">\n",
              "  <button class=\"colab-df-quickchart\" onclick=\"quickchart('df-ec1e9432-acbc-4dd7-b406-9889aadf427e')\"\n",
              "            title=\"Suggest charts.\"\n",
              "            style=\"display:none;\">\n",
              "\n",
              "<svg xmlns=\"http://www.w3.org/2000/svg\" height=\"24px\"viewBox=\"0 0 24 24\"\n",
              "     width=\"24px\">\n",
              "    <g>\n",
              "        <path d=\"M19 3H5c-1.1 0-2 .9-2 2v14c0 1.1.9 2 2 2h14c1.1 0 2-.9 2-2V5c0-1.1-.9-2-2-2zM9 17H7v-7h2v7zm4 0h-2V7h2v10zm4 0h-2v-4h2v4z\"/>\n",
              "    </g>\n",
              "</svg>\n",
              "  </button>\n",
              "\n",
              "<style>\n",
              "  .colab-df-quickchart {\n",
              "      --bg-color: #E8F0FE;\n",
              "      --fill-color: #1967D2;\n",
              "      --hover-bg-color: #E2EBFA;\n",
              "      --hover-fill-color: #174EA6;\n",
              "      --disabled-fill-color: #AAA;\n",
              "      --disabled-bg-color: #DDD;\n",
              "  }\n",
              "\n",
              "  [theme=dark] .colab-df-quickchart {\n",
              "      --bg-color: #3B4455;\n",
              "      --fill-color: #D2E3FC;\n",
              "      --hover-bg-color: #434B5C;\n",
              "      --hover-fill-color: #FFFFFF;\n",
              "      --disabled-bg-color: #3B4455;\n",
              "      --disabled-fill-color: #666;\n",
              "  }\n",
              "\n",
              "  .colab-df-quickchart {\n",
              "    background-color: var(--bg-color);\n",
              "    border: none;\n",
              "    border-radius: 50%;\n",
              "    cursor: pointer;\n",
              "    display: none;\n",
              "    fill: var(--fill-color);\n",
              "    height: 32px;\n",
              "    padding: 0;\n",
              "    width: 32px;\n",
              "  }\n",
              "\n",
              "  .colab-df-quickchart:hover {\n",
              "    background-color: var(--hover-bg-color);\n",
              "    box-shadow: 0 1px 2px rgba(60, 64, 67, 0.3), 0 1px 3px 1px rgba(60, 64, 67, 0.15);\n",
              "    fill: var(--button-hover-fill-color);\n",
              "  }\n",
              "\n",
              "  .colab-df-quickchart-complete:disabled,\n",
              "  .colab-df-quickchart-complete:disabled:hover {\n",
              "    background-color: var(--disabled-bg-color);\n",
              "    fill: var(--disabled-fill-color);\n",
              "    box-shadow: none;\n",
              "  }\n",
              "\n",
              "  .colab-df-spinner {\n",
              "    border: 2px solid var(--fill-color);\n",
              "    border-color: transparent;\n",
              "    border-bottom-color: var(--fill-color);\n",
              "    animation:\n",
              "      spin 1s steps(1) infinite;\n",
              "  }\n",
              "\n",
              "  @keyframes spin {\n",
              "    0% {\n",
              "      border-color: transparent;\n",
              "      border-bottom-color: var(--fill-color);\n",
              "      border-left-color: var(--fill-color);\n",
              "    }\n",
              "    20% {\n",
              "      border-color: transparent;\n",
              "      border-left-color: var(--fill-color);\n",
              "      border-top-color: var(--fill-color);\n",
              "    }\n",
              "    30% {\n",
              "      border-color: transparent;\n",
              "      border-left-color: var(--fill-color);\n",
              "      border-top-color: var(--fill-color);\n",
              "      border-right-color: var(--fill-color);\n",
              "    }\n",
              "    40% {\n",
              "      border-color: transparent;\n",
              "      border-right-color: var(--fill-color);\n",
              "      border-top-color: var(--fill-color);\n",
              "    }\n",
              "    60% {\n",
              "      border-color: transparent;\n",
              "      border-right-color: var(--fill-color);\n",
              "    }\n",
              "    80% {\n",
              "      border-color: transparent;\n",
              "      border-right-color: var(--fill-color);\n",
              "      border-bottom-color: var(--fill-color);\n",
              "    }\n",
              "    90% {\n",
              "      border-color: transparent;\n",
              "      border-bottom-color: var(--fill-color);\n",
              "    }\n",
              "  }\n",
              "</style>\n",
              "\n",
              "  <script>\n",
              "    async function quickchart(key) {\n",
              "      const quickchartButtonEl =\n",
              "        document.querySelector('#' + key + ' button');\n",
              "      quickchartButtonEl.disabled = true;  // To prevent multiple clicks.\n",
              "      quickchartButtonEl.classList.add('colab-df-spinner');\n",
              "      try {\n",
              "        const charts = await google.colab.kernel.invokeFunction(\n",
              "            'suggestCharts', [key], {});\n",
              "      } catch (error) {\n",
              "        console.error('Error during call to suggestCharts:', error);\n",
              "      }\n",
              "      quickchartButtonEl.classList.remove('colab-df-spinner');\n",
              "      quickchartButtonEl.classList.add('colab-df-quickchart-complete');\n",
              "    }\n",
              "    (() => {\n",
              "      let quickchartButtonEl =\n",
              "        document.querySelector('#df-ec1e9432-acbc-4dd7-b406-9889aadf427e button');\n",
              "      quickchartButtonEl.style.display =\n",
              "        google.colab.kernel.accessAllowed ? 'block' : 'none';\n",
              "    })();\n",
              "  </script>\n",
              "</div>\n",
              "    </div>\n",
              "  </div>\n"
            ]
          },
          "metadata": {},
          "execution_count": 31
        }
      ]
    },
    {
      "cell_type": "markdown",
      "source": [
        "The approach used in this code is imputation based on K-Nearest Neighbors (KNN). This means that missing values are estimated based on the values of similar rows in the training set.\n",
        "\n",
        "If a variable that has no missing values in the training set turns out to be missing in the test set, the KNNImputer will have no specific information about that variable in the training set and will try to estimate the value based only on the other nearest neighbors. This may lead to less accurate estimates. In some cases, it may be useful to have a more representative training set."
      ],
      "metadata": {
        "id": "vgHKJcRjSt6I"
      }
    },
    {
      "cell_type": "markdown",
      "source": [
        "####Question 3: Continuous Variables"
      ],
      "metadata": {
        "id": "WB2wZxAnmATo"
      }
    },
    {
      "cell_type": "code",
      "source": [
        "median_values = X_train.median()"
      ],
      "metadata": {
        "colab": {
          "base_uri": "https://localhost:8080/"
        },
        "id": "HiWbZzs8yWSg",
        "outputId": "cb8977c1-669d-4ad6-a0cc-5bff53b8a659"
      },
      "execution_count": null,
      "outputs": [
        {
          "output_type": "stream",
          "name": "stderr",
          "text": [
            "<ipython-input-32-bc646f9bf688>:1: FutureWarning: The default value of numeric_only in DataFrame.median is deprecated. In a future version, it will default to False. In addition, specifying 'numeric_only=None' is deprecated. Select only valid columns or specify the value of numeric_only to silence this warning.\n",
            "  median_values = X_train.median()\n"
          ]
        }
      ]
    },
    {
      "cell_type": "code",
      "source": [
        "median_values.head(19)"
      ],
      "metadata": {
        "colab": {
          "base_uri": "https://localhost:8080/"
        },
        "id": "F26F7MYu3Esg",
        "outputId": "6754466c-6c2f-4882-b9c3-5c7688b4c624"
      },
      "execution_count": null,
      "outputs": [
        {
          "output_type": "execute_result",
          "data": {
            "text/plain": [
              "age                     80.000000\n",
              "barthel                 55.000000\n",
              "charlson                 4.000000\n",
              "creatinina               0.960000\n",
              "drg                    194.000000\n",
              "estancias                6.000000\n",
              "glucosa                106.400000\n",
              "hematocrito             35.848684\n",
              "leucocitos               8.140000\n",
              "num_grupoact3_HOSP       5.000000\n",
              "numurgenciasprevias      4.000000\n",
              "potasio                  4.250000\n",
              "proteina_c_reactiva     21.985658\n",
              "rdw_cv                  14.800000\n",
              "rdw_sd                  48.423099\n",
              "sodio                  140.000000\n",
              "urea                    47.952822\n",
              "dtype: float64"
            ]
          },
          "metadata": {},
          "execution_count": 33
        }
      ]
    },
    {
      "cell_type": "code",
      "source": [
        "X_train.fillna(median_values, inplace=True)\n",
        "X_test.fillna(median_values, inplace=True)"
      ],
      "metadata": {
        "id": "neRms3gkyWaC"
      },
      "execution_count": null,
      "outputs": []
    },
    {
      "cell_type": "code",
      "source": [
        "X_train.head(2)"
      ],
      "metadata": {
        "colab": {
          "base_uri": "https://localhost:8080/",
          "height": 132
        },
        "id": "jGaQiH1pzfow",
        "outputId": "1fc6a9c9-be99-4ae8-c85e-d399741af378"
      },
      "execution_count": null,
      "outputs": [
        {
          "output_type": "execute_result",
          "data": {
            "text/plain": [
              "       age  barthel  charlson codidiagingreso codservicioreal  creatinina  \\\n",
              "29147   65     55.0       1.0           780.2            HCAR        0.76   \n",
              "10512   67     55.0       1.0         Unknown            HNEM        0.86   \n",
              "\n",
              "         drg  estancias  glucosa  hematocrito  leucocitos metastatic_tumor  \\\n",
              "29147  171.0        4.0     91.0    38.148684        2.64         negativo   \n",
              "10512  139.0        5.0    150.6    41.548684       11.66         negativo   \n",
              "\n",
              "       num_grupoact3_HOSP  numurgenciasprevias   potasio  proteina_c_reactiva  \\\n",
              "29147                 5.0                  1.0  4.353334            21.985658   \n",
              "10512                 3.0                  1.0  4.563334            53.980658   \n",
              "\n",
              "       rdw_cv  rdw_sd  sodio       urea  \n",
              "29147    12.8    38.5  140.0  25.352822  \n",
              "10512    14.9    47.7  139.0  33.652822  "
            ],
            "text/html": [
              "\n",
              "  <div id=\"df-5155314d-7855-46a0-ab4a-ee1a52035b1c\" class=\"colab-df-container\">\n",
              "    <div>\n",
              "<style scoped>\n",
              "    .dataframe tbody tr th:only-of-type {\n",
              "        vertical-align: middle;\n",
              "    }\n",
              "\n",
              "    .dataframe tbody tr th {\n",
              "        vertical-align: top;\n",
              "    }\n",
              "\n",
              "    .dataframe thead th {\n",
              "        text-align: right;\n",
              "    }\n",
              "</style>\n",
              "<table border=\"1\" class=\"dataframe\">\n",
              "  <thead>\n",
              "    <tr style=\"text-align: right;\">\n",
              "      <th></th>\n",
              "      <th>age</th>\n",
              "      <th>barthel</th>\n",
              "      <th>charlson</th>\n",
              "      <th>codidiagingreso</th>\n",
              "      <th>codservicioreal</th>\n",
              "      <th>creatinina</th>\n",
              "      <th>drg</th>\n",
              "      <th>estancias</th>\n",
              "      <th>glucosa</th>\n",
              "      <th>hematocrito</th>\n",
              "      <th>leucocitos</th>\n",
              "      <th>metastatic_tumor</th>\n",
              "      <th>num_grupoact3_HOSP</th>\n",
              "      <th>numurgenciasprevias</th>\n",
              "      <th>potasio</th>\n",
              "      <th>proteina_c_reactiva</th>\n",
              "      <th>rdw_cv</th>\n",
              "      <th>rdw_sd</th>\n",
              "      <th>sodio</th>\n",
              "      <th>urea</th>\n",
              "    </tr>\n",
              "  </thead>\n",
              "  <tbody>\n",
              "    <tr>\n",
              "      <th>29147</th>\n",
              "      <td>65</td>\n",
              "      <td>55.0</td>\n",
              "      <td>1.0</td>\n",
              "      <td>780.2</td>\n",
              "      <td>HCAR</td>\n",
              "      <td>0.76</td>\n",
              "      <td>171.0</td>\n",
              "      <td>4.0</td>\n",
              "      <td>91.0</td>\n",
              "      <td>38.148684</td>\n",
              "      <td>2.64</td>\n",
              "      <td>negativo</td>\n",
              "      <td>5.0</td>\n",
              "      <td>1.0</td>\n",
              "      <td>4.353334</td>\n",
              "      <td>21.985658</td>\n",
              "      <td>12.8</td>\n",
              "      <td>38.5</td>\n",
              "      <td>140.0</td>\n",
              "      <td>25.352822</td>\n",
              "    </tr>\n",
              "    <tr>\n",
              "      <th>10512</th>\n",
              "      <td>67</td>\n",
              "      <td>55.0</td>\n",
              "      <td>1.0</td>\n",
              "      <td>Unknown</td>\n",
              "      <td>HNEM</td>\n",
              "      <td>0.86</td>\n",
              "      <td>139.0</td>\n",
              "      <td>5.0</td>\n",
              "      <td>150.6</td>\n",
              "      <td>41.548684</td>\n",
              "      <td>11.66</td>\n",
              "      <td>negativo</td>\n",
              "      <td>3.0</td>\n",
              "      <td>1.0</td>\n",
              "      <td>4.563334</td>\n",
              "      <td>53.980658</td>\n",
              "      <td>14.9</td>\n",
              "      <td>47.7</td>\n",
              "      <td>139.0</td>\n",
              "      <td>33.652822</td>\n",
              "    </tr>\n",
              "  </tbody>\n",
              "</table>\n",
              "</div>\n",
              "    <div class=\"colab-df-buttons\">\n",
              "\n",
              "  <div class=\"colab-df-container\">\n",
              "    <button class=\"colab-df-convert\" onclick=\"convertToInteractive('df-5155314d-7855-46a0-ab4a-ee1a52035b1c')\"\n",
              "            title=\"Convert this dataframe to an interactive table.\"\n",
              "            style=\"display:none;\">\n",
              "\n",
              "  <svg xmlns=\"http://www.w3.org/2000/svg\" height=\"24px\" viewBox=\"0 -960 960 960\">\n",
              "    <path d=\"M120-120v-720h720v720H120Zm60-500h600v-160H180v160Zm220 220h160v-160H400v160Zm0 220h160v-160H400v160ZM180-400h160v-160H180v160Zm440 0h160v-160H620v160ZM180-180h160v-160H180v160Zm440 0h160v-160H620v160Z\"/>\n",
              "  </svg>\n",
              "    </button>\n",
              "\n",
              "  <style>\n",
              "    .colab-df-container {\n",
              "      display:flex;\n",
              "      gap: 12px;\n",
              "    }\n",
              "\n",
              "    .colab-df-convert {\n",
              "      background-color: #E8F0FE;\n",
              "      border: none;\n",
              "      border-radius: 50%;\n",
              "      cursor: pointer;\n",
              "      display: none;\n",
              "      fill: #1967D2;\n",
              "      height: 32px;\n",
              "      padding: 0 0 0 0;\n",
              "      width: 32px;\n",
              "    }\n",
              "\n",
              "    .colab-df-convert:hover {\n",
              "      background-color: #E2EBFA;\n",
              "      box-shadow: 0px 1px 2px rgba(60, 64, 67, 0.3), 0px 1px 3px 1px rgba(60, 64, 67, 0.15);\n",
              "      fill: #174EA6;\n",
              "    }\n",
              "\n",
              "    .colab-df-buttons div {\n",
              "      margin-bottom: 4px;\n",
              "    }\n",
              "\n",
              "    [theme=dark] .colab-df-convert {\n",
              "      background-color: #3B4455;\n",
              "      fill: #D2E3FC;\n",
              "    }\n",
              "\n",
              "    [theme=dark] .colab-df-convert:hover {\n",
              "      background-color: #434B5C;\n",
              "      box-shadow: 0px 1px 3px 1px rgba(0, 0, 0, 0.15);\n",
              "      filter: drop-shadow(0px 1px 2px rgba(0, 0, 0, 0.3));\n",
              "      fill: #FFFFFF;\n",
              "    }\n",
              "  </style>\n",
              "\n",
              "    <script>\n",
              "      const buttonEl =\n",
              "        document.querySelector('#df-5155314d-7855-46a0-ab4a-ee1a52035b1c button.colab-df-convert');\n",
              "      buttonEl.style.display =\n",
              "        google.colab.kernel.accessAllowed ? 'block' : 'none';\n",
              "\n",
              "      async function convertToInteractive(key) {\n",
              "        const element = document.querySelector('#df-5155314d-7855-46a0-ab4a-ee1a52035b1c');\n",
              "        const dataTable =\n",
              "          await google.colab.kernel.invokeFunction('convertToInteractive',\n",
              "                                                    [key], {});\n",
              "        if (!dataTable) return;\n",
              "\n",
              "        const docLinkHtml = 'Like what you see? Visit the ' +\n",
              "          '<a target=\"_blank\" href=https://colab.research.google.com/notebooks/data_table.ipynb>data table notebook</a>'\n",
              "          + ' to learn more about interactive tables.';\n",
              "        element.innerHTML = '';\n",
              "        dataTable['output_type'] = 'display_data';\n",
              "        await google.colab.output.renderOutput(dataTable, element);\n",
              "        const docLink = document.createElement('div');\n",
              "        docLink.innerHTML = docLinkHtml;\n",
              "        element.appendChild(docLink);\n",
              "      }\n",
              "    </script>\n",
              "  </div>\n",
              "\n",
              "\n",
              "<div id=\"df-63787f6e-38a0-4531-81b9-62d7597919d4\">\n",
              "  <button class=\"colab-df-quickchart\" onclick=\"quickchart('df-63787f6e-38a0-4531-81b9-62d7597919d4')\"\n",
              "            title=\"Suggest charts.\"\n",
              "            style=\"display:none;\">\n",
              "\n",
              "<svg xmlns=\"http://www.w3.org/2000/svg\" height=\"24px\"viewBox=\"0 0 24 24\"\n",
              "     width=\"24px\">\n",
              "    <g>\n",
              "        <path d=\"M19 3H5c-1.1 0-2 .9-2 2v14c0 1.1.9 2 2 2h14c1.1 0 2-.9 2-2V5c0-1.1-.9-2-2-2zM9 17H7v-7h2v7zm4 0h-2V7h2v10zm4 0h-2v-4h2v4z\"/>\n",
              "    </g>\n",
              "</svg>\n",
              "  </button>\n",
              "\n",
              "<style>\n",
              "  .colab-df-quickchart {\n",
              "      --bg-color: #E8F0FE;\n",
              "      --fill-color: #1967D2;\n",
              "      --hover-bg-color: #E2EBFA;\n",
              "      --hover-fill-color: #174EA6;\n",
              "      --disabled-fill-color: #AAA;\n",
              "      --disabled-bg-color: #DDD;\n",
              "  }\n",
              "\n",
              "  [theme=dark] .colab-df-quickchart {\n",
              "      --bg-color: #3B4455;\n",
              "      --fill-color: #D2E3FC;\n",
              "      --hover-bg-color: #434B5C;\n",
              "      --hover-fill-color: #FFFFFF;\n",
              "      --disabled-bg-color: #3B4455;\n",
              "      --disabled-fill-color: #666;\n",
              "  }\n",
              "\n",
              "  .colab-df-quickchart {\n",
              "    background-color: var(--bg-color);\n",
              "    border: none;\n",
              "    border-radius: 50%;\n",
              "    cursor: pointer;\n",
              "    display: none;\n",
              "    fill: var(--fill-color);\n",
              "    height: 32px;\n",
              "    padding: 0;\n",
              "    width: 32px;\n",
              "  }\n",
              "\n",
              "  .colab-df-quickchart:hover {\n",
              "    background-color: var(--hover-bg-color);\n",
              "    box-shadow: 0 1px 2px rgba(60, 64, 67, 0.3), 0 1px 3px 1px rgba(60, 64, 67, 0.15);\n",
              "    fill: var(--button-hover-fill-color);\n",
              "  }\n",
              "\n",
              "  .colab-df-quickchart-complete:disabled,\n",
              "  .colab-df-quickchart-complete:disabled:hover {\n",
              "    background-color: var(--disabled-bg-color);\n",
              "    fill: var(--disabled-fill-color);\n",
              "    box-shadow: none;\n",
              "  }\n",
              "\n",
              "  .colab-df-spinner {\n",
              "    border: 2px solid var(--fill-color);\n",
              "    border-color: transparent;\n",
              "    border-bottom-color: var(--fill-color);\n",
              "    animation:\n",
              "      spin 1s steps(1) infinite;\n",
              "  }\n",
              "\n",
              "  @keyframes spin {\n",
              "    0% {\n",
              "      border-color: transparent;\n",
              "      border-bottom-color: var(--fill-color);\n",
              "      border-left-color: var(--fill-color);\n",
              "    }\n",
              "    20% {\n",
              "      border-color: transparent;\n",
              "      border-left-color: var(--fill-color);\n",
              "      border-top-color: var(--fill-color);\n",
              "    }\n",
              "    30% {\n",
              "      border-color: transparent;\n",
              "      border-left-color: var(--fill-color);\n",
              "      border-top-color: var(--fill-color);\n",
              "      border-right-color: var(--fill-color);\n",
              "    }\n",
              "    40% {\n",
              "      border-color: transparent;\n",
              "      border-right-color: var(--fill-color);\n",
              "      border-top-color: var(--fill-color);\n",
              "    }\n",
              "    60% {\n",
              "      border-color: transparent;\n",
              "      border-right-color: var(--fill-color);\n",
              "    }\n",
              "    80% {\n",
              "      border-color: transparent;\n",
              "      border-right-color: var(--fill-color);\n",
              "      border-bottom-color: var(--fill-color);\n",
              "    }\n",
              "    90% {\n",
              "      border-color: transparent;\n",
              "      border-bottom-color: var(--fill-color);\n",
              "    }\n",
              "  }\n",
              "</style>\n",
              "\n",
              "  <script>\n",
              "    async function quickchart(key) {\n",
              "      const quickchartButtonEl =\n",
              "        document.querySelector('#' + key + ' button');\n",
              "      quickchartButtonEl.disabled = true;  // To prevent multiple clicks.\n",
              "      quickchartButtonEl.classList.add('colab-df-spinner');\n",
              "      try {\n",
              "        const charts = await google.colab.kernel.invokeFunction(\n",
              "            'suggestCharts', [key], {});\n",
              "      } catch (error) {\n",
              "        console.error('Error during call to suggestCharts:', error);\n",
              "      }\n",
              "      quickchartButtonEl.classList.remove('colab-df-spinner');\n",
              "      quickchartButtonEl.classList.add('colab-df-quickchart-complete');\n",
              "    }\n",
              "    (() => {\n",
              "      let quickchartButtonEl =\n",
              "        document.querySelector('#df-63787f6e-38a0-4531-81b9-62d7597919d4 button');\n",
              "      quickchartButtonEl.style.display =\n",
              "        google.colab.kernel.accessAllowed ? 'block' : 'none';\n",
              "    })();\n",
              "  </script>\n",
              "</div>\n",
              "    </div>\n",
              "  </div>\n"
            ]
          },
          "metadata": {},
          "execution_count": 35
        }
      ]
    },
    {
      "cell_type": "markdown",
      "source": [
        "The method used to fill the values is based on calculating the median for each continuous feature, and based on that any null value related to that feature is replaced with the value found.\n",
        "\n",
        "In the case where there are many null values or missing data, the median is a better choice than the mean because it is less sensitive to outliers. By using the median, the effect of outliers is reduced and a more robust estimate of the central value of the dataset is obtained.\n",
        "\n",
        "If a variable that has no missing values in the training set turns out to be missing in the test set, this could cause problems during the prediction phase of the model.\n",
        "To deal with this situation, imputation based on the training set is generally used: One can use an imputation method (such as mean, median, or other more complex methods) based only on the information in the training set to fill in the missing values in the test set. This ensures that the imputation is consistent with the distribution of the data in the training set."
      ],
      "metadata": {
        "id": "zdW0ln0Y7mRt"
      }
    },
    {
      "cell_type": "markdown",
      "source": [
        "####Question 4"
      ],
      "metadata": {
        "id": "_zmfjqNG5LMH"
      }
    },
    {
      "cell_type": "markdown",
      "source": [
        "#### When the entire data set is used to impute missing values and handle categorical variables, information from the entire data set, including the test set, is essentially incorporated into the model training process. This can lead to data leakage, where the information from the test set affects the performance of the model, making the evaluation metrics overly optimistic and unreliable for real-world predictions.\n",
        "\n",
        "Also Using the entire dataset to train the imputer and handle categorical variables would seem like a simple solution, but it is a bad idea because it introduces a strong risk of overfitting. Overfitting occurs when the model learns the training data too well, including noise and random variation. <br>\n",
        "This could lead to a poor ability of the model to generalize over new data, such as those in the test set. In addition, if new categories appear in the test set, the model will be unable to handle them properly because it never saw these categories during training. This could lead to incorrect predictions and compromise the reliability of your model.\n"
      ],
      "metadata": {
        "id": "kLPmDKrm5PfJ"
      }
    },
    {
      "cell_type": "markdown",
      "source": [
        "###Block3"
      ],
      "metadata": {
        "id": "Qdi-xb5PtTam"
      }
    },
    {
      "cell_type": "markdown",
      "source": [
        "####Random Forest"
      ],
      "metadata": {
        "id": "9a0jJ9kukjbU"
      }
    },
    {
      "cell_type": "code",
      "source": [
        "from sklearn.preprocessing import OneHotEncoder\n",
        "from sklearn.preprocessing import LabelEncoder\n",
        "\n",
        "X_train[['metastatic_tumor', 'codidiagingreso', 'codservicioreal']] = X_train[['metastatic_tumor', 'codidiagingreso', 'codservicioreal']].astype(str)\n",
        "X_test[['metastatic_tumor', 'codidiagingreso', 'codservicioreal']] = X_test[['metastatic_tumor', 'codidiagingreso', 'codservicioreal']].astype(str)\n",
        "\n",
        "\n",
        "encoder = OneHotEncoder(handle_unknown='ignore', sparse=False)\n",
        "\n",
        "combined_data = pd.concat([X_train[['metastatic_tumor', 'codidiagingreso', 'codservicioreal']], X_test[['metastatic_tumor', 'codidiagingreso', 'codservicioreal']]])\n",
        "\n",
        "encoded_data = encoder.fit_transform(combined_data)\n",
        "\n",
        "X_train_encoded = encoded_data[:len(X_train)]\n",
        "X_test_encoded = encoded_data[len(X_train):]\n",
        "\n",
        "label_encoder = LabelEncoder()\n",
        "y_train_encoded = label_encoder.fit_transform(y_train)\n",
        "y_test_encoded = label_encoder.transform(y_test)"
      ],
      "metadata": {
        "colab": {
          "base_uri": "https://localhost:8080/"
        },
        "id": "reen9YJmrzT8",
        "outputId": "663084ed-6bfa-40cc-d3f5-74c215f07be9"
      },
      "execution_count": null,
      "outputs": [
        {
          "output_type": "stream",
          "name": "stderr",
          "text": [
            "/usr/local/lib/python3.10/dist-packages/sklearn/preprocessing/_encoders.py:868: FutureWarning: `sparse` was renamed to `sparse_output` in version 1.2 and will be removed in 1.4. `sparse_output` is ignored unless you leave `sparse` to its default value.\n",
            "  warnings.warn(\n"
          ]
        }
      ]
    },
    {
      "cell_type": "markdown",
      "source": [
        "The main reason for applying encoding (such as One-Hot Encoding) before training a model such as the RandomForestClassifier is that many machine learning algorithms, including tree-based algorithms such as random forests, operate on numerical data. These models cannot deal directly with categorical variables. Therefore, we must convert them to numerical forms before using them in the model.\n",
        "\n",
        "Before applying One-Hot Encoding, it is better to create a combined_dataFrame by joining the columns from the training and test datasets. Next, a OneHotEncoder with the handle_unknown='ignore' option was used to encode the categories of these columns into numerical representations. After training the encoder on combined_data, it gets a single numeric representation for all three columns.\n",
        "Next, it divides this combined representation into two parts: X_train_encoded and X_test_encoded, which contain, respectively, the numerical representations of the columns for the training and test datasets.\n",
        "\n",
        "When it comes to the output variables (the class labels in our case), applying One-Hot Encoding is not appropriate in many classification problems. If we apply One-Hot Encoding to class labels, we would turn each class into a binary vector (1 at the class, 0 elsewhere). This can lead to problems in classification models, especially in binary classification problems where you might have only two classes. Also, it can lead to loss of ordinality between classes if any. This is why the Label encoder is used for y_train and test\n",
        "\n"
      ],
      "metadata": {
        "id": "v7JfN1PTuhEc"
      }
    },
    {
      "cell_type": "code",
      "source": [
        "from sklearn.ensemble import RandomForestClassifier\n",
        "\n",
        "rf_classifier = RandomForestClassifier()\n",
        "\n",
        "rf_classifier.fit(X_train_encoded, y_train_encoded)\n",
        "\n",
        "print(\"Default parameters of RandomForestClassifier:\")\n",
        "print(rf_classifier.get_params())"
      ],
      "metadata": {
        "colab": {
          "base_uri": "https://localhost:8080/"
        },
        "id": "MGMC2XH7klwx",
        "outputId": "bcfd6da4-1c12-4ec9-c909-152be353e33c"
      },
      "execution_count": null,
      "outputs": [
        {
          "output_type": "stream",
          "name": "stdout",
          "text": [
            "Default parameters of RandomForestClassifier:\n",
            "{'bootstrap': True, 'ccp_alpha': 0.0, 'class_weight': None, 'criterion': 'gini', 'max_depth': None, 'max_features': 'sqrt', 'max_leaf_nodes': None, 'max_samples': None, 'min_impurity_decrease': 0.0, 'min_samples_leaf': 1, 'min_samples_split': 2, 'min_weight_fraction_leaf': 0.0, 'n_estimators': 100, 'n_jobs': None, 'oob_score': False, 'random_state': None, 'verbose': 0, 'warm_start': False}\n"
          ]
        }
      ]
    },
    {
      "cell_type": "code",
      "source": [
        "probabilities = rf_classifier.predict_proba(X_test_encoded)\n",
        "\n",
        "positive_class_probabilities = probabilities[:, 1]\n",
        "\n",
        "print(positive_class_probabilities)"
      ],
      "metadata": {
        "colab": {
          "base_uri": "https://localhost:8080/"
        },
        "id": "8meXPtlFjirF",
        "outputId": "9fd2a6a6-7c51-42cf-f7c5-6650a7a258af"
      },
      "execution_count": null,
      "outputs": [
        {
          "output_type": "stream",
          "name": "stdout",
          "text": [
            "[0.15069531 0.6898783  0.15069531 ... 0.47135573 0.31933624 0.16509651]\n"
          ]
        }
      ]
    },
    {
      "cell_type": "code",
      "source": [
        "positive_probs = rf_classifier.predict_proba(X_test_encoded)[:, 1]\n",
        "\n",
        "\n",
        "auc_roc = roc_auc_score(y_test_encoded, positive_probs)\n",
        "print(\"AUC-ROC Score:\", auc_roc)"
      ],
      "metadata": {
        "colab": {
          "base_uri": "https://localhost:8080/"
        },
        "id": "eloDEMkEjizk",
        "outputId": "ec7dfab9-d89b-4498-8ca2-debc4feb5465"
      },
      "execution_count": null,
      "outputs": [
        {
          "output_type": "stream",
          "name": "stdout",
          "text": [
            "AUC-ROC Score: 0.7444315093767413\n"
          ]
        }
      ]
    },
    {
      "cell_type": "markdown",
      "source": [
        "The AUC-ROC score (Area Under the Receiver Operating Characteristic Curve) is a numerical measure of the area under the ROC curve. This value represents the ability of a classification model to distinguish between positive and negative classes. In other words, the AUC-ROC score quantifies how well the model is able to separate positive and negative instances without being affected by the specific choice of classification threshold.\n",
        "\n",
        "The AUC-ROC score is particularly useful when comparing binary classification models and wanting an overall assessment of their performance without having to choose a specific decision threshold. A higher AUC-ROC value generally indicates a better model in distinguishing between positive and negative classes.\n",
        "\n",
        "AUC-ROC = 1: Indicates a perfect model that is able to distinguish perfectly between positive and negative classes while\n",
        "AUC-ROC < 0.5: Indicates that the model is performing worse than a random case."
      ],
      "metadata": {
        "id": "i-CuQSUdwT33"
      }
    },
    {
      "cell_type": "code",
      "source": [
        "print(type(y_test_encoded))\n",
        "predictions = rf_classifier.predict(X_test_encoded)\n",
        "print(type(predictions))"
      ],
      "metadata": {
        "colab": {
          "base_uri": "https://localhost:8080/"
        },
        "id": "Q4eg-MP770da",
        "outputId": "43ed2b39-a5c1-4e24-e2f0-671ba71ceb27"
      },
      "execution_count": null,
      "outputs": [
        {
          "output_type": "stream",
          "name": "stdout",
          "text": [
            "<class 'numpy.ndarray'>\n",
            "<class 'numpy.ndarray'>\n"
          ]
        }
      ]
    },
    {
      "cell_type": "code",
      "source": [
        "print(\"y_test_encoded:\", y_test_encoded)\n",
        "print(\"predictions:\", predictions)"
      ],
      "metadata": {
        "colab": {
          "base_uri": "https://localhost:8080/"
        },
        "id": "p3dT1XTQ8GWs",
        "outputId": "0b0bba10-40c7-41c9-f780-5ecf7b75ca82"
      },
      "execution_count": null,
      "outputs": [
        {
          "output_type": "stream",
          "name": "stdout",
          "text": [
            "y_test_encoded: [0 0 1 ... 1 0 0]\n",
            "predictions: [0 1 0 ... 0 0 0]\n"
          ]
        }
      ]
    },
    {
      "cell_type": "code",
      "source": [
        "predictions = rf_classifier.predict(X_test_encoded)\n",
        "\n",
        "\n",
        "accuracy = accuracy_score(y_test_encoded, predictions)\n",
        "print(\"Accuracy:\", accuracy)\n",
        "\n",
        "conf_matrix = confusion_matrix(y_test_encoded, predictions)\n",
        "\n",
        "true_negative, false_positive, false_negative, true_positive = conf_matrix.ravel()\n",
        "\n",
        "\n",
        "sensitivity = true_positive / (true_positive + false_negative)\n",
        "specificity = true_negative / (true_negative + false_positive)\n",
        "\n",
        "print(\"Sensitivity (True Positive Rate):\", sensitivity)\n",
        "print(\"Specificity (True Negative Rate):\", specificity)"
      ],
      "metadata": {
        "colab": {
          "base_uri": "https://localhost:8080/"
        },
        "id": "OXQIVYeD5pDv",
        "outputId": "38115a3b-6463-4533-99b7-0bd99d124cd1"
      },
      "execution_count": null,
      "outputs": [
        {
          "output_type": "stream",
          "name": "stdout",
          "text": [
            "Accuracy: 0.719807391983342\n",
            "Sensitivity (True Positive Rate): 0.4696629213483146\n",
            "Specificity (True Negative Rate): 0.8530115676106901\n"
          ]
        }
      ]
    },
    {
      "cell_type": "markdown",
      "source": [
        "1) Sensitivity measures the proportion of true positives (correctly classified positive instances) to the total number of true positive instances in the dataset. In other words, it indicates the model's ability to correctly identify instances of the positive class.\n",
        "\n",
        "Sensitivity (TPR)\n",
        "=\n",
        "$ = \\frac{TP}{TP+FN}$\n",
        "​\n",
        "\n",
        "Sensitivity is important when the cost of a false negative (a negative prediction for an actually positive instance) is high, for example, in a diagnostic test where missing a positive condition is serious.\n",
        "\n",
        "2) Specificity measures the proportion of true negatives (correctly classified negative instances) to the total number of true negative instances in the dataset. It indicates the model's ability to correctly identify instances of the negative class.\n",
        "\n",
        "Specificity (TNR)\n",
        "=\n",
        "$ = \\frac{TN}{TF+FP}$\n",
        "\n",
        "Specificity is important when the cost of a false positive (a positive prediction for an actually negative instance) is high, for example, in a test to identify dangerous behavior or safety situations."
      ],
      "metadata": {
        "id": "dnRM-RXjwjkh"
      }
    },
    {
      "cell_type": "code",
      "source": [
        "fpr, tpr, thresholds = roc_curve(y_test_encoded, positive_probs)\n",
        "roc_auc = auc(fpr, tpr)\n",
        "\n",
        "\n",
        "plt.figure(figsize=(8, 6))\n",
        "plt.plot(fpr, tpr, color='darkorange', lw=2, label='ROC Curve (area = %0.2f)' % roc_auc)\n",
        "plt.plot([0, 1], [0, 1], color='navy', lw=2, linestyle='--')\n",
        "plt.xlim([0.0, 1.0])\n",
        "plt.ylim([0.0, 1.05])\n",
        "plt.xlabel('False Positive Rate')\n",
        "plt.ylabel('True Positive Rate')\n",
        "plt.title('ROC Curve')\n",
        "plt.legend(loc='lower right')\n",
        "plt.show()\n"
      ],
      "metadata": {
        "colab": {
          "base_uri": "https://localhost:8080/",
          "height": 564
        },
        "id": "byKDsJgSyncG",
        "outputId": "68400f55-b69b-4251-d509-4628d2db09c7"
      },
      "execution_count": null,
      "outputs": [
        {
          "output_type": "display_data",
          "data": {
            "text/plain": [
              "<Figure size 800x600 with 1 Axes>"
            ],
            "image/png": "[encoded data removed]"
          },
          "metadata": {}
        }
      ]
    },
    {
      "cell_type": "markdown",
      "source": [
        "This code is used to visualize the ROC curve (Receiver Operating Characteristic curve) and calculate the AUC-ROC score for a binary classification model.\n",
        "\n",
        "First the true positive and false positive rates are calculated for the classes predicted by the model, and then these quantities are used to calculate the Area Under the Curve (AUC) using false positive rates (fpr) and true positive rates (tpr)."
      ],
      "metadata": {
        "id": "iH72SeMDzXvg"
      }
    },
    {
      "cell_type": "markdown",
      "source": [
        "###Block 3 (Optional)"
      ],
      "metadata": {
        "id": "dB4qE77QCGyN"
      }
    },
    {
      "cell_type": "markdown",
      "source": [
        "####Gradient Boosting"
      ],
      "metadata": {
        "id": "zJYd2SpHnwHh"
      }
    },
    {
      "cell_type": "code",
      "source": [
        "from sklearn.ensemble import GradientBoostingClassifier\n",
        "from sklearn.model_selection import GridSearchCV"
      ],
      "metadata": {
        "id": "9B-kkvqRCMnn"
      },
      "execution_count": null,
      "outputs": []
    },
    {
      "cell_type": "code",
      "source": [
        "gb_clf = GradientBoostingClassifier()\n",
        "gb_clf.fit(X_train_encoded, y_train_encoded)\n",
        "print(\"Default parameters of Gradient Boosting:\")\n",
        "print(gb_clf.get_params())"
      ],
      "metadata": {
        "colab": {
          "base_uri": "https://localhost:8080/"
        },
        "id": "enGHLcJPGeIn",
        "outputId": "a9e1a925-4a15-4f09-fcbc-fdde9d3dfdd7"
      },
      "execution_count": null,
      "outputs": [
        {
          "output_type": "stream",
          "name": "stdout",
          "text": [
            "Default parameters of Gradient Boosting:\n",
            "{'ccp_alpha': 0.0, 'criterion': 'friedman_mse', 'init': None, 'learning_rate': 0.1, 'loss': 'log_loss', 'max_depth': 3, 'max_features': None, 'max_leaf_nodes': None, 'min_impurity_decrease': 0.0, 'min_samples_leaf': 1, 'min_samples_split': 2, 'min_weight_fraction_leaf': 0.0, 'n_estimators': 100, 'n_iter_no_change': None, 'random_state': None, 'subsample': 1.0, 'tol': 0.0001, 'validation_fraction': 0.1, 'verbose': 0, 'warm_start': False}\n"
          ]
        }
      ]
    },
    {
      "cell_type": "code",
      "source": [
        "positive_probs = gb_clf.predict_proba(X_test_encoded)[:, 1]\n",
        "\n",
        "auc_roc = roc_auc_score(y_test_encoded, positive_probs)\n",
        "print(\"AUC-ROC Score:\", auc_roc)"
      ],
      "metadata": {
        "colab": {
          "base_uri": "https://localhost:8080/"
        },
        "id": "Ci33wmphSpSO",
        "outputId": "a0dcb2b1-2e62-4a40-ff90-c2a18fb95862"
      },
      "execution_count": null,
      "outputs": [
        {
          "output_type": "stream",
          "name": "stdout",
          "text": [
            "AUC-ROC Score: 0.7503600405755271\n"
          ]
        }
      ]
    },
    {
      "cell_type": "code",
      "source": [
        "predictions = gb_clf.predict(X_test_encoded)\n",
        "\n",
        "conf_matrix = confusion_matrix(y_test_encoded, predictions)\n",
        "\n",
        "true_negative, false_positive, false_negative, true_positive = conf_matrix.ravel()\n",
        "\n",
        "\n",
        "sensitivity = true_positive / (true_positive + false_negative)\n",
        "specificity = true_negative / (true_negative + false_positive)\n",
        "\n",
        "print(\"Sensitivity (True Positive Rate):\", sensitivity)\n",
        "print(\"Specificity (True Negative Rate):\", specificity)"
      ],
      "metadata": {
        "id": "72W256V2a5j7"
      },
      "execution_count": null,
      "outputs": []
    },
    {
      "cell_type": "code",
      "source": [
        "predictions = gb_clf.predict(X_test_encoded)\n",
        "\n",
        "accuracy = accuracy_score(y_test_encoded, predictions)\n",
        "print(f'Accuracy of model: {accuracy}')\n",
        "\n",
        "\n",
        "precision = precision_score(y_test, predictions, average=None)\n",
        "recall = recall_score(y_test, predictions, average=None)\n",
        "f1 = f1_score(y_test, predictions, average=None)\n",
        "\n",
        "print(f'Precision: {precision}')\n",
        "print(f'Recall: {recall}')\n",
        "print(f'F1-score: {f1}')\n",
        "\n",
        "class_names = [\"Negative\", \"Positive\"]\n",
        "print(classification_report(y_test, predictions, target_names=class_names))"
      ],
      "metadata": {
        "colab": {
          "base_uri": "https://localhost:8080/"
        },
        "id": "RBHEElA1GeK5",
        "outputId": "fb9cf5cf-61e5-4df5-be9c-351ed29f9840"
      },
      "execution_count": null,
      "outputs": [
        {
          "output_type": "stream",
          "name": "stdout",
          "text": [
            "Accuracy of model: 0.7175950026028111\n",
            "Precision: [0.70954907 0.77839644]\n",
            "Recall: [0.96031113 0.26179775]\n",
            "F1-score: [0.81610169 0.39181614]\n",
            "              precision    recall  f1-score   support\n",
            "\n",
            "    Negative       0.71      0.96      0.82      5014\n",
            "    Positive       0.78      0.26      0.39      2670\n",
            "\n",
            "    accuracy                           0.72      7684\n",
            "   macro avg       0.74      0.61      0.60      7684\n",
            "weighted avg       0.73      0.72      0.67      7684\n",
            "\n"
          ]
        }
      ]
    },
    {
      "cell_type": "code",
      "source": [
        "probabilities = gb_clf.decision_function(X_test_encoded)\n",
        "fpr, tpr, thresholds = roc_curve(y_test_encoded, probabilities)\n",
        "auc = roc_auc_score(y_test_encoded, probabilities)\n",
        "\n",
        "plt.figure(figsize=(8, 6))\n",
        "plt.plot(fpr, tpr, color='darkorange', lw=2, label=f'AUC = {auc:.2f}')\n",
        "plt.plot([0, 1], [0, 1], color='navy', lw=2, linestyle='--')\n",
        "plt.xlabel('False Positive Rate')\n",
        "plt.ylabel('True Positive Rate')\n",
        "plt.title('ROC Curve')\n",
        "plt.legend(loc='lower right')\n",
        "plt.show()\n"
      ],
      "metadata": {
        "colab": {
          "base_uri": "https://localhost:8080/",
          "height": 564
        },
        "id": "KlzzyWvtGeP2",
        "outputId": "b31e9f61-f52f-4e91-e27a-e014a990489b"
      },
      "execution_count": null,
      "outputs": [
        {
          "output_type": "display_data",
          "data": {
            "text/plain": [
              "<Figure size 800x600 with 1 Axes>"
            ],
            "image/png": "[encoded data removed]"
          },
          "metadata": {}
        }
      ]
    },
    {
      "cell_type": "markdown",
      "source": [
        "####SVM"
      ],
      "metadata": {
        "id": "Eg6hkeevnrUu"
      }
    },
    {
      "cell_type": "code",
      "source": [
        "from sklearn.svm import SVC\n",
        "\n",
        "svm_classifier = SVC(probability=True)\n",
        "svm_classifier.fit(X_train_encoded, y_train_encoded)\n",
        "\n",
        "print(\"Default parameters of SVM Classifier:\")\n",
        "print(svm_classifier.get_params())"
      ],
      "metadata": {
        "colab": {
          "base_uri": "https://localhost:8080/"
        },
        "id": "Q-yjImydntqO",
        "outputId": "3b68ff96-348d-4119-abc3-c24e719f3980"
      },
      "execution_count": null,
      "outputs": [
        {
          "output_type": "stream",
          "name": "stdout",
          "text": [
            "Default parameters of SVM Classifier:\n",
            "{'C': 1.0, 'break_ties': False, 'cache_size': 200, 'class_weight': None, 'coef0': 0.0, 'decision_function_shape': 'ovr', 'degree': 3, 'gamma': 'scale', 'kernel': 'rbf', 'max_iter': -1, 'probability': True, 'random_state': None, 'shrinking': True, 'tol': 0.001, 'verbose': False}\n"
          ]
        }
      ]
    },
    {
      "cell_type": "code",
      "source": [
        "positive_probs = svm_classifier.predict_proba(X_test_encoded)[:, 1]\n",
        "\n",
        "\n",
        "auc_roc = roc_auc_score(y_test_encoded, positive_probs)\n",
        "print(\"AUC-ROC Score:\", auc_roc)"
      ],
      "metadata": {
        "colab": {
          "base_uri": "https://localhost:8080/"
        },
        "id": "76xi4Ks6S0LW",
        "outputId": "682cb245-b8ab-4a05-9c8e-f92209d7f93f"
      },
      "execution_count": null,
      "outputs": [
        {
          "output_type": "stream",
          "name": "stdout",
          "text": [
            "AUC-ROC Score: 0.7281308590627891\n"
          ]
        }
      ]
    },
    {
      "cell_type": "code",
      "source": [
        "predictions = svm_classifier.predict(X_test_encoded)\n",
        "\n",
        "conf_matrix = confusion_matrix(y_test_encoded, predictions)\n",
        "\n",
        "true_negative, false_positive, false_negative, true_positive = conf_matrix.ravel()\n",
        "\n",
        "\n",
        "sensitivity = true_positive / (true_positive + false_negative)\n",
        "specificity = true_negative / (true_negative + false_positive)\n",
        "\n",
        "print(\"Sensitivity (True Positive Rate):\", sensitivity)\n",
        "print(\"Specificity (True Negative Rate):\", specificity)"
      ],
      "metadata": {
        "id": "kDCUaeA8amSf",
        "colab": {
          "base_uri": "https://localhost:8080/"
        },
        "outputId": "5ee61250-cff3-499d-bcd2-a9fe4544a46a"
      },
      "execution_count": null,
      "outputs": [
        {
          "output_type": "stream",
          "name": "stdout",
          "text": [
            "Sensitivity (True Positive Rate): 0.45131086142322097\n",
            "Specificity (True Negative Rate): 0.8717590745911448\n"
          ]
        }
      ]
    },
    {
      "cell_type": "code",
      "source": [
        "predictions = svm_classifier.predict(X_test_encoded)\n",
        "\n",
        "accuracy = accuracy_score(y_test_encoded, predictions)\n",
        "print(f'Accuracy of model: {accuracy}')\n",
        "\n",
        "\n",
        "precision = precision_score(y_test, predictions, average=None)\n",
        "recall = recall_score(y_test, predictions, average=None)\n",
        "f1 = f1_score(y_test, predictions, average=None)\n",
        "\n",
        "print(f'Precision: {precision}')\n",
        "print(f'Recall: {recall}')\n",
        "print(f'F1-score: {f1}')\n",
        "\n",
        "class_names = [\"Negative\", \"Positive\"]\n",
        "print(classification_report(y_test, predictions, target_names=class_names))\n",
        "\n"
      ],
      "metadata": {
        "colab": {
          "base_uri": "https://localhost:8080/"
        },
        "id": "9vAcURQyn3z9",
        "outputId": "6ccc1b5c-78f1-4ab6-b6bb-a8e9e43083c2"
      },
      "execution_count": null,
      "outputs": [
        {
          "output_type": "stream",
          "name": "stdout",
          "text": [
            "Accuracy of model: 0.7256637168141593\n",
            "Precision: [0.7489719  0.65205628]\n",
            "Recall: [0.87175907 0.45131086]\n",
            "F1-score: [0.80571429 0.53342187]\n",
            "              precision    recall  f1-score   support\n",
            "\n",
            "    Negative       0.75      0.87      0.81      5014\n",
            "    Positive       0.65      0.45      0.53      2670\n",
            "\n",
            "    accuracy                           0.73      7684\n",
            "   macro avg       0.70      0.66      0.67      7684\n",
            "weighted avg       0.72      0.73      0.71      7684\n",
            "\n"
          ]
        }
      ]
    },
    {
      "cell_type": "code",
      "source": [
        "probabilities = svm_classifier.decision_function(X_test_encoded)\n",
        "fpr, tpr, thresholds = roc_curve(y_test_encoded, probabilities)\n",
        "auc = roc_auc_score(y_test_encoded, probabilities)\n",
        "\n",
        "plt.figure(figsize=(8, 6))\n",
        "plt.plot(fpr, tpr, color='darkorange', lw=2, label=f'AUC = {auc:.2f}')\n",
        "plt.plot([0, 1], [0, 1], color='navy', lw=2, linestyle='--')\n",
        "plt.xlabel('False Positive Rate')\n",
        "plt.ylabel('True Positive Rate')\n",
        "plt.title('ROC Curve')\n",
        "plt.legend(loc='lower right')\n",
        "plt.show()\n",
        "\n"
      ],
      "metadata": {
        "colab": {
          "base_uri": "https://localhost:8080/",
          "height": 564
        },
        "id": "BAc9T11atIPQ",
        "outputId": "1187d712-12f5-4652-d237-4f0f37a24f12"
      },
      "execution_count": null,
      "outputs": [
        {
          "output_type": "display_data",
          "data": {
            "text/plain": [
              "<Figure size 800x600 with 1 Axes>"
            ],
            "image/png": "[encoded data removed]"
          },
          "metadata": {}
        }
      ]
    },
    {
      "cell_type": "markdown",
      "source": [
        "####Results"
      ],
      "metadata": {
        "id": "4GZeTCx1-SZC"
      }
    },
    {
      "cell_type": "code",
      "source": [
        "res = {\n",
        "    'Models': ['Random Forest', 'Gradient Boosting', 'Support Vector Machine'],\n",
        "    'Accuracy': [0.719, 0.717, 0.728],\n",
        "    'AUC-ROC-Score': [0.744, 0.750, 0.725],\n",
        "\n",
        "}\n",
        "\n",
        "\n",
        "results = pd.DataFrame(res)\n",
        "display(HTML(results.to_html(index=False)))"
      ],
      "metadata": {
        "colab": {
          "base_uri": "https://localhost:8080/",
          "height": 143
        },
        "id": "VPBEtRi78sB8",
        "outputId": "ebdee6c3-7715-41fe-b6da-afc78adbf444"
      },
      "execution_count": null,
      "outputs": [
        {
          "output_type": "display_data",
          "data": {
            "text/plain": [
              "<IPython.core.display.HTML object>"
            ],
            "text/html": [
              "<table border=\"1\" class=\"dataframe\">\n",
              "  <thead>\n",
              "    <tr style=\"text-align: right;\">\n",
              "      <th>Models</th>\n",
              "      <th>Accuracy</th>\n",
              "      <th>AUC-ROC-Score</th>\n",
              "    </tr>\n",
              "  </thead>\n",
              "  <tbody>\n",
              "    <tr>\n",
              "      <td>Random Forest</td>\n",
              "      <td>0.719</td>\n",
              "      <td>0.744</td>\n",
              "    </tr>\n",
              "    <tr>\n",
              "      <td>Gradient Boosting</td>\n",
              "      <td>0.717</td>\n",
              "      <td>0.750</td>\n",
              "    </tr>\n",
              "    <tr>\n",
              "      <td>Support Vector Machine</td>\n",
              "      <td>0.728</td>\n",
              "      <td>0.725</td>\n",
              "    </tr>\n",
              "  </tbody>\n",
              "</table>"
            ]
          },
          "metadata": {}
        }
      ]
    }
  ]
}