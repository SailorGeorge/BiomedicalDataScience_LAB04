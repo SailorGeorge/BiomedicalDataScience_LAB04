{
  "cells": [
    {
      "cell_type": "markdown",
      "metadata": {
        "id": "38-hDL_qyNgD"
      },
      "source": [
        "# Matrix completion and recommender systems"
      ]
    },
    {
      "cell_type": "markdown",
      "metadata": {
        "id": "vAQg0dnYQv7w"
      },
      "source": [
        "[MovieLens](movielens.umn.edu) data sets were collected by the [GroupLens Research Project](http://www.grouplens.org/) at the University of Minnesota.\n",
        " \n",
        "This data set consists of:\n",
        "- 100000 ratings (1-5) from 943 users on 1682 movies. \n",
        "- Each user has rated at least 20 movies.\n",
        "\n",
        "The `movielens.csv` file contains the full dataset. Users and items are numbered consecutively from 1. The data is randomly              ordered. This is a tab separated list of \n",
        "\n",
        "```\n",
        "user id | item id | rating | timestamp\n",
        "```"
      ]
    },
    {
      "cell_type": "code",
      "execution_count": 13,
      "metadata": {
        "id": "CErbjjHvR85c"
      },
      "outputs": [],
      "source": [
        "import pandas as pd\n",
        "import numpy as np\n",
        "import matplotlib.pyplot as plt\n",
        "from scipy.sparse import csr_matrix\n",
        "from scipy.stats import pearsonr"
      ]
    },
    {
      "cell_type": "markdown",
      "metadata": {
        "id": "9hSllBeQSGNd"
      },
      "source": [
        "Read the dataset from the `movielens.csv` file."
      ]
    },
    {
      "cell_type": "code",
      "execution_count": 14,
      "metadata": {
        "colab": {
          "base_uri": "https://localhost:8080/",
          "height": 300
        },
        "id": "BGUGfjrcSNFE",
        "outputId": "256cf725-7d18-4b40-d94e-5f74cea33131"
      },
      "outputs": [
        {
          "data": {
            "text/html": [
              "<div>\n",
              "<style scoped>\n",
              "    .dataframe tbody tr th:only-of-type {\n",
              "        vertical-align: middle;\n",
              "    }\n",
              "\n",
              "    .dataframe tbody tr th {\n",
              "        vertical-align: top;\n",
              "    }\n",
              "\n",
              "    .dataframe thead th {\n",
              "        text-align: right;\n",
              "    }\n",
              "</style>\n",
              "<table border=\"1\" class=\"dataframe\">\n",
              "  <thead>\n",
              "    <tr style=\"text-align: right;\">\n",
              "      <th></th>\n",
              "      <th>0</th>\n",
              "      <th>1</th>\n",
              "      <th>2</th>\n",
              "      <th>3</th>\n",
              "    </tr>\n",
              "  </thead>\n",
              "  <tbody>\n",
              "    <tr>\n",
              "      <th>count</th>\n",
              "      <td>100000.00000</td>\n",
              "      <td>100000.000000</td>\n",
              "      <td>100000.000000</td>\n",
              "      <td>1.000000e+05</td>\n",
              "    </tr>\n",
              "    <tr>\n",
              "      <th>mean</th>\n",
              "      <td>462.48475</td>\n",
              "      <td>425.530130</td>\n",
              "      <td>3.529860</td>\n",
              "      <td>8.835289e+08</td>\n",
              "    </tr>\n",
              "    <tr>\n",
              "      <th>std</th>\n",
              "      <td>266.61442</td>\n",
              "      <td>330.798356</td>\n",
              "      <td>1.125674</td>\n",
              "      <td>5.343856e+06</td>\n",
              "    </tr>\n",
              "    <tr>\n",
              "      <th>min</th>\n",
              "      <td>1.00000</td>\n",
              "      <td>1.000000</td>\n",
              "      <td>1.000000</td>\n",
              "      <td>8.747247e+08</td>\n",
              "    </tr>\n",
              "    <tr>\n",
              "      <th>25%</th>\n",
              "      <td>254.00000</td>\n",
              "      <td>175.000000</td>\n",
              "      <td>3.000000</td>\n",
              "      <td>8.794487e+08</td>\n",
              "    </tr>\n",
              "    <tr>\n",
              "      <th>50%</th>\n",
              "      <td>447.00000</td>\n",
              "      <td>322.000000</td>\n",
              "      <td>4.000000</td>\n",
              "      <td>8.828269e+08</td>\n",
              "    </tr>\n",
              "    <tr>\n",
              "      <th>75%</th>\n",
              "      <td>682.00000</td>\n",
              "      <td>631.000000</td>\n",
              "      <td>4.000000</td>\n",
              "      <td>8.882600e+08</td>\n",
              "    </tr>\n",
              "    <tr>\n",
              "      <th>max</th>\n",
              "      <td>943.00000</td>\n",
              "      <td>1682.000000</td>\n",
              "      <td>5.000000</td>\n",
              "      <td>8.932866e+08</td>\n",
              "    </tr>\n",
              "  </tbody>\n",
              "</table>\n",
              "</div>"
            ],
            "text/plain": [
              "                  0              1              2             3\n",
              "count  100000.00000  100000.000000  100000.000000  1.000000e+05\n",
              "mean      462.48475     425.530130       3.529860  8.835289e+08\n",
              "std       266.61442     330.798356       1.125674  5.343856e+06\n",
              "min         1.00000       1.000000       1.000000  8.747247e+08\n",
              "25%       254.00000     175.000000       3.000000  8.794487e+08\n",
              "50%       447.00000     322.000000       4.000000  8.828269e+08\n",
              "75%       682.00000     631.000000       4.000000  8.882600e+08\n",
              "max       943.00000    1682.000000       5.000000  8.932866e+08"
            ]
          },
          "execution_count": 14,
          "metadata": {},
          "output_type": "execute_result"
        }
      ],
      "source": [
        "dataset = pd.read_csv('data/movielens.csv', sep = '\\t', header = None)\n",
        "dataset.describe()"
      ]
    },
    {
      "cell_type": "code",
      "execution_count": 15,
      "metadata": {},
      "outputs": [
        {
          "data": {
            "text/plain": [
              "(100000, 4)"
            ]
          },
          "execution_count": 15,
          "metadata": {},
          "output_type": "execute_result"
        }
      ],
      "source": [
        "dataset.shape"
      ]
    },
    {
      "cell_type": "markdown",
      "metadata": {
        "id": "KL3LYjZjSUkE"
      },
      "source": [
        "How many movies? How many people? How many ratings?"
      ]
    },
    {
      "cell_type": "code",
      "execution_count": 16,
      "metadata": {
        "colab": {
          "base_uri": "https://localhost:8080/"
        },
        "id": "0g53ZwefZTKI",
        "outputId": "204fd506-2b4a-40d1-b961-18f0151a1739"
      },
      "outputs": [
        {
          "name": "stdout",
          "output_type": "stream",
          "text": [
            "943 users\n",
            "1682 movies\n",
            "100000 ratings\n"
          ]
        }
      ],
      "source": [
        "rows = np.array(dataset[0]) - 1\n",
        "cols = np.array(dataset[1]) - 1\n",
        "vals = np.array(dataset[2])\n",
        "\n",
        "n = rows.max() + 1\n",
        "p = cols.max() + 1\n",
        "d = len(rows)\n",
        "\n",
        "print('%d users' % n)\n",
        "print('%d movies' % p)\n",
        "print('%d ratings' % d)"
      ]
    },
    {
      "cell_type": "markdown",
      "metadata": {
        "id": "w4BfJL9wScZU"
      },
      "source": [
        "Shuffle the data (see the function [`np.random.shuffle`](https://numpy.org/doc/stable/reference/random/generated/numpy.random.shuffle.html))."
      ]
    },
    {
      "cell_type": "code",
      "execution_count": 17,
      "metadata": {
        "id": "B7LTBp0wakNn"
      },
      "outputs": [],
      "source": [
        "idx = np.arange(d)\n",
        "np.random.seed(1) # for reproducibility\n",
        "np.random.shuffle(idx)\n",
        "rows = rows[idx]\n",
        "cols = cols[idx]\n",
        "vals = vals[idx]"
      ]
    },
    {
      "cell_type": "markdown",
      "metadata": {
        "id": "Orx1_BciSkTl"
      },
      "source": [
        "Split the dataset into a subset of 80000 training ratings and 20000 testing ratings."
      ]
    },
    {
      "cell_type": "code",
      "execution_count": 18,
      "metadata": {
        "id": "Ui3893VBbgVz"
      },
      "outputs": [],
      "source": [
        "n_train_samples = 80000\n",
        "\n",
        "rows_train = rows[:n_train_samples]\n",
        "cols_train = cols[:n_train_samples]\n",
        "vals_train = vals[:n_train_samples]\n",
        "\n",
        "rows_test  = rows[n_train_samples:]\n",
        "cols_test  = cols[n_train_samples:]\n",
        "vals_test  = vals[n_train_samples:]"
      ]
    },
    {
      "cell_type": "markdown",
      "metadata": {
        "id": "fu5h_yrnSwAZ"
      },
      "source": [
        "Let us denote by $\\Omega$ the set of pairs $(i,j)$ such that rating of the $i$-th user on the $j$-th movie is available in the training set (similarly, $\\Omega_{\\text{test}}$ is the set of testing pairs).\n",
        "Let us denote by $r_{ij}$ the corresponding rating.\n",
        "\n",
        "Create a full matrix $X \\in \\mathbb{R}^{n \\times p}$, such that:\n",
        "$$\n",
        "X_{i,j} = \n",
        "\\begin{cases}\n",
        "r_{ij} & \\text{if } (i,j) \\in \\Omega\\\\\n",
        "0& \\text{otherwise}\n",
        "\\end{cases}\n",
        "$$"
      ]
    },
    {
      "cell_type": "code",
      "execution_count": 19,
      "metadata": {
        "colab": {
          "base_uri": "https://localhost:8080/"
        },
        "id": "Uf9Gn-56cBiz",
        "outputId": "ec25042c-f3cc-43bf-dfad-718958130367"
      },
      "outputs": [
        {
          "data": {
            "text/plain": [
              "array([[0, 3, 0, ..., 0, 0, 0],\n",
              "       [4, 0, 0, ..., 0, 0, 0],\n",
              "       [0, 0, 0, ..., 0, 0, 0],\n",
              "       ...,\n",
              "       [0, 0, 0, ..., 0, 0, 0],\n",
              "       [0, 0, 0, ..., 0, 0, 0],\n",
              "       [0, 5, 0, ..., 0, 0, 0]])"
            ]
          },
          "execution_count": 19,
          "metadata": {},
          "output_type": "execute_result"
        }
      ],
      "source": [
        "X_full = csr_matrix((vals_train, (rows_train, cols_train)), shape=(n, p)).toarray()\n",
        "X_full"
      ]
    },
    {
      "cell_type": "markdown",
      "metadata": {
        "id": "sGg4nEkKTSWK"
      },
      "source": [
        "## Trivial recommender system\n",
        "\n",
        "Create a trivial recommender system, based on the average rating of each user:\n",
        "$$\n",
        "r^{\\text{pred}}_{ij} = \\frac{1}{N_i} \\sum_{j : (i,j) \\in \\Omega} r_{ij}\n",
        "$$\n",
        "where $N_i = card(j : (i,j) \\in \\Omega)$.\n",
        "\n",
        "Then compute the RMSE (root mean square error):\n",
        "$$\n",
        "\\text{RMSE} = \\sqrt{\\frac{1}{card(\\Omega_{\\text{test}})} \\sum_{(i,j) \\in \\Omega_{\\text{test}}} (r_{ij} - r^{\\text{pred}}_{ij})^2}\n",
        "$$\n",
        "and the Pearson correlation coefficient $\\rho$ (use the function [scipy.stats.pearsonr](https://docs.scipy.org/doc/scipy/reference/generated/scipy.stats.pearsonr.html)):\n",
        "$$\n",
        "\\rho = \n",
        "\\frac\n",
        "{\n",
        "    \\displaystyle\\sum_{(i,j) \\in \\Omega_{\\text{test}}} \n",
        "       (r_{ij} - \\overline{r})\n",
        "       (r^{\\text{pred}}_{ij} - \\overline{r}^{\\text{pred}})\n",
        "}\n",
        "{\\sqrt{\n",
        "    \\displaystyle\\sum_{(i,j) \\in \\Omega_{\\text{test}}} \n",
        "       (r_{ij} - \\overline{r})^2\n",
        "       }\n",
        "\\sqrt{\n",
        "    \\displaystyle\\sum_{(i,j) \\in \\Omega_{\\text{test}}} \n",
        "       (r^{\\text{pred}}_{ij} - \\overline{r}^{\\text{pred}})^2\n",
        "       }}\n",
        "$$\n",
        "where\n",
        "$$\n",
        "\\begin{split}\n",
        "\\overline{r} &= \\frac{1}{card(\\Omega_{\\text{test}})} \\sum_{(i,j) \\in \\Omega_{\\text{test}}} \n",
        "       r_{ij} \n",
        "\\\\\n",
        "\\overline{r}^{\\text{pred}} &= \\frac{1}{card(\\Omega_{\\text{test}})} \\sum_{(i,j) \\in \\Omega_{\\text{test}}} \n",
        "       r^{\\text{pred}}_{ij} \n",
        "\\end{split}\n",
        "$$"
      ]
    },
    {
      "cell_type": "code",
      "execution_count": 20,
      "metadata": {
        "colab": {
          "base_uri": "https://localhost:8080/"
        },
        "id": "e2rdRI1RfvVp",
        "outputId": "0e44bbc7-af4e-4072-ab2f-f9bfb2647e2b"
      },
      "outputs": [
        {
          "name": "stdout",
          "output_type": "stream",
          "text": [
            "RMSE = 1.043231\n",
            "rho = 0.383526\n"
          ]
        }
      ],
      "source": [
        "average_ratings = np.array([np.mean(vals_train[rows_train == i]) for i in range(n)])\n",
        "vals_test_trivial = average_ratings[rows_test]\n",
        "error_trivial = vals_test - vals_test_trivial\n",
        "\n",
        "RMSE_trivial = np.sqrt(np.mean(error_trivial**2))\n",
        "rho_trivial = pearsonr(vals_test, vals_test_trivial)[0]\n",
        "\n",
        "print('RMSE = %f' % RMSE_trivial)\n",
        "print('rho = %f' % rho_trivial)"
      ]
    },
    {
      "cell_type": "markdown",
      "metadata": {
        "id": "aQxUcttequN3"
      },
      "source": [
        "# Singular value truncation (SVT) based recommender system"
      ]
    },
    {
      "cell_type": "markdown",
      "metadata": {
        "id": "cLtvKy_kqz2D"
      },
      "source": [
        "Implement the SVT algorithm to predict the ratings of the testing set. Set a maximum number of iterations equal to 100. Print the RMSE and $\\rho$ at each iteration. Finally, plot the trend of both metrics.\n",
        "\n",
        "Try to calibrate the threshold to get better results."
      ]
    },
    {
      "cell_type": "code",
      "execution_count": 21,
      "metadata": {
        "colab": {
          "base_uri": "https://localhost:8080/"
        },
        "id": "9sCGR_Ujhb_8",
        "outputId": "c74fe8b1-8df0-4651-debc-f17941d7b4be"
      },
      "outputs": [
        {
          "name": "stdout",
          "output_type": "stream",
          "text": [
            "======= iteration 0 (increment 4.28e+02)\n",
            "RMSE = 2.642192\n",
            "rho = 0.302772\n",
            "======= iteration 1 (increment 2.61e+02)\n",
            "RMSE = 2.199961\n",
            "rho = 0.330674\n",
            "======= iteration 2 (increment 1.88e+02)\n",
            "RMSE = 1.950025\n",
            "rho = 0.352464\n",
            "======= iteration 3 (increment 1.47e+02)\n",
            "RMSE = 1.785920\n",
            "rho = 0.369969\n",
            "======= iteration 4 (increment 1.21e+02)\n",
            "RMSE = 1.668711\n",
            "rho = 0.384398\n",
            "======= iteration 5 (increment 1.02e+02)\n",
            "RMSE = 1.580392\n",
            "rho = 0.396556\n",
            "======= iteration 6 (increment 8.88e+01)\n",
            "RMSE = 1.511300\n",
            "rho = 0.406989\n",
            "======= iteration 7 (increment 7.83e+01)\n",
            "RMSE = 1.455714\n",
            "rho = 0.416075\n",
            "======= iteration 8 (increment 6.99e+01)\n",
            "RMSE = 1.410006\n",
            "rho = 0.424081\n",
            "======= iteration 9 (increment 6.32e+01)\n",
            "RMSE = 1.371751\n",
            "rho = 0.431207\n",
            "======= iteration 10 (increment 5.76e+01)\n",
            "RMSE = 1.339266\n",
            "rho = 0.437602\n",
            "======= iteration 11 (increment 5.28e+01)\n",
            "RMSE = 1.311342\n",
            "rho = 0.443379\n",
            "======= iteration 12 (increment 4.88e+01)\n",
            "RMSE = 1.287087\n",
            "rho = 0.448631\n",
            "======= iteration 13 (increment 4.54e+01)\n",
            "RMSE = 1.265827\n",
            "rho = 0.453429\n",
            "======= iteration 14 (increment 4.23e+01)\n",
            "RMSE = 1.247045\n",
            "rho = 0.457832\n",
            "======= iteration 15 (increment 3.97e+01)\n",
            "RMSE = 1.230337\n",
            "rho = 0.461891\n",
            "======= iteration 16 (increment 3.73e+01)\n",
            "RMSE = 1.215382\n",
            "rho = 0.465644\n",
            "======= iteration 17 (increment 3.52e+01)\n",
            "RMSE = 1.201920\n",
            "rho = 0.469127\n",
            "======= iteration 18 (increment 3.34e+01)\n",
            "RMSE = 1.189743\n",
            "rho = 0.472368\n",
            "======= iteration 19 (increment 3.17e+01)\n",
            "RMSE = 1.178677\n",
            "rho = 0.475393\n",
            "======= iteration 20 (increment 3.02e+01)\n",
            "RMSE = 1.168580\n",
            "rho = 0.478224\n",
            "======= iteration 21 (increment 2.88e+01)\n",
            "RMSE = 1.159332\n",
            "rho = 0.480878\n",
            "======= iteration 22 (increment 2.75e+01)\n",
            "RMSE = 1.150832\n",
            "rho = 0.483373\n",
            "======= iteration 23 (increment 2.63e+01)\n",
            "RMSE = 1.142994\n",
            "rho = 0.485723\n",
            "======= iteration 24 (increment 2.53e+01)\n",
            "RMSE = 1.135745\n",
            "rho = 0.487940\n",
            "======= iteration 25 (increment 2.43e+01)\n",
            "RMSE = 1.129023\n",
            "rho = 0.490035\n",
            "======= iteration 26 (increment 2.33e+01)\n",
            "RMSE = 1.122774\n",
            "rho = 0.492019\n",
            "======= iteration 27 (increment 2.25e+01)\n",
            "RMSE = 1.116949\n",
            "rho = 0.493900\n",
            "======= iteration 28 (increment 2.17e+01)\n",
            "RMSE = 1.111509\n",
            "rho = 0.495687\n",
            "======= iteration 29 (increment 2.10e+01)\n",
            "RMSE = 1.106416\n",
            "rho = 0.497385\n",
            "======= iteration 30 (increment 2.03e+01)\n",
            "RMSE = 1.101640\n",
            "rho = 0.499003\n",
            "======= iteration 31 (increment 1.96e+01)\n",
            "RMSE = 1.097153\n",
            "rho = 0.500545\n",
            "======= iteration 32 (increment 1.90e+01)\n",
            "RMSE = 1.092929\n",
            "rho = 0.502016\n",
            "======= iteration 33 (increment 1.84e+01)\n",
            "RMSE = 1.088946\n",
            "rho = 0.503422\n",
            "======= iteration 34 (increment 1.79e+01)\n",
            "RMSE = 1.085186\n",
            "rho = 0.504767\n",
            "======= iteration 35 (increment 1.74e+01)\n",
            "RMSE = 1.081630\n",
            "rho = 0.506055\n",
            "======= iteration 36 (increment 1.69e+01)\n",
            "RMSE = 1.078262\n",
            "rho = 0.507289\n",
            "======= iteration 37 (increment 1.65e+01)\n",
            "RMSE = 1.075069\n",
            "rho = 0.508472\n",
            "======= iteration 38 (increment 1.60e+01)\n",
            "RMSE = 1.072037\n",
            "rho = 0.509608\n",
            "======= iteration 39 (increment 1.56e+01)\n",
            "RMSE = 1.069156\n",
            "rho = 0.510700\n",
            "======= iteration 40 (increment 1.52e+01)\n",
            "RMSE = 1.066413\n",
            "rho = 0.511749\n",
            "======= iteration 41 (increment 1.49e+01)\n",
            "RMSE = 1.063800\n",
            "rho = 0.512759\n",
            "======= iteration 42 (increment 1.45e+01)\n",
            "RMSE = 1.061309\n",
            "rho = 0.513731\n",
            "======= iteration 43 (increment 1.42e+01)\n",
            "RMSE = 1.058930\n",
            "rho = 0.514667\n",
            "======= iteration 44 (increment 1.38e+01)\n",
            "RMSE = 1.056658\n",
            "rho = 0.515570\n",
            "======= iteration 45 (increment 1.35e+01)\n",
            "RMSE = 1.054485\n",
            "rho = 0.516441\n",
            "======= iteration 46 (increment 1.32e+01)\n",
            "RMSE = 1.052404\n",
            "rho = 0.517282\n",
            "======= iteration 47 (increment 1.30e+01)\n",
            "RMSE = 1.050412\n",
            "rho = 0.518094\n",
            "======= iteration 48 (increment 1.27e+01)\n",
            "RMSE = 1.048501\n",
            "rho = 0.518879\n",
            "======= iteration 49 (increment 1.24e+01)\n",
            "RMSE = 1.046668\n",
            "rho = 0.519637\n",
            "======= iteration 50 (increment 1.22e+01)\n",
            "RMSE = 1.044908\n",
            "rho = 0.520371\n",
            "======= iteration 51 (increment 1.19e+01)\n",
            "RMSE = 1.043217\n",
            "rho = 0.521080\n",
            "======= iteration 52 (increment 1.17e+01)\n",
            "RMSE = 1.041592\n",
            "rho = 0.521768\n",
            "======= iteration 53 (increment 1.15e+01)\n",
            "RMSE = 1.040028\n",
            "rho = 0.522433\n",
            "======= iteration 54 (increment 1.13e+01)\n",
            "RMSE = 1.038523\n",
            "rho = 0.523078\n",
            "======= iteration 55 (increment 1.11e+01)\n",
            "RMSE = 1.037073\n",
            "rho = 0.523703\n",
            "======= iteration 56 (increment 1.09e+01)\n",
            "RMSE = 1.035675\n",
            "rho = 0.524310\n",
            "======= iteration 57 (increment 1.07e+01)\n",
            "RMSE = 1.034328\n",
            "rho = 0.524898\n",
            "======= iteration 58 (increment 1.05e+01)\n",
            "RMSE = 1.033028\n",
            "rho = 0.525468\n",
            "======= iteration 59 (increment 1.03e+01)\n",
            "RMSE = 1.031773\n",
            "rho = 0.526022\n",
            "======= iteration 60 (increment 1.02e+01)\n",
            "RMSE = 1.030561\n",
            "rho = 0.526560\n",
            "======= iteration 61 (increment 1.00e+01)\n",
            "RMSE = 1.029390\n",
            "rho = 0.527083\n",
            "======= iteration 62 (increment 9.83e+00)\n",
            "RMSE = 1.028259\n",
            "rho = 0.527590\n",
            "======= iteration 63 (increment 9.68e+00)\n",
            "RMSE = 1.027164\n",
            "rho = 0.528084\n",
            "======= iteration 64 (increment 9.53e+00)\n",
            "RMSE = 1.026105\n",
            "rho = 0.528564\n",
            "======= iteration 65 (increment 9.38e+00)\n",
            "RMSE = 1.025081\n",
            "rho = 0.529030\n",
            "======= iteration 66 (increment 9.24e+00)\n",
            "RMSE = 1.024088\n",
            "rho = 0.529484\n",
            "======= iteration 67 (increment 9.10e+00)\n",
            "RMSE = 1.023127\n",
            "rho = 0.529926\n",
            "======= iteration 68 (increment 8.97e+00)\n",
            "RMSE = 1.022196\n",
            "rho = 0.530356\n",
            "======= iteration 69 (increment 8.84e+00)\n",
            "RMSE = 1.021294\n",
            "rho = 0.530774\n",
            "======= iteration 70 (increment 8.72e+00)\n",
            "RMSE = 1.020419\n",
            "rho = 0.531181\n",
            "======= iteration 71 (increment 8.60e+00)\n",
            "RMSE = 1.019570\n",
            "rho = 0.531578\n",
            "======= iteration 72 (increment 8.48e+00)\n",
            "RMSE = 1.018746\n",
            "rho = 0.531965\n",
            "======= iteration 73 (increment 8.36e+00)\n",
            "RMSE = 1.017947\n",
            "rho = 0.532341\n",
            "======= iteration 74 (increment 8.25e+00)\n",
            "RMSE = 1.017171\n",
            "rho = 0.532709\n",
            "======= iteration 75 (increment 8.14e+00)\n",
            "RMSE = 1.016417\n",
            "rho = 0.533066\n",
            "======= iteration 76 (increment 8.04e+00)\n",
            "RMSE = 1.015685\n",
            "rho = 0.533415\n",
            "======= iteration 77 (increment 7.93e+00)\n",
            "RMSE = 1.014974\n",
            "rho = 0.533755\n",
            "======= iteration 78 (increment 7.83e+00)\n",
            "RMSE = 1.014282\n",
            "rho = 0.534087\n",
            "======= iteration 79 (increment 7.74e+00)\n",
            "RMSE = 1.013610\n",
            "rho = 0.534411\n",
            "======= iteration 80 (increment 7.64e+00)\n",
            "RMSE = 1.012957\n",
            "rho = 0.534726\n",
            "======= iteration 81 (increment 7.55e+00)\n",
            "RMSE = 1.012321\n",
            "rho = 0.535034\n",
            "======= iteration 82 (increment 7.46e+00)\n",
            "RMSE = 1.011703\n",
            "rho = 0.535335\n",
            "======= iteration 83 (increment 7.37e+00)\n",
            "RMSE = 1.011101\n",
            "rho = 0.535628\n",
            "======= iteration 84 (increment 7.28e+00)\n",
            "RMSE = 1.010516\n",
            "rho = 0.535915\n",
            "======= iteration 85 (increment 7.20e+00)\n",
            "RMSE = 1.009945\n",
            "rho = 0.536194\n",
            "======= iteration 86 (increment 7.12e+00)\n",
            "RMSE = 1.009390\n",
            "rho = 0.536467\n",
            "======= iteration 87 (increment 7.04e+00)\n",
            "RMSE = 1.008850\n",
            "rho = 0.536734\n",
            "======= iteration 88 (increment 6.96e+00)\n",
            "RMSE = 1.008323\n",
            "rho = 0.536995\n",
            "======= iteration 89 (increment 6.88e+00)\n",
            "RMSE = 1.007810\n",
            "rho = 0.537249\n",
            "======= iteration 90 (increment 6.81e+00)\n",
            "RMSE = 1.007310\n",
            "rho = 0.537498\n",
            "======= iteration 91 (increment 6.74e+00)\n",
            "RMSE = 1.006823\n",
            "rho = 0.537740\n",
            "======= iteration 92 (increment 6.66e+00)\n",
            "RMSE = 1.006348\n",
            "rho = 0.537978\n",
            "======= iteration 93 (increment 6.60e+00)\n",
            "RMSE = 1.005885\n",
            "rho = 0.538210\n",
            "======= iteration 94 (increment 6.53e+00)\n",
            "RMSE = 1.005434\n",
            "rho = 0.538436\n",
            "======= iteration 95 (increment 6.46e+00)\n",
            "RMSE = 1.004994\n",
            "rho = 0.538658\n",
            "======= iteration 96 (increment 6.40e+00)\n",
            "RMSE = 1.004564\n",
            "rho = 0.538874\n",
            "======= iteration 97 (increment 6.33e+00)\n",
            "RMSE = 1.004146\n",
            "rho = 0.539086\n",
            "======= iteration 98 (increment 6.27e+00)\n",
            "RMSE = 1.003737\n",
            "rho = 0.539293\n",
            "======= iteration 99 (increment 6.21e+00)\n",
            "RMSE = 1.003338\n",
            "rho = 0.539496\n"
          ]
        }
      ],
      "source": [
        "n_max_iter = 100\n",
        "threshold = 120.0\n",
        "tolerance = 1e-6\n",
        "\n",
        "RMSE_SVT_history = []\n",
        "pearson_SVT_history = []\n",
        "\n",
        "X_hat = X_full.copy()\n",
        "for k in range(n_max_iter):\n",
        "  X_hat_old = X_hat.copy()\n",
        "  U,s,VT = np.linalg.svd(X_hat, full_matrices = False)\n",
        "  s[s < threshold] = 0\n",
        "  X_hat = U @ np.diag(s) @ VT\n",
        "  X_hat[rows_train, cols_train] = vals_train\n",
        "  increment = np.linalg.norm(X_hat - X_hat_old)\n",
        "\n",
        "  vals_test_SVT = X_hat[rows_test, cols_test]\n",
        "  RMSE_SVT = np.sqrt(np.mean((vals_test - vals_test_SVT)**2))\n",
        "  pearson_SVT = pearsonr(vals_test, vals_test_SVT)[0]\n",
        "\n",
        "  RMSE_SVT_history.append(RMSE_SVT)\n",
        "  pearson_SVT_history.append(pearson_SVT)\n",
        "\n",
        "  print('======= iteration %d (increment %1.2e)' % (k, increment))\n",
        "  print('RMSE = %f' % RMSE_SVT)\n",
        "  print('rho = %f' % pearson_SVT)\n",
        "\n",
        "  if increment < tolerance:\n",
        "    break"
      ]
    },
    {
      "cell_type": "code",
      "execution_count": 22,
      "metadata": {
        "colab": {
          "base_uri": "https://localhost:8080/",
          "height": 505
        },
        "id": "m8Jt6GizmvLO",
        "outputId": "b008c3ca-b4b8-421e-8df5-f6affdc68739"
      },
      "outputs": [
        {
          "data": {
            "text/plain": [
              "<matplotlib.lines.Line2D at 0x29e72b250>"
            ]
          },
          "execution_count": 22,
          "metadata": {},
          "output_type": "execute_result"
        },
        {
          "data": {
            "image/png": "[encoded data removed]",
            "text/plain": [
              "<Figure size 800x800 with 2 Axes>"
            ]
          },
          "metadata": {},
          "output_type": "display_data"
        }
      ],
      "source": [
        "fig, axs = plt.subplots(2,1,figsize = (8,8))\n",
        "axs[0].loglog(RMSE_SVT_history, 'o-')\n",
        "axs[0].axhline(RMSE_trivial, color = 'red')\n",
        "axs[1].semilogx(pearson_SVT_history, 'o-')\n",
        "axs[1].axhline(rho_trivial, color = 'red')"
      ]
    }
  ],
  "metadata": {
    "colab": {
      "collapsed_sections": [],
      "provenance": []
    },
    "kernelspec": {
      "display_name": "Python 3",
      "language": "python",
      "name": "python3"
    },
    "language_info": {
      "codemirror_mode": {
        "name": "ipython",
        "version": 3
      },
      "file_extension": ".py",
      "mimetype": "text/x-python",
      "name": "python",
      "nbconvert_exporter": "python",
      "pygments_lexer": "ipython3",
      "version": "3.11.1"
    },
    "vscode": {
      "interpreter": {
        "hash": "397704579725e15f5c7cb49fe5f0341eb7531c82d19f2c29d197e8b64ab5776b"
      }
    }
  },
  "nbformat": 4,
  "nbformat_minor": 0
}
